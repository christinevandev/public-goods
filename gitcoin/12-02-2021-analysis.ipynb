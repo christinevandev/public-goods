{
 "cells": [
  {
   "cell_type": "markdown",
   "source": "# Counting Gitcoin From the Outside: A Short Analysis of Gitcoin Round 4\n\n## About this Notebook\n\n- This is contains some analyis of data we collected using only (1) the Gitcoin API and (2) etherscan. It represents our current best efforts to replicate a \"true\" dataset of Gitcoin contributions. We hope this will be useful for anyone generally interested in Gitcoin (e.g. crowdfunding researchers, curious potential Gitcoin users), but we are particularly interested in studying the production functions in past Gitcoin rounds.\n- Our approach still has some issues, and we'd for anyone interested (perhaps you, the reader) to weigh in with how to improve it. The core issue is that we haven't yet figured out how to filter out transactions made during a certain round (say, round 4) that are sent *to* a grant address from a later round. So we end up including some transactions that do not appear in the official Gitcoin blog posts.\n- (Part of the challenge is that we have round-specific funder addresses, but a global list of project/recipient addresses)",
   "metadata": {
    "tags": [],
    "cell_id": "00000-6d076226-b016-4750-8c05-fac72dcb0b98",
    "deepnote_cell_type": "markdown"
   }
  },
  {
   "cell_type": "markdown",
   "source": "On with the code! Imports to start: we'll use just pandas and numpy.",
   "metadata": {
    "tags": [],
    "cell_id": "00001-c796c674-b197-4523-96ba-ff61acb7381a",
    "deepnote_cell_type": "markdown"
   }
  },
  {
   "cell_type": "code",
   "metadata": {
    "tags": [],
    "cell_id": "00000-a461ee73-305a-4a80-893f-4ec12d93f247",
    "deepnote_to_be_reexecuted": false,
    "source_hash": "44c3db4a",
    "execution_start": 1639540930911,
    "execution_millis": 1,
    "deepnote_cell_type": "code"
   },
   "source": "import pandas as pd\nimport numpy as np\nimport json\nimport requests\n",
   "outputs": [],
   "execution_count": 1
  },
  {
   "cell_type": "markdown",
   "source": "Load the processed data about each Gitcoin rounds.\nThe processing is performed in `process_rounds_data.ipynb` and saved in `nice_rounds.json`",
   "metadata": {
    "tags": [],
    "cell_id": "00001-b62f686c-1725-4f06-b98b-388bb66f19d3",
    "deepnote_cell_type": "markdown"
   }
  },
  {
   "cell_type": "code",
   "metadata": {
    "tags": [],
    "cell_id": "00001-952a7d53-2d25-454e-8ab8-db081b305e31",
    "deepnote_to_be_reexecuted": false,
    "source_hash": "71824748",
    "execution_start": 1639540930912,
    "execution_millis": 0,
    "deepnote_cell_type": "code"
   },
   "source": "with open('nice_rounds.json', 'r') as f:\n    nice_rounds = json.load(f)",
   "outputs": [],
   "execution_count": 2
  },
  {
   "cell_type": "markdown",
   "source": "Load a set of scraped observations. Each row is one ETH or ERC20 transaction to or from the set of Gitcoin contributors. ",
   "metadata": {
    "tags": [],
    "cell_id": "00001-0a6c4d53-3fdd-4377-83c0-6708cd7d7ead",
    "deepnote_cell_type": "markdown"
   }
  },
  {
   "cell_type": "code",
   "metadata": {
    "tags": [],
    "cell_id": "00001-036dc465-45ce-4109-a2dc-57f0da46b878",
    "deepnote_to_be_reexecuted": false,
    "source_hash": "73a1b3c",
    "execution_start": 1639540930913,
    "execution_millis": 7392,
    "deepnote_cell_type": "code"
   },
   "source": "df = pd.read_csv('transactions/4_transactions.csv', index_col=0)",
   "outputs": [],
   "execution_count": 3
  },
  {
   "cell_type": "markdown",
   "source": "Review the columns available.",
   "metadata": {
    "tags": [],
    "cell_id": "00003-ace0b59b-771a-492f-94cc-cbeb371cd70c",
    "deepnote_cell_type": "markdown"
   }
  },
  {
   "cell_type": "code",
   "metadata": {
    "tags": [],
    "cell_id": "00002-dbf6f4fe-ecb2-4b7f-941b-7bdc921f1b9f",
    "deepnote_to_be_reexecuted": false,
    "source_hash": "25d43fa0",
    "execution_start": 1639540938326,
    "execution_millis": 52,
    "deepnote_output_heights": [
     98
    ],
    "deepnote_cell_type": "code"
   },
   "source": "df.columns",
   "outputs": [
    {
     "output_type": "execute_result",
     "execution_count": 4,
     "data": {
      "text/plain": "Index(['blockNumber', 'timeStamp', 'hash', 'nonce', 'blockHash',\n       'transactionIndex', 'from', 'to', 'value', 'gas', 'gasPrice', 'isError',\n       'txreceipt_status', 'input', 'contractAddress', 'cumulativeGasUsed',\n       'gasUsed', 'confirmations', 'tokenName', 'tokenSymbol', 'tokenDecimal'],\n      dtype='object')"
     },
     "metadata": {}
    }
   ],
   "execution_count": 4
  },
  {
   "cell_type": "markdown",
   "source": "How many transactions total?",
   "metadata": {
    "tags": [],
    "cell_id": "00009-7e4b5613-6354-4ed7-95fe-a827d2acf9f1",
    "deepnote_cell_type": "markdown"
   }
  },
  {
   "cell_type": "code",
   "metadata": {
    "tags": [],
    "cell_id": "00003-4165ffa6-cf96-4ec0-b8ef-b33b19420a60",
    "deepnote_to_be_reexecuted": false,
    "source_hash": "2f88c77a",
    "execution_start": 1639540938376,
    "execution_millis": 2,
    "deepnote_output_heights": [
     21.199996948242188
    ],
    "deepnote_cell_type": "code"
   },
   "source": "len(df)",
   "outputs": [
    {
     "output_type": "execute_result",
     "execution_count": 5,
     "data": {
      "text/plain": "75049"
     },
     "metadata": {}
    }
   ],
   "execution_count": 5
  },
  {
   "cell_type": "markdown",
   "source": "Get latest data about all active gitcoin grants. We will only include transactions sent TO a gitcoin grant address. Note that the slightly more accurate version will be to get the round specific grant info.",
   "metadata": {
    "tags": [],
    "cell_id": "00006-46bf3052-9873-493c-8961-e84cec0d63de",
    "deepnote_cell_type": "markdown"
   }
  },
  {
   "cell_type": "code",
   "metadata": {
    "tags": [],
    "cell_id": "00004-0e81620a-43ea-4f32-bdce-0e7facb638a5",
    "deepnote_to_be_reexecuted": false,
    "source_hash": "79e2b5b9",
    "execution_start": 1639540938377,
    "execution_millis": 997,
    "deepnote_cell_type": "code"
   },
   "source": "gitcoin_resp = requests.get('https://gitcoin.co/grants/grants.json')\ngitcoin_data = gitcoin_resp.json()",
   "outputs": [],
   "execution_count": 6
  },
  {
   "cell_type": "markdown",
   "source": "Keep a dict that maps GRANT ADDRESS to GRANT NAME.\n\nAlso make sure all addresses use only lowercase for string matching.",
   "metadata": {
    "tags": [],
    "cell_id": "00008-bfc31e89-9fbb-4274-a3fa-4c22d2c28454",
    "deepnote_cell_type": "markdown"
   }
  },
  {
   "cell_type": "code",
   "metadata": {
    "tags": [],
    "cell_id": "00006-66107606-c696-478a-87b3-40bd61fba466",
    "deepnote_to_be_reexecuted": false,
    "source_hash": "1356de7c",
    "execution_start": 1639540939390,
    "execution_millis": 1,
    "deepnote_cell_type": "code"
   },
   "source": "address_to_name = {}\nfor name, address in gitcoin_data:\n    address_to_name[address.lower()] = name",
   "outputs": [],
   "execution_count": 7
  },
  {
   "cell_type": "markdown",
   "source": "Find all observations that are TO a grant address (so we can drop all other observations)",
   "metadata": {
    "tags": [],
    "cell_id": "00010-ff9d0358-2a25-4081-8f07-751e75a2dc7f",
    "deepnote_cell_type": "markdown"
   }
  },
  {
   "cell_type": "code",
   "metadata": {
    "tags": [],
    "cell_id": "00007-66b99306-9d2c-4516-bb6e-08ebf8a65439",
    "deepnote_to_be_reexecuted": false,
    "source_hash": "d0efb210",
    "execution_start": 1639540988146,
    "execution_millis": 35,
    "deepnote_cell_type": "code"
   },
   "source": "addresses = list(address_to_name.keys())\n# only want rows that corresponds to ETH or ERT20 that \"is sent to project\"\nis_sent_to_project_mask = df['to'].str.lower().isin(addresses)\ndf_filtered = df[is_sent_to_project_mask].copy()",
   "outputs": [],
   "execution_count": 12
  },
  {
   "cell_type": "code",
   "metadata": {
    "tags": [],
    "cell_id": "00008-f82eb5df-b3ba-4de0-9237-10f03f0619d5",
    "deepnote_to_be_reexecuted": false,
    "source_hash": "c8220eba",
    "execution_start": 1639540988190,
    "execution_millis": 73,
    "deepnote_output_heights": [
     21.199996948242188
    ],
    "deepnote_cell_type": "code"
   },
   "source": "len(df_filtered)",
   "outputs": [
    {
     "output_type": "execute_result",
     "execution_count": 13,
     "data": {
      "text/plain": "8125"
     },
     "metadata": {}
    }
   ],
   "execution_count": 13
  },
  {
   "cell_type": "markdown",
   "source": "See total counts for our ERC 20 tokens and ETH transactions (tokenName = None implies a transaction is in ETH)",
   "metadata": {
    "tags": [],
    "cell_id": "00013-79a100fc-8179-48dc-9dfb-3720fd03ead9",
    "deepnote_cell_type": "markdown"
   }
  },
  {
   "cell_type": "code",
   "metadata": {
    "tags": [],
    "cell_id": "00019-1cf4bac0-0687-4004-a8d3-19dd9d8acec5",
    "deepnote_to_be_reexecuted": false,
    "source_hash": "f307a957",
    "execution_start": 1639540991343,
    "execution_millis": 1,
    "deepnote_cell_type": "code"
   },
   "source": "df_filtered.loc[df_filtered.tokenName.isna(), 'tokenName'] = 'ETH'",
   "outputs": [],
   "execution_count": 14
  },
  {
   "cell_type": "code",
   "metadata": {
    "tags": [],
    "cell_id": "00003-a20d23d4-dea6-496f-ad47-fb563950b5e7",
    "deepnote_to_be_reexecuted": false,
    "source_hash": "13c70f7d",
    "execution_start": 1639541027251,
    "execution_millis": 6,
    "deepnote_output_heights": [
     405.20001220703125
    ],
    "deepnote_cell_type": "code"
   },
   "source": "df_filtered.tokenName.value_counts()[:20]",
   "outputs": [
    {
     "output_type": "execute_result",
     "execution_count": 18,
     "data": {
      "text/plain": "Dai Stablecoin                          6183\nETH                                      253\nSai Stablecoin v1.0                      175\nWrapped Ether                            114\nUniswap V1                                94\nSynth sUSD                                87\nSynthetix Network Token                   86\nUSD Coin                                  82\nAave Interest bearing DAI                 75\nChai                                      58\nKyberNetwork                              55\nRedeemable DAI                            40\nAxie                                      33\nAave Interest bearing ETH                 32\nChainLink Token                           26\nFulcrum Perpetual Long ETH-DAI 2x v2      25\nMaker                                     24\nSAN                                       22\nDAOstack                                  21\nCompound Dai                              21\nName: tokenName, dtype: int64"
     },
     "metadata": {}
    }
   ],
   "execution_count": 18
  },
  {
   "cell_type": "markdown",
   "source": "Let's keep only ETH and DAI, and call the version with only these transactions `df_a` (version 'a', with the possibility of creating versions b, c, ... later)",
   "metadata": {
    "tags": [],
    "cell_id": "00019-7668ca34-5729-4ab8-ab01-572d7b7ac0f1",
    "deepnote_cell_type": "markdown"
   }
  },
  {
   "cell_type": "code",
   "metadata": {
    "tags": [],
    "cell_id": "00022-8cda6b98-9f62-430a-b370-f72eee28d35f",
    "deepnote_to_be_reexecuted": true,
    "source_hash": "17c1b508",
    "deepnote_cell_type": "code"
   },
   "source": "df_filtered.loc[df_filtered.tokenName == 'Wrapped Ether', tokenName] = 'ETH'",
   "execution_count": null,
   "outputs": []
  },
  {
   "cell_type": "markdown",
   "source": "Note: for now, we're going to uncritically assume that wrapped ether is just ETH\nand that all the stablecoins convert directly to 1 USD",
   "metadata": {
    "tags": [],
    "cell_id": "00023-4fe95f79-0f5e-4538-8838-fb21f6eb3d56",
    "deepnote_cell_type": "markdown"
   }
  },
  {
   "cell_type": "code",
   "metadata": {
    "tags": [],
    "cell_id": "00024-4420de5c-ef29-4c8b-848f-7e76267f3781",
    "deepnote_to_be_reexecuted": false,
    "source_hash": "d3d9f4bd",
    "execution_start": 1639541116030,
    "execution_millis": 184,
    "deepnote_cell_type": "code"
   },
   "source": "df_filtered",
   "outputs": [
    {
     "output_type": "execute_result",
     "execution_count": 19,
     "data": {
      "application/vnd.deepnote.dataframe.v2+json": {
       "row_count": 8125,
       "column_count": 21,
       "columns": [
        {
         "name": "blockNumber",
         "dtype": "int64",
         "stats": {
          "unique_count": 5175,
          "nan_count": 0,
          "min": "9223520",
          "max": "9321470",
          "histogram": [
           {
            "bin_start": 9223520,
            "bin_end": 9233315,
            "count": 403
           },
           {
            "bin_start": 9233315,
            "bin_end": 9243110,
            "count": 646
           },
           {
            "bin_start": 9243110,
            "bin_end": 9252905,
            "count": 746
           },
           {
            "bin_start": 9252905,
            "bin_end": 9262700,
            "count": 926
           },
           {
            "bin_start": 9262700,
            "bin_end": 9272495,
            "count": 733
           },
           {
            "bin_start": 9272495,
            "bin_end": 9282290,
            "count": 1157
           },
           {
            "bin_start": 9282290,
            "bin_end": 9292085,
            "count": 904
           },
           {
            "bin_start": 9292085,
            "bin_end": 9301880,
            "count": 880
           },
           {
            "bin_start": 9301880,
            "bin_end": 9311675,
            "count": 601
           },
           {
            "bin_start": 9311675,
            "bin_end": 9321470,
            "count": 1129
           }
          ]
         }
        },
        {
         "name": "timeStamp",
         "dtype": "int64",
         "stats": {
          "unique_count": 5175,
          "nan_count": 0,
          "min": "1578269130",
          "max": "1579564624",
          "histogram": [
           {
            "bin_start": 1578269130,
            "bin_end": 1578398679.4,
            "count": 403
           },
           {
            "bin_start": 1578398679.4,
            "bin_end": 1578528228.8,
            "count": 646
           },
           {
            "bin_start": 1578528228.8,
            "bin_end": 1578657778.2,
            "count": 749
           },
           {
            "bin_start": 1578657778.2,
            "bin_end": 1578787327.6,
            "count": 924
           },
           {
            "bin_start": 1578787327.6,
            "bin_end": 1578916877,
            "count": 734
           },
           {
            "bin_start": 1578916877,
            "bin_end": 1579046426.4,
            "count": 1160
           },
           {
            "bin_start": 1579046426.4,
            "bin_end": 1579175975.8,
            "count": 899
           },
           {
            "bin_start": 1579175975.8,
            "bin_end": 1579305525.2,
            "count": 880
           },
           {
            "bin_start": 1579305525.2,
            "bin_end": 1579435074.6,
            "count": 598
           },
           {
            "bin_start": 1579435074.6,
            "bin_end": 1579564624,
            "count": 1132
           }
          ]
         }
        },
        {
         "name": "hash",
         "dtype": "object",
         "stats": {
          "unique_count": 6014,
          "nan_count": 0,
          "categories": [
           {
            "name": "0x7d9274a8c5e032a9510674a6ec7aa7abc75502c6138d10c10a4e985519db8a3e",
            "count": 17
           },
           {
            "name": "0xd5becf4cd001a57de54651dfe9fb4c83aba245b10b19763774b4fc2406860044",
            "count": 4
           },
           {
            "name": "6012 others",
            "count": 8104
           }
          ]
         }
        },
        {
         "name": "nonce",
         "dtype": "int64",
         "stats": {
          "unique_count": 1786,
          "nan_count": 0,
          "min": "0",
          "max": "8603298",
          "histogram": [
           {
            "bin_start": 0,
            "bin_end": 860329.8,
            "count": 8115
           },
           {
            "bin_start": 860329.8,
            "bin_end": 1720659.6,
            "count": 2
           },
           {
            "bin_start": 1720659.6,
            "bin_end": 2580989.4000000004,
            "count": 2
           },
           {
            "bin_start": 2580989.4000000004,
            "bin_end": 3441319.2,
            "count": 0
           },
           {
            "bin_start": 3441319.2,
            "bin_end": 4301649,
            "count": 5
           },
           {
            "bin_start": 4301649,
            "bin_end": 5161978.800000001,
            "count": 0
           },
           {
            "bin_start": 5161978.800000001,
            "bin_end": 6022308.600000001,
            "count": 0
           },
           {
            "bin_start": 6022308.600000001,
            "bin_end": 6882638.4,
            "count": 0
           },
           {
            "bin_start": 6882638.4,
            "bin_end": 7742968.2,
            "count": 0
           },
           {
            "bin_start": 7742968.2,
            "bin_end": 8603298,
            "count": 1
           }
          ]
         }
        },
        {
         "name": "blockHash",
         "dtype": "object",
         "stats": {
          "unique_count": 5175,
          "nan_count": 0,
          "categories": [
           {
            "name": "0x196e2c37771516def2cf35885b636d62c0ade7f3d9da103d8801ccb9663de384",
            "count": 21
           },
           {
            "name": "0xa742674f6fac5dd1de63678ad4767f0307e8b770823467afcefa4badbc0dcefb",
            "count": 17
           },
           {
            "name": "5173 others",
            "count": 8087
           }
          ]
         }
        },
        {
         "name": "transactionIndex",
         "dtype": "int64",
         "stats": {
          "unique_count": 229,
          "nan_count": 0,
          "min": "0",
          "max": "267",
          "histogram": [
           {
            "bin_start": 0,
            "bin_end": 26.7,
            "count": 1073
           },
           {
            "bin_start": 26.7,
            "bin_end": 53.4,
            "count": 1901
           },
           {
            "bin_start": 53.4,
            "bin_end": 80.1,
            "count": 1800
           },
           {
            "bin_start": 80.1,
            "bin_end": 106.8,
            "count": 1347
           },
           {
            "bin_start": 106.8,
            "bin_end": 133.5,
            "count": 1021
           },
           {
            "bin_start": 133.5,
            "bin_end": 160.2,
            "count": 585
           },
           {
            "bin_start": 160.2,
            "bin_end": 186.9,
            "count": 253
           },
           {
            "bin_start": 186.9,
            "bin_end": 213.6,
            "count": 113
           },
           {
            "bin_start": 213.6,
            "bin_end": 240.29999999999998,
            "count": 26
           },
           {
            "bin_start": 240.29999999999998,
            "bin_end": 267,
            "count": 6
           }
          ]
         }
        },
        {
         "name": "from",
         "dtype": "object",
         "stats": {
          "unique_count": 1217,
          "nan_count": 0,
          "categories": [
           {
            "name": "0x11111254369792b2ca5d084ab5eea397ca8fa48b",
            "count": 906
           },
           {
            "name": "0x0000000000000000000000000000000000000000",
            "count": 231
           },
           {
            "name": "1215 others",
            "count": 6988
           }
          ]
         }
        },
        {
         "name": "to",
         "dtype": "object",
         "stats": {
          "unique_count": 242,
          "nan_count": 0,
          "categories": [
           {
            "name": "0x4d37f28d2db99e8d35a6c725a5f1749a085850a3",
            "count": 1184
           },
           {
            "name": "0xbbbfc46566e5f0302cef913af8c8f423070ce6a1",
            "count": 395
           },
           {
            "name": "240 others",
            "count": 6546
           }
          ]
         }
        },
        {
         "name": "value",
         "dtype": "object",
         "stats": {
          "unique_count": 2091,
          "nan_count": 0,
          "categories": [
           {
            "name": "950000000000000000",
            "count": 908
           },
           {
            "name": "1000000000000000000",
            "count": 823
           },
           {
            "name": "2089 others",
            "count": 6394
           }
          ]
         }
        },
        {
         "name": "gas",
         "dtype": "int64",
         "stats": {
          "unique_count": 1414,
          "nan_count": 0,
          "min": "21000",
          "max": "9408143",
          "histogram": [
           {
            "bin_start": 21000,
            "bin_end": 959714.3,
            "count": 7205
           },
           {
            "bin_start": 959714.3,
            "bin_end": 1898428.6,
            "count": 459
           },
           {
            "bin_start": 1898428.6,
            "bin_end": 2837142.9000000004,
            "count": 315
           },
           {
            "bin_start": 2837142.9000000004,
            "bin_end": 3775857.2,
            "count": 44
           },
           {
            "bin_start": 3775857.2,
            "bin_end": 4714571.5,
            "count": 28
           },
           {
            "bin_start": 4714571.5,
            "bin_end": 5653285.800000001,
            "count": 34
           },
           {
            "bin_start": 5653285.800000001,
            "bin_end": 6592000.100000001,
            "count": 7
           },
           {
            "bin_start": 6592000.100000001,
            "bin_end": 7530714.4,
            "count": 32
           },
           {
            "bin_start": 7530714.4,
            "bin_end": 8469428.700000001,
            "count": 0
           },
           {
            "bin_start": 8469428.700000001,
            "bin_end": 9408143,
            "count": 1
           }
          ]
         }
        },
        {
         "name": "gasPrice",
         "dtype": "int64",
         "stats": {
          "unique_count": 368,
          "nan_count": 0,
          "min": "500000000",
          "max": "118794348332",
          "histogram": [
           {
            "bin_start": 500000000,
            "bin_end": 12329434833.2,
            "count": 7999
           },
           {
            "bin_start": 12329434833.2,
            "bin_end": 24158869666.4,
            "count": 100
           },
           {
            "bin_start": 24158869666.4,
            "bin_end": 35988304499.600006,
            "count": 6
           },
           {
            "bin_start": 35988304499.600006,
            "bin_end": 47817739332.8,
            "count": 11
           },
           {
            "bin_start": 47817739332.8,
            "bin_end": 59647174166,
            "count": 3
           },
           {
            "bin_start": 59647174166,
            "bin_end": 71476608999.20001,
            "count": 0
           },
           {
            "bin_start": 71476608999.20001,
            "bin_end": 83306043832.40001,
            "count": 2
           },
           {
            "bin_start": 83306043832.40001,
            "bin_end": 95135478665.6,
            "count": 1
           },
           {
            "bin_start": 95135478665.6,
            "bin_end": 106964913498.8,
            "count": 2
           },
           {
            "bin_start": 106964913498.8,
            "bin_end": 118794348332,
            "count": 1
           }
          ]
         }
        },
        {
         "name": "isError",
         "dtype": "float64",
         "stats": {
          "unique_count": 2,
          "nan_count": 7891,
          "min": "0.0",
          "max": "1.0",
          "histogram": [
           {
            "bin_start": 0,
            "bin_end": 0.1,
            "count": 230
           },
           {
            "bin_start": 0.1,
            "bin_end": 0.2,
            "count": 0
           },
           {
            "bin_start": 0.2,
            "bin_end": 0.30000000000000004,
            "count": 0
           },
           {
            "bin_start": 0.30000000000000004,
            "bin_end": 0.4,
            "count": 0
           },
           {
            "bin_start": 0.4,
            "bin_end": 0.5,
            "count": 0
           },
           {
            "bin_start": 0.5,
            "bin_end": 0.6000000000000001,
            "count": 0
           },
           {
            "bin_start": 0.6000000000000001,
            "bin_end": 0.7000000000000001,
            "count": 0
           },
           {
            "bin_start": 0.7000000000000001,
            "bin_end": 0.8,
            "count": 0
           },
           {
            "bin_start": 0.8,
            "bin_end": 0.9,
            "count": 0
           },
           {
            "bin_start": 0.9,
            "bin_end": 1,
            "count": 4
           }
          ]
         }
        },
        {
         "name": "txreceipt_status",
         "dtype": "float64"
        },
        {
         "name": "input",
         "dtype": "object"
        },
        {
         "name": "contractAddress",
         "dtype": "object"
        },
        {
         "name": "cumulativeGasUsed",
         "dtype": "int64"
        },
        {
         "name": "gasUsed",
         "dtype": "int64"
        },
        {
         "name": "confirmations",
         "dtype": "int64"
        },
        {
         "name": "tokenName",
         "dtype": "object"
        },
        {
         "name": "tokenSymbol",
         "dtype": "object"
        },
        {
         "name": "tokenDecimal",
         "dtype": "float64"
        },
        {
         "name": "_deepnote_index_column",
         "dtype": "int64"
        }
       ],
       "rows_top": [
        {
         "blockNumber": 9272432,
         "timeStamp": 1578915412,
         "hash": "0x9e49c1e0631b685ae2a2cbd1dc32e1e521729f92e661ac577e408f851c97d55e",
         "nonce": 153,
         "blockHash": "0x17f36b1282af804873b6fabcde9e1f221f4877403905cce3ab84d50c38e782c1",
         "transactionIndex": 83,
         "from": "0x00158a74921620b39e5c3afe4dca79feb2c2c143",
         "to": "0x322d58b9e75a6918f7e7849aee0ff09369977e08",
         "value": "4000000000000000000",
         "gas": 100000,
         "gasPrice": 2500000000,
         "isError": "nan",
         "txreceipt_status": "nan",
         "input": "deprecated",
         "contractAddress": "0x6b175474e89094c44da98b954eedeac495271d0f",
         "cumulativeGasUsed": 7217413,
         "gasUsed": 46008,
         "confirmations": 4308028,
         "tokenName": "Dai Stablecoin",
         "tokenSymbol": "DAI",
         "tokenDecimal": 18,
         "_deepnote_index_column": 4
        },
        {
         "blockNumber": 9243147,
         "timeStamp": 1578528442,
         "hash": "0x70518de1df557d61d92d3b7c1d5394fd264c634f54b4a83b03d87aaa4a63db3e",
         "nonce": 215,
         "blockHash": "0xfc648bcb632d8f93255849f86be531415f25a6653fd90544d0421473d2db915d",
         "transactionIndex": 30,
         "from": "0x002781a27becd321d831d815e3fa386944b329c8",
         "to": "0xbd9cdcb6688b057080b1767261c5dc17a5804e82",
         "value": "23750000000000000000",
         "gas": 100000,
         "gasPrice": 2000000000,
         "isError": "nan",
         "txreceipt_status": "nan",
         "input": "deprecated",
         "contractAddress": "0x6b175474e89094c44da98b954eedeac495271d0f",
         "cumulativeGasUsed": 2992428,
         "gasUsed": 50292,
         "confirmations": 4337313,
         "tokenName": "Dai Stablecoin",
         "tokenSymbol": "DAI",
         "tokenDecimal": 18,
         "_deepnote_index_column": 52
        },
        {
         "blockNumber": 9244538,
         "timeStamp": 1578546802,
         "hash": "0xd884392de6460d8937532021e5b39e4f1e4e8d2506a7b4935eac130395ad0d1a",
         "nonce": 220,
         "blockHash": "0x1c9c02ef00980297e40a30c370cafa83eeb058139e87b1ad0cb8254cb51ced46",
         "transactionIndex": 65,
         "from": "0x002781a27becd321d831d815e3fa386944b329c8",
         "to": "0x865c2f85c9fea1c6ac7f53de07554d68cb92ed88",
         "value": "1000000000000000000",
         "gas": 78057,
         "gasPrice": 8000000000,
         "isError": "nan",
         "txreceipt_status": "nan",
         "input": "deprecated",
         "contractAddress": "0x892091bdd49fe955859d4bbb8a9a2b7685ccec82",
         "cumulativeGasUsed": 3146759,
         "gasUsed": 37038,
         "confirmations": 4335922,
         "tokenName": "PEW PEW PEW",
         "tokenSymbol": "$PEW",
         "tokenDecimal": 18,
         "_deepnote_index_column": 57
        },
        {
         "blockNumber": 9244705,
         "timeStamp": 1578548918,
         "hash": "0x42da33a736c7a5ddda8df2489492608d1571400106f317a9fac9ecf8b61acf07",
         "nonce": 222,
         "blockHash": "0x742ce596b4ddfbb3902a3a46949bf671c69b5331776247674f40345b75f95893",
         "transactionIndex": 92,
         "from": "0x002781a27becd321d831d815e3fa386944b329c8",
         "to": "0xdd4c48c0b24039969fc16d1cdf626eab821d3384",
         "value": "2850000000000000000",
         "gas": 100000,
         "gasPrice": 1200000000,
         "isError": "nan",
         "txreceipt_status": "nan",
         "input": "deprecated",
         "contractAddress": "0x6b175474e89094c44da98b954eedeac495271d0f",
         "cumulativeGasUsed": 4726093,
         "gasUsed": 50280,
         "confirmations": 4335755,
         "tokenName": "Dai Stablecoin",
         "tokenSymbol": "DAI",
         "tokenDecimal": 18,
         "_deepnote_index_column": 58
        },
        {
         "blockNumber": 9244708,
         "timeStamp": 1578548950,
         "hash": "0x34b5f6ef6307e1ca335f598803270d0dc3bc9ec7247839c2e7d3a7b8214f310c",
         "nonce": 224,
         "blockHash": "0x9269af71d0864366edc51980faec2731b566a876c9eb7cb57b7b374f204cabc3",
         "transactionIndex": 134,
         "from": "0x002781a27becd321d831d815e3fa386944b329c8",
         "to": "0x9b984d5a03980d8dc0a24506c968465424c81dbe",
         "value": "2000000000000000000",
         "gas": 100000,
         "gasPrice": 1500000000,
         "isError": "nan",
         "txreceipt_status": "nan",
         "input": "deprecated",
         "contractAddress": "0x6b175474e89094c44da98b954eedeac495271d0f",
         "cumulativeGasUsed": 7528199,
         "gasUsed": 50280,
         "confirmations": 4335752,
         "tokenName": "Dai Stablecoin",
         "tokenSymbol": "DAI",
         "tokenDecimal": 18,
         "_deepnote_index_column": 60
        },
        {
         "blockNumber": 9245082,
         "timeStamp": 1578554240,
         "hash": "0xcfa3ef5c22ec155c40cf55cdf80897b50d8b804c2ed36b322918c3e48659b42f",
         "nonce": 226,
         "blockHash": "0x6edcaea6f1c825f842ed32b57d609fee087f1c2702177f144f4e1737b8941ce1",
         "transactionIndex": 20,
         "from": "0x002781a27becd321d831d815e3fa386944b329c8",
         "to": "0x11e4857bb9993a50c685a79afad4e6f65d518dda",
         "value": "2000000000000000000",
         "gas": 100000,
         "gasPrice": 5500000000,
         "isError": "nan",
         "txreceipt_status": "nan",
         "input": "deprecated",
         "contractAddress": "0x6b175474e89094c44da98b954eedeac495271d0f",
         "cumulativeGasUsed": 6928129,
         "gasUsed": 50280,
         "confirmations": 4335378,
         "tokenName": "Dai Stablecoin",
         "tokenSymbol": "DAI",
         "tokenDecimal": 18,
         "_deepnote_index_column": 62
        },
        {
         "blockNumber": 9249749,
         "timeStamp": 1578615824,
         "hash": "0xaeb3930bdf4bd7f1676be84ea84225f1ee97817c28a04d18e8d7a63a003295e3",
         "nonce": 230,
         "blockHash": "0xcb747ac56366c383dcfe328dab00bc52f1adfdffcf9f2f0562cd59ad1e7a718d",
         "transactionIndex": 82,
         "from": "0x002781a27becd321d831d815e3fa386944b329c8",
         "to": "0xbbd13ca6aace2a8eccbde88bc7849c3c6e4e172e",
         "value": "950000000000000000",
         "gas": 100000,
         "gasPrice": 1000000000,
         "isError": "nan",
         "txreceipt_status": "nan",
         "input": "deprecated",
         "contractAddress": "0x6b175474e89094c44da98b954eedeac495271d0f",
         "cumulativeGasUsed": 5135121,
         "gasUsed": 50268,
         "confirmations": 4330711,
         "tokenName": "Dai Stablecoin",
         "tokenSymbol": "DAI",
         "tokenDecimal": 18,
         "_deepnote_index_column": 65
        },
        {
         "blockNumber": 9256361,
         "timeStamp": 1578702744,
         "hash": "0x175922f4b95402826661f206869c5b91ad920744e88eea372ecad3f323679af0",
         "nonce": 232,
         "blockHash": "0x12b4db27b4a03fe920332acc84d6ee46919c85c6b87bab40b5690fb7084bcf26",
         "transactionIndex": 74,
         "from": "0x002781a27becd321d831d815e3fa386944b329c8",
         "to": "0xf8049c8425f9eab4e2ae9e1d950f9d3f71481882",
         "value": "950000000000000000",
         "gas": 100000,
         "gasPrice": 1000000000,
         "isError": "nan",
         "txreceipt_status": "nan",
         "input": "deprecated",
         "contractAddress": "0x6b175474e89094c44da98b954eedeac495271d0f",
         "cumulativeGasUsed": 5525140,
         "gasUsed": 65268,
         "confirmations": 4324099,
         "tokenName": "Dai Stablecoin",
         "tokenSymbol": "DAI",
         "tokenDecimal": 18,
         "_deepnote_index_column": 67
        },
        {
         "blockNumber": 9269324,
         "timeStamp": 1578874630,
         "hash": "0x5214f45afaaf32de83d54999dc39782e99b9f63ee1394f9ff81a14739b61c8eb",
         "nonce": 235,
         "blockHash": "0xbfaaf349dbc1d31c0b8737e3aa5a338a89015b44a67a5d76b7e4702ad551e445",
         "transactionIndex": 19,
         "from": "0x002781a27becd321d831d815e3fa386944b329c8",
         "to": "0xd3e9d60e4e4de615124d5239219f32946d10151d",
         "value": "1896200000000000000",
         "gas": 100000,
         "gasPrice": 1000000000,
         "isError": "nan",
         "txreceipt_status": "nan",
         "input": "deprecated",
         "contractAddress": "0x6b175474e89094c44da98b954eedeac495271d0f",
         "cumulativeGasUsed": 1364518,
         "gasUsed": 50304,
         "confirmations": 4311136,
         "tokenName": "Dai Stablecoin",
         "tokenSymbol": "DAI",
         "tokenDecimal": 18,
         "_deepnote_index_column": 69
        },
        {
         "blockNumber": 9275386,
         "timeStamp": 1578954986,
         "hash": "0x8978f2bceedf7b552fed5d52ad41eee40e57e530bf97238c6b7fe20c893c78a0",
         "nonce": 238,
         "blockHash": "0x508034eebaf84ff5ab288d82c95104875b35ebb4ed6b6640c588f4cc391e739e",
         "transactionIndex": 49,
         "from": "0x002781a27becd321d831d815e3fa386944b329c8",
         "to": "0x0efe994201e2b0136dd40d5033b5f437e4c5f958",
         "value": "950000000000000000",
         "gas": 100000,
         "gasPrice": 1000000000,
         "isError": "nan",
         "txreceipt_status": "nan",
         "input": "deprecated",
         "contractAddress": "0x6b175474e89094c44da98b954eedeac495271d0f",
         "cumulativeGasUsed": 6399686,
         "gasUsed": 50268,
         "confirmations": 4305074,
         "tokenName": "Dai Stablecoin",
         "tokenSymbol": "DAI",
         "tokenDecimal": 18,
         "_deepnote_index_column": 72
        },
        {
         "blockNumber": 9308739,
         "timeStamp": 1579396322,
         "hash": "0xdf9b927b7164431ff2d36ba50a5f824df9ffe9ebe4b83d5543cdd92a94093203",
         "nonce": 245,
         "blockHash": "0x34931b56e8e44474bac671f48fe194878d331b93f507ef1a03572a85e7209e6b",
         "transactionIndex": 158,
         "from": "0x002781a27becd321d831d815e3fa386944b329c8",
         "to": "0x779e782b556e38063e0390cf10a25f63d05cabdc",
         "value": "950000000000000000",
         "gas": 100000,
         "gasPrice": 1000000000,
         "isError": "nan",
         "txreceipt_status": "nan",
         "input": "deprecated",
         "contractAddress": "0x6b175474e89094c44da98b954eedeac495271d0f",
         "cumulativeGasUsed": 9742131,
         "gasUsed": 50268,
         "confirmations": 4271721,
         "tokenName": "Dai Stablecoin",
         "tokenSymbol": "DAI",
         "tokenDecimal": 18,
         "_deepnote_index_column": 79
        },
        {
         "blockNumber": 9297325,
         "timeStamp": 1579245360,
         "hash": "0x9a4b6c59cb7a9b0ad971090a7fd4f18edb2db743a2318905ee7f71c57ff5aa0d",
         "nonce": 2496,
         "blockHash": "0x8098bd5932aa9044ff7641983e48b8e7ba9559c1ff81378b182443d8e7d2baba",
         "transactionIndex": 44,
         "from": "0x00284d2e4b7201f070f7d02bf6c899be33b0aa56",
         "to": "0x27c350caacf45fd935814bdd2a07b2b9bffe9203",
         "value": "10070000000000000000",
         "gas": 204066,
         "gasPrice": 5000000000,
         "isError": "nan",
         "txreceipt_status": "nan",
         "input": "deprecated",
         "contractAddress": "0x6b175474e89094c44da98b954eedeac495271d0f",
         "cumulativeGasUsed": 3770365,
         "gasUsed": 142255,
         "confirmations": 4283135,
         "tokenName": "Dai Stablecoin",
         "tokenSymbol": "DAI",
         "tokenDecimal": 18,
         "_deepnote_index_column": 90
        },
        {
         "blockNumber": 9250105,
         "timeStamp": 1578620803,
         "hash": "0x60b7b326cb77f83f3dfffa099bb95aefd29075b283ee84d08498172a8deb69ac",
         "nonce": 815,
         "blockHash": "0x94a17ffcf1cee0dd07dc1e803a1906d6c16e53d38f56d72507ba4e0138cb900a",
         "transactionIndex": 52,
         "from": "0x0039f22efb07a647557c7c5d17854cfd6d489ef3",
         "to": "0xdf6c53df56f3992fc44195518a2d8b16306af9ff",
         "value": "47500000000000000000",
         "gas": 100000,
         "gasPrice": 3060000000,
         "isError": "nan",
         "txreceipt_status": "nan",
         "input": "deprecated",
         "contractAddress": "0x6b175474e89094c44da98b954eedeac495271d0f",
         "cumulativeGasUsed": 5865014,
         "gasUsed": 50292,
         "confirmations": 4330355,
         "tokenName": "Dai Stablecoin",
         "tokenSymbol": "DAI",
         "tokenDecimal": 18,
         "_deepnote_index_column": 105
        },
        {
         "blockNumber": 9250122,
         "timeStamp": 1578621042,
         "hash": "0xf7acab49c2e3c67942b271cbafd6417e160cb50ec74d98fb3ae35edec62f53e7",
         "nonce": 817,
         "blockHash": "0xa86a5fe1ec667c2cb7622d10a073c2524674395fd033c6ab22ed61f7ace52fef",
         "transactionIndex": 124,
         "from": "0x0039f22efb07a647557c7c5d17854cfd6d489ef3",
         "to": "0x4d37f28d2db99e8d35a6c725a5f1749a085850a3",
         "value": "124875000000000000000",
         "gas": 100000,
         "gasPrice": 1000000000,
         "isError": "nan",
         "txreceipt_status": "nan",
         "input": "deprecated",
         "contractAddress": "0x6b175474e89094c44da98b954eedeac495271d0f",
         "cumulativeGasUsed": 8377601,
         "gasUsed": 50316,
         "confirmations": 4330338,
         "tokenName": "Dai Stablecoin",
         "tokenSymbol": "DAI",
         "tokenDecimal": 18,
         "_deepnote_index_column": 107
        },
        {
         "blockNumber": 9250130,
         "timeStamp": 1578621155,
         "hash": "0x38a505928173168fac97b5e7852abe1f7b6ca1b37dccc0c58c58b9879671de41",
         "nonce": 819,
         "blockHash": "0xaf615487821a515d1b28b39d27d3f9ffa373394033a1644be5c93d3ba8cd19bc",
         "transactionIndex": 79,
         "from": "0x0039f22efb07a647557c7c5d17854cfd6d489ef3",
         "to": "0xdf6c53df56f3992fc44195518a2d8b16306af9ff",
         "value": "50000000000000000000",
         "gas": 100000,
         "gasPrice": 3000000000,
         "isError": "nan",
         "txreceipt_status": "nan",
         "input": "deprecated",
         "contractAddress": "0x6b175474e89094c44da98b954eedeac495271d0f",
         "cumulativeGasUsed": 3086847,
         "gasUsed": 46020,
         "confirmations": 4330330,
         "tokenName": "Dai Stablecoin",
         "tokenSymbol": "DAI",
         "tokenDecimal": 18,
         "_deepnote_index_column": 109
        },
        {
         "blockNumber": 9250190,
         "timeStamp": 1578621840,
         "hash": "0xa107e0bd6b4aa43be3ad1dbaf1d3c4fb24958686d5ae315cb6674e079a1aefe0",
         "nonce": 821,
         "blockHash": "0xf5e2b3c70d162819649fc0100f758296e1bb89852ab294368935b9278aafbb0d",
         "transactionIndex": 98,
         "from": "0x0039f22efb07a647557c7c5d17854cfd6d489ef3",
         "to": "0xbd9cdcb6688b057080b1767261c5dc17a5804e82",
         "value": "4000000000000000000",
         "gas": 100000,
         "gasPrice": 1000000000,
         "isError": "nan",
         "txreceipt_status": "nan",
         "input": "deprecated",
         "contractAddress": "0x6b175474e89094c44da98b954eedeac495271d0f",
         "cumulativeGasUsed": 7999716,
         "gasUsed": 46008,
         "confirmations": 4330270,
         "tokenName": "Dai Stablecoin",
         "tokenSymbol": "DAI",
         "tokenDecimal": 18,
         "_deepnote_index_column": 111
        },
        {
         "blockNumber": 9285307,
         "timeStamp": 1579086424,
         "hash": "0xc1f72196fede24965605a5ab1ffddcb6ce1e4b1c75768e381c5e0b6abfd56e97",
         "nonce": 198,
         "blockHash": "0x0f968bbb51ebcde58431f06649196c235328abcf25ddee7c85e3364d6ec9b068",
         "transactionIndex": 137,
         "from": "0x003dc32fe920a4aaeed12dc87e145f030aa753f3",
         "to": "0xa0527ba80d811cd45d452481caf902dfd6f5b8c2",
         "value": "9500000000000000000",
         "gas": 100000,
         "gasPrice": 5000000000,
         "isError": "nan",
         "txreceipt_status": "nan",
         "input": "deprecated",
         "contractAddress": "0x6b175474e89094c44da98b954eedeac495271d0f",
         "cumulativeGasUsed": 9174450,
         "gasUsed": 50280,
         "confirmations": 4295154,
         "tokenName": "Dai Stablecoin",
         "tokenSymbol": "DAI",
         "tokenDecimal": 18,
         "_deepnote_index_column": 154
        },
        {
         "blockNumber": 9285307,
         "timeStamp": 1579086424,
         "hash": "0xca120642c9e018dd41718429507cd98f2554f5b7e53cf4d1cec20620bac52470",
         "nonce": 204,
         "blockHash": "0x0f968bbb51ebcde58431f06649196c235328abcf25ddee7c85e3364d6ec9b068",
         "transactionIndex": 143,
         "from": "0x003dc32fe920a4aaeed12dc87e145f030aa753f3",
         "to": "0xd3e9d60e4e4de615124d5239219f32946d10151d",
         "value": "4750000000000000000",
         "gas": 100000,
         "gasPrice": 5000000000,
         "isError": "nan",
         "txreceipt_status": "nan",
         "input": "deprecated",
         "contractAddress": "0x6b175474e89094c44da98b954eedeac495271d0f",
         "cumulativeGasUsed": 9453216,
         "gasUsed": 50280,
         "confirmations": 4295154,
         "tokenName": "Dai Stablecoin",
         "tokenSymbol": "DAI",
         "tokenDecimal": 18,
         "_deepnote_index_column": 160
        },
        {
         "blockNumber": 9285307,
         "timeStamp": 1579086424,
         "hash": "0x3cceecabc0d14e4bcae9472c7b79177f1585efad77308e24d59459e059527fc2",
         "nonce": 206,
         "blockHash": "0x0f968bbb51ebcde58431f06649196c235328abcf25ddee7c85e3364d6ec9b068",
         "transactionIndex": 145,
         "from": "0x003dc32fe920a4aaeed12dc87e145f030aa753f3",
         "to": "0x924b575917f822e32e88b7e7171fe0c00c70f401",
         "value": "4750000000000000000",
         "gas": 100000,
         "gasPrice": 2000000000,
         "isError": "nan",
         "txreceipt_status": "nan",
         "input": "deprecated",
         "contractAddress": "0x6b175474e89094c44da98b954eedeac495271d0f",
         "cumulativeGasUsed": 9562554,
         "gasUsed": 65280,
         "confirmations": 4295154,
         "tokenName": "Dai Stablecoin",
         "tokenSymbol": "DAI",
         "tokenDecimal": 18,
         "_deepnote_index_column": 162
        },
        {
         "blockNumber": 9285695,
         "timeStamp": 1579091245,
         "hash": "0x9b701502dae9ae1552f3513cd2fca0039d54bc7145d951aca312d20b83a36638",
         "nonce": 210,
         "blockHash": "0xf4b66c05fa47a8867122341bf96f07eff544fe51c300ebae73a86318bfe6a02e",
         "transactionIndex": 83,
         "from": "0x003dc32fe920a4aaeed12dc87e145f030aa753f3",
         "to": "0x8688a84fcfd84d8f78020d0fc0b35987cc58911f",
         "value": "4750000000000000000",
         "gas": 100000,
         "gasPrice": 1000000000,
         "isError": "nan",
         "txreceipt_status": "nan",
         "input": "deprecated",
         "contractAddress": "0x6b175474e89094c44da98b954eedeac495271d0f",
         "cumulativeGasUsed": 4323704,
         "gasUsed": 50280,
         "confirmations": 4294766,
         "tokenName": "Dai Stablecoin",
         "tokenSymbol": "DAI",
         "tokenDecimal": 18,
         "_deepnote_index_column": 165
        },
        {
         "blockNumber": 9228888,
         "timeStamp": 1578339777,
         "hash": "0x8e5410fcf18423d384a80f740b34a5ea5785127cd5d26b49bea417ba13abffc2",
         "nonce": 13,
         "blockHash": "0x1ac23fbc2e661557c1aead0baf2ead227c02f0095e002feb569c1eadf90c517a",
         "transactionIndex": 52,
         "from": "0x005700575b1b3f6d146fb4391d5cc5fc4fa63ed4",
         "to": "0x11e4857bb9993a50c685a79afad4e6f65d518dda",
         "value": "5000000000000000000",
         "gas": 100000,
         "gasPrice": 1000000000,
         "isError": "nan",
         "txreceipt_status": "nan",
         "input": "deprecated",
         "contractAddress": "0x6b175474e89094c44da98b954eedeac495271d0f",
         "cumulativeGasUsed": 2752953,
         "gasUsed": 50280,
         "confirmations": 4351573,
         "tokenName": "Dai Stablecoin",
         "tokenSymbol": "DAI",
         "tokenDecimal": 18,
         "_deepnote_index_column": 210
        },
        {
         "blockNumber": 9228900,
         "timeStamp": 1578339937,
         "hash": "0xdf2ce7a4d70ea2ea1cbe4e59d52005c03b04e2c93cedb0c915ef3e8ea1be775e",
         "nonce": 15,
         "blockHash": "0x438e16622d0351b3b3d1078dae9b84eead8e9b51647a9124a30646461a0769b6",
         "transactionIndex": 29,
         "from": "0x005700575b1b3f6d146fb4391d5cc5fc4fa63ed4",
         "to": "0xa19fcdad77c1f0fd184689aca88babcf68010347",
         "value": "5000000000000000000",
         "gas": 100000,
         "gasPrice": 5000000000,
         "isError": "nan",
         "txreceipt_status": "nan",
         "input": "deprecated",
         "contractAddress": "0x6b175474e89094c44da98b954eedeac495271d0f",
         "cumulativeGasUsed": 3013342,
         "gasUsed": 50280,
         "confirmations": 4351561,
         "tokenName": "Dai Stablecoin",
         "tokenSymbol": "DAI",
         "tokenDecimal": 18,
         "_deepnote_index_column": 212
        }
       ],
       "rows_bottom": [
        {
         "blockNumber": 9248833,
         "timeStamp": 1578603786,
         "hash": "0x6ee46a07d7e71ca91f9a37859915dc58df21f1bca2a51ebf79452def83e39ef9",
         "nonce": 143,
         "blockHash": "0x707f203c1faeb95f0578e0ccf14cd1408d548c8d11c66ed4cded438eb8323000",
         "transactionIndex": 143,
         "from": "0xffb3bd8b5365758350008118961254c5ecd1f80a",
         "to": "0x9531c059098e3d194ff87febb587ab07b30b1306",
         "value": "1000000000000000000",
         "gas": 100000,
         "gasPrice": 1000000000,
         "isError": "nan",
         "txreceipt_status": "nan",
         "input": "deprecated",
         "contractAddress": "0x6b175474e89094c44da98b954eedeac495271d0f",
         "cumulativeGasUsed": 7036126,
         "gasUsed": 46008,
         "confirmations": 4331716,
         "tokenName": "Dai Stablecoin",
         "tokenSymbol": "DAI",
         "tokenDecimal": 18,
         "_deepnote_index_column": 74910
        },
        {
         "blockNumber": 9248871,
         "timeStamp": 1578604356,
         "hash": "0x7e933159bd5b2c8c5e784e11ed330f91116517ec881effb4ce2a6fb33e1a7da3",
         "nonce": 149,
         "blockHash": "0xf3f525a27cfd067b521cd3eb6e03e7f12b12da1fb26bb732a620b223043f56ba",
         "transactionIndex": 89,
         "from": "0xffb3bd8b5365758350008118961254c5ecd1f80a",
         "to": "0xc9a872868afa68ba937f65a1c5b4b252dab15d85",
         "value": "1000000000000000000",
         "gas": 100000,
         "gasPrice": 1200000000,
         "isError": "nan",
         "txreceipt_status": "nan",
         "input": "deprecated",
         "contractAddress": "0x6b175474e89094c44da98b954eedeac495271d0f",
         "cumulativeGasUsed": 5496387,
         "gasUsed": 46008,
         "confirmations": 4331678,
         "tokenName": "Dai Stablecoin",
         "tokenSymbol": "DAI",
         "tokenDecimal": 18,
         "_deepnote_index_column": 74916
        },
        {
         "blockNumber": 9248876,
         "timeStamp": 1578604496,
         "hash": "0xe4945d75ad7ac8a07e8ee1f16d46428adc9d73c7d4301985fc94b54a5547a4f5",
         "nonce": 151,
         "blockHash": "0x675f9a95d64964f40d494c9ed59f5b85b7056a7babb532be1c9e7d87bcf93ce5",
         "transactionIndex": 91,
         "from": "0xffb3bd8b5365758350008118961254c5ecd1f80a",
         "to": "0x9b984d5a03980d8dc0a24506c968465424c81dbe",
         "value": "1000000000000000000",
         "gas": 100000,
         "gasPrice": 1000000000,
         "isError": "nan",
         "txreceipt_status": "nan",
         "input": "deprecated",
         "contractAddress": "0x6b175474e89094c44da98b954eedeac495271d0f",
         "cumulativeGasUsed": 5282800,
         "gasUsed": 46008,
         "confirmations": 4331673,
         "tokenName": "Dai Stablecoin",
         "tokenSymbol": "DAI",
         "tokenDecimal": 18,
         "_deepnote_index_column": 74918
        },
        {
         "blockNumber": 9248891,
         "timeStamp": 1578604659,
         "hash": "0x4c84d4b1acf75a0467b310d4c3debf99895a415f86a01e15bcd2ab57ca07e2dd",
         "nonce": 153,
         "blockHash": "0x490d321b4464f08f2275b502792672890a7f3daa73c14f5b752623e61599a3f8",
         "transactionIndex": 55,
         "from": "0xffb3bd8b5365758350008118961254c5ecd1f80a",
         "to": "0xbbd13ca6aace2a8eccbde88bc7849c3c6e4e172e",
         "value": "1000000000000000000",
         "gas": 100000,
         "gasPrice": 1000000000,
         "isError": "nan",
         "txreceipt_status": "nan",
         "input": "deprecated",
         "contractAddress": "0x6b175474e89094c44da98b954eedeac495271d0f",
         "cumulativeGasUsed": 3376623,
         "gasUsed": 46008,
         "confirmations": 4331658,
         "tokenName": "Dai Stablecoin",
         "tokenSymbol": "DAI",
         "tokenDecimal": 18,
         "_deepnote_index_column": 74920
        },
        {
         "blockNumber": 9248924,
         "timeStamp": 1578605044,
         "hash": "0x27c8eeab915d129a9b4fbdec4429579e7b57b8204b7fffd12334ffd08ed9c217",
         "nonce": 155,
         "blockHash": "0x594d3a8e6ffabd511b2647d5d5475134f872a802e7486de6413677a6345cf6f9",
         "transactionIndex": 99,
         "from": "0xffb3bd8b5365758350008118961254c5ecd1f80a",
         "to": "0x11e4857bb9993a50c685a79afad4e6f65d518dda",
         "value": "1000000000000000000",
         "gas": 100000,
         "gasPrice": 1000000000,
         "isError": "nan",
         "txreceipt_status": "nan",
         "input": "deprecated",
         "contractAddress": "0x6b175474e89094c44da98b954eedeac495271d0f",
         "cumulativeGasUsed": 7366337,
         "gasUsed": 46008,
         "confirmations": 4331625,
         "tokenName": "Dai Stablecoin",
         "tokenSymbol": "DAI",
         "tokenDecimal": 18,
         "_deepnote_index_column": 74922
        },
        {
         "blockNumber": 9248930,
         "timeStamp": 1578605139,
         "hash": "0x6cc333732e2992f152d0d8b45d619b578618e5df07b379d8c082538fcda23e23",
         "nonce": 157,
         "blockHash": "0x58c14b05d51650e22dd16278846de566c1909802d3a5872b63cc5de96eaf69db",
         "transactionIndex": 92,
         "from": "0xffb3bd8b5365758350008118961254c5ecd1f80a",
         "to": "0x91bd7429bfb4731d13e2a431dd729f49b5760b03",
         "value": "1000000000000000000",
         "gas": 100000,
         "gasPrice": 1000000000,
         "isError": "nan",
         "txreceipt_status": "nan",
         "input": "deprecated",
         "contractAddress": "0x6b175474e89094c44da98b954eedeac495271d0f",
         "cumulativeGasUsed": 9173503,
         "gasUsed": 46008,
         "confirmations": 4331619,
         "tokenName": "Dai Stablecoin",
         "tokenSymbol": "DAI",
         "tokenDecimal": 18,
         "_deepnote_index_column": 74924
        },
        {
         "blockNumber": 9248951,
         "timeStamp": 1578605440,
         "hash": "0x13ceeea221f3cf64c35900f33e2df240c054d762deff88d148b1d7a7db75726c",
         "nonce": 161,
         "blockHash": "0x4a93e02e2e2782b0e9abed7c6d0a5b6d173955ee40ec62b965e054d11a114f00",
         "transactionIndex": 50,
         "from": "0xffb3bd8b5365758350008118961254c5ecd1f80a",
         "to": "0x7056e70a5ca249ba88e9550eb22caec4c985bb8e",
         "value": "1000000000000000000",
         "gas": 100000,
         "gasPrice": 1000000000,
         "isError": "nan",
         "txreceipt_status": "nan",
         "input": "deprecated",
         "contractAddress": "0x6b175474e89094c44da98b954eedeac495271d0f",
         "cumulativeGasUsed": 6761016,
         "gasUsed": 46008,
         "confirmations": 4331598,
         "tokenName": "Dai Stablecoin",
         "tokenSymbol": "DAI",
         "tokenDecimal": 18,
         "_deepnote_index_column": 74928
        },
        {
         "blockNumber": 9311886,
         "timeStamp": 1579438436,
         "hash": "0xc71ffa12e0a36dea7940c1b6c108f04f404dfd7d7079bc2abe79439a74dbfa78",
         "nonce": 177,
         "blockHash": "0xffce4f566e24da50ba65426ec2b15fb9c0469bcefedd174548804ecd938a0dc4",
         "transactionIndex": 74,
         "from": "0xffb3bd8b5365758350008118961254c5ecd1f80a",
         "to": "0xa7499aa6464c078eeb940da2fc95c6acd010c3cc",
         "value": "20000000000000000000",
         "gas": 100000,
         "gasPrice": 2000000000,
         "isError": "nan",
         "txreceipt_status": "nan",
         "input": "deprecated",
         "contractAddress": "0x6b175474e89094c44da98b954eedeac495271d0f",
         "cumulativeGasUsed": 4507426,
         "gasUsed": 46020,
         "confirmations": 4268663,
         "tokenName": "Dai Stablecoin",
         "tokenSymbol": "DAI",
         "tokenDecimal": 18,
         "_deepnote_index_column": 74948
        },
        {
         "blockNumber": 9318994,
         "timeStamp": 1579531872,
         "hash": "0xbfb6d5dc974fba106ef4f0fd67c658890949ae330059d743e9b464074c627994",
         "nonce": 2555,
         "blockHash": "0x048753fd576e47a929a0bf3b65b2c02d760b7e11b368fc824b5525bfdefa5037",
         "transactionIndex": 89,
         "from": "0xffb3bd8b5365758350008118961254c5ecd1f80a",
         "to": "0x64df823e0f9dbc32fb58d69af32aa5fe3cdd0388",
         "value": "5000000000000000000",
         "gas": 204066,
         "gasPrice": 5000000000,
         "isError": "nan",
         "txreceipt_status": "nan",
         "input": "deprecated",
         "contractAddress": "0x6b175474e89094c44da98b954eedeac495271d0f",
         "cumulativeGasUsed": 7904369,
         "gasUsed": 125049,
         "confirmations": 4261555,
         "tokenName": "Dai Stablecoin",
         "tokenSymbol": "DAI",
         "tokenDecimal": 18,
         "_deepnote_index_column": 74954
        },
        {
         "blockNumber": 9320242,
         "timeStamp": 1579548552,
         "hash": "0xad0ce00c8af7f280c69cc2643b140d11a913aca545ebe3965eb1dc73bcec1f5e",
         "nonce": 183,
         "blockHash": "0x603b715a39fa4f54619dae707f0414cc91249df07be1d11c21ea61dc5b63fb74",
         "transactionIndex": 94,
         "from": "0xffb3bd8b5365758350008118961254c5ecd1f80a",
         "to": "0x133d705a9696882228f6bb7fe008745aef7cdc93",
         "value": "1000000000000000000",
         "gas": 100000,
         "gasPrice": 1000000000,
         "isError": "nan",
         "txreceipt_status": "nan",
         "input": "deprecated",
         "contractAddress": "0x6b175474e89094c44da98b954eedeac495271d0f",
         "cumulativeGasUsed": 5614187,
         "gasUsed": 46008,
         "confirmations": 4260307,
         "tokenName": "Dai Stablecoin",
         "tokenSymbol": "DAI",
         "tokenDecimal": 18,
         "_deepnote_index_column": 74955
        },
        {
         "blockNumber": 9320257,
         "timeStamp": 1579548758,
         "hash": "0xf95494f88e073825a8c8670057ebda91acc8b741673e31e77dad688dc56d861d",
         "nonce": 185,
         "blockHash": "0x4e6c944bd59798ea7ba495185c225b62ab4a3e200a4db57bdd0fd7ea5732a6be",
         "transactionIndex": 49,
         "from": "0xffb3bd8b5365758350008118961254c5ecd1f80a",
         "to": "0xa19fcdad77c1f0fd184689aca88babcf68010347",
         "value": "1000000000000000000",
         "gas": 100000,
         "gasPrice": 1000000000,
         "isError": "nan",
         "txreceipt_status": "nan",
         "input": "deprecated",
         "contractAddress": "0x6b175474e89094c44da98b954eedeac495271d0f",
         "cumulativeGasUsed": 6309959,
         "gasUsed": 46008,
         "confirmations": 4260292,
         "tokenName": "Dai Stablecoin",
         "tokenSymbol": "DAI",
         "tokenDecimal": 18,
         "_deepnote_index_column": 74957
        },
        {
         "blockNumber": 9320272,
         "timeStamp": 1579549024,
         "hash": "0x80d968fa924c9c95d7380fb0476a07fa2d7d9c235ce507f4f268f5798f15438b",
         "nonce": 191,
         "blockHash": "0xea7b1366252a78b0ac565d661c34666770c5bbd2f8dc19cc40db7770ba19cfdf",
         "transactionIndex": 45,
         "from": "0xffb3bd8b5365758350008118961254c5ecd1f80a",
         "to": "0x6b3999bb710e92701421c63ae4952301bef0ec98",
         "value": "1000000000000000000",
         "gas": 100000,
         "gasPrice": 2000000000,
         "isError": "nan",
         "txreceipt_status": "nan",
         "input": "deprecated",
         "contractAddress": "0x6b175474e89094c44da98b954eedeac495271d0f",
         "cumulativeGasUsed": 8076343,
         "gasUsed": 46008,
         "confirmations": 4260277,
         "tokenName": "Dai Stablecoin",
         "tokenSymbol": "DAI",
         "tokenDecimal": 18,
         "_deepnote_index_column": 74961
        },
        {
         "blockNumber": 9320283,
         "timeStamp": 1579549169,
         "hash": "0x06aef06a677d17ab31eb233bd18d882689c79d25ac0ba3872882d88e6db52d28",
         "nonce": 193,
         "blockHash": "0x2e63fc24bebbcc9dca8081065fac69742778697cd60a6bd697b41f1f823613f1",
         "transactionIndex": 42,
         "from": "0xffb3bd8b5365758350008118961254c5ecd1f80a",
         "to": "0x663d3947f03ef5b387992b880ac85940057c13e3",
         "value": "1000000000000000000",
         "gas": 100000,
         "gasPrice": 1500000000,
         "isError": "nan",
         "txreceipt_status": "nan",
         "input": "deprecated",
         "contractAddress": "0x6b175474e89094c44da98b954eedeac495271d0f",
         "cumulativeGasUsed": 8238366,
         "gasUsed": 46008,
         "confirmations": 4260266,
         "tokenName": "Dai Stablecoin",
         "tokenSymbol": "DAI",
         "tokenDecimal": 18,
         "_deepnote_index_column": 74963
        },
        {
         "blockNumber": 9281416,
         "timeStamp": 1579034846,
         "hash": "0x3b141dd91032499c1959f83c0894fbbf53b4eb8dd3a22e035798c6f18bf86aa7",
         "nonce": 417,
         "blockHash": "0x7cec67f767f9b48d87ee492a7816e1e238c0fd486a1f4a99bad8e16c01f68ef7",
         "transactionIndex": 15,
         "from": "0xffd1ac3e8818adcbe5c597ea076e8d3210b45df5",
         "to": "0xe126b3e5d052f1f575828f61feba4f4f2603652a",
         "value": "9500000000000000000",
         "gas": 100000,
         "gasPrice": 1000000000,
         "isError": "nan",
         "txreceipt_status": "nan",
         "input": "deprecated",
         "contractAddress": "0x6b175474e89094c44da98b954eedeac495271d0f",
         "cumulativeGasUsed": 2460937,
         "gasUsed": 50280,
         "confirmations": 4299133,
         "tokenName": "Dai Stablecoin",
         "tokenSymbol": "DAI",
         "tokenDecimal": 18,
         "_deepnote_index_column": 75020
        },
        {
         "blockNumber": 9281450,
         "timeStamp": 1579035301,
         "hash": "0xacd15009067ada70032844db236f4ffc99206e6b5077409a910086391a86265d",
         "nonce": 419,
         "blockHash": "0x5c93afa7412f6694e553135ce44119d0e00747d9477dca12771f9be37dc8336c",
         "transactionIndex": 90,
         "from": "0xffd1ac3e8818adcbe5c597ea076e8d3210b45df5",
         "to": "0x8ba1f109551bd432803012645ac136ddd64dba72",
         "value": "10000000000000000000",
         "gas": 100000,
         "gasPrice": 1000000000,
         "isError": "nan",
         "txreceipt_status": "nan",
         "input": "deprecated",
         "contractAddress": "0x6b175474e89094c44da98b954eedeac495271d0f",
         "cumulativeGasUsed": 6358847,
         "gasUsed": 50280,
         "confirmations": 4299099,
         "tokenName": "Dai Stablecoin",
         "tokenSymbol": "DAI",
         "tokenDecimal": 18,
         "_deepnote_index_column": 75022
        },
        {
         "blockNumber": 9281522,
         "timeStamp": 1579036329,
         "hash": "0xf478e53176ea5debf7dd20b0424b955f2069fe490c4392d9b5e25843c169286e",
         "nonce": 421,
         "blockHash": "0x7c600d3e3ed552554e242e29f5afc6b80cddc6d9a9c96c44b02c6f2f475e4a18",
         "transactionIndex": 73,
         "from": "0xffd1ac3e8818adcbe5c597ea076e8d3210b45df5",
         "to": "0xd25185f8c3b9e38c3f014378ce58b362db568352",
         "value": "9500000000000000000",
         "gas": 100000,
         "gasPrice": 5000000000,
         "isError": "nan",
         "txreceipt_status": "nan",
         "input": "deprecated",
         "contractAddress": "0x6b175474e89094c44da98b954eedeac495271d0f",
         "cumulativeGasUsed": 8273050,
         "gasUsed": 50280,
         "confirmations": 4299027,
         "tokenName": "Dai Stablecoin",
         "tokenSymbol": "DAI",
         "tokenDecimal": 18,
         "_deepnote_index_column": 75024
        },
        {
         "blockNumber": 9281536,
         "timeStamp": 1579036557,
         "hash": "0xfecadf9016af7e2b14b21df013b3f9d1ddd81b3a98ab660f79febf723c9ceb5b",
         "nonce": 423,
         "blockHash": "0xc1a14cf47a8c29874f05472b184f187ae01fb7f0e72f37b827b6a6281d9c4aaa",
         "transactionIndex": 45,
         "from": "0xffd1ac3e8818adcbe5c597ea076e8d3210b45df5",
         "to": "0x865c2f85c9fea1c6ac7f53de07554d68cb92ed88",
         "value": "9500000000000000000",
         "gas": 100000,
         "gasPrice": 1000000000,
         "isError": "nan",
         "txreceipt_status": "nan",
         "input": "deprecated",
         "contractAddress": "0x6b175474e89094c44da98b954eedeac495271d0f",
         "cumulativeGasUsed": 8397800,
         "gasUsed": 50280,
         "confirmations": 4299013,
         "tokenName": "Dai Stablecoin",
         "tokenSymbol": "DAI",
         "tokenDecimal": 18,
         "_deepnote_index_column": 75026
        },
        {
         "blockNumber": 9281557,
         "timeStamp": 1579036767,
         "hash": "0xce5d01aadcc2c507b42cf5b247cecd615cbd62c3c3a9c248e0187b46c2b2f7c3",
         "nonce": 425,
         "blockHash": "0x6cf8756c7d2ed26b1ae7419a525c738f497b6138e33afb4d5ccc373b84309446",
         "transactionIndex": 50,
         "from": "0xffd1ac3e8818adcbe5c597ea076e8d3210b45df5",
         "to": "0xbc11295936aa79d594139de1b2e12629414f3bdb",
         "value": "9500000000000000000",
         "gas": 100000,
         "gasPrice": 1000000000,
         "isError": "nan",
         "txreceipt_status": "nan",
         "input": "deprecated",
         "contractAddress": "0x6b175474e89094c44da98b954eedeac495271d0f",
         "cumulativeGasUsed": 5801269,
         "gasUsed": 50280,
         "confirmations": 4298992,
         "tokenName": "Dai Stablecoin",
         "tokenSymbol": "DAI",
         "tokenDecimal": 18,
         "_deepnote_index_column": 75028
        },
        {
         "blockNumber": 9281595,
         "timeStamp": 1579037308,
         "hash": "0x85b90d8583c19423acf8b1ee7ba8076b074929ef9ce2446ad4e8e2381cb31bc5",
         "nonce": 431,
         "blockHash": "0x31777d2881f5ddafb21657fcb47cc96c3d861d6c5eb4337e399eed045bc55709",
         "transactionIndex": 64,
         "from": "0xffd1ac3e8818adcbe5c597ea076e8d3210b45df5",
         "to": "0xa19fcdad77c1f0fd184689aca88babcf68010347",
         "value": "10000000000000000000",
         "gas": 100000,
         "gasPrice": 1000000000,
         "isError": "nan",
         "txreceipt_status": "nan",
         "input": "deprecated",
         "contractAddress": "0x6b175474e89094c44da98b954eedeac495271d0f",
         "cumulativeGasUsed": 6258007,
         "gasUsed": 50280,
         "confirmations": 4298954,
         "tokenName": "Dai Stablecoin",
         "tokenSymbol": "DAI",
         "tokenDecimal": 18,
         "_deepnote_index_column": 75034
        },
        {
         "blockNumber": 9281611,
         "timeStamp": 1579037479,
         "hash": "0x1beae78b1a1892ba32e3b3d02d99e7e0579d5c1dee5c651908a65bea0bc457a4",
         "nonce": 433,
         "blockHash": "0x8678df3a27be6118bfc9666a672fc3b801ede9918bd4ccea81e58e4f14f1f243",
         "transactionIndex": 123,
         "from": "0xffd1ac3e8818adcbe5c597ea076e8d3210b45df5",
         "to": "0x865c2f85c9fea1c6ac7f53de07554d68cb92ed88",
         "value": "9500000000000000000",
         "gas": 100000,
         "gasPrice": 1000000000,
         "isError": "nan",
         "txreceipt_status": "nan",
         "input": "deprecated",
         "contractAddress": "0x6b175474e89094c44da98b954eedeac495271d0f",
         "cumulativeGasUsed": 7563655,
         "gasUsed": 50280,
         "confirmations": 4298938,
         "tokenName": "Dai Stablecoin",
         "tokenSymbol": "DAI",
         "tokenDecimal": 18,
         "_deepnote_index_column": 75036
        },
        {
         "blockNumber": 9281617,
         "timeStamp": 1579037599,
         "hash": "0x8626175fdff14a55cd4a36bdc07bd0d0e5437defd985127ce99e352f1fccf4a2",
         "nonce": 435,
         "blockHash": "0xfccbe781b1c5ed325ae546ed2a9fd7ff8816c73930adc12664c7510de867c7b1",
         "transactionIndex": 71,
         "from": "0xffd1ac3e8818adcbe5c597ea076e8d3210b45df5",
         "to": "0x7d1675dc635959b26f61e03637599c12c7e84fae",
         "value": "9500000000000000000",
         "gas": 100000,
         "gasPrice": 1000000000,
         "isError": "nan",
         "txreceipt_status": "nan",
         "input": "deprecated",
         "contractAddress": "0x6b175474e89094c44da98b954eedeac495271d0f",
         "cumulativeGasUsed": 1875820,
         "gasUsed": 65280,
         "confirmations": 4298932,
         "tokenName": "Dai Stablecoin",
         "tokenSymbol": "DAI",
         "tokenDecimal": 18,
         "_deepnote_index_column": 75038
        },
        {
         "blockNumber": 9291814,
         "timeStamp": 1579172586,
         "hash": "0x777fddf8062c20bf0f71145535017e536a21dcc32d9f5f5e7c0a8e11992b09b7",
         "nonce": 444,
         "blockHash": "0xfa1faf4a75169fbea5e7abd3900c5d83a2364653b52a42637379f040913db1a4",
         "transactionIndex": 161,
         "from": "0xffd1ac3e8818adcbe5c597ea076e8d3210b45df5",
         "to": "0x1591b9056822c273252fcea32963223650db18e1",
         "value": "9500000000000000000",
         "gas": 100000,
         "gasPrice": 1000000000,
         "isError": "nan",
         "txreceipt_status": "nan",
         "input": "deprecated",
         "contractAddress": "0x6b175474e89094c44da98b954eedeac495271d0f",
         "cumulativeGasUsed": 7986910,
         "gasUsed": 50280,
         "confirmations": 4288735,
         "tokenName": "Dai Stablecoin",
         "tokenSymbol": "DAI",
         "tokenDecimal": 18,
         "_deepnote_index_column": 75041
        },
        {
         "blockNumber": 9293004,
         "timeStamp": 1579188653,
         "hash": "0x64f78ac8a090bbdfc42939732bf4242e8410f61da34be4a378ca0e9b2ff0fe11",
         "nonce": 447,
         "blockHash": "0x8bba17f1d8a5e8f025ace690d6e3f6921d98b41c2a4aeb0c6291aa1dc80f083e",
         "transactionIndex": 116,
         "from": "0xffd1ac3e8818adcbe5c597ea076e8d3210b45df5",
         "to": "0xe126b3e5d052f1f575828f61feba4f4f2603652a",
         "value": "500000000000000000000",
         "gas": 100000,
         "gasPrice": 2000000000,
         "isError": "nan",
         "txreceipt_status": "nan",
         "input": "deprecated",
         "contractAddress": "0x6b175474e89094c44da98b954eedeac495271d0f",
         "cumulativeGasUsed": 9139578,
         "gasUsed": 46020,
         "confirmations": 4287545,
         "tokenName": "Dai Stablecoin",
         "tokenSymbol": "DAI",
         "tokenDecimal": 18,
         "_deepnote_index_column": 75044
        }
       ]
      },
      "text/plain": "       blockNumber   timeStamp  \\\n4          9272432  1578915412   \n52         9243147  1578528442   \n57         9244538  1578546802   \n58         9244705  1578548918   \n60         9244708  1578548950   \n...            ...         ...   \n75034      9281595  1579037308   \n75036      9281611  1579037479   \n75038      9281617  1579037599   \n75041      9291814  1579172586   \n75044      9293004  1579188653   \n\n                                                    hash  nonce  \\\n4      0x9e49c1e0631b685ae2a2cbd1dc32e1e521729f92e661...    153   \n52     0x70518de1df557d61d92d3b7c1d5394fd264c634f54b4...    215   \n57     0xd884392de6460d8937532021e5b39e4f1e4e8d2506a7...    220   \n58     0x42da33a736c7a5ddda8df2489492608d1571400106f3...    222   \n60     0x34b5f6ef6307e1ca335f598803270d0dc3bc9ec72478...    224   \n...                                                  ...    ...   \n75034  0x85b90d8583c19423acf8b1ee7ba8076b074929ef9ce2...    431   \n75036  0x1beae78b1a1892ba32e3b3d02d99e7e0579d5c1dee5c...    433   \n75038  0x8626175fdff14a55cd4a36bdc07bd0d0e5437defd985...    435   \n75041  0x777fddf8062c20bf0f71145535017e536a21dcc32d9f...    444   \n75044  0x64f78ac8a090bbdfc42939732bf4242e8410f61da34b...    447   \n\n                                               blockHash  transactionIndex  \\\n4      0x17f36b1282af804873b6fabcde9e1f221f4877403905...                83   \n52     0xfc648bcb632d8f93255849f86be531415f25a6653fd9...                30   \n57     0x1c9c02ef00980297e40a30c370cafa83eeb058139e87...                65   \n58     0x742ce596b4ddfbb3902a3a46949bf671c69b53317762...                92   \n60     0x9269af71d0864366edc51980faec2731b566a876c9eb...               134   \n...                                                  ...               ...   \n75034  0x31777d2881f5ddafb21657fcb47cc96c3d861d6c5eb4...                64   \n75036  0x8678df3a27be6118bfc9666a672fc3b801ede9918bd4...               123   \n75038  0xfccbe781b1c5ed325ae546ed2a9fd7ff8816c73930ad...                71   \n75041  0xfa1faf4a75169fbea5e7abd3900c5d83a2364653b52a...               161   \n75044  0x8bba17f1d8a5e8f025ace690d6e3f6921d98b41c2a4a...               116   \n\n                                             from  \\\n4      0x00158a74921620b39e5c3afe4dca79feb2c2c143   \n52     0x002781a27becd321d831d815e3fa386944b329c8   \n57     0x002781a27becd321d831d815e3fa386944b329c8   \n58     0x002781a27becd321d831d815e3fa386944b329c8   \n60     0x002781a27becd321d831d815e3fa386944b329c8   \n...                                           ...   \n75034  0xffd1ac3e8818adcbe5c597ea076e8d3210b45df5   \n75036  0xffd1ac3e8818adcbe5c597ea076e8d3210b45df5   \n75038  0xffd1ac3e8818adcbe5c597ea076e8d3210b45df5   \n75041  0xffd1ac3e8818adcbe5c597ea076e8d3210b45df5   \n75044  0xffd1ac3e8818adcbe5c597ea076e8d3210b45df5   \n\n                                               to                  value  \\\n4      0x322d58b9e75a6918f7e7849aee0ff09369977e08    4000000000000000000   \n52     0xbd9cdcb6688b057080b1767261c5dc17a5804e82   23750000000000000000   \n57     0x865c2f85c9fea1c6ac7f53de07554d68cb92ed88    1000000000000000000   \n58     0xdd4c48c0b24039969fc16d1cdf626eab821d3384    2850000000000000000   \n60     0x9b984d5a03980d8dc0a24506c968465424c81dbe    2000000000000000000   \n...                                           ...                    ...   \n75034  0xa19fcdad77c1f0fd184689aca88babcf68010347   10000000000000000000   \n75036  0x865c2f85c9fea1c6ac7f53de07554d68cb92ed88    9500000000000000000   \n75038  0x7d1675dc635959b26f61e03637599c12c7e84fae    9500000000000000000   \n75041  0x1591b9056822c273252fcea32963223650db18e1    9500000000000000000   \n75044  0xe126b3e5d052f1f575828f61feba4f4f2603652a  500000000000000000000   \n\n          gas  ...  isError  txreceipt_status       input  \\\n4      100000  ...      NaN               NaN  deprecated   \n52     100000  ...      NaN               NaN  deprecated   \n57      78057  ...      NaN               NaN  deprecated   \n58     100000  ...      NaN               NaN  deprecated   \n60     100000  ...      NaN               NaN  deprecated   \n...       ...  ...      ...               ...         ...   \n75034  100000  ...      NaN               NaN  deprecated   \n75036  100000  ...      NaN               NaN  deprecated   \n75038  100000  ...      NaN               NaN  deprecated   \n75041  100000  ...      NaN               NaN  deprecated   \n75044  100000  ...      NaN               NaN  deprecated   \n\n                                  contractAddress cumulativeGasUsed  gasUsed  \\\n4      0x6b175474e89094c44da98b954eedeac495271d0f           7217413    46008   \n52     0x6b175474e89094c44da98b954eedeac495271d0f           2992428    50292   \n57     0x892091bdd49fe955859d4bbb8a9a2b7685ccec82           3146759    37038   \n58     0x6b175474e89094c44da98b954eedeac495271d0f           4726093    50280   \n60     0x6b175474e89094c44da98b954eedeac495271d0f           7528199    50280   \n...                                           ...               ...      ...   \n75034  0x6b175474e89094c44da98b954eedeac495271d0f           6258007    50280   \n75036  0x6b175474e89094c44da98b954eedeac495271d0f           7563655    50280   \n75038  0x6b175474e89094c44da98b954eedeac495271d0f           1875820    65280   \n75041  0x6b175474e89094c44da98b954eedeac495271d0f           7986910    50280   \n75044  0x6b175474e89094c44da98b954eedeac495271d0f           9139578    46020   \n\n       confirmations       tokenName tokenSymbol tokenDecimal  \n4            4308028  Dai Stablecoin         DAI         18.0  \n52           4337313  Dai Stablecoin         DAI         18.0  \n57           4335922     PEW PEW PEW        $PEW         18.0  \n58           4335755  Dai Stablecoin         DAI         18.0  \n60           4335752  Dai Stablecoin         DAI         18.0  \n...              ...             ...         ...          ...  \n75034        4298954  Dai Stablecoin         DAI         18.0  \n75036        4298938  Dai Stablecoin         DAI         18.0  \n75038        4298932  Dai Stablecoin         DAI         18.0  \n75041        4288735  Dai Stablecoin         DAI         18.0  \n75044        4287545  Dai Stablecoin         DAI         18.0  \n\n[8125 rows x 21 columns]",
      "text/html": "<div>\n<style scoped>\n    .dataframe tbody tr th:only-of-type {\n        vertical-align: middle;\n    }\n\n    .dataframe tbody tr th {\n        vertical-align: top;\n    }\n\n    .dataframe thead th {\n        text-align: right;\n    }\n</style>\n<table border=\"1\" class=\"dataframe\">\n  <thead>\n    <tr style=\"text-align: right;\">\n      <th></th>\n      <th>blockNumber</th>\n      <th>timeStamp</th>\n      <th>hash</th>\n      <th>nonce</th>\n      <th>blockHash</th>\n      <th>transactionIndex</th>\n      <th>from</th>\n      <th>to</th>\n      <th>value</th>\n      <th>gas</th>\n      <th>...</th>\n      <th>isError</th>\n      <th>txreceipt_status</th>\n      <th>input</th>\n      <th>contractAddress</th>\n      <th>cumulativeGasUsed</th>\n      <th>gasUsed</th>\n      <th>confirmations</th>\n      <th>tokenName</th>\n      <th>tokenSymbol</th>\n      <th>tokenDecimal</th>\n    </tr>\n  </thead>\n  <tbody>\n    <tr>\n      <th>4</th>\n      <td>9272432</td>\n      <td>1578915412</td>\n      <td>0x9e49c1e0631b685ae2a2cbd1dc32e1e521729f92e661...</td>\n      <td>153</td>\n      <td>0x17f36b1282af804873b6fabcde9e1f221f4877403905...</td>\n      <td>83</td>\n      <td>0x00158a74921620b39e5c3afe4dca79feb2c2c143</td>\n      <td>0x322d58b9e75a6918f7e7849aee0ff09369977e08</td>\n      <td>4000000000000000000</td>\n      <td>100000</td>\n      <td>...</td>\n      <td>NaN</td>\n      <td>NaN</td>\n      <td>deprecated</td>\n      <td>0x6b175474e89094c44da98b954eedeac495271d0f</td>\n      <td>7217413</td>\n      <td>46008</td>\n      <td>4308028</td>\n      <td>Dai Stablecoin</td>\n      <td>DAI</td>\n      <td>18.0</td>\n    </tr>\n    <tr>\n      <th>52</th>\n      <td>9243147</td>\n      <td>1578528442</td>\n      <td>0x70518de1df557d61d92d3b7c1d5394fd264c634f54b4...</td>\n      <td>215</td>\n      <td>0xfc648bcb632d8f93255849f86be531415f25a6653fd9...</td>\n      <td>30</td>\n      <td>0x002781a27becd321d831d815e3fa386944b329c8</td>\n      <td>0xbd9cdcb6688b057080b1767261c5dc17a5804e82</td>\n      <td>23750000000000000000</td>\n      <td>100000</td>\n      <td>...</td>\n      <td>NaN</td>\n      <td>NaN</td>\n      <td>deprecated</td>\n      <td>0x6b175474e89094c44da98b954eedeac495271d0f</td>\n      <td>2992428</td>\n      <td>50292</td>\n      <td>4337313</td>\n      <td>Dai Stablecoin</td>\n      <td>DAI</td>\n      <td>18.0</td>\n    </tr>\n    <tr>\n      <th>57</th>\n      <td>9244538</td>\n      <td>1578546802</td>\n      <td>0xd884392de6460d8937532021e5b39e4f1e4e8d2506a7...</td>\n      <td>220</td>\n      <td>0x1c9c02ef00980297e40a30c370cafa83eeb058139e87...</td>\n      <td>65</td>\n      <td>0x002781a27becd321d831d815e3fa386944b329c8</td>\n      <td>0x865c2f85c9fea1c6ac7f53de07554d68cb92ed88</td>\n      <td>1000000000000000000</td>\n      <td>78057</td>\n      <td>...</td>\n      <td>NaN</td>\n      <td>NaN</td>\n      <td>deprecated</td>\n      <td>0x892091bdd49fe955859d4bbb8a9a2b7685ccec82</td>\n      <td>3146759</td>\n      <td>37038</td>\n      <td>4335922</td>\n      <td>PEW PEW PEW</td>\n      <td>$PEW</td>\n      <td>18.0</td>\n    </tr>\n    <tr>\n      <th>58</th>\n      <td>9244705</td>\n      <td>1578548918</td>\n      <td>0x42da33a736c7a5ddda8df2489492608d1571400106f3...</td>\n      <td>222</td>\n      <td>0x742ce596b4ddfbb3902a3a46949bf671c69b53317762...</td>\n      <td>92</td>\n      <td>0x002781a27becd321d831d815e3fa386944b329c8</td>\n      <td>0xdd4c48c0b24039969fc16d1cdf626eab821d3384</td>\n      <td>2850000000000000000</td>\n      <td>100000</td>\n      <td>...</td>\n      <td>NaN</td>\n      <td>NaN</td>\n      <td>deprecated</td>\n      <td>0x6b175474e89094c44da98b954eedeac495271d0f</td>\n      <td>4726093</td>\n      <td>50280</td>\n      <td>4335755</td>\n      <td>Dai Stablecoin</td>\n      <td>DAI</td>\n      <td>18.0</td>\n    </tr>\n    <tr>\n      <th>60</th>\n      <td>9244708</td>\n      <td>1578548950</td>\n      <td>0x34b5f6ef6307e1ca335f598803270d0dc3bc9ec72478...</td>\n      <td>224</td>\n      <td>0x9269af71d0864366edc51980faec2731b566a876c9eb...</td>\n      <td>134</td>\n      <td>0x002781a27becd321d831d815e3fa386944b329c8</td>\n      <td>0x9b984d5a03980d8dc0a24506c968465424c81dbe</td>\n      <td>2000000000000000000</td>\n      <td>100000</td>\n      <td>...</td>\n      <td>NaN</td>\n      <td>NaN</td>\n      <td>deprecated</td>\n      <td>0x6b175474e89094c44da98b954eedeac495271d0f</td>\n      <td>7528199</td>\n      <td>50280</td>\n      <td>4335752</td>\n      <td>Dai Stablecoin</td>\n      <td>DAI</td>\n      <td>18.0</td>\n    </tr>\n    <tr>\n      <th>...</th>\n      <td>...</td>\n      <td>...</td>\n      <td>...</td>\n      <td>...</td>\n      <td>...</td>\n      <td>...</td>\n      <td>...</td>\n      <td>...</td>\n      <td>...</td>\n      <td>...</td>\n      <td>...</td>\n      <td>...</td>\n      <td>...</td>\n      <td>...</td>\n      <td>...</td>\n      <td>...</td>\n      <td>...</td>\n      <td>...</td>\n      <td>...</td>\n      <td>...</td>\n      <td>...</td>\n    </tr>\n    <tr>\n      <th>75034</th>\n      <td>9281595</td>\n      <td>1579037308</td>\n      <td>0x85b90d8583c19423acf8b1ee7ba8076b074929ef9ce2...</td>\n      <td>431</td>\n      <td>0x31777d2881f5ddafb21657fcb47cc96c3d861d6c5eb4...</td>\n      <td>64</td>\n      <td>0xffd1ac3e8818adcbe5c597ea076e8d3210b45df5</td>\n      <td>0xa19fcdad77c1f0fd184689aca88babcf68010347</td>\n      <td>10000000000000000000</td>\n      <td>100000</td>\n      <td>...</td>\n      <td>NaN</td>\n      <td>NaN</td>\n      <td>deprecated</td>\n      <td>0x6b175474e89094c44da98b954eedeac495271d0f</td>\n      <td>6258007</td>\n      <td>50280</td>\n      <td>4298954</td>\n      <td>Dai Stablecoin</td>\n      <td>DAI</td>\n      <td>18.0</td>\n    </tr>\n    <tr>\n      <th>75036</th>\n      <td>9281611</td>\n      <td>1579037479</td>\n      <td>0x1beae78b1a1892ba32e3b3d02d99e7e0579d5c1dee5c...</td>\n      <td>433</td>\n      <td>0x8678df3a27be6118bfc9666a672fc3b801ede9918bd4...</td>\n      <td>123</td>\n      <td>0xffd1ac3e8818adcbe5c597ea076e8d3210b45df5</td>\n      <td>0x865c2f85c9fea1c6ac7f53de07554d68cb92ed88</td>\n      <td>9500000000000000000</td>\n      <td>100000</td>\n      <td>...</td>\n      <td>NaN</td>\n      <td>NaN</td>\n      <td>deprecated</td>\n      <td>0x6b175474e89094c44da98b954eedeac495271d0f</td>\n      <td>7563655</td>\n      <td>50280</td>\n      <td>4298938</td>\n      <td>Dai Stablecoin</td>\n      <td>DAI</td>\n      <td>18.0</td>\n    </tr>\n    <tr>\n      <th>75038</th>\n      <td>9281617</td>\n      <td>1579037599</td>\n      <td>0x8626175fdff14a55cd4a36bdc07bd0d0e5437defd985...</td>\n      <td>435</td>\n      <td>0xfccbe781b1c5ed325ae546ed2a9fd7ff8816c73930ad...</td>\n      <td>71</td>\n      <td>0xffd1ac3e8818adcbe5c597ea076e8d3210b45df5</td>\n      <td>0x7d1675dc635959b26f61e03637599c12c7e84fae</td>\n      <td>9500000000000000000</td>\n      <td>100000</td>\n      <td>...</td>\n      <td>NaN</td>\n      <td>NaN</td>\n      <td>deprecated</td>\n      <td>0x6b175474e89094c44da98b954eedeac495271d0f</td>\n      <td>1875820</td>\n      <td>65280</td>\n      <td>4298932</td>\n      <td>Dai Stablecoin</td>\n      <td>DAI</td>\n      <td>18.0</td>\n    </tr>\n    <tr>\n      <th>75041</th>\n      <td>9291814</td>\n      <td>1579172586</td>\n      <td>0x777fddf8062c20bf0f71145535017e536a21dcc32d9f...</td>\n      <td>444</td>\n      <td>0xfa1faf4a75169fbea5e7abd3900c5d83a2364653b52a...</td>\n      <td>161</td>\n      <td>0xffd1ac3e8818adcbe5c597ea076e8d3210b45df5</td>\n      <td>0x1591b9056822c273252fcea32963223650db18e1</td>\n      <td>9500000000000000000</td>\n      <td>100000</td>\n      <td>...</td>\n      <td>NaN</td>\n      <td>NaN</td>\n      <td>deprecated</td>\n      <td>0x6b175474e89094c44da98b954eedeac495271d0f</td>\n      <td>7986910</td>\n      <td>50280</td>\n      <td>4288735</td>\n      <td>Dai Stablecoin</td>\n      <td>DAI</td>\n      <td>18.0</td>\n    </tr>\n    <tr>\n      <th>75044</th>\n      <td>9293004</td>\n      <td>1579188653</td>\n      <td>0x64f78ac8a090bbdfc42939732bf4242e8410f61da34b...</td>\n      <td>447</td>\n      <td>0x8bba17f1d8a5e8f025ace690d6e3f6921d98b41c2a4a...</td>\n      <td>116</td>\n      <td>0xffd1ac3e8818adcbe5c597ea076e8d3210b45df5</td>\n      <td>0xe126b3e5d052f1f575828f61feba4f4f2603652a</td>\n      <td>500000000000000000000</td>\n      <td>100000</td>\n      <td>...</td>\n      <td>NaN</td>\n      <td>NaN</td>\n      <td>deprecated</td>\n      <td>0x6b175474e89094c44da98b954eedeac495271d0f</td>\n      <td>9139578</td>\n      <td>46020</td>\n      <td>4287545</td>\n      <td>Dai Stablecoin</td>\n      <td>DAI</td>\n      <td>18.0</td>\n    </tr>\n  </tbody>\n</table>\n<p>8125 rows × 21 columns</p>\n</div>"
     },
     "metadata": {}
    }
   ],
   "execution_count": 19
  },
  {
   "cell_type": "code",
   "metadata": {
    "tags": [],
    "cell_id": "00020-50f612cb-d3e5-4eae-9e75-12c86804dc37",
    "deepnote_to_be_reexecuted": false,
    "source_hash": "78a78612",
    "execution_start": 1639541156365,
    "execution_millis": 4,
    "deepnote_cell_type": "code"
   },
   "source": "keep_tokenNames = ['ETH', 'Dai Stablecoin', 'Sai Stablecoin v1.0', 'Synth sUSD', 'USD Coin ']\nrows_to_keep = df_filtered.tokenName.isin(keep_tokenNames)\ndf_a = df_filtered[rows_to_keep].copy()",
   "outputs": [],
   "execution_count": 20
  },
  {
   "cell_type": "code",
   "metadata": {
    "tags": [],
    "cell_id": "00022-b9a7477b-b039-4043-b7e5-7658237e6a12",
    "deepnote_to_be_reexecuted": false,
    "source_hash": "3b695e11",
    "execution_start": 1639541157206,
    "execution_millis": 166,
    "deepnote_cell_type": "code"
   },
   "source": "df_a",
   "outputs": [
    {
     "output_type": "execute_result",
     "execution_count": 21,
     "data": {
      "application/vnd.deepnote.dataframe.v2+json": {
       "row_count": 6698,
       "column_count": 21,
       "columns": [
        {
         "name": "blockNumber",
         "dtype": "int64",
         "stats": {
          "unique_count": 4133,
          "nan_count": 0,
          "min": "9223726",
          "max": "9321469",
          "histogram": [
           {
            "bin_start": 9223726,
            "bin_end": 9233500.3,
            "count": 272
           },
           {
            "bin_start": 9233500.3,
            "bin_end": 9243274.6,
            "count": 521
           },
           {
            "bin_start": 9243274.6,
            "bin_end": 9253048.9,
            "count": 575
           },
           {
            "bin_start": 9253048.9,
            "bin_end": 9262823.2,
            "count": 814
           },
           {
            "bin_start": 9262823.2,
            "bin_end": 9272597.5,
            "count": 596
           },
           {
            "bin_start": 9272597.5,
            "bin_end": 9282371.8,
            "count": 992
           },
           {
            "bin_start": 9282371.8,
            "bin_end": 9292146.1,
            "count": 767
           },
           {
            "bin_start": 9292146.1,
            "bin_end": 9301920.4,
            "count": 720
           },
           {
            "bin_start": 9301920.4,
            "bin_end": 9311694.7,
            "count": 455
           },
           {
            "bin_start": 9311694.7,
            "bin_end": 9321469,
            "count": 986
           }
          ]
         }
        },
        {
         "name": "timeStamp",
         "dtype": "int64",
         "stats": {
          "unique_count": 4133,
          "nan_count": 0,
          "min": "1578271833",
          "max": "1579564613",
          "histogram": [
           {
            "bin_start": 1578271833,
            "bin_end": 1578401111,
            "count": 273
           },
           {
            "bin_start": 1578401111,
            "bin_end": 1578530389,
            "count": 520
           },
           {
            "bin_start": 1578530389,
            "bin_end": 1578659667,
            "count": 576
           },
           {
            "bin_start": 1578659667,
            "bin_end": 1578788945,
            "count": 820
           },
           {
            "bin_start": 1578788945,
            "bin_end": 1578918223,
            "count": 589
           },
           {
            "bin_start": 1578918223,
            "bin_end": 1579047501,
            "count": 994
           },
           {
            "bin_start": 1579047501,
            "bin_end": 1579176779,
            "count": 765
           },
           {
            "bin_start": 1579176779,
            "bin_end": 1579306057,
            "count": 720
           },
           {
            "bin_start": 1579306057,
            "bin_end": 1579435335,
            "count": 455
           },
           {
            "bin_start": 1579435335,
            "bin_end": 1579564613,
            "count": 986
           }
          ]
         }
        },
        {
         "name": "hash",
         "dtype": "object",
         "stats": {
          "unique_count": 4824,
          "nan_count": 0,
          "categories": [
           {
            "name": "0xcfa3ef5c22ec155c40cf55cdf80897b50d8b804c2ed36b322918c3e48659b42f",
            "count": 2
           },
           {
            "name": "0xaeb3930bdf4bd7f1676be84ea84225f1ee97817c28a04d18e8d7a63a003295e3",
            "count": 2
           },
           {
            "name": "4822 others",
            "count": 6694
           }
          ]
         }
        },
        {
         "name": "nonce",
         "dtype": "int64",
         "stats": {
          "unique_count": 1313,
          "nan_count": 0,
          "min": "0",
          "max": "8603298",
          "histogram": [
           {
            "bin_start": 0,
            "bin_end": 860329.8,
            "count": 6689
           },
           {
            "bin_start": 860329.8,
            "bin_end": 1720659.6,
            "count": 2
           },
           {
            "bin_start": 1720659.6,
            "bin_end": 2580989.4000000004,
            "count": 2
           },
           {
            "bin_start": 2580989.4000000004,
            "bin_end": 3441319.2,
            "count": 0
           },
           {
            "bin_start": 3441319.2,
            "bin_end": 4301649,
            "count": 4
           },
           {
            "bin_start": 4301649,
            "bin_end": 5161978.800000001,
            "count": 0
           },
           {
            "bin_start": 5161978.800000001,
            "bin_end": 6022308.600000001,
            "count": 0
           },
           {
            "bin_start": 6022308.600000001,
            "bin_end": 6882638.4,
            "count": 0
           },
           {
            "bin_start": 6882638.4,
            "bin_end": 7742968.2,
            "count": 0
           },
           {
            "bin_start": 7742968.2,
            "bin_end": 8603298,
            "count": 1
           }
          ]
         }
        },
        {
         "name": "blockHash",
         "dtype": "object",
         "stats": {
          "unique_count": 4133,
          "nan_count": 0,
          "categories": [
           {
            "name": "0x196e2c37771516def2cf35885b636d62c0ade7f3d9da103d8801ccb9663de384",
            "count": 20
           },
           {
            "name": "0xe836be950f2e0e593fbe87461121d8cc0702cf050ff20f643215feb20549ad5d",
            "count": 11
           },
           {
            "name": "4131 others",
            "count": 6667
           }
          ]
         }
        },
        {
         "name": "transactionIndex",
         "dtype": "int64",
         "stats": {
          "unique_count": 223,
          "nan_count": 0,
          "min": "0",
          "max": "265",
          "histogram": [
           {
            "bin_start": 0,
            "bin_end": 26.5,
            "count": 773
           },
           {
            "bin_start": 26.5,
            "bin_end": 53,
            "count": 1500
           },
           {
            "bin_start": 53,
            "bin_end": 79.5,
            "count": 1516
           },
           {
            "bin_start": 79.5,
            "bin_end": 106,
            "count": 1158
           },
           {
            "bin_start": 106,
            "bin_end": 132.5,
            "count": 879
           },
           {
            "bin_start": 132.5,
            "bin_end": 159,
            "count": 490
           },
           {
            "bin_start": 159,
            "bin_end": 185.5,
            "count": 251
           },
           {
            "bin_start": 185.5,
            "bin_end": 212,
            "count": 99
           },
           {
            "bin_start": 212,
            "bin_end": 238.5,
            "count": 29
           },
           {
            "bin_start": 238.5,
            "bin_end": 265,
            "count": 3
           }
          ]
         }
        },
        {
         "name": "from",
         "dtype": "object",
         "stats": {
          "unique_count": 1113,
          "nan_count": 0,
          "categories": [
           {
            "name": "0x11111254369792b2ca5d084ab5eea397ca8fa48b",
            "count": 400
           },
           {
            "name": "0x2a1530c4c41db0b0b2bb646cb5eb1a67b7158667",
            "count": 67
           },
           {
            "name": "1111 others",
            "count": 6231
           }
          ]
         }
        },
        {
         "name": "to",
         "dtype": "object",
         "stats": {
          "unique_count": 237,
          "nan_count": 0,
          "categories": [
           {
            "name": "0x4d37f28d2db99e8d35a6c725a5f1749a085850a3",
            "count": 537
           },
           {
            "name": "0xbbbfc46566e5f0302cef913af8c8f423070ce6a1",
            "count": 313
           },
           {
            "name": "235 others",
            "count": 5848
           }
          ]
         }
        },
        {
         "name": "value",
         "dtype": "object",
         "stats": {
          "unique_count": 1048,
          "nan_count": 0,
          "categories": [
           {
            "name": "950000000000000000",
            "count": 908
           },
           {
            "name": "1000000000000000000",
            "count": 796
           },
           {
            "name": "1046 others",
            "count": 4994
           }
          ]
         }
        },
        {
         "name": "gas",
         "dtype": "int64",
         "stats": {
          "unique_count": 585,
          "nan_count": 0,
          "min": "21000",
          "max": "6666677",
          "histogram": [
           {
            "bin_start": 21000,
            "bin_end": 685567.7,
            "count": 6288
           },
           {
            "bin_start": 685567.7,
            "bin_end": 1350135.4,
            "count": 133
           },
           {
            "bin_start": 1350135.4,
            "bin_end": 2014703.0999999999,
            "count": 149
           },
           {
            "bin_start": 2014703.0999999999,
            "bin_end": 2679270.8,
            "count": 80
           },
           {
            "bin_start": 2679270.8,
            "bin_end": 3343838.5,
            "count": 22
           },
           {
            "bin_start": 3343838.5,
            "bin_end": 4008406.1999999997,
            "count": 7
           },
           {
            "bin_start": 4008406.1999999997,
            "bin_end": 4672973.899999999,
            "count": 10
           },
           {
            "bin_start": 4672973.899999999,
            "bin_end": 5337541.6,
            "count": 7
           },
           {
            "bin_start": 5337541.6,
            "bin_end": 6002109.3,
            "count": 0
           },
           {
            "bin_start": 6002109.3,
            "bin_end": 6666677,
            "count": 2
           }
          ]
         }
        },
        {
         "name": "gasPrice",
         "dtype": "int64",
         "stats": {
          "unique_count": 264,
          "nan_count": 0,
          "min": "600000000",
          "max": "78100000000",
          "histogram": [
           {
            "bin_start": 600000000,
            "bin_end": 8350000000,
            "count": 6408
           },
           {
            "bin_start": 8350000000,
            "bin_end": 16100000000,
            "count": 251
           },
           {
            "bin_start": 16100000000,
            "bin_end": 23850000000,
            "count": 27
           },
           {
            "bin_start": 23850000000,
            "bin_end": 31600000000,
            "count": 1
           },
           {
            "bin_start": 31600000000,
            "bin_end": 39350000000,
            "count": 0
           },
           {
            "bin_start": 39350000000,
            "bin_end": 47100000000,
            "count": 8
           },
           {
            "bin_start": 47100000000,
            "bin_end": 54850000000,
            "count": 1
           },
           {
            "bin_start": 54850000000,
            "bin_end": 62600000000,
            "count": 0
           },
           {
            "bin_start": 62600000000,
            "bin_end": 70350000000,
            "count": 0
           },
           {
            "bin_start": 70350000000,
            "bin_end": 78100000000,
            "count": 2
           }
          ]
         }
        },
        {
         "name": "isError",
         "dtype": "float64",
         "stats": {
          "unique_count": 2,
          "nan_count": 6464,
          "min": "0.0",
          "max": "1.0",
          "histogram": [
           {
            "bin_start": 0,
            "bin_end": 0.1,
            "count": 230
           },
           {
            "bin_start": 0.1,
            "bin_end": 0.2,
            "count": 0
           },
           {
            "bin_start": 0.2,
            "bin_end": 0.30000000000000004,
            "count": 0
           },
           {
            "bin_start": 0.30000000000000004,
            "bin_end": 0.4,
            "count": 0
           },
           {
            "bin_start": 0.4,
            "bin_end": 0.5,
            "count": 0
           },
           {
            "bin_start": 0.5,
            "bin_end": 0.6000000000000001,
            "count": 0
           },
           {
            "bin_start": 0.6000000000000001,
            "bin_end": 0.7000000000000001,
            "count": 0
           },
           {
            "bin_start": 0.7000000000000001,
            "bin_end": 0.8,
            "count": 0
           },
           {
            "bin_start": 0.8,
            "bin_end": 0.9,
            "count": 0
           },
           {
            "bin_start": 0.9,
            "bin_end": 1,
            "count": 4
           }
          ]
         }
        },
        {
         "name": "txreceipt_status",
         "dtype": "float64",
         "stats": {
          "unique_count": 2,
          "nan_count": 6464,
          "min": "0.0",
          "max": "1.0",
          "histogram": [
           {
            "bin_start": 0,
            "bin_end": 0.1,
            "count": 4
           },
           {
            "bin_start": 0.1,
            "bin_end": 0.2,
            "count": 0
           },
           {
            "bin_start": 0.2,
            "bin_end": 0.30000000000000004,
            "count": 0
           },
           {
            "bin_start": 0.30000000000000004,
            "bin_end": 0.4,
            "count": 0
           },
           {
            "bin_start": 0.4,
            "bin_end": 0.5,
            "count": 0
           },
           {
            "bin_start": 0.5,
            "bin_end": 0.6000000000000001,
            "count": 0
           },
           {
            "bin_start": 0.6000000000000001,
            "bin_end": 0.7000000000000001,
            "count": 0
           },
           {
            "bin_start": 0.7000000000000001,
            "bin_end": 0.8,
            "count": 0
           },
           {
            "bin_start": 0.8,
            "bin_end": 0.9,
            "count": 0
           },
           {
            "bin_start": 0.9,
            "bin_end": 1,
            "count": 230
           }
          ]
         }
        },
        {
         "name": "input",
         "dtype": "object",
         "stats": {
          "unique_count": 62,
          "nan_count": 0,
          "categories": [
           {
            "name": "deprecated",
            "count": 6464
           },
           {
            "name": "0x",
            "count": 153
           },
           {
            "name": "60 others",
            "count": 81
           }
          ]
         }
        },
        {
         "name": "contractAddress",
         "dtype": "object"
        },
        {
         "name": "cumulativeGasUsed",
         "dtype": "int64"
        },
        {
         "name": "gasUsed",
         "dtype": "int64"
        },
        {
         "name": "confirmations",
         "dtype": "int64"
        },
        {
         "name": "tokenName",
         "dtype": "object"
        },
        {
         "name": "tokenSymbol",
         "dtype": "object"
        },
        {
         "name": "tokenDecimal",
         "dtype": "float64"
        },
        {
         "name": "_deepnote_index_column",
         "dtype": "int64"
        }
       ],
       "rows_top": [
        {
         "blockNumber": 9272432,
         "timeStamp": 1578915412,
         "hash": "0x9e49c1e0631b685ae2a2cbd1dc32e1e521729f92e661ac577e408f851c97d55e",
         "nonce": 153,
         "blockHash": "0x17f36b1282af804873b6fabcde9e1f221f4877403905cce3ab84d50c38e782c1",
         "transactionIndex": 83,
         "from": "0x00158a74921620b39e5c3afe4dca79feb2c2c143",
         "to": "0x322d58b9e75a6918f7e7849aee0ff09369977e08",
         "value": "4000000000000000000",
         "gas": 100000,
         "gasPrice": 2500000000,
         "isError": "nan",
         "txreceipt_status": "nan",
         "input": "deprecated",
         "contractAddress": "0x6b175474e89094c44da98b954eedeac495271d0f",
         "cumulativeGasUsed": 7217413,
         "gasUsed": 46008,
         "confirmations": 4308028,
         "tokenName": "Dai Stablecoin",
         "tokenSymbol": "DAI",
         "tokenDecimal": 18,
         "_deepnote_index_column": 4
        },
        {
         "blockNumber": 9243147,
         "timeStamp": 1578528442,
         "hash": "0x70518de1df557d61d92d3b7c1d5394fd264c634f54b4a83b03d87aaa4a63db3e",
         "nonce": 215,
         "blockHash": "0xfc648bcb632d8f93255849f86be531415f25a6653fd90544d0421473d2db915d",
         "transactionIndex": 30,
         "from": "0x002781a27becd321d831d815e3fa386944b329c8",
         "to": "0xbd9cdcb6688b057080b1767261c5dc17a5804e82",
         "value": "23750000000000000000",
         "gas": 100000,
         "gasPrice": 2000000000,
         "isError": "nan",
         "txreceipt_status": "nan",
         "input": "deprecated",
         "contractAddress": "0x6b175474e89094c44da98b954eedeac495271d0f",
         "cumulativeGasUsed": 2992428,
         "gasUsed": 50292,
         "confirmations": 4337313,
         "tokenName": "Dai Stablecoin",
         "tokenSymbol": "DAI",
         "tokenDecimal": 18,
         "_deepnote_index_column": 52
        },
        {
         "blockNumber": 9244705,
         "timeStamp": 1578548918,
         "hash": "0x42da33a736c7a5ddda8df2489492608d1571400106f317a9fac9ecf8b61acf07",
         "nonce": 222,
         "blockHash": "0x742ce596b4ddfbb3902a3a46949bf671c69b5331776247674f40345b75f95893",
         "transactionIndex": 92,
         "from": "0x002781a27becd321d831d815e3fa386944b329c8",
         "to": "0xdd4c48c0b24039969fc16d1cdf626eab821d3384",
         "value": "2850000000000000000",
         "gas": 100000,
         "gasPrice": 1200000000,
         "isError": "nan",
         "txreceipt_status": "nan",
         "input": "deprecated",
         "contractAddress": "0x6b175474e89094c44da98b954eedeac495271d0f",
         "cumulativeGasUsed": 4726093,
         "gasUsed": 50280,
         "confirmations": 4335755,
         "tokenName": "Dai Stablecoin",
         "tokenSymbol": "DAI",
         "tokenDecimal": 18,
         "_deepnote_index_column": 58
        },
        {
         "blockNumber": 9244708,
         "timeStamp": 1578548950,
         "hash": "0x34b5f6ef6307e1ca335f598803270d0dc3bc9ec7247839c2e7d3a7b8214f310c",
         "nonce": 224,
         "blockHash": "0x9269af71d0864366edc51980faec2731b566a876c9eb7cb57b7b374f204cabc3",
         "transactionIndex": 134,
         "from": "0x002781a27becd321d831d815e3fa386944b329c8",
         "to": "0x9b984d5a03980d8dc0a24506c968465424c81dbe",
         "value": "2000000000000000000",
         "gas": 100000,
         "gasPrice": 1500000000,
         "isError": "nan",
         "txreceipt_status": "nan",
         "input": "deprecated",
         "contractAddress": "0x6b175474e89094c44da98b954eedeac495271d0f",
         "cumulativeGasUsed": 7528199,
         "gasUsed": 50280,
         "confirmations": 4335752,
         "tokenName": "Dai Stablecoin",
         "tokenSymbol": "DAI",
         "tokenDecimal": 18,
         "_deepnote_index_column": 60
        },
        {
         "blockNumber": 9245082,
         "timeStamp": 1578554240,
         "hash": "0xcfa3ef5c22ec155c40cf55cdf80897b50d8b804c2ed36b322918c3e48659b42f",
         "nonce": 226,
         "blockHash": "0x6edcaea6f1c825f842ed32b57d609fee087f1c2702177f144f4e1737b8941ce1",
         "transactionIndex": 20,
         "from": "0x002781a27becd321d831d815e3fa386944b329c8",
         "to": "0x11e4857bb9993a50c685a79afad4e6f65d518dda",
         "value": "2000000000000000000",
         "gas": 100000,
         "gasPrice": 5500000000,
         "isError": "nan",
         "txreceipt_status": "nan",
         "input": "deprecated",
         "contractAddress": "0x6b175474e89094c44da98b954eedeac495271d0f",
         "cumulativeGasUsed": 6928129,
         "gasUsed": 50280,
         "confirmations": 4335378,
         "tokenName": "Dai Stablecoin",
         "tokenSymbol": "DAI",
         "tokenDecimal": 18,
         "_deepnote_index_column": 62
        },
        {
         "blockNumber": 9249749,
         "timeStamp": 1578615824,
         "hash": "0xaeb3930bdf4bd7f1676be84ea84225f1ee97817c28a04d18e8d7a63a003295e3",
         "nonce": 230,
         "blockHash": "0xcb747ac56366c383dcfe328dab00bc52f1adfdffcf9f2f0562cd59ad1e7a718d",
         "transactionIndex": 82,
         "from": "0x002781a27becd321d831d815e3fa386944b329c8",
         "to": "0xbbd13ca6aace2a8eccbde88bc7849c3c6e4e172e",
         "value": "950000000000000000",
         "gas": 100000,
         "gasPrice": 1000000000,
         "isError": "nan",
         "txreceipt_status": "nan",
         "input": "deprecated",
         "contractAddress": "0x6b175474e89094c44da98b954eedeac495271d0f",
         "cumulativeGasUsed": 5135121,
         "gasUsed": 50268,
         "confirmations": 4330711,
         "tokenName": "Dai Stablecoin",
         "tokenSymbol": "DAI",
         "tokenDecimal": 18,
         "_deepnote_index_column": 65
        },
        {
         "blockNumber": 9256361,
         "timeStamp": 1578702744,
         "hash": "0x175922f4b95402826661f206869c5b91ad920744e88eea372ecad3f323679af0",
         "nonce": 232,
         "blockHash": "0x12b4db27b4a03fe920332acc84d6ee46919c85c6b87bab40b5690fb7084bcf26",
         "transactionIndex": 74,
         "from": "0x002781a27becd321d831d815e3fa386944b329c8",
         "to": "0xf8049c8425f9eab4e2ae9e1d950f9d3f71481882",
         "value": "950000000000000000",
         "gas": 100000,
         "gasPrice": 1000000000,
         "isError": "nan",
         "txreceipt_status": "nan",
         "input": "deprecated",
         "contractAddress": "0x6b175474e89094c44da98b954eedeac495271d0f",
         "cumulativeGasUsed": 5525140,
         "gasUsed": 65268,
         "confirmations": 4324099,
         "tokenName": "Dai Stablecoin",
         "tokenSymbol": "DAI",
         "tokenDecimal": 18,
         "_deepnote_index_column": 67
        },
        {
         "blockNumber": 9269324,
         "timeStamp": 1578874630,
         "hash": "0x5214f45afaaf32de83d54999dc39782e99b9f63ee1394f9ff81a14739b61c8eb",
         "nonce": 235,
         "blockHash": "0xbfaaf349dbc1d31c0b8737e3aa5a338a89015b44a67a5d76b7e4702ad551e445",
         "transactionIndex": 19,
         "from": "0x002781a27becd321d831d815e3fa386944b329c8",
         "to": "0xd3e9d60e4e4de615124d5239219f32946d10151d",
         "value": "1896200000000000000",
         "gas": 100000,
         "gasPrice": 1000000000,
         "isError": "nan",
         "txreceipt_status": "nan",
         "input": "deprecated",
         "contractAddress": "0x6b175474e89094c44da98b954eedeac495271d0f",
         "cumulativeGasUsed": 1364518,
         "gasUsed": 50304,
         "confirmations": 4311136,
         "tokenName": "Dai Stablecoin",
         "tokenSymbol": "DAI",
         "tokenDecimal": 18,
         "_deepnote_index_column": 69
        },
        {
         "blockNumber": 9275386,
         "timeStamp": 1578954986,
         "hash": "0x8978f2bceedf7b552fed5d52ad41eee40e57e530bf97238c6b7fe20c893c78a0",
         "nonce": 238,
         "blockHash": "0x508034eebaf84ff5ab288d82c95104875b35ebb4ed6b6640c588f4cc391e739e",
         "transactionIndex": 49,
         "from": "0x002781a27becd321d831d815e3fa386944b329c8",
         "to": "0x0efe994201e2b0136dd40d5033b5f437e4c5f958",
         "value": "950000000000000000",
         "gas": 100000,
         "gasPrice": 1000000000,
         "isError": "nan",
         "txreceipt_status": "nan",
         "input": "deprecated",
         "contractAddress": "0x6b175474e89094c44da98b954eedeac495271d0f",
         "cumulativeGasUsed": 6399686,
         "gasUsed": 50268,
         "confirmations": 4305074,
         "tokenName": "Dai Stablecoin",
         "tokenSymbol": "DAI",
         "tokenDecimal": 18,
         "_deepnote_index_column": 72
        },
        {
         "blockNumber": 9308739,
         "timeStamp": 1579396322,
         "hash": "0xdf9b927b7164431ff2d36ba50a5f824df9ffe9ebe4b83d5543cdd92a94093203",
         "nonce": 245,
         "blockHash": "0x34931b56e8e44474bac671f48fe194878d331b93f507ef1a03572a85e7209e6b",
         "transactionIndex": 158,
         "from": "0x002781a27becd321d831d815e3fa386944b329c8",
         "to": "0x779e782b556e38063e0390cf10a25f63d05cabdc",
         "value": "950000000000000000",
         "gas": 100000,
         "gasPrice": 1000000000,
         "isError": "nan",
         "txreceipt_status": "nan",
         "input": "deprecated",
         "contractAddress": "0x6b175474e89094c44da98b954eedeac495271d0f",
         "cumulativeGasUsed": 9742131,
         "gasUsed": 50268,
         "confirmations": 4271721,
         "tokenName": "Dai Stablecoin",
         "tokenSymbol": "DAI",
         "tokenDecimal": 18,
         "_deepnote_index_column": 79
        },
        {
         "blockNumber": 9297325,
         "timeStamp": 1579245360,
         "hash": "0x9a4b6c59cb7a9b0ad971090a7fd4f18edb2db743a2318905ee7f71c57ff5aa0d",
         "nonce": 2496,
         "blockHash": "0x8098bd5932aa9044ff7641983e48b8e7ba9559c1ff81378b182443d8e7d2baba",
         "transactionIndex": 44,
         "from": "0x00284d2e4b7201f070f7d02bf6c899be33b0aa56",
         "to": "0x27c350caacf45fd935814bdd2a07b2b9bffe9203",
         "value": "10070000000000000000",
         "gas": 204066,
         "gasPrice": 5000000000,
         "isError": "nan",
         "txreceipt_status": "nan",
         "input": "deprecated",
         "contractAddress": "0x6b175474e89094c44da98b954eedeac495271d0f",
         "cumulativeGasUsed": 3770365,
         "gasUsed": 142255,
         "confirmations": 4283135,
         "tokenName": "Dai Stablecoin",
         "tokenSymbol": "DAI",
         "tokenDecimal": 18,
         "_deepnote_index_column": 90
        },
        {
         "blockNumber": 9250105,
         "timeStamp": 1578620803,
         "hash": "0x60b7b326cb77f83f3dfffa099bb95aefd29075b283ee84d08498172a8deb69ac",
         "nonce": 815,
         "blockHash": "0x94a17ffcf1cee0dd07dc1e803a1906d6c16e53d38f56d72507ba4e0138cb900a",
         "transactionIndex": 52,
         "from": "0x0039f22efb07a647557c7c5d17854cfd6d489ef3",
         "to": "0xdf6c53df56f3992fc44195518a2d8b16306af9ff",
         "value": "47500000000000000000",
         "gas": 100000,
         "gasPrice": 3060000000,
         "isError": "nan",
         "txreceipt_status": "nan",
         "input": "deprecated",
         "contractAddress": "0x6b175474e89094c44da98b954eedeac495271d0f",
         "cumulativeGasUsed": 5865014,
         "gasUsed": 50292,
         "confirmations": 4330355,
         "tokenName": "Dai Stablecoin",
         "tokenSymbol": "DAI",
         "tokenDecimal": 18,
         "_deepnote_index_column": 105
        },
        {
         "blockNumber": 9250122,
         "timeStamp": 1578621042,
         "hash": "0xf7acab49c2e3c67942b271cbafd6417e160cb50ec74d98fb3ae35edec62f53e7",
         "nonce": 817,
         "blockHash": "0xa86a5fe1ec667c2cb7622d10a073c2524674395fd033c6ab22ed61f7ace52fef",
         "transactionIndex": 124,
         "from": "0x0039f22efb07a647557c7c5d17854cfd6d489ef3",
         "to": "0x4d37f28d2db99e8d35a6c725a5f1749a085850a3",
         "value": "124875000000000000000",
         "gas": 100000,
         "gasPrice": 1000000000,
         "isError": "nan",
         "txreceipt_status": "nan",
         "input": "deprecated",
         "contractAddress": "0x6b175474e89094c44da98b954eedeac495271d0f",
         "cumulativeGasUsed": 8377601,
         "gasUsed": 50316,
         "confirmations": 4330338,
         "tokenName": "Dai Stablecoin",
         "tokenSymbol": "DAI",
         "tokenDecimal": 18,
         "_deepnote_index_column": 107
        },
        {
         "blockNumber": 9250130,
         "timeStamp": 1578621155,
         "hash": "0x38a505928173168fac97b5e7852abe1f7b6ca1b37dccc0c58c58b9879671de41",
         "nonce": 819,
         "blockHash": "0xaf615487821a515d1b28b39d27d3f9ffa373394033a1644be5c93d3ba8cd19bc",
         "transactionIndex": 79,
         "from": "0x0039f22efb07a647557c7c5d17854cfd6d489ef3",
         "to": "0xdf6c53df56f3992fc44195518a2d8b16306af9ff",
         "value": "50000000000000000000",
         "gas": 100000,
         "gasPrice": 3000000000,
         "isError": "nan",
         "txreceipt_status": "nan",
         "input": "deprecated",
         "contractAddress": "0x6b175474e89094c44da98b954eedeac495271d0f",
         "cumulativeGasUsed": 3086847,
         "gasUsed": 46020,
         "confirmations": 4330330,
         "tokenName": "Dai Stablecoin",
         "tokenSymbol": "DAI",
         "tokenDecimal": 18,
         "_deepnote_index_column": 109
        },
        {
         "blockNumber": 9250190,
         "timeStamp": 1578621840,
         "hash": "0xa107e0bd6b4aa43be3ad1dbaf1d3c4fb24958686d5ae315cb6674e079a1aefe0",
         "nonce": 821,
         "blockHash": "0xf5e2b3c70d162819649fc0100f758296e1bb89852ab294368935b9278aafbb0d",
         "transactionIndex": 98,
         "from": "0x0039f22efb07a647557c7c5d17854cfd6d489ef3",
         "to": "0xbd9cdcb6688b057080b1767261c5dc17a5804e82",
         "value": "4000000000000000000",
         "gas": 100000,
         "gasPrice": 1000000000,
         "isError": "nan",
         "txreceipt_status": "nan",
         "input": "deprecated",
         "contractAddress": "0x6b175474e89094c44da98b954eedeac495271d0f",
         "cumulativeGasUsed": 7999716,
         "gasUsed": 46008,
         "confirmations": 4330270,
         "tokenName": "Dai Stablecoin",
         "tokenSymbol": "DAI",
         "tokenDecimal": 18,
         "_deepnote_index_column": 111
        },
        {
         "blockNumber": 9285307,
         "timeStamp": 1579086424,
         "hash": "0xc1f72196fede24965605a5ab1ffddcb6ce1e4b1c75768e381c5e0b6abfd56e97",
         "nonce": 198,
         "blockHash": "0x0f968bbb51ebcde58431f06649196c235328abcf25ddee7c85e3364d6ec9b068",
         "transactionIndex": 137,
         "from": "0x003dc32fe920a4aaeed12dc87e145f030aa753f3",
         "to": "0xa0527ba80d811cd45d452481caf902dfd6f5b8c2",
         "value": "9500000000000000000",
         "gas": 100000,
         "gasPrice": 5000000000,
         "isError": "nan",
         "txreceipt_status": "nan",
         "input": "deprecated",
         "contractAddress": "0x6b175474e89094c44da98b954eedeac495271d0f",
         "cumulativeGasUsed": 9174450,
         "gasUsed": 50280,
         "confirmations": 4295154,
         "tokenName": "Dai Stablecoin",
         "tokenSymbol": "DAI",
         "tokenDecimal": 18,
         "_deepnote_index_column": 154
        },
        {
         "blockNumber": 9285307,
         "timeStamp": 1579086424,
         "hash": "0xca120642c9e018dd41718429507cd98f2554f5b7e53cf4d1cec20620bac52470",
         "nonce": 204,
         "blockHash": "0x0f968bbb51ebcde58431f06649196c235328abcf25ddee7c85e3364d6ec9b068",
         "transactionIndex": 143,
         "from": "0x003dc32fe920a4aaeed12dc87e145f030aa753f3",
         "to": "0xd3e9d60e4e4de615124d5239219f32946d10151d",
         "value": "4750000000000000000",
         "gas": 100000,
         "gasPrice": 5000000000,
         "isError": "nan",
         "txreceipt_status": "nan",
         "input": "deprecated",
         "contractAddress": "0x6b175474e89094c44da98b954eedeac495271d0f",
         "cumulativeGasUsed": 9453216,
         "gasUsed": 50280,
         "confirmations": 4295154,
         "tokenName": "Dai Stablecoin",
         "tokenSymbol": "DAI",
         "tokenDecimal": 18,
         "_deepnote_index_column": 160
        },
        {
         "blockNumber": 9285307,
         "timeStamp": 1579086424,
         "hash": "0x3cceecabc0d14e4bcae9472c7b79177f1585efad77308e24d59459e059527fc2",
         "nonce": 206,
         "blockHash": "0x0f968bbb51ebcde58431f06649196c235328abcf25ddee7c85e3364d6ec9b068",
         "transactionIndex": 145,
         "from": "0x003dc32fe920a4aaeed12dc87e145f030aa753f3",
         "to": "0x924b575917f822e32e88b7e7171fe0c00c70f401",
         "value": "4750000000000000000",
         "gas": 100000,
         "gasPrice": 2000000000,
         "isError": "nan",
         "txreceipt_status": "nan",
         "input": "deprecated",
         "contractAddress": "0x6b175474e89094c44da98b954eedeac495271d0f",
         "cumulativeGasUsed": 9562554,
         "gasUsed": 65280,
         "confirmations": 4295154,
         "tokenName": "Dai Stablecoin",
         "tokenSymbol": "DAI",
         "tokenDecimal": 18,
         "_deepnote_index_column": 162
        },
        {
         "blockNumber": 9285695,
         "timeStamp": 1579091245,
         "hash": "0x9b701502dae9ae1552f3513cd2fca0039d54bc7145d951aca312d20b83a36638",
         "nonce": 210,
         "blockHash": "0xf4b66c05fa47a8867122341bf96f07eff544fe51c300ebae73a86318bfe6a02e",
         "transactionIndex": 83,
         "from": "0x003dc32fe920a4aaeed12dc87e145f030aa753f3",
         "to": "0x8688a84fcfd84d8f78020d0fc0b35987cc58911f",
         "value": "4750000000000000000",
         "gas": 100000,
         "gasPrice": 1000000000,
         "isError": "nan",
         "txreceipt_status": "nan",
         "input": "deprecated",
         "contractAddress": "0x6b175474e89094c44da98b954eedeac495271d0f",
         "cumulativeGasUsed": 4323704,
         "gasUsed": 50280,
         "confirmations": 4294766,
         "tokenName": "Dai Stablecoin",
         "tokenSymbol": "DAI",
         "tokenDecimal": 18,
         "_deepnote_index_column": 165
        },
        {
         "blockNumber": 9228888,
         "timeStamp": 1578339777,
         "hash": "0x8e5410fcf18423d384a80f740b34a5ea5785127cd5d26b49bea417ba13abffc2",
         "nonce": 13,
         "blockHash": "0x1ac23fbc2e661557c1aead0baf2ead227c02f0095e002feb569c1eadf90c517a",
         "transactionIndex": 52,
         "from": "0x005700575b1b3f6d146fb4391d5cc5fc4fa63ed4",
         "to": "0x11e4857bb9993a50c685a79afad4e6f65d518dda",
         "value": "5000000000000000000",
         "gas": 100000,
         "gasPrice": 1000000000,
         "isError": "nan",
         "txreceipt_status": "nan",
         "input": "deprecated",
         "contractAddress": "0x6b175474e89094c44da98b954eedeac495271d0f",
         "cumulativeGasUsed": 2752953,
         "gasUsed": 50280,
         "confirmations": 4351573,
         "tokenName": "Dai Stablecoin",
         "tokenSymbol": "DAI",
         "tokenDecimal": 18,
         "_deepnote_index_column": 210
        },
        {
         "blockNumber": 9228900,
         "timeStamp": 1578339937,
         "hash": "0xdf2ce7a4d70ea2ea1cbe4e59d52005c03b04e2c93cedb0c915ef3e8ea1be775e",
         "nonce": 15,
         "blockHash": "0x438e16622d0351b3b3d1078dae9b84eead8e9b51647a9124a30646461a0769b6",
         "transactionIndex": 29,
         "from": "0x005700575b1b3f6d146fb4391d5cc5fc4fa63ed4",
         "to": "0xa19fcdad77c1f0fd184689aca88babcf68010347",
         "value": "5000000000000000000",
         "gas": 100000,
         "gasPrice": 5000000000,
         "isError": "nan",
         "txreceipt_status": "nan",
         "input": "deprecated",
         "contractAddress": "0x6b175474e89094c44da98b954eedeac495271d0f",
         "cumulativeGasUsed": 3013342,
         "gasUsed": 50280,
         "confirmations": 4351561,
         "tokenName": "Dai Stablecoin",
         "tokenSymbol": "DAI",
         "tokenDecimal": 18,
         "_deepnote_index_column": 212
        },
        {
         "blockNumber": 9229019,
         "timeStamp": 1578341446,
         "hash": "0x666054746124d198d9a29135f0dd63b7cfe724c84675d0f2756068a2a78fd40f",
         "nonce": 17,
         "blockHash": "0x110e36ce2fb3a14fe9d1bb1be075a23b45ea8ac40260e3afa44aea883db4df1b",
         "transactionIndex": 64,
         "from": "0x005700575b1b3f6d146fb4391d5cc5fc4fa63ed4",
         "to": "0xbbbfc46566e5f0302cef913af8c8f423070ce6a1",
         "value": "4750000000000000000",
         "gas": 100000,
         "gasPrice": 1000000000,
         "isError": "nan",
         "txreceipt_status": "nan",
         "input": "deprecated",
         "contractAddress": "0x6b175474e89094c44da98b954eedeac495271d0f",
         "cumulativeGasUsed": 4163519,
         "gasUsed": 50280,
         "confirmations": 4351442,
         "tokenName": "Dai Stablecoin",
         "tokenSymbol": "DAI",
         "tokenDecimal": 18,
         "_deepnote_index_column": 214
        }
       ],
       "rows_bottom": [
        {
         "blockNumber": 9248833,
         "timeStamp": 1578603786,
         "hash": "0x6ee46a07d7e71ca91f9a37859915dc58df21f1bca2a51ebf79452def83e39ef9",
         "nonce": 143,
         "blockHash": "0x707f203c1faeb95f0578e0ccf14cd1408d548c8d11c66ed4cded438eb8323000",
         "transactionIndex": 143,
         "from": "0xffb3bd8b5365758350008118961254c5ecd1f80a",
         "to": "0x9531c059098e3d194ff87febb587ab07b30b1306",
         "value": "1000000000000000000",
         "gas": 100000,
         "gasPrice": 1000000000,
         "isError": "nan",
         "txreceipt_status": "nan",
         "input": "deprecated",
         "contractAddress": "0x6b175474e89094c44da98b954eedeac495271d0f",
         "cumulativeGasUsed": 7036126,
         "gasUsed": 46008,
         "confirmations": 4331716,
         "tokenName": "Dai Stablecoin",
         "tokenSymbol": "DAI",
         "tokenDecimal": 18,
         "_deepnote_index_column": 74910
        },
        {
         "blockNumber": 9248871,
         "timeStamp": 1578604356,
         "hash": "0x7e933159bd5b2c8c5e784e11ed330f91116517ec881effb4ce2a6fb33e1a7da3",
         "nonce": 149,
         "blockHash": "0xf3f525a27cfd067b521cd3eb6e03e7f12b12da1fb26bb732a620b223043f56ba",
         "transactionIndex": 89,
         "from": "0xffb3bd8b5365758350008118961254c5ecd1f80a",
         "to": "0xc9a872868afa68ba937f65a1c5b4b252dab15d85",
         "value": "1000000000000000000",
         "gas": 100000,
         "gasPrice": 1200000000,
         "isError": "nan",
         "txreceipt_status": "nan",
         "input": "deprecated",
         "contractAddress": "0x6b175474e89094c44da98b954eedeac495271d0f",
         "cumulativeGasUsed": 5496387,
         "gasUsed": 46008,
         "confirmations": 4331678,
         "tokenName": "Dai Stablecoin",
         "tokenSymbol": "DAI",
         "tokenDecimal": 18,
         "_deepnote_index_column": 74916
        },
        {
         "blockNumber": 9248876,
         "timeStamp": 1578604496,
         "hash": "0xe4945d75ad7ac8a07e8ee1f16d46428adc9d73c7d4301985fc94b54a5547a4f5",
         "nonce": 151,
         "blockHash": "0x675f9a95d64964f40d494c9ed59f5b85b7056a7babb532be1c9e7d87bcf93ce5",
         "transactionIndex": 91,
         "from": "0xffb3bd8b5365758350008118961254c5ecd1f80a",
         "to": "0x9b984d5a03980d8dc0a24506c968465424c81dbe",
         "value": "1000000000000000000",
         "gas": 100000,
         "gasPrice": 1000000000,
         "isError": "nan",
         "txreceipt_status": "nan",
         "input": "deprecated",
         "contractAddress": "0x6b175474e89094c44da98b954eedeac495271d0f",
         "cumulativeGasUsed": 5282800,
         "gasUsed": 46008,
         "confirmations": 4331673,
         "tokenName": "Dai Stablecoin",
         "tokenSymbol": "DAI",
         "tokenDecimal": 18,
         "_deepnote_index_column": 74918
        },
        {
         "blockNumber": 9248891,
         "timeStamp": 1578604659,
         "hash": "0x4c84d4b1acf75a0467b310d4c3debf99895a415f86a01e15bcd2ab57ca07e2dd",
         "nonce": 153,
         "blockHash": "0x490d321b4464f08f2275b502792672890a7f3daa73c14f5b752623e61599a3f8",
         "transactionIndex": 55,
         "from": "0xffb3bd8b5365758350008118961254c5ecd1f80a",
         "to": "0xbbd13ca6aace2a8eccbde88bc7849c3c6e4e172e",
         "value": "1000000000000000000",
         "gas": 100000,
         "gasPrice": 1000000000,
         "isError": "nan",
         "txreceipt_status": "nan",
         "input": "deprecated",
         "contractAddress": "0x6b175474e89094c44da98b954eedeac495271d0f",
         "cumulativeGasUsed": 3376623,
         "gasUsed": 46008,
         "confirmations": 4331658,
         "tokenName": "Dai Stablecoin",
         "tokenSymbol": "DAI",
         "tokenDecimal": 18,
         "_deepnote_index_column": 74920
        },
        {
         "blockNumber": 9248924,
         "timeStamp": 1578605044,
         "hash": "0x27c8eeab915d129a9b4fbdec4429579e7b57b8204b7fffd12334ffd08ed9c217",
         "nonce": 155,
         "blockHash": "0x594d3a8e6ffabd511b2647d5d5475134f872a802e7486de6413677a6345cf6f9",
         "transactionIndex": 99,
         "from": "0xffb3bd8b5365758350008118961254c5ecd1f80a",
         "to": "0x11e4857bb9993a50c685a79afad4e6f65d518dda",
         "value": "1000000000000000000",
         "gas": 100000,
         "gasPrice": 1000000000,
         "isError": "nan",
         "txreceipt_status": "nan",
         "input": "deprecated",
         "contractAddress": "0x6b175474e89094c44da98b954eedeac495271d0f",
         "cumulativeGasUsed": 7366337,
         "gasUsed": 46008,
         "confirmations": 4331625,
         "tokenName": "Dai Stablecoin",
         "tokenSymbol": "DAI",
         "tokenDecimal": 18,
         "_deepnote_index_column": 74922
        },
        {
         "blockNumber": 9248930,
         "timeStamp": 1578605139,
         "hash": "0x6cc333732e2992f152d0d8b45d619b578618e5df07b379d8c082538fcda23e23",
         "nonce": 157,
         "blockHash": "0x58c14b05d51650e22dd16278846de566c1909802d3a5872b63cc5de96eaf69db",
         "transactionIndex": 92,
         "from": "0xffb3bd8b5365758350008118961254c5ecd1f80a",
         "to": "0x91bd7429bfb4731d13e2a431dd729f49b5760b03",
         "value": "1000000000000000000",
         "gas": 100000,
         "gasPrice": 1000000000,
         "isError": "nan",
         "txreceipt_status": "nan",
         "input": "deprecated",
         "contractAddress": "0x6b175474e89094c44da98b954eedeac495271d0f",
         "cumulativeGasUsed": 9173503,
         "gasUsed": 46008,
         "confirmations": 4331619,
         "tokenName": "Dai Stablecoin",
         "tokenSymbol": "DAI",
         "tokenDecimal": 18,
         "_deepnote_index_column": 74924
        },
        {
         "blockNumber": 9248951,
         "timeStamp": 1578605440,
         "hash": "0x13ceeea221f3cf64c35900f33e2df240c054d762deff88d148b1d7a7db75726c",
         "nonce": 161,
         "blockHash": "0x4a93e02e2e2782b0e9abed7c6d0a5b6d173955ee40ec62b965e054d11a114f00",
         "transactionIndex": 50,
         "from": "0xffb3bd8b5365758350008118961254c5ecd1f80a",
         "to": "0x7056e70a5ca249ba88e9550eb22caec4c985bb8e",
         "value": "1000000000000000000",
         "gas": 100000,
         "gasPrice": 1000000000,
         "isError": "nan",
         "txreceipt_status": "nan",
         "input": "deprecated",
         "contractAddress": "0x6b175474e89094c44da98b954eedeac495271d0f",
         "cumulativeGasUsed": 6761016,
         "gasUsed": 46008,
         "confirmations": 4331598,
         "tokenName": "Dai Stablecoin",
         "tokenSymbol": "DAI",
         "tokenDecimal": 18,
         "_deepnote_index_column": 74928
        },
        {
         "blockNumber": 9311886,
         "timeStamp": 1579438436,
         "hash": "0xc71ffa12e0a36dea7940c1b6c108f04f404dfd7d7079bc2abe79439a74dbfa78",
         "nonce": 177,
         "blockHash": "0xffce4f566e24da50ba65426ec2b15fb9c0469bcefedd174548804ecd938a0dc4",
         "transactionIndex": 74,
         "from": "0xffb3bd8b5365758350008118961254c5ecd1f80a",
         "to": "0xa7499aa6464c078eeb940da2fc95c6acd010c3cc",
         "value": "20000000000000000000",
         "gas": 100000,
         "gasPrice": 2000000000,
         "isError": "nan",
         "txreceipt_status": "nan",
         "input": "deprecated",
         "contractAddress": "0x6b175474e89094c44da98b954eedeac495271d0f",
         "cumulativeGasUsed": 4507426,
         "gasUsed": 46020,
         "confirmations": 4268663,
         "tokenName": "Dai Stablecoin",
         "tokenSymbol": "DAI",
         "tokenDecimal": 18,
         "_deepnote_index_column": 74948
        },
        {
         "blockNumber": 9318994,
         "timeStamp": 1579531872,
         "hash": "0xbfb6d5dc974fba106ef4f0fd67c658890949ae330059d743e9b464074c627994",
         "nonce": 2555,
         "blockHash": "0x048753fd576e47a929a0bf3b65b2c02d760b7e11b368fc824b5525bfdefa5037",
         "transactionIndex": 89,
         "from": "0xffb3bd8b5365758350008118961254c5ecd1f80a",
         "to": "0x64df823e0f9dbc32fb58d69af32aa5fe3cdd0388",
         "value": "5000000000000000000",
         "gas": 204066,
         "gasPrice": 5000000000,
         "isError": "nan",
         "txreceipt_status": "nan",
         "input": "deprecated",
         "contractAddress": "0x6b175474e89094c44da98b954eedeac495271d0f",
         "cumulativeGasUsed": 7904369,
         "gasUsed": 125049,
         "confirmations": 4261555,
         "tokenName": "Dai Stablecoin",
         "tokenSymbol": "DAI",
         "tokenDecimal": 18,
         "_deepnote_index_column": 74954
        },
        {
         "blockNumber": 9320242,
         "timeStamp": 1579548552,
         "hash": "0xad0ce00c8af7f280c69cc2643b140d11a913aca545ebe3965eb1dc73bcec1f5e",
         "nonce": 183,
         "blockHash": "0x603b715a39fa4f54619dae707f0414cc91249df07be1d11c21ea61dc5b63fb74",
         "transactionIndex": 94,
         "from": "0xffb3bd8b5365758350008118961254c5ecd1f80a",
         "to": "0x133d705a9696882228f6bb7fe008745aef7cdc93",
         "value": "1000000000000000000",
         "gas": 100000,
         "gasPrice": 1000000000,
         "isError": "nan",
         "txreceipt_status": "nan",
         "input": "deprecated",
         "contractAddress": "0x6b175474e89094c44da98b954eedeac495271d0f",
         "cumulativeGasUsed": 5614187,
         "gasUsed": 46008,
         "confirmations": 4260307,
         "tokenName": "Dai Stablecoin",
         "tokenSymbol": "DAI",
         "tokenDecimal": 18,
         "_deepnote_index_column": 74955
        },
        {
         "blockNumber": 9320257,
         "timeStamp": 1579548758,
         "hash": "0xf95494f88e073825a8c8670057ebda91acc8b741673e31e77dad688dc56d861d",
         "nonce": 185,
         "blockHash": "0x4e6c944bd59798ea7ba495185c225b62ab4a3e200a4db57bdd0fd7ea5732a6be",
         "transactionIndex": 49,
         "from": "0xffb3bd8b5365758350008118961254c5ecd1f80a",
         "to": "0xa19fcdad77c1f0fd184689aca88babcf68010347",
         "value": "1000000000000000000",
         "gas": 100000,
         "gasPrice": 1000000000,
         "isError": "nan",
         "txreceipt_status": "nan",
         "input": "deprecated",
         "contractAddress": "0x6b175474e89094c44da98b954eedeac495271d0f",
         "cumulativeGasUsed": 6309959,
         "gasUsed": 46008,
         "confirmations": 4260292,
         "tokenName": "Dai Stablecoin",
         "tokenSymbol": "DAI",
         "tokenDecimal": 18,
         "_deepnote_index_column": 74957
        },
        {
         "blockNumber": 9320272,
         "timeStamp": 1579549024,
         "hash": "0x80d968fa924c9c95d7380fb0476a07fa2d7d9c235ce507f4f268f5798f15438b",
         "nonce": 191,
         "blockHash": "0xea7b1366252a78b0ac565d661c34666770c5bbd2f8dc19cc40db7770ba19cfdf",
         "transactionIndex": 45,
         "from": "0xffb3bd8b5365758350008118961254c5ecd1f80a",
         "to": "0x6b3999bb710e92701421c63ae4952301bef0ec98",
         "value": "1000000000000000000",
         "gas": 100000,
         "gasPrice": 2000000000,
         "isError": "nan",
         "txreceipt_status": "nan",
         "input": "deprecated",
         "contractAddress": "0x6b175474e89094c44da98b954eedeac495271d0f",
         "cumulativeGasUsed": 8076343,
         "gasUsed": 46008,
         "confirmations": 4260277,
         "tokenName": "Dai Stablecoin",
         "tokenSymbol": "DAI",
         "tokenDecimal": 18,
         "_deepnote_index_column": 74961
        },
        {
         "blockNumber": 9320283,
         "timeStamp": 1579549169,
         "hash": "0x06aef06a677d17ab31eb233bd18d882689c79d25ac0ba3872882d88e6db52d28",
         "nonce": 193,
         "blockHash": "0x2e63fc24bebbcc9dca8081065fac69742778697cd60a6bd697b41f1f823613f1",
         "transactionIndex": 42,
         "from": "0xffb3bd8b5365758350008118961254c5ecd1f80a",
         "to": "0x663d3947f03ef5b387992b880ac85940057c13e3",
         "value": "1000000000000000000",
         "gas": 100000,
         "gasPrice": 1500000000,
         "isError": "nan",
         "txreceipt_status": "nan",
         "input": "deprecated",
         "contractAddress": "0x6b175474e89094c44da98b954eedeac495271d0f",
         "cumulativeGasUsed": 8238366,
         "gasUsed": 46008,
         "confirmations": 4260266,
         "tokenName": "Dai Stablecoin",
         "tokenSymbol": "DAI",
         "tokenDecimal": 18,
         "_deepnote_index_column": 74963
        },
        {
         "blockNumber": 9281416,
         "timeStamp": 1579034846,
         "hash": "0x3b141dd91032499c1959f83c0894fbbf53b4eb8dd3a22e035798c6f18bf86aa7",
         "nonce": 417,
         "blockHash": "0x7cec67f767f9b48d87ee492a7816e1e238c0fd486a1f4a99bad8e16c01f68ef7",
         "transactionIndex": 15,
         "from": "0xffd1ac3e8818adcbe5c597ea076e8d3210b45df5",
         "to": "0xe126b3e5d052f1f575828f61feba4f4f2603652a",
         "value": "9500000000000000000",
         "gas": 100000,
         "gasPrice": 1000000000,
         "isError": "nan",
         "txreceipt_status": "nan",
         "input": "deprecated",
         "contractAddress": "0x6b175474e89094c44da98b954eedeac495271d0f",
         "cumulativeGasUsed": 2460937,
         "gasUsed": 50280,
         "confirmations": 4299133,
         "tokenName": "Dai Stablecoin",
         "tokenSymbol": "DAI",
         "tokenDecimal": 18,
         "_deepnote_index_column": 75020
        },
        {
         "blockNumber": 9281450,
         "timeStamp": 1579035301,
         "hash": "0xacd15009067ada70032844db236f4ffc99206e6b5077409a910086391a86265d",
         "nonce": 419,
         "blockHash": "0x5c93afa7412f6694e553135ce44119d0e00747d9477dca12771f9be37dc8336c",
         "transactionIndex": 90,
         "from": "0xffd1ac3e8818adcbe5c597ea076e8d3210b45df5",
         "to": "0x8ba1f109551bd432803012645ac136ddd64dba72",
         "value": "10000000000000000000",
         "gas": 100000,
         "gasPrice": 1000000000,
         "isError": "nan",
         "txreceipt_status": "nan",
         "input": "deprecated",
         "contractAddress": "0x6b175474e89094c44da98b954eedeac495271d0f",
         "cumulativeGasUsed": 6358847,
         "gasUsed": 50280,
         "confirmations": 4299099,
         "tokenName": "Dai Stablecoin",
         "tokenSymbol": "DAI",
         "tokenDecimal": 18,
         "_deepnote_index_column": 75022
        },
        {
         "blockNumber": 9281522,
         "timeStamp": 1579036329,
         "hash": "0xf478e53176ea5debf7dd20b0424b955f2069fe490c4392d9b5e25843c169286e",
         "nonce": 421,
         "blockHash": "0x7c600d3e3ed552554e242e29f5afc6b80cddc6d9a9c96c44b02c6f2f475e4a18",
         "transactionIndex": 73,
         "from": "0xffd1ac3e8818adcbe5c597ea076e8d3210b45df5",
         "to": "0xd25185f8c3b9e38c3f014378ce58b362db568352",
         "value": "9500000000000000000",
         "gas": 100000,
         "gasPrice": 5000000000,
         "isError": "nan",
         "txreceipt_status": "nan",
         "input": "deprecated",
         "contractAddress": "0x6b175474e89094c44da98b954eedeac495271d0f",
         "cumulativeGasUsed": 8273050,
         "gasUsed": 50280,
         "confirmations": 4299027,
         "tokenName": "Dai Stablecoin",
         "tokenSymbol": "DAI",
         "tokenDecimal": 18,
         "_deepnote_index_column": 75024
        },
        {
         "blockNumber": 9281536,
         "timeStamp": 1579036557,
         "hash": "0xfecadf9016af7e2b14b21df013b3f9d1ddd81b3a98ab660f79febf723c9ceb5b",
         "nonce": 423,
         "blockHash": "0xc1a14cf47a8c29874f05472b184f187ae01fb7f0e72f37b827b6a6281d9c4aaa",
         "transactionIndex": 45,
         "from": "0xffd1ac3e8818adcbe5c597ea076e8d3210b45df5",
         "to": "0x865c2f85c9fea1c6ac7f53de07554d68cb92ed88",
         "value": "9500000000000000000",
         "gas": 100000,
         "gasPrice": 1000000000,
         "isError": "nan",
         "txreceipt_status": "nan",
         "input": "deprecated",
         "contractAddress": "0x6b175474e89094c44da98b954eedeac495271d0f",
         "cumulativeGasUsed": 8397800,
         "gasUsed": 50280,
         "confirmations": 4299013,
         "tokenName": "Dai Stablecoin",
         "tokenSymbol": "DAI",
         "tokenDecimal": 18,
         "_deepnote_index_column": 75026
        },
        {
         "blockNumber": 9281557,
         "timeStamp": 1579036767,
         "hash": "0xce5d01aadcc2c507b42cf5b247cecd615cbd62c3c3a9c248e0187b46c2b2f7c3",
         "nonce": 425,
         "blockHash": "0x6cf8756c7d2ed26b1ae7419a525c738f497b6138e33afb4d5ccc373b84309446",
         "transactionIndex": 50,
         "from": "0xffd1ac3e8818adcbe5c597ea076e8d3210b45df5",
         "to": "0xbc11295936aa79d594139de1b2e12629414f3bdb",
         "value": "9500000000000000000",
         "gas": 100000,
         "gasPrice": 1000000000,
         "isError": "nan",
         "txreceipt_status": "nan",
         "input": "deprecated",
         "contractAddress": "0x6b175474e89094c44da98b954eedeac495271d0f",
         "cumulativeGasUsed": 5801269,
         "gasUsed": 50280,
         "confirmations": 4298992,
         "tokenName": "Dai Stablecoin",
         "tokenSymbol": "DAI",
         "tokenDecimal": 18,
         "_deepnote_index_column": 75028
        },
        {
         "blockNumber": 9281595,
         "timeStamp": 1579037308,
         "hash": "0x85b90d8583c19423acf8b1ee7ba8076b074929ef9ce2446ad4e8e2381cb31bc5",
         "nonce": 431,
         "blockHash": "0x31777d2881f5ddafb21657fcb47cc96c3d861d6c5eb4337e399eed045bc55709",
         "transactionIndex": 64,
         "from": "0xffd1ac3e8818adcbe5c597ea076e8d3210b45df5",
         "to": "0xa19fcdad77c1f0fd184689aca88babcf68010347",
         "value": "10000000000000000000",
         "gas": 100000,
         "gasPrice": 1000000000,
         "isError": "nan",
         "txreceipt_status": "nan",
         "input": "deprecated",
         "contractAddress": "0x6b175474e89094c44da98b954eedeac495271d0f",
         "cumulativeGasUsed": 6258007,
         "gasUsed": 50280,
         "confirmations": 4298954,
         "tokenName": "Dai Stablecoin",
         "tokenSymbol": "DAI",
         "tokenDecimal": 18,
         "_deepnote_index_column": 75034
        },
        {
         "blockNumber": 9281611,
         "timeStamp": 1579037479,
         "hash": "0x1beae78b1a1892ba32e3b3d02d99e7e0579d5c1dee5c651908a65bea0bc457a4",
         "nonce": 433,
         "blockHash": "0x8678df3a27be6118bfc9666a672fc3b801ede9918bd4ccea81e58e4f14f1f243",
         "transactionIndex": 123,
         "from": "0xffd1ac3e8818adcbe5c597ea076e8d3210b45df5",
         "to": "0x865c2f85c9fea1c6ac7f53de07554d68cb92ed88",
         "value": "9500000000000000000",
         "gas": 100000,
         "gasPrice": 1000000000,
         "isError": "nan",
         "txreceipt_status": "nan",
         "input": "deprecated",
         "contractAddress": "0x6b175474e89094c44da98b954eedeac495271d0f",
         "cumulativeGasUsed": 7563655,
         "gasUsed": 50280,
         "confirmations": 4298938,
         "tokenName": "Dai Stablecoin",
         "tokenSymbol": "DAI",
         "tokenDecimal": 18,
         "_deepnote_index_column": 75036
        },
        {
         "blockNumber": 9281617,
         "timeStamp": 1579037599,
         "hash": "0x8626175fdff14a55cd4a36bdc07bd0d0e5437defd985127ce99e352f1fccf4a2",
         "nonce": 435,
         "blockHash": "0xfccbe781b1c5ed325ae546ed2a9fd7ff8816c73930adc12664c7510de867c7b1",
         "transactionIndex": 71,
         "from": "0xffd1ac3e8818adcbe5c597ea076e8d3210b45df5",
         "to": "0x7d1675dc635959b26f61e03637599c12c7e84fae",
         "value": "9500000000000000000",
         "gas": 100000,
         "gasPrice": 1000000000,
         "isError": "nan",
         "txreceipt_status": "nan",
         "input": "deprecated",
         "contractAddress": "0x6b175474e89094c44da98b954eedeac495271d0f",
         "cumulativeGasUsed": 1875820,
         "gasUsed": 65280,
         "confirmations": 4298932,
         "tokenName": "Dai Stablecoin",
         "tokenSymbol": "DAI",
         "tokenDecimal": 18,
         "_deepnote_index_column": 75038
        },
        {
         "blockNumber": 9291814,
         "timeStamp": 1579172586,
         "hash": "0x777fddf8062c20bf0f71145535017e536a21dcc32d9f5f5e7c0a8e11992b09b7",
         "nonce": 444,
         "blockHash": "0xfa1faf4a75169fbea5e7abd3900c5d83a2364653b52a42637379f040913db1a4",
         "transactionIndex": 161,
         "from": "0xffd1ac3e8818adcbe5c597ea076e8d3210b45df5",
         "to": "0x1591b9056822c273252fcea32963223650db18e1",
         "value": "9500000000000000000",
         "gas": 100000,
         "gasPrice": 1000000000,
         "isError": "nan",
         "txreceipt_status": "nan",
         "input": "deprecated",
         "contractAddress": "0x6b175474e89094c44da98b954eedeac495271d0f",
         "cumulativeGasUsed": 7986910,
         "gasUsed": 50280,
         "confirmations": 4288735,
         "tokenName": "Dai Stablecoin",
         "tokenSymbol": "DAI",
         "tokenDecimal": 18,
         "_deepnote_index_column": 75041
        },
        {
         "blockNumber": 9293004,
         "timeStamp": 1579188653,
         "hash": "0x64f78ac8a090bbdfc42939732bf4242e8410f61da34be4a378ca0e9b2ff0fe11",
         "nonce": 447,
         "blockHash": "0x8bba17f1d8a5e8f025ace690d6e3f6921d98b41c2a4aeb0c6291aa1dc80f083e",
         "transactionIndex": 116,
         "from": "0xffd1ac3e8818adcbe5c597ea076e8d3210b45df5",
         "to": "0xe126b3e5d052f1f575828f61feba4f4f2603652a",
         "value": "500000000000000000000",
         "gas": 100000,
         "gasPrice": 2000000000,
         "isError": "nan",
         "txreceipt_status": "nan",
         "input": "deprecated",
         "contractAddress": "0x6b175474e89094c44da98b954eedeac495271d0f",
         "cumulativeGasUsed": 9139578,
         "gasUsed": 46020,
         "confirmations": 4287545,
         "tokenName": "Dai Stablecoin",
         "tokenSymbol": "DAI",
         "tokenDecimal": 18,
         "_deepnote_index_column": 75044
        }
       ]
      },
      "text/plain": "       blockNumber   timeStamp  \\\n4          9272432  1578915412   \n52         9243147  1578528442   \n58         9244705  1578548918   \n60         9244708  1578548950   \n62         9245082  1578554240   \n...            ...         ...   \n75034      9281595  1579037308   \n75036      9281611  1579037479   \n75038      9281617  1579037599   \n75041      9291814  1579172586   \n75044      9293004  1579188653   \n\n                                                    hash  nonce  \\\n4      0x9e49c1e0631b685ae2a2cbd1dc32e1e521729f92e661...    153   \n52     0x70518de1df557d61d92d3b7c1d5394fd264c634f54b4...    215   \n58     0x42da33a736c7a5ddda8df2489492608d1571400106f3...    222   \n60     0x34b5f6ef6307e1ca335f598803270d0dc3bc9ec72478...    224   \n62     0xcfa3ef5c22ec155c40cf55cdf80897b50d8b804c2ed3...    226   \n...                                                  ...    ...   \n75034  0x85b90d8583c19423acf8b1ee7ba8076b074929ef9ce2...    431   \n75036  0x1beae78b1a1892ba32e3b3d02d99e7e0579d5c1dee5c...    433   \n75038  0x8626175fdff14a55cd4a36bdc07bd0d0e5437defd985...    435   \n75041  0x777fddf8062c20bf0f71145535017e536a21dcc32d9f...    444   \n75044  0x64f78ac8a090bbdfc42939732bf4242e8410f61da34b...    447   \n\n                                               blockHash  transactionIndex  \\\n4      0x17f36b1282af804873b6fabcde9e1f221f4877403905...                83   \n52     0xfc648bcb632d8f93255849f86be531415f25a6653fd9...                30   \n58     0x742ce596b4ddfbb3902a3a46949bf671c69b53317762...                92   \n60     0x9269af71d0864366edc51980faec2731b566a876c9eb...               134   \n62     0x6edcaea6f1c825f842ed32b57d609fee087f1c270217...                20   \n...                                                  ...               ...   \n75034  0x31777d2881f5ddafb21657fcb47cc96c3d861d6c5eb4...                64   \n75036  0x8678df3a27be6118bfc9666a672fc3b801ede9918bd4...               123   \n75038  0xfccbe781b1c5ed325ae546ed2a9fd7ff8816c73930ad...                71   \n75041  0xfa1faf4a75169fbea5e7abd3900c5d83a2364653b52a...               161   \n75044  0x8bba17f1d8a5e8f025ace690d6e3f6921d98b41c2a4a...               116   \n\n                                             from  \\\n4      0x00158a74921620b39e5c3afe4dca79feb2c2c143   \n52     0x002781a27becd321d831d815e3fa386944b329c8   \n58     0x002781a27becd321d831d815e3fa386944b329c8   \n60     0x002781a27becd321d831d815e3fa386944b329c8   \n62     0x002781a27becd321d831d815e3fa386944b329c8   \n...                                           ...   \n75034  0xffd1ac3e8818adcbe5c597ea076e8d3210b45df5   \n75036  0xffd1ac3e8818adcbe5c597ea076e8d3210b45df5   \n75038  0xffd1ac3e8818adcbe5c597ea076e8d3210b45df5   \n75041  0xffd1ac3e8818adcbe5c597ea076e8d3210b45df5   \n75044  0xffd1ac3e8818adcbe5c597ea076e8d3210b45df5   \n\n                                               to                  value  \\\n4      0x322d58b9e75a6918f7e7849aee0ff09369977e08    4000000000000000000   \n52     0xbd9cdcb6688b057080b1767261c5dc17a5804e82   23750000000000000000   \n58     0xdd4c48c0b24039969fc16d1cdf626eab821d3384    2850000000000000000   \n60     0x9b984d5a03980d8dc0a24506c968465424c81dbe    2000000000000000000   \n62     0x11e4857bb9993a50c685a79afad4e6f65d518dda    2000000000000000000   \n...                                           ...                    ...   \n75034  0xa19fcdad77c1f0fd184689aca88babcf68010347   10000000000000000000   \n75036  0x865c2f85c9fea1c6ac7f53de07554d68cb92ed88    9500000000000000000   \n75038  0x7d1675dc635959b26f61e03637599c12c7e84fae    9500000000000000000   \n75041  0x1591b9056822c273252fcea32963223650db18e1    9500000000000000000   \n75044  0xe126b3e5d052f1f575828f61feba4f4f2603652a  500000000000000000000   \n\n          gas  ...  isError  txreceipt_status       input  \\\n4      100000  ...      NaN               NaN  deprecated   \n52     100000  ...      NaN               NaN  deprecated   \n58     100000  ...      NaN               NaN  deprecated   \n60     100000  ...      NaN               NaN  deprecated   \n62     100000  ...      NaN               NaN  deprecated   \n...       ...  ...      ...               ...         ...   \n75034  100000  ...      NaN               NaN  deprecated   \n75036  100000  ...      NaN               NaN  deprecated   \n75038  100000  ...      NaN               NaN  deprecated   \n75041  100000  ...      NaN               NaN  deprecated   \n75044  100000  ...      NaN               NaN  deprecated   \n\n                                  contractAddress cumulativeGasUsed  gasUsed  \\\n4      0x6b175474e89094c44da98b954eedeac495271d0f           7217413    46008   \n52     0x6b175474e89094c44da98b954eedeac495271d0f           2992428    50292   \n58     0x6b175474e89094c44da98b954eedeac495271d0f           4726093    50280   \n60     0x6b175474e89094c44da98b954eedeac495271d0f           7528199    50280   \n62     0x6b175474e89094c44da98b954eedeac495271d0f           6928129    50280   \n...                                           ...               ...      ...   \n75034  0x6b175474e89094c44da98b954eedeac495271d0f           6258007    50280   \n75036  0x6b175474e89094c44da98b954eedeac495271d0f           7563655    50280   \n75038  0x6b175474e89094c44da98b954eedeac495271d0f           1875820    65280   \n75041  0x6b175474e89094c44da98b954eedeac495271d0f           7986910    50280   \n75044  0x6b175474e89094c44da98b954eedeac495271d0f           9139578    46020   \n\n       confirmations       tokenName tokenSymbol tokenDecimal  \n4            4308028  Dai Stablecoin         DAI         18.0  \n52           4337313  Dai Stablecoin         DAI         18.0  \n58           4335755  Dai Stablecoin         DAI         18.0  \n60           4335752  Dai Stablecoin         DAI         18.0  \n62           4335378  Dai Stablecoin         DAI         18.0  \n...              ...             ...         ...          ...  \n75034        4298954  Dai Stablecoin         DAI         18.0  \n75036        4298938  Dai Stablecoin         DAI         18.0  \n75038        4298932  Dai Stablecoin         DAI         18.0  \n75041        4288735  Dai Stablecoin         DAI         18.0  \n75044        4287545  Dai Stablecoin         DAI         18.0  \n\n[6698 rows x 21 columns]",
      "text/html": "<div>\n<style scoped>\n    .dataframe tbody tr th:only-of-type {\n        vertical-align: middle;\n    }\n\n    .dataframe tbody tr th {\n        vertical-align: top;\n    }\n\n    .dataframe thead th {\n        text-align: right;\n    }\n</style>\n<table border=\"1\" class=\"dataframe\">\n  <thead>\n    <tr style=\"text-align: right;\">\n      <th></th>\n      <th>blockNumber</th>\n      <th>timeStamp</th>\n      <th>hash</th>\n      <th>nonce</th>\n      <th>blockHash</th>\n      <th>transactionIndex</th>\n      <th>from</th>\n      <th>to</th>\n      <th>value</th>\n      <th>gas</th>\n      <th>...</th>\n      <th>isError</th>\n      <th>txreceipt_status</th>\n      <th>input</th>\n      <th>contractAddress</th>\n      <th>cumulativeGasUsed</th>\n      <th>gasUsed</th>\n      <th>confirmations</th>\n      <th>tokenName</th>\n      <th>tokenSymbol</th>\n      <th>tokenDecimal</th>\n    </tr>\n  </thead>\n  <tbody>\n    <tr>\n      <th>4</th>\n      <td>9272432</td>\n      <td>1578915412</td>\n      <td>0x9e49c1e0631b685ae2a2cbd1dc32e1e521729f92e661...</td>\n      <td>153</td>\n      <td>0x17f36b1282af804873b6fabcde9e1f221f4877403905...</td>\n      <td>83</td>\n      <td>0x00158a74921620b39e5c3afe4dca79feb2c2c143</td>\n      <td>0x322d58b9e75a6918f7e7849aee0ff09369977e08</td>\n      <td>4000000000000000000</td>\n      <td>100000</td>\n      <td>...</td>\n      <td>NaN</td>\n      <td>NaN</td>\n      <td>deprecated</td>\n      <td>0x6b175474e89094c44da98b954eedeac495271d0f</td>\n      <td>7217413</td>\n      <td>46008</td>\n      <td>4308028</td>\n      <td>Dai Stablecoin</td>\n      <td>DAI</td>\n      <td>18.0</td>\n    </tr>\n    <tr>\n      <th>52</th>\n      <td>9243147</td>\n      <td>1578528442</td>\n      <td>0x70518de1df557d61d92d3b7c1d5394fd264c634f54b4...</td>\n      <td>215</td>\n      <td>0xfc648bcb632d8f93255849f86be531415f25a6653fd9...</td>\n      <td>30</td>\n      <td>0x002781a27becd321d831d815e3fa386944b329c8</td>\n      <td>0xbd9cdcb6688b057080b1767261c5dc17a5804e82</td>\n      <td>23750000000000000000</td>\n      <td>100000</td>\n      <td>...</td>\n      <td>NaN</td>\n      <td>NaN</td>\n      <td>deprecated</td>\n      <td>0x6b175474e89094c44da98b954eedeac495271d0f</td>\n      <td>2992428</td>\n      <td>50292</td>\n      <td>4337313</td>\n      <td>Dai Stablecoin</td>\n      <td>DAI</td>\n      <td>18.0</td>\n    </tr>\n    <tr>\n      <th>58</th>\n      <td>9244705</td>\n      <td>1578548918</td>\n      <td>0x42da33a736c7a5ddda8df2489492608d1571400106f3...</td>\n      <td>222</td>\n      <td>0x742ce596b4ddfbb3902a3a46949bf671c69b53317762...</td>\n      <td>92</td>\n      <td>0x002781a27becd321d831d815e3fa386944b329c8</td>\n      <td>0xdd4c48c0b24039969fc16d1cdf626eab821d3384</td>\n      <td>2850000000000000000</td>\n      <td>100000</td>\n      <td>...</td>\n      <td>NaN</td>\n      <td>NaN</td>\n      <td>deprecated</td>\n      <td>0x6b175474e89094c44da98b954eedeac495271d0f</td>\n      <td>4726093</td>\n      <td>50280</td>\n      <td>4335755</td>\n      <td>Dai Stablecoin</td>\n      <td>DAI</td>\n      <td>18.0</td>\n    </tr>\n    <tr>\n      <th>60</th>\n      <td>9244708</td>\n      <td>1578548950</td>\n      <td>0x34b5f6ef6307e1ca335f598803270d0dc3bc9ec72478...</td>\n      <td>224</td>\n      <td>0x9269af71d0864366edc51980faec2731b566a876c9eb...</td>\n      <td>134</td>\n      <td>0x002781a27becd321d831d815e3fa386944b329c8</td>\n      <td>0x9b984d5a03980d8dc0a24506c968465424c81dbe</td>\n      <td>2000000000000000000</td>\n      <td>100000</td>\n      <td>...</td>\n      <td>NaN</td>\n      <td>NaN</td>\n      <td>deprecated</td>\n      <td>0x6b175474e89094c44da98b954eedeac495271d0f</td>\n      <td>7528199</td>\n      <td>50280</td>\n      <td>4335752</td>\n      <td>Dai Stablecoin</td>\n      <td>DAI</td>\n      <td>18.0</td>\n    </tr>\n    <tr>\n      <th>62</th>\n      <td>9245082</td>\n      <td>1578554240</td>\n      <td>0xcfa3ef5c22ec155c40cf55cdf80897b50d8b804c2ed3...</td>\n      <td>226</td>\n      <td>0x6edcaea6f1c825f842ed32b57d609fee087f1c270217...</td>\n      <td>20</td>\n      <td>0x002781a27becd321d831d815e3fa386944b329c8</td>\n      <td>0x11e4857bb9993a50c685a79afad4e6f65d518dda</td>\n      <td>2000000000000000000</td>\n      <td>100000</td>\n      <td>...</td>\n      <td>NaN</td>\n      <td>NaN</td>\n      <td>deprecated</td>\n      <td>0x6b175474e89094c44da98b954eedeac495271d0f</td>\n      <td>6928129</td>\n      <td>50280</td>\n      <td>4335378</td>\n      <td>Dai Stablecoin</td>\n      <td>DAI</td>\n      <td>18.0</td>\n    </tr>\n    <tr>\n      <th>...</th>\n      <td>...</td>\n      <td>...</td>\n      <td>...</td>\n      <td>...</td>\n      <td>...</td>\n      <td>...</td>\n      <td>...</td>\n      <td>...</td>\n      <td>...</td>\n      <td>...</td>\n      <td>...</td>\n      <td>...</td>\n      <td>...</td>\n      <td>...</td>\n      <td>...</td>\n      <td>...</td>\n      <td>...</td>\n      <td>...</td>\n      <td>...</td>\n      <td>...</td>\n      <td>...</td>\n    </tr>\n    <tr>\n      <th>75034</th>\n      <td>9281595</td>\n      <td>1579037308</td>\n      <td>0x85b90d8583c19423acf8b1ee7ba8076b074929ef9ce2...</td>\n      <td>431</td>\n      <td>0x31777d2881f5ddafb21657fcb47cc96c3d861d6c5eb4...</td>\n      <td>64</td>\n      <td>0xffd1ac3e8818adcbe5c597ea076e8d3210b45df5</td>\n      <td>0xa19fcdad77c1f0fd184689aca88babcf68010347</td>\n      <td>10000000000000000000</td>\n      <td>100000</td>\n      <td>...</td>\n      <td>NaN</td>\n      <td>NaN</td>\n      <td>deprecated</td>\n      <td>0x6b175474e89094c44da98b954eedeac495271d0f</td>\n      <td>6258007</td>\n      <td>50280</td>\n      <td>4298954</td>\n      <td>Dai Stablecoin</td>\n      <td>DAI</td>\n      <td>18.0</td>\n    </tr>\n    <tr>\n      <th>75036</th>\n      <td>9281611</td>\n      <td>1579037479</td>\n      <td>0x1beae78b1a1892ba32e3b3d02d99e7e0579d5c1dee5c...</td>\n      <td>433</td>\n      <td>0x8678df3a27be6118bfc9666a672fc3b801ede9918bd4...</td>\n      <td>123</td>\n      <td>0xffd1ac3e8818adcbe5c597ea076e8d3210b45df5</td>\n      <td>0x865c2f85c9fea1c6ac7f53de07554d68cb92ed88</td>\n      <td>9500000000000000000</td>\n      <td>100000</td>\n      <td>...</td>\n      <td>NaN</td>\n      <td>NaN</td>\n      <td>deprecated</td>\n      <td>0x6b175474e89094c44da98b954eedeac495271d0f</td>\n      <td>7563655</td>\n      <td>50280</td>\n      <td>4298938</td>\n      <td>Dai Stablecoin</td>\n      <td>DAI</td>\n      <td>18.0</td>\n    </tr>\n    <tr>\n      <th>75038</th>\n      <td>9281617</td>\n      <td>1579037599</td>\n      <td>0x8626175fdff14a55cd4a36bdc07bd0d0e5437defd985...</td>\n      <td>435</td>\n      <td>0xfccbe781b1c5ed325ae546ed2a9fd7ff8816c73930ad...</td>\n      <td>71</td>\n      <td>0xffd1ac3e8818adcbe5c597ea076e8d3210b45df5</td>\n      <td>0x7d1675dc635959b26f61e03637599c12c7e84fae</td>\n      <td>9500000000000000000</td>\n      <td>100000</td>\n      <td>...</td>\n      <td>NaN</td>\n      <td>NaN</td>\n      <td>deprecated</td>\n      <td>0x6b175474e89094c44da98b954eedeac495271d0f</td>\n      <td>1875820</td>\n      <td>65280</td>\n      <td>4298932</td>\n      <td>Dai Stablecoin</td>\n      <td>DAI</td>\n      <td>18.0</td>\n    </tr>\n    <tr>\n      <th>75041</th>\n      <td>9291814</td>\n      <td>1579172586</td>\n      <td>0x777fddf8062c20bf0f71145535017e536a21dcc32d9f...</td>\n      <td>444</td>\n      <td>0xfa1faf4a75169fbea5e7abd3900c5d83a2364653b52a...</td>\n      <td>161</td>\n      <td>0xffd1ac3e8818adcbe5c597ea076e8d3210b45df5</td>\n      <td>0x1591b9056822c273252fcea32963223650db18e1</td>\n      <td>9500000000000000000</td>\n      <td>100000</td>\n      <td>...</td>\n      <td>NaN</td>\n      <td>NaN</td>\n      <td>deprecated</td>\n      <td>0x6b175474e89094c44da98b954eedeac495271d0f</td>\n      <td>7986910</td>\n      <td>50280</td>\n      <td>4288735</td>\n      <td>Dai Stablecoin</td>\n      <td>DAI</td>\n      <td>18.0</td>\n    </tr>\n    <tr>\n      <th>75044</th>\n      <td>9293004</td>\n      <td>1579188653</td>\n      <td>0x64f78ac8a090bbdfc42939732bf4242e8410f61da34b...</td>\n      <td>447</td>\n      <td>0x8bba17f1d8a5e8f025ace690d6e3f6921d98b41c2a4a...</td>\n      <td>116</td>\n      <td>0xffd1ac3e8818adcbe5c597ea076e8d3210b45df5</td>\n      <td>0xe126b3e5d052f1f575828f61feba4f4f2603652a</td>\n      <td>500000000000000000000</td>\n      <td>100000</td>\n      <td>...</td>\n      <td>NaN</td>\n      <td>NaN</td>\n      <td>deprecated</td>\n      <td>0x6b175474e89094c44da98b954eedeac495271d0f</td>\n      <td>9139578</td>\n      <td>46020</td>\n      <td>4287545</td>\n      <td>Dai Stablecoin</td>\n      <td>DAI</td>\n      <td>18.0</td>\n    </tr>\n  </tbody>\n</table>\n<p>6698 rows × 21 columns</p>\n</div>"
     },
     "metadata": {}
    }
   ],
   "execution_count": 21
  },
  {
   "cell_type": "markdown",
   "source": "Take a look at the top 10 contributors by # of contributions.",
   "metadata": {
    "tags": [],
    "cell_id": "00018-61f088e0-ea7f-48f5-a7e7-1e6004efbfc1",
    "deepnote_cell_type": "markdown"
   }
  },
  {
   "cell_type": "code",
   "metadata": {
    "tags": [],
    "cell_id": "00011-f4e4cf51-590b-4e82-899c-e1bc88d54a54",
    "deepnote_to_be_reexecuted": false,
    "source_hash": "b893958a",
    "execution_start": 1639541159486,
    "execution_millis": 9,
    "deepnote_output_heights": [
     213.1999969482422
    ],
    "deepnote_cell_type": "code"
   },
   "source": "df_a['from'].value_counts()[:10]",
   "outputs": [
    {
     "output_type": "execute_result",
     "execution_count": 22,
     "data": {
      "text/plain": "0x11111254369792b2ca5d084ab5eea397ca8fa48b    400\n0x2a1530c4c41db0b0b2bb646cb5eb1a67b7158667     67\n0x839395e20bbb182fa440d08f850e6c7a8f6f0780     65\n0xe937e88591f641a689e2132a6f633d7b6b1a54c8     52\n0xa4723a67376abd6ce94f5ea2e4bd37b5c5548804     48\n0xe1a03133136ef1171bcb5fcd006496f22122d824     46\n0xdcbeffbecce100cce9e4b153c4e15cb885643193     42\n0x27445c691625f9b50292050bd36b9d008062991f     40\n0x7901bb5d22b623e18d10e02ca67e4f50d0a49a18     37\n0x0492b9170ec01d91f3aa721ff8ada42dd33fbbb8     36\nName: from, dtype: int64"
     },
     "metadata": {}
    }
   ],
   "execution_count": 22
  },
  {
   "cell_type": "markdown",
   "source": "## Numbers for comparison\nfrom https://gitcoin.co/blog/gitcoin-grants-round-4/\n\n* 143,642 in funds\n* 5936 contributions were made to 230 open source Ethereum projects\n* 1115 unique Ethereum community members",
   "metadata": {
    "tags": [],
    "cell_id": "00017-cb5e4c1d-78b8-48ee-91c7-bd7fc368a1f1",
    "deepnote_cell_type": "markdown"
   }
  },
  {
   "cell_type": "markdown",
   "source": "## Converting USD for Comparison with Blog Post\nJan 20 2020 Eth Value in USD: 166.90\n\nSource: https://finance.yahoo.com/quote/ETH-USD/history?period1=1577923200&period2=1578614400&interval=1d&filter=history&frequency=1d&includeAdjustedClose=true",
   "metadata": {
    "tags": [],
    "cell_id": "00020-bbc7277e-71fa-42bf-89a2-2e827f13c251",
    "deepnote_cell_type": "markdown"
   }
  },
  {
   "cell_type": "code",
   "metadata": {
    "tags": [],
    "cell_id": "00020-46d69f31-78d5-40f3-a7bb-30acb78b5306",
    "deepnote_to_be_reexecuted": false,
    "source_hash": "be3512ee",
    "execution_start": 1639541223541,
    "execution_millis": 10,
    "deepnote_output_heights": [
     232.39999389648438
    ],
    "deepnote_cell_type": "code"
   },
   "source": "df_a.loc[df_a.tokenName == 'ETH', 'value'].astype(float) / 10**18 * 166.90",
   "outputs": [
    {
     "output_type": "execute_result",
     "execution_count": 24,
     "data": {
      "text/plain": "334       66.760000\n343        0.100140\n350        0.041725\n373        0.041725\n387        0.041725\n            ...    \n69278    333.800000\n73945    380.428075\n74175      2.002800\n74366      0.230080\n74367      1.150400\nName: value, Length: 253, dtype: float64"
     },
     "metadata": {}
    }
   ],
   "execution_count": 24
  },
  {
   "cell_type": "code",
   "metadata": {
    "tags": [],
    "cell_id": "00022-45881df7-5760-42f4-8bc1-caf32da1a6e5",
    "deepnote_to_be_reexecuted": false,
    "source_hash": "b93b9725",
    "execution_start": 1639541696296,
    "execution_millis": 0,
    "deepnote_cell_type": "code"
   },
   "source": "def get_eth_to_usd(dt):\n    \"\"\"\n    \n    Get the eth_to_usd ratio for a given datetime.\n    PLACEHOLDER\n    \"\"\"\n    if dt == pd.to_datetime('01-20-2020'):\n        return 166.90\n\ndt = pd.to_datetime('01-20-2020')\n\ndef my_convert(row):\n\n    if row.tokenName == 'ETH':\n        eth_to_usd = get_eth_to_usd(dt)\n        return float(row.value) / (10**18) * eth_to_usd\n    else: # assume it's already pegged to USD\n        return float(row.value) / (10**18)\n",
   "outputs": [],
   "execution_count": 48
  },
  {
   "cell_type": "code",
   "metadata": {
    "tags": [],
    "cell_id": "00023-47c68e28-8ce5-4d84-8d4e-c59f9fc10194",
    "deepnote_to_be_reexecuted": false,
    "source_hash": "647a6c4",
    "execution_start": 1639541697984,
    "execution_millis": 299,
    "deepnote_cell_type": "code"
   },
   "source": "df_a['usd'] = df_a.apply(my_convert, axis=1)",
   "outputs": [],
   "execution_count": 49
  },
  {
   "cell_type": "code",
   "metadata": {
    "tags": [],
    "cell_id": "00030-c8c73232-6041-46e7-9a16-1ee3f54605d6",
    "deepnote_to_be_reexecuted": false,
    "source_hash": "15e0130d",
    "execution_start": 1639541700450,
    "execution_millis": 7,
    "deepnote_output_heights": [
     232.39999389648438
    ],
    "deepnote_cell_type": "code"
   },
   "source": "df_a.usd",
   "outputs": [
    {
     "output_type": "execute_result",
     "execution_count": 50,
     "data": {
      "text/plain": "4          4.00\n52        23.75\n58         2.85\n60         2.00\n62         2.00\n          ...  \n75034     10.00\n75036      9.50\n75038      9.50\n75041      9.50\n75044    500.00\nName: usd, Length: 6698, dtype: float64"
     },
     "metadata": {}
    }
   ],
   "execution_count": 50
  },
  {
   "cell_type": "code",
   "metadata": {
    "tags": [],
    "cell_id": "00035-1ab5826a-bec2-4017-aa04-d1a27c4ab4ce",
    "deepnote_to_be_reexecuted": false,
    "source_hash": "8df75395",
    "execution_start": 1639541702159,
    "execution_millis": 11,
    "deepnote_output_heights": [
     174.8000030517578,
     254
    ],
    "deepnote_cell_type": "code"
   },
   "source": "df_a.usd.describe()",
   "outputs": [
    {
     "output_type": "execute_result",
     "execution_count": 51,
     "data": {
      "text/plain": "count     6698.000000\nmean        65.174762\nstd        924.092308\nmin          0.000000\n25%          1.000000\n50%          4.750000\n75%          9.975000\nmax      43581.931000\nName: usd, dtype: float64"
     },
     "metadata": {}
    }
   ],
   "execution_count": 51
  },
  {
   "cell_type": "code",
   "metadata": {
    "tags": [],
    "cell_id": "00030-b76a4004-9e87-4141-bdb3-6b8bf9bb9d8c",
    "deepnote_to_be_reexecuted": false,
    "source_hash": "14dd1bf7",
    "execution_start": 1639541703131,
    "execution_millis": 6,
    "deepnote_output_heights": [
     21.199996948242188
    ],
    "deepnote_cell_type": "code"
   },
   "source": "df_a.usd.sum()",
   "outputs": [
    {
     "output_type": "execute_result",
     "execution_count": 52,
     "data": {
      "text/plain": "436540.55878770177"
     },
     "metadata": {}
    }
   ],
   "execution_count": 52
  },
  {
   "cell_type": "code",
   "metadata": {
    "tags": [],
    "cell_id": "00029-15ead7fb-5bf9-4528-a670-bc3ff71ae8e4",
    "deepnote_to_be_reexecuted": false,
    "source_hash": "ed03c881",
    "execution_start": 1639541704123,
    "execution_millis": 1,
    "deepnote_cell_type": "code"
   },
   "source": "df_a['to_name'] = df_a['to'].map(address_to_name)",
   "outputs": [],
   "execution_count": 53
  },
  {
   "cell_type": "code",
   "metadata": {
    "tags": [],
    "cell_id": "00030-b556ae68-ca5e-4b2a-8060-b0a3e6faff1d",
    "deepnote_to_be_reexecuted": false,
    "source_hash": "ea9d7ca",
    "execution_start": 1639541705108,
    "execution_millis": 5,
    "deepnote_output_heights": [
     232.39999389648438
    ],
    "deepnote_cell_type": "code"
   },
   "source": "import datetime",
   "outputs": [],
   "execution_count": 54
  },
  {
   "cell_type": "code",
   "metadata": {
    "tags": [],
    "cell_id": "00034-439b3dde-7145-48d0-baad-80d349e7ad86",
    "deepnote_to_be_reexecuted": false,
    "source_hash": "7b70c719",
    "execution_start": 1639541706591,
    "execution_millis": 2,
    "deepnote_cell_type": "code"
   },
   "source": "df_a['dt'] = df_a.timeStamp.apply(datetime.datetime.fromtimestamp)",
   "outputs": [],
   "execution_count": 55
  },
  {
   "cell_type": "code",
   "metadata": {
    "tags": [],
    "cell_id": "00030-35dfc3f3-f235-44a3-a675-ab9682aab972",
    "deepnote_to_be_reexecuted": false,
    "source_hash": "8c8e940b",
    "execution_start": 1639541707920,
    "execution_millis": 26,
    "deepnote_output_heights": [
     null,
     136.39999389648438
    ],
    "deepnote_cell_type": "code"
   },
   "source": "df_a['dt'].describe()",
   "outputs": [
    {
     "name": "stderr",
     "text": "/shared-libs/python3.7/py-core/lib/python3.7/site-packages/ipykernel_launcher.py:1: FutureWarning: Treating datetime data as categorical rather than numeric in `.describe` is deprecated and will be removed in a future version of pandas. Specify `datetime_is_numeric=True` to silence this warning and adopt the future behavior now.\n  \"\"\"Entry point for launching an IPython kernel.\n",
     "output_type": "stream",
     "data": {}
    },
    {
     "output_type": "execute_result",
     "execution_count": 56,
     "data": {
      "text/plain": "count                    6698\nunique                   4133\ntop       2020-01-17 06:59:18\nfreq                       20\nfirst     2020-01-06 00:50:33\nlast      2020-01-20 23:56:53\nName: dt, dtype: object"
     },
     "metadata": {}
    }
   ],
   "execution_count": 56
  },
  {
   "cell_type": "code",
   "metadata": {
    "tags": [],
    "cell_id": "00037-caf33b3b-1e55-43ab-8194-e0b416df23c4",
    "deepnote_to_be_reexecuted": false,
    "source_hash": "1eca43f8",
    "execution_start": 1639541325691,
    "execution_millis": 4,
    "deepnote_cell_type": "code"
   },
   "source": "cols = ['blockNumber', 'from', 'to', 'value', 'tokenName', 'usd', 'to_name', 'dt']\ndf_a[df_a.to_name == 'Trinity - Research for migration of Ethereum 1.x to 2.0'].sort_values('usd')[cols]",
   "outputs": [
    {
     "output_type": "execute_result",
     "execution_count": 40,
     "data": {
      "application/vnd.deepnote.dataframe.v2+json": {
       "row_count": 0,
       "column_count": 8,
       "columns": [
        {
         "name": "blockNumber",
         "dtype": "int64",
         "stats": {
          "unique_count": 0,
          "nan_count": 0,
          "min": null,
          "max": null,
          "histogram": [
           {
            "bin_start": 0,
            "bin_end": 0.1,
            "count": 0
           },
           {
            "bin_start": 0.1,
            "bin_end": 0.2,
            "count": 0
           },
           {
            "bin_start": 0.2,
            "bin_end": 0.30000000000000004,
            "count": 0
           },
           {
            "bin_start": 0.30000000000000004,
            "bin_end": 0.4,
            "count": 0
           },
           {
            "bin_start": 0.4,
            "bin_end": 0.5,
            "count": 0
           },
           {
            "bin_start": 0.5,
            "bin_end": 0.6000000000000001,
            "count": 0
           },
           {
            "bin_start": 0.6000000000000001,
            "bin_end": 0.7000000000000001,
            "count": 0
           },
           {
            "bin_start": 0.7000000000000001,
            "bin_end": 0.8,
            "count": 0
           },
           {
            "bin_start": 0.8,
            "bin_end": 0.9,
            "count": 0
           },
           {
            "bin_start": 0.9,
            "bin_end": 1,
            "count": 0
           }
          ]
         }
        },
        {
         "name": "from",
         "dtype": "object",
         "stats": {
          "unique_count": 0,
          "nan_count": 0,
          "categories": []
         }
        },
        {
         "name": "to",
         "dtype": "object",
         "stats": {
          "unique_count": 0,
          "nan_count": 0,
          "categories": []
         }
        },
        {
         "name": "value",
         "dtype": "object",
         "stats": {
          "unique_count": 0,
          "nan_count": 0,
          "categories": []
         }
        },
        {
         "name": "tokenName",
         "dtype": "object",
         "stats": {
          "unique_count": 0,
          "nan_count": 0,
          "categories": []
         }
        },
        {
         "name": "usd",
         "dtype": "float64",
         "stats": {
          "unique_count": 0,
          "nan_count": 0,
          "min": null,
          "max": null,
          "histogram": [
           {
            "bin_start": 0,
            "bin_end": 0.1,
            "count": 0
           },
           {
            "bin_start": 0.1,
            "bin_end": 0.2,
            "count": 0
           },
           {
            "bin_start": 0.2,
            "bin_end": 0.30000000000000004,
            "count": 0
           },
           {
            "bin_start": 0.30000000000000004,
            "bin_end": 0.4,
            "count": 0
           },
           {
            "bin_start": 0.4,
            "bin_end": 0.5,
            "count": 0
           },
           {
            "bin_start": 0.5,
            "bin_end": 0.6000000000000001,
            "count": 0
           },
           {
            "bin_start": 0.6000000000000001,
            "bin_end": 0.7000000000000001,
            "count": 0
           },
           {
            "bin_start": 0.7000000000000001,
            "bin_end": 0.8,
            "count": 0
           },
           {
            "bin_start": 0.8,
            "bin_end": 0.9,
            "count": 0
           },
           {
            "bin_start": 0.9,
            "bin_end": 1,
            "count": 0
           }
          ]
         }
        },
        {
         "name": "to_name",
         "dtype": "object",
         "stats": {
          "unique_count": 0,
          "nan_count": 0,
          "categories": []
         }
        },
        {
         "name": "dt",
         "dtype": "datetime64[ns]",
         "stats": {
          "unique_count": 0,
          "nan_count": 0,
          "min": null,
          "max": null,
          "histogram": [
           {
            "bin_start": 0,
            "bin_end": 0.1,
            "count": 0
           },
           {
            "bin_start": 0.1,
            "bin_end": 0.2,
            "count": 0
           },
           {
            "bin_start": 0.2,
            "bin_end": 0.30000000000000004,
            "count": 0
           },
           {
            "bin_start": 0.30000000000000004,
            "bin_end": 0.4,
            "count": 0
           },
           {
            "bin_start": 0.4,
            "bin_end": 0.5,
            "count": 0
           },
           {
            "bin_start": 0.5,
            "bin_end": 0.6000000000000001,
            "count": 0
           },
           {
            "bin_start": 0.6000000000000001,
            "bin_end": 0.7000000000000001,
            "count": 0
           },
           {
            "bin_start": 0.7000000000000001,
            "bin_end": 0.8,
            "count": 0
           },
           {
            "bin_start": 0.8,
            "bin_end": 0.9,
            "count": 0
           },
           {
            "bin_start": 0.9,
            "bin_end": 1,
            "count": 0
           }
          ]
         }
        },
        {
         "name": "_deepnote_index_column",
         "dtype": "int64"
        }
       ],
       "rows_top": [],
       "rows_bottom": null
      },
      "text/plain": "Empty DataFrame\nColumns: [blockNumber, from, to, value, tokenName, usd, to_name, dt]\nIndex: []",
      "text/html": "<div>\n<style scoped>\n    .dataframe tbody tr th:only-of-type {\n        vertical-align: middle;\n    }\n\n    .dataframe tbody tr th {\n        vertical-align: top;\n    }\n\n    .dataframe thead th {\n        text-align: right;\n    }\n</style>\n<table border=\"1\" class=\"dataframe\">\n  <thead>\n    <tr style=\"text-align: right;\">\n      <th></th>\n      <th>blockNumber</th>\n      <th>from</th>\n      <th>to</th>\n      <th>value</th>\n      <th>tokenName</th>\n      <th>usd</th>\n      <th>to_name</th>\n      <th>dt</th>\n    </tr>\n  </thead>\n  <tbody>\n  </tbody>\n</table>\n</div>"
     },
     "metadata": {}
    }
   ],
   "execution_count": 40
  },
  {
   "cell_type": "code",
   "metadata": {
    "tags": [],
    "cell_id": "00031-3a7ebc38-b60b-48d1-9d14-75977c6191c2",
    "deepnote_to_be_reexecuted": false,
    "source_hash": "305047bc",
    "execution_start": 1639541728061,
    "execution_millis": 27,
    "deepnote_output_heights": [
     611
    ],
    "deepnote_cell_type": "code"
   },
   "source": "df_a.groupby('to_name').usd.sum().sort_values(ascending=False)[:40]",
   "outputs": [
    {
     "output_type": "execute_result",
     "execution_count": 58,
     "data": {
      "text/plain": "to_name\nTrinity - Ethereum 2.0 client                                  114085.575951\n Ether                                                          76632.329674\nDavid Hoffman, Independent Content Creator                      35594.272030\nAlice                                                           18013.166462\n1inch.exchange on-chain DeFi aggregation protocol               15949.114752\nTurbo-Geth                                                       9769.744504\nWizards of DApps podcast                                         9249.445019\nMarketing DAO                                                    8815.934788\nEtherLoans - undercollateralized loans, unstoppable DeFi         8068.003444\nZapper.fi                                                        7259.101766\nLinkdrop                                                         6392.010389\nTheBlockchainCircle                                              6283.765240\nHistory as a Service / Untrusted DB                              5946.631955\nTrueBlocks                                                       5742.904600\nWeek in Ethereum News                                            5346.836418\nEthereum for Environmental Intelligence 🔗🍃                       5321.255548\nWalletConnect                                                    4997.968600\n@antiprosynth 🦇 antiprosynthesis.eth ⟠ 🔊 Twitter account 🐬       4352.156200\n_Prtcl - Incorporation as a legal DAO                            3990.207273\nTrojan DAO / Inifinite Moloch                                    3987.066621\nrTrees - Defi charity app                                        3614.332229\nDeFi Discussions Conference Support                              3470.242400\nTornado.cash                                                     2844.677308\nTrustless Fund                                                   2810.715964\nThe Daily Gwei by Anthony Sassano (sassal0x)                     2780.223204\nArbitrage DAO                                                    2387.088300\nGallerist by Collectorshub                                       2245.904604\nResearch Grant:  Swarm Scraper for Verified Smart Contracts      2169.000000\nOpen Source Aztec Bridge Contracts                               1936.243916\nFork The World Hackathon                                         1927.495800\nVocdoni - Decentralized anonymous voting                         1810.185793\nTellor                                                           1731.713300\nKnownOrigin.io <> ART DAO                                        1663.198178\nethsear.ch                                                       1656.483900\nDune Analytics                                                   1608.249400\nLivestream NFT Minting (videoDAC)                                1481.440293\nIdeamarket.io                                                    1460.039777\nCuraDAI - A DeFI based stable coin for Curaçao                   1423.373562\nweb3swift - Elegant Web3 functionality in Swift                  1415.109318\nChris Blec                                                       1390.979500\nName: usd, dtype: float64"
     },
     "metadata": {}
    }
   ],
   "execution_count": 58
  },
  {
   "cell_type": "code",
   "metadata": {
    "tags": [],
    "cell_id": "00043-71e01d6f-1a38-4536-9a67-6b7088b87a5a",
    "deepnote_to_be_reexecuted": false,
    "source_hash": "d25ed5b4",
    "execution_start": 1639541765315,
    "execution_millis": 12,
    "deepnote_output_heights": [
     611
    ],
    "deepnote_cell_type": "code"
   },
   "source": "df_a.to_name.unique()",
   "outputs": [
    {
     "output_type": "execute_result",
     "execution_count": 60,
     "data": {
      "text/plain": "array(['DeFi Saver', 'Enzypt.io', 'Tornado.cash',\n       'Prysm by Prysmatic Labs', 'Uniswap',\n       'DeFi Discussions Conference Support', 'MetaFactory',\n       'Marketing DAO', 'Abridged', 'Voyager Media',\n       'Fairdrop -  Secure, private & unstoppable file transfer for the free world.',\n       'Trinity - Ethereum 2.0 client',\n       '1inch.exchange on-chain DeFi aggregation protocol',\n       'Commons Simulator: Level Up', 'Ideamarket.io', 'web3-react',\n       'EthHub - Ethereum Information Hub', 'Zapper.fi',\n       'Lighthouse: Ethereum 2.0 Client',\n       '@antiprosynth 🦇 antiprosynthesis.eth ⟠ 🔊 Twitter account 🐬',\n       'Chris Blec', 'wolfofethereum.eth', ' Ether',\n       'Anti-Phishing Browser Plugin | PhishFort Protect', 'Dessert Dai',\n       'David Hoffman, Independent Content Creator',\n       'Decentralized Flexible Organization',\n       'Solexplorer - Gitcoin Community Manager',\n       'AvionDB: A Distributed, MongoDB-like Database (Fully compatible with Web2 & Web3)',\n       'Validity', 'Commūnitās', 'Yazanator Twitter Account Activity',\n       'LOCAL.ly', 'Fork The World Hackathon', 'Zero Knowledge Podcast',\n       'X5 Engine',\n       'Cryptomaniac- Crypto Blog with Media and Entertainment Content',\n       'ethers.js - Complete, Simple and Tiny',\n       'Rotki - The portfolio tracker and accounting tool that protects your privacy',\n       'Burner Wallet 2 & Burner Factory', 'Arbitrage DAO ',\n       'WalletConnect', 'Wizards of DApps podcast',\n       '🔒 BlockSpy - MetaMask Security Plugin',\n       'Vocdoni - Decentralized anonymous voting',\n       'Democracy Earth Foundation', 'Week in Ethereum News',\n       '#HumansOfEthereum', 'ens-updater', 'Circles UBI',\n       'My DAO Dashboard',\n       'CuraDAI - A DeFI based stable coin for Curaçao',\n       'Rosco Kalis | Revoke.cash | truffle-plugin-verify | truffle-assertions',\n       'dArray', 'echonomics', 'Tenderly', 'Floatify', 'defiprime.com',\n       '88mph', 'One Million Developers Community Fund',\n       'Gelato - An automation protocol for Ethereum',\n       'Gasless: Send ERC20 tokens without ETH',\n       'StablePay - DeFi Payments L2', 'THE Sustainers of SustainWeb3 🌱',\n       'Dune Analytics', 'Vyper Smart Contract Language',\n       'Reach Blockchain Development Platform', 'MetaMoneyMarket',\n       'Topo Finance', 'Open Raise', 'ethsear.ch', 'Trackato: DeFi',\n       'web3swift - Elegant Web3 functionality in Swift',\n       'Cryptorado: Community Outreach & Expansion', 'Turbo-Geth',\n       'One Minute Block Time Newsletter', 'Floyd Economy', 'EthereumETL',\n       'BitcoinMalaysia DAO', 'FestDAO',\n       'Blockchain Education Network (BEN) [Panvala League]',\n       'ETH Memes Twitter', 'FISSION Codes', 'CryptoScamDB',\n       'Zero Collateral', 'Tellor', 'Groundhog', 'Civitas', 'Raid Guild',\n       'BUIDLHub', 'Provenance & Authenticity Validation on Ethereum',\n       'beaconcha.in - Open source Eth2 blockchain explorer',\n       'KnownOrigin.io <> ART DAO', 'ENSPortal',\n       'Wallet Notify - A standardized way of sending push notifications to Ethereum wallets!',\n       'BUIDL Honduras', 'The Fit Bot ',\n       'BBFT Podcast Show - Season5 (NFT)', 'WiniWallet',\n       'Crypto Inheritance for the Metaverse by Endowl',\n       'Ching! Point of Sale', 'History as a Service / Untrusted DB',\n       'DeFi NYC', 'Connext Network', 'Bloom Finance',\n       'THX - Add tokens to any app 🎁', 'Nimbus', 'Akasha Hub Barcelona',\n       'TrueBlocks', 'Devcon Scholars Program',\n       'Interstate Network - EVM optimistic rollup',\n       'ETHTurin Meetup & Devshop | on-chain Copyright R&D',\n       'RadicalxChange Foundation', 'Moloch Mystics ',\n       'Mass Adoption LLC. ',\n       'Donations to support open source development of BlockScout',\n       'Training 1000 Ethereum developers for free in 2019',\n       'Tasit - native mobile Ethereum dapps',\n       'OPG NFTs - Community-Owned NFTs for HTML5 Game Developers (+ Game3.js v2!)',\n       'ETHDevtools', 'Jelly Swap - Cross-chain Atomic Swap',\n       'rTrees - Defi charity app', 'DeFi Tutorials',\n       'Peepeth: social network for a better world',\n       'EtherLoans - undercollateralized loans, unstoppable DeFi',\n       'Wildcards', 'Vipnode', 'SUMA - defi interest rate derivatives',\n       'Locha Mesh: private txs, censorship-resistant dApps, and IPFS over a resilient long-range radio mesh network',\n       'Planet A', 'LeapDAO - scaling for decentralized apps',\n       'Loft Radio', 'Black Girls CODE x Blockchain Ecosystem',\n       'Fiona Kobayashi - Software Engineer',\n       'SCUBI-DOOS, a DeveloperUBI Dao',\n       \"Mars Robertson's personal grant • smart contracts • programmable money • new world order 🌎🌍🌏\",\n       'ETHMagicians Business Model Ring',\n       '_Prtcl - Incorporation as a legal DAO',\n       'Trojan DAO / Inifinite Moloch', 'Trustless Fund',\n       'Axiom Finance - fractional, outsourced financial & operations services for Ethereum projects',\n       'Interactive NFTs for creative coders',\n       'COVID-19 School Closure Fundraising Recapture', 'Burner Wallet',\n       'Blockchain-Comparison.com - #1 Support for Blockchain Solution Providers',\n       'Teach Kids about Ethereum with Virtual Reality (\"B is for Bufficorn\" in VR!)',\n       'Nym',\n       'TokenEngineering Academy – Education for Web3 Crypto Economic System Designers',\n       'DAOcast', 'Deora.Earth', 'Open Source Aztec Bridge Contracts',\n       'HOPR - decentralized privacy-preserving messaging protocol',\n       'RYO Cloud by AVADO', 'Whiteblock Testing',\n       'Trust Graphic Novel & Motion Comic', 'The Trojan DAO',\n       'Rogue Idle: A Free-to-Play Idle Game',\n       'BlockchainJuju - ETH Devs Sao Paulo (Jan - Nov 2020)',\n       'urllib3 - Python HTTP Library', 'ZoKrates', 'FairSpin',\n       'This Week in Crypto',\n       'Orienteer - open source Business Application Platform',\n       \"Simona Pop's Ecosystem Development Activity\",\n       'MetaSpace (Panvala League) 🛡',\n       'The Application Alliance - Community Initiative to Market Ethereum',\n       'McCardi - Ethereum eGift Cards', 'Gaia Gives Funding Portal',\n       'Alice',\n       \"S33D Grant - Circle OO 'Bloomers'  Collective Presencing & Grounding of the Dream to fertilise the Cosmic Egg \",\n       'ETH Dashboard: Build your own Ethereum data dashboard',\n       'Gallerist by Collectorshub',\n       'ZeroPool - Scaling anonymous transactions for blockchains',\n       'Open Funding',\n       'TEST GRANT - do not fund Lorem ipsum dolor sit amet, consectetur adipiscing elit, sed do eiusmod tempor incididunt ut labore et dolore magna aliqua. U',\n       'The Daily Gwei by Anthony Sassano (sassal0x)',\n       'Tennagraph - Minimum bias ethereum signal aggregator', 'Reboot',\n       'I will code review in JS/Typescript, Swift or Java',\n       'Austin Griffith Ethereum Research and Development',\n       'Sense Collective: Collaborative Sensemaking and Collective Intelligence',\n       \"BlockShop - Washington DC's Blockchain Incubator\",\n       'NFT Education | FRACTIONALIZE',\n       'CoinJournal - Cryptocurrency News', 'BitcoinLouie.eth',\n       'TheBlockchainCircle ', 'The NonFunGerbils Podcast',\n       'Parkour x Ethereum = Coloradical 🔥',\n       'Dappertite™ User Research Lab ',\n       'dHack - A decentralized hackathon model',\n       'Decentralization, off the shelf.', 'Play Ethereum',\n       'Secure Scuttlebutt :: Ethereum Fusion', 'Decentralized Science',\n       'Mask Network - The Portal to the New, Open Internet. (Legacy)',\n       'Cryptoeconomics.study - Free, Open-Source Blockchain Course',\n       'S33D: A Golden Charter',\n       'Open Source ProgPoW miner full stack integration',\n       'Educational & deeply technical talks - Help me buy a camera! ',\n       'DeFi Netherlands', 'Test Grant',\n       'TradeScope: Investigating Market Manipulation',\n       'Growdrop:Funding the revolution of blockchain ecosystem with DeFi',\n       'Towards Structural Equality',\n       'Now.eth - Uncensorable. Instant. Now.', 'Manna Development Pool',\n       'End of the Chain Podcast', 'OpenWallet', 'Linkdrop',\n       'EthFans.org',\n       'LTokens: Solving the paradox between Staking & DeFi ',\n       'Research Grant:  Swarm Scraper for Verified Smart Contracts',\n       'Q.E.D.', 'You. - Decentralized Password Management',\n       'Crypto community ventures network',\n       'ActivityWatch - Open-source automated time-tracker', 'Lease',\n       'Content about NFTs by Theo Goodman',\n       'Deep Work Staking Hackathon',\n       'Ethereum for Environmental Intelligence 🔗🍃',\n       'Crypto Law Review - Student Article Prize',\n       'Livestream NFT Minting (videoDAC)',\n       'Beginner and Advanced DApp Programming Tutorials from @danlipert on YouTube',\n       'Decentralized Infrastructure Solutions (DIS)', 'Outlet Finance',\n       'fuzz geth and Parity for EVM consensus bugs', 'Stake Dev',\n       'Wallets.Review', 'TokenCast', 'Interaxis',\n       'Decentralize Data NOW! Cat Herding',\n       'Karma - Reputation for DAO Contributors', 'AlphaOnChain',\n       'DeFi Fund', 'Tribute'], dtype=object)"
     },
     "metadata": {}
    }
   ],
   "execution_count": 60
  },
  {
   "cell_type": "code",
   "metadata": {
    "tags": [],
    "cell_id": "00041-7941cbf0-5477-4469-b65c-42cf7fdbc9de",
    "deepnote_to_be_reexecuted": false,
    "source_hash": "a2f9fb88",
    "execution_start": 1639541354896,
    "execution_millis": 3,
    "deepnote_cell_type": "code"
   },
   "source": "ex1 = df_a[df_a.to_name == 'Tornado.cash']",
   "outputs": [],
   "execution_count": 42
  },
  {
   "cell_type": "code",
   "metadata": {
    "tags": [],
    "cell_id": "00042-f1b39a10-4051-41e5-8086-1e7df299315e",
    "deepnote_to_be_reexecuted": false,
    "source_hash": "d52cb83a",
    "execution_start": 1639541359508,
    "execution_millis": 207,
    "deepnote_output_heights": [
     21.199996948242188
    ],
    "deepnote_cell_type": "code"
   },
   "source": "len(ex1)",
   "outputs": [
    {
     "output_type": "execute_result",
     "execution_count": 44,
     "data": {
      "text/plain": "229"
     },
     "metadata": {}
    }
   ],
   "execution_count": 44
  },
  {
   "cell_type": "code",
   "metadata": {
    "tags": [],
    "cell_id": "00042-555523ba-4f22-4fc4-96d0-d1c8144729d6",
    "deepnote_to_be_reexecuted": false,
    "source_hash": "51de9c59",
    "execution_start": 1639541361376,
    "execution_millis": 1,
    "deepnote_output_heights": [
     21.199996948242188
    ],
    "deepnote_cell_type": "code"
   },
   "source": "ex1.usd.sum()",
   "outputs": [
    {
     "output_type": "execute_result",
     "execution_count": 45,
     "data": {
      "text/plain": "2844.67730826769"
     },
     "metadata": {}
    }
   ],
   "execution_count": 45
  },
  {
   "cell_type": "code",
   "metadata": {
    "tags": [],
    "cell_id": "00048-526f6af8-387e-4f3a-8d4e-5b54d34f8a67",
    "deepnote_to_be_reexecuted": true,
    "source_hash": "b623e53d",
    "deepnote_cell_type": "code"
   },
   "source": "",
   "outputs": [],
   "execution_count": null
  },
  {
   "cell_type": "markdown",
   "source": "<a style='text-decoration:none;line-height:16px;display:flex;color:#5B5B62;padding:10px;justify-content:end;' href='https://deepnote.com?utm_source=created-in-deepnote-cell&projectId=32e1581d-cef2-4771-a5bf-9bbfe7a3603c' target=\"_blank\">\n<img alt='Created in deepnote.com' style='display:inline;max-height:16px;margin:0px;margin-right:7.5px;' src='data:image/svg+xml;base64,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' > </img>\nCreated in <span style='font-weight:600;margin-left:4px;'>Deepnote</span></a>",
   "metadata": {
    "tags": [],
    "created_in_deepnote_cell": true,
    "deepnote_cell_type": "markdown"
   }
  }
 ],
 "nbformat": 4,
 "nbformat_minor": 2,
 "metadata": {
  "orig_nbformat": 2,
  "deepnote": {
   "is_reactive": false
  },
  "deepnote_notebook_id": "c058591c-c9be-4ca4-8592-b104711b5fb2",
  "deepnote_execution_queue": []
 }
}
