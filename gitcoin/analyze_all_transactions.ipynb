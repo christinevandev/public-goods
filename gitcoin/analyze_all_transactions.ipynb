{
 "cells": [
  {
   "cell_type": "markdown",
   "source": "# Gitcoin grant participant Donations: A Public Goods Production Function Analysis",
   "metadata": {
    "tags": [],
    "cell_id": "00000-c112109c-a0e5-4149-aba3-fe3944af5273",
    "deepnote_cell_type": "markdown"
   }
  },
  {
   "cell_type": "markdown",
   "source": "## Motivation\nThe goal of this notebok is to examine the production of public goods via Gitcoin Grants (https://gitcoin.co/grants/).\n\nWe are especially interested in learning general lessons about how build donate to produce public goods via online platforms. A major goal of this analysis is to work to identify what kinds of \"production functions\" exist in the Gitcoin context, with emphasis on Oliver and Marwell's \"Theory of Critical Mass\" (https://en.wikipedia.org/wiki/Critical_mass_(sociodynamics)). Of particular importance to critical mass is identifying if a public good has an accelerating or decelerating production function; as more people contriubte, does the marginal value for other contributors go up or down? This substack piece elaborates on this point further: https://govrnance.substack.com/p/deliberate-public-goods-games\n\nGitcoin allows anyone to donate cryptocurrency to various projects. When people make contributions during a \"Round\" of fund matching, projects will receive additional donations allocated based on Quadratic Funding (https://wtfisqf.com/?grant=&grant=&grant=&grant=&match=1000). In short: \"Number of contributors matters more than amount funded\".\n\n\nGitcoin public grant rounds provide an opportunity to quantitatively investigate. Best of all -- the process is explicitly framed as a public goods game. Many other contexts involve the production of semi-public goods, but in the Gitcoin context everyone knows they're playing a public goods game.\n\nWe can assume there’s a degree of socialness / “interaction between agents” as the game theorists might see… people are watching how other people donate!\n\nAbout the analysis:\n* First we look \"Grant-wise\": each grant is a public good that unfolds over time (rounds)\n* Then we look \"Round-wise\": each round is a public good ecosystem with summary behavior \n",
   "metadata": {
    "tags": [],
    "cell_id": "00001-038c4cf8-f4d8-4089-a85c-3f1ea90f0667",
    "deepnote_cell_type": "markdown"
   }
  },
  {
   "cell_type": "markdown",
   "source": "## Inputs and Outputs\nCritical mass theory for public goods is focused on relating y, the \"amount\" of public good produced with x, the amount of contributions made by a group of people.\n\nWhat inputs and outputs can we study?\n\n* y_{amount}: Use total amount donated to a project as a weak proxy of the \"public goods output\" of that project\n* y_{contributors}: Use total # contributors as a proxy.\n* For x, we focus on the total amount contributed (1 unit of contribution = 1 ETH, 1 dollar, etc.)\n\nIdeally, we want to know about counterfactuals. How much public utility would project X have generated if it received more donations, or less?\n\n## Grouping Data\nWhat units of analysis can we study?\n* At the grant-round level: break the data into groups based on each grant (different project) and round (time period).\n* At the grant level: break the data groups based on each grant. Count all rounds together\n* Gitcoin as one public good: don't group data at all. Consider all donations to any grant address.\n\n* Open Questions\n  * How do people's donation behaviors affect other people?  (plots cumulative donations vs time)\n  * Inputs vs. Outputs. Inputs = # of people, amount raised. Outputs = good delivered.\n  * Can making it to the next round be a proxy for success? (after filtering out projects that exited due to success/failure)",
   "metadata": {
    "tags": [],
    "cell_id": "00002-3b7c67d0-d786-4bc6-be68-d7e530e049cf",
    "deepnote_cell_type": "markdown"
   }
  },
  {
   "cell_type": "markdown",
   "source": "## About the Data\n\n1. We begin by using Gitcoin API to get a list of every Gitcoin grant and its wallet address.\n\n2. use etherscan to list all transactions for each wallet address.\n\n3. use Gitcoin API to get time period and contributor address for each round of Gitcoin grants.\n\n4. Result: Observations of the following form: [Contributor Address, Donation Amount, Donation Timestamp, Recipient Grant Address, Round #]",
   "metadata": {
    "tags": [],
    "cell_id": "00003-be56de3a-9bcf-4408-9e5a-12985f20b1ef",
    "deepnote_cell_type": "markdown"
   }
  },
  {
   "cell_type": "markdown",
   "source": "## Imports",
   "metadata": {
    "tags": [],
    "cell_id": "00004-cfe8be02-84bb-41ca-972b-9be9f0dfdfab",
    "deepnote_cell_type": "markdown"
   }
  },
  {
   "cell_type": "code",
   "metadata": {
    "tags": [],
    "deepnote_to_be_reexecuted": false,
    "source_hash": "976a285d",
    "execution_start": 1638477120828,
    "execution_millis": 1905,
    "cell_id": "00005-ddca9560-bfc6-4396-b600-7ae486dbe0c4",
    "deepnote_cell_type": "code"
   },
   "source": "import datetime\nimport json\nimport requests\n\nimport pandas as pd\nimport seaborn as sns\nimport numpy as np\nimport matplotlib.pyplot as plt\nfrom scipy.optimize import curve_fit",
   "execution_count": null,
   "outputs": []
  },
  {
   "cell_type": "markdown",
   "source": "The `scrape.ipynb` notebook creates `savepoint.csv`. This file contains one observation per etherscan-identified transaction. Should include all transactions for addresses in the Gitcoin grants list.",
   "metadata": {
    "tags": [],
    "cell_id": "00006-fe7f2ebe-8228-4063-abcd-2b4c3e5535ff",
    "deepnote_cell_type": "markdown"
   }
  },
  {
   "cell_type": "code",
   "metadata": {
    "tags": [],
    "deepnote_to_be_reexecuted": false,
    "source_hash": "9165663d",
    "execution_start": 1638477122741,
    "execution_millis": 8031,
    "cell_id": "00007-474b30ba-38b1-4843-b888-c9d0615023bd",
    "deepnote_cell_type": "code"
   },
   "source": "df = pd.read_csv('savepoint_2021-10-27.csv', index_col=0)\ndf[:3]",
   "execution_count": null,
   "outputs": [
    {
     "output_type": "execute_result",
     "execution_count": 2,
     "data": {
      "application/vnd.deepnote.dataframe.v2+json": {
       "row_count": 3,
       "column_count": 18,
       "columns": [
        {
         "name": "blockNumber",
         "dtype": "int64",
         "stats": {
          "unique_count": 3,
          "nan_count": 0,
          "min": "13198991",
          "max": "13199011",
          "histogram": [
           {
            "bin_start": 13198991,
            "bin_end": 13198993,
            "count": 1
           },
           {
            "bin_start": 13198993,
            "bin_end": 13198995,
            "count": 0
           },
           {
            "bin_start": 13198995,
            "bin_end": 13198997,
            "count": 0
           },
           {
            "bin_start": 13198997,
            "bin_end": 13198999,
            "count": 0
           },
           {
            "bin_start": 13198999,
            "bin_end": 13199001,
            "count": 0
           },
           {
            "bin_start": 13199001,
            "bin_end": 13199003,
            "count": 1
           },
           {
            "bin_start": 13199003,
            "bin_end": 13199005,
            "count": 0
           },
           {
            "bin_start": 13199005,
            "bin_end": 13199007,
            "count": 0
           },
           {
            "bin_start": 13199007,
            "bin_end": 13199009,
            "count": 0
           },
           {
            "bin_start": 13199009,
            "bin_end": 13199011,
            "count": 1
           }
          ]
         }
        },
        {
         "name": "timeStamp",
         "dtype": "int64",
         "stats": {
          "unique_count": 3,
          "nan_count": 0,
          "min": "1631289899",
          "max": "1631290177",
          "histogram": [
           {
            "bin_start": 1631289899,
            "bin_end": 1631289926.8,
            "count": 1
           },
           {
            "bin_start": 1631289926.8,
            "bin_end": 1631289954.6,
            "count": 0
           },
           {
            "bin_start": 1631289954.6,
            "bin_end": 1631289982.4,
            "count": 0
           },
           {
            "bin_start": 1631289982.4,
            "bin_end": 1631290010.2,
            "count": 0
           },
           {
            "bin_start": 1631290010.2,
            "bin_end": 1631290038,
            "count": 0
           },
           {
            "bin_start": 1631290038,
            "bin_end": 1631290065.8,
            "count": 0
           },
           {
            "bin_start": 1631290065.8,
            "bin_end": 1631290093.6,
            "count": 0
           },
           {
            "bin_start": 1631290093.6,
            "bin_end": 1631290121.4,
            "count": 1
           },
           {
            "bin_start": 1631290121.4,
            "bin_end": 1631290149.2,
            "count": 0
           },
           {
            "bin_start": 1631290149.2,
            "bin_end": 1631290177,
            "count": 1
           }
          ]
         }
        },
        {
         "name": "hash",
         "dtype": "object",
         "stats": {
          "unique_count": 3,
          "nan_count": 0,
          "categories": [
           {
            "name": "0x19447f4db56074a58ed898d82792b1840cae17cc9f4940a4e0403254682953dd",
            "count": 1
           },
           {
            "name": "0x9069dd7c39248b635b4d4129a9f747b0fbed1df80b7e3cc76a7a75567017fdfd",
            "count": 1
           },
           {
            "name": "0x2b3732bade815729a849a6fa52b9390bfface387fc2b2d133ed68fcb4da2ec9d",
            "count": 1
           }
          ]
         }
        },
        {
         "name": "nonce",
         "dtype": "int64",
         "stats": {
          "unique_count": 3,
          "nan_count": 0,
          "min": "0",
          "max": "7",
          "histogram": [
           {
            "bin_start": 0,
            "bin_end": 0.7,
            "count": 1
           },
           {
            "bin_start": 0.7,
            "bin_end": 1.4,
            "count": 1
           },
           {
            "bin_start": 1.4,
            "bin_end": 2.0999999999999996,
            "count": 0
           },
           {
            "bin_start": 2.0999999999999996,
            "bin_end": 2.8,
            "count": 0
           },
           {
            "bin_start": 2.8,
            "bin_end": 3.5,
            "count": 0
           },
           {
            "bin_start": 3.5,
            "bin_end": 4.199999999999999,
            "count": 0
           },
           {
            "bin_start": 4.199999999999999,
            "bin_end": 4.8999999999999995,
            "count": 0
           },
           {
            "bin_start": 4.8999999999999995,
            "bin_end": 5.6,
            "count": 0
           },
           {
            "bin_start": 5.6,
            "bin_end": 6.3,
            "count": 0
           },
           {
            "bin_start": 6.3,
            "bin_end": 7,
            "count": 1
           }
          ]
         }
        },
        {
         "name": "blockHash",
         "dtype": "object",
         "stats": {
          "unique_count": 3,
          "nan_count": 0,
          "categories": [
           {
            "name": "0xad8c19b380dbf724d49032badc36a52f85adc3b498d176b1cec211a80fbec2bc",
            "count": 1
           },
           {
            "name": "0xceb3d9ed463a983d7472fa197aabebefca533e950aab2553feae8a9017785147",
            "count": 1
           },
           {
            "name": "0xf447eb0e038a705484ab75593f86bc27767db937ce836b71bf7efc2b5fa18b70",
            "count": 1
           }
          ]
         }
        },
        {
         "name": "transactionIndex",
         "dtype": "int64",
         "stats": {
          "unique_count": 3,
          "nan_count": 0,
          "min": "21",
          "max": "311",
          "histogram": [
           {
            "bin_start": 21,
            "bin_end": 50,
            "count": 1
           },
           {
            "bin_start": 50,
            "bin_end": 79,
            "count": 0
           },
           {
            "bin_start": 79,
            "bin_end": 108,
            "count": 0
           },
           {
            "bin_start": 108,
            "bin_end": 137,
            "count": 0
           },
           {
            "bin_start": 137,
            "bin_end": 166,
            "count": 0
           },
           {
            "bin_start": 166,
            "bin_end": 195,
            "count": 0
           },
           {
            "bin_start": 195,
            "bin_end": 224,
            "count": 0
           },
           {
            "bin_start": 224,
            "bin_end": 253,
            "count": 0
           },
           {
            "bin_start": 253,
            "bin_end": 282,
            "count": 0
           },
           {
            "bin_start": 282,
            "bin_end": 311,
            "count": 2
           }
          ]
         }
        },
        {
         "name": "from",
         "dtype": "object",
         "stats": {
          "unique_count": 2,
          "nan_count": 0,
          "categories": [
           {
            "name": "0x447997d1dc7888a2ffc15826e7595a6f7dcc076b",
            "count": 2
           },
           {
            "name": "0x0cbbc6ae48d9d3e14079aa15fab79a93b9f14796",
            "count": 1
           }
          ]
         }
        },
        {
         "name": "to",
         "dtype": "object",
         "stats": {
          "unique_count": 3,
          "nan_count": 0,
          "categories": [
           {
            "name": "0x447997d1dc7888a2ffc15826e7595a6f7dcc076b",
            "count": 1
           },
           {
            "name": "0xdac17f958d2ee523a2206206994597c13d831ec7",
            "count": 1
           },
           {
            "name": "0x0cbbc6ae48d9d3e14079aa15fab79a93b9f14796",
            "count": 1
           }
          ]
         }
        },
        {
         "name": "value",
         "dtype": "object",
         "stats": {
          "unique_count": 3,
          "nan_count": 0,
          "categories": [
           {
            "name": "40000000000000000",
            "count": 1
           },
           {
            "name": "0",
            "count": 1
           },
           {
            "name": "30726977495774872",
            "count": 1
           }
          ]
         }
        },
        {
         "name": "gas",
         "dtype": "int64",
         "stats": {
          "unique_count": 2,
          "nan_count": 0,
          "min": "21000",
          "max": "94795",
          "histogram": [
           {
            "bin_start": 21000,
            "bin_end": 28379.5,
            "count": 2
           },
           {
            "bin_start": 28379.5,
            "bin_end": 35759,
            "count": 0
           },
           {
            "bin_start": 35759,
            "bin_end": 43138.5,
            "count": 0
           },
           {
            "bin_start": 43138.5,
            "bin_end": 50518,
            "count": 0
           },
           {
            "bin_start": 50518,
            "bin_end": 57897.5,
            "count": 0
           },
           {
            "bin_start": 57897.5,
            "bin_end": 65277,
            "count": 0
           },
           {
            "bin_start": 65277,
            "bin_end": 72656.5,
            "count": 0
           },
           {
            "bin_start": 72656.5,
            "bin_end": 80036,
            "count": 0
           },
           {
            "bin_start": 80036,
            "bin_end": 87415.5,
            "count": 0
           },
           {
            "bin_start": 87415.5,
            "bin_end": 94795,
            "count": 1
           }
          ]
         }
        },
        {
         "name": "gasPrice",
         "dtype": "int64",
         "stats": {
          "unique_count": 3,
          "nan_count": 0,
          "min": "81080397574",
          "max": "201000000000",
          "histogram": [
           {
            "bin_start": 81080397574,
            "bin_end": 93072357816.6,
            "count": 1
           },
           {
            "bin_start": 93072357816.6,
            "bin_end": 105064318059.2,
            "count": 1
           },
           {
            "bin_start": 105064318059.2,
            "bin_end": 117056278301.8,
            "count": 0
           },
           {
            "bin_start": 117056278301.8,
            "bin_end": 129048238544.4,
            "count": 0
           },
           {
            "bin_start": 129048238544.4,
            "bin_end": 141040198787,
            "count": 0
           },
           {
            "bin_start": 141040198787,
            "bin_end": 153032159029.6,
            "count": 0
           },
           {
            "bin_start": 153032159029.6,
            "bin_end": 165024119272.2,
            "count": 0
           },
           {
            "bin_start": 165024119272.2,
            "bin_end": 177016079514.8,
            "count": 0
           },
           {
            "bin_start": 177016079514.8,
            "bin_end": 189008039757.40002,
            "count": 0
           },
           {
            "bin_start": 189008039757.40002,
            "bin_end": 201000000000,
            "count": 1
           }
          ]
         }
        },
        {
         "name": "isError",
         "dtype": "int64",
         "stats": {
          "unique_count": 1,
          "nan_count": 0,
          "min": "0",
          "max": "0",
          "histogram": [
           {
            "bin_start": -0.5,
            "bin_end": -0.4,
            "count": 0
           },
           {
            "bin_start": -0.4,
            "bin_end": -0.3,
            "count": 0
           },
           {
            "bin_start": -0.3,
            "bin_end": -0.19999999999999996,
            "count": 0
           },
           {
            "bin_start": -0.19999999999999996,
            "bin_end": -0.09999999999999998,
            "count": 0
           },
           {
            "bin_start": -0.09999999999999998,
            "bin_end": 0,
            "count": 0
           },
           {
            "bin_start": 0,
            "bin_end": 0.10000000000000009,
            "count": 3
           },
           {
            "bin_start": 0.10000000000000009,
            "bin_end": 0.20000000000000007,
            "count": 0
           },
           {
            "bin_start": 0.20000000000000007,
            "bin_end": 0.30000000000000004,
            "count": 0
           },
           {
            "bin_start": 0.30000000000000004,
            "bin_end": 0.4,
            "count": 0
           },
           {
            "bin_start": 0.4,
            "bin_end": 0.5,
            "count": 0
           }
          ]
         }
        },
        {
         "name": "txreceipt_status",
         "dtype": "float64",
         "stats": {
          "unique_count": 1,
          "nan_count": 0,
          "min": "1.0",
          "max": "1.0",
          "histogram": [
           {
            "bin_start": 0.5,
            "bin_end": 0.6,
            "count": 0
           },
           {
            "bin_start": 0.6,
            "bin_end": 0.7,
            "count": 0
           },
           {
            "bin_start": 0.7,
            "bin_end": 0.8,
            "count": 0
           },
           {
            "bin_start": 0.8,
            "bin_end": 0.9,
            "count": 0
           },
           {
            "bin_start": 0.9,
            "bin_end": 1,
            "count": 0
           },
           {
            "bin_start": 1,
            "bin_end": 1.1,
            "count": 3
           },
           {
            "bin_start": 1.1,
            "bin_end": 1.2000000000000002,
            "count": 0
           },
           {
            "bin_start": 1.2000000000000002,
            "bin_end": 1.3,
            "count": 0
           },
           {
            "bin_start": 1.3,
            "bin_end": 1.4,
            "count": 0
           },
           {
            "bin_start": 1.4,
            "bin_end": 1.5,
            "count": 0
           }
          ]
         }
        },
        {
         "name": "input",
         "dtype": "object",
         "stats": {
          "unique_count": 2,
          "nan_count": 0,
          "categories": [
           {
            "name": "0x",
            "count": 2
           },
           {
            "name": "0xa9059cbb000000000000000000000000a5ef5f8707713899ab957c449d2d4010f101a29900000000000000000000000000000000000000000000000000000000b4018b00",
            "count": 1
           }
          ]
         }
        },
        {
         "name": "contractAddress",
         "dtype": "object",
         "stats": {
          "unique_count": 0,
          "nan_count": 3,
          "categories": [
           {
            "name": "Missing",
            "count": 3
           }
          ]
         }
        },
        {
         "name": "cumulativeGasUsed",
         "dtype": "int64",
         "stats": {
          "unique_count": 3,
          "nan_count": 0,
          "min": "1712459",
          "max": "27995552",
          "histogram": [
           {
            "bin_start": 1712459,
            "bin_end": 4340768.3,
            "count": 1
           },
           {
            "bin_start": 4340768.3,
            "bin_end": 6969077.6,
            "count": 0
           },
           {
            "bin_start": 6969077.6,
            "bin_end": 9597386.899999999,
            "count": 0
           },
           {
            "bin_start": 9597386.899999999,
            "bin_end": 12225696.2,
            "count": 0
           },
           {
            "bin_start": 12225696.2,
            "bin_end": 14854005.5,
            "count": 0
           },
           {
            "bin_start": 14854005.5,
            "bin_end": 17482314.799999997,
            "count": 0
           },
           {
            "bin_start": 17482314.799999997,
            "bin_end": 20110624.099999998,
            "count": 0
           },
           {
            "bin_start": 20110624.099999998,
            "bin_end": 22738933.4,
            "count": 0
           },
           {
            "bin_start": 22738933.4,
            "bin_end": 25367242.7,
            "count": 1
           },
           {
            "bin_start": 25367242.7,
            "bin_end": 27995552,
            "count": 1
           }
          ]
         }
        },
        {
         "name": "gasUsed",
         "dtype": "int64",
         "stats": {
          "unique_count": 2,
          "nan_count": 0,
          "min": "21000",
          "max": "58397",
          "histogram": [
           {
            "bin_start": 21000,
            "bin_end": 24739.7,
            "count": 2
           },
           {
            "bin_start": 24739.7,
            "bin_end": 28479.4,
            "count": 0
           },
           {
            "bin_start": 28479.4,
            "bin_end": 32219.1,
            "count": 0
           },
           {
            "bin_start": 32219.1,
            "bin_end": 35958.8,
            "count": 0
           },
           {
            "bin_start": 35958.8,
            "bin_end": 39698.5,
            "count": 0
           },
           {
            "bin_start": 39698.5,
            "bin_end": 43438.2,
            "count": 0
           },
           {
            "bin_start": 43438.2,
            "bin_end": 47177.899999999994,
            "count": 0
           },
           {
            "bin_start": 47177.899999999994,
            "bin_end": 50917.6,
            "count": 0
           },
           {
            "bin_start": 50917.6,
            "bin_end": 54657.299999999996,
            "count": 0
           },
           {
            "bin_start": 54657.299999999996,
            "bin_end": 58397,
            "count": 1
           }
          ]
         }
        },
        {
         "name": "confirmations",
         "dtype": "int64",
         "stats": {
          "unique_count": 3,
          "nan_count": 0,
          "min": "303426",
          "max": "303446",
          "histogram": [
           {
            "bin_start": 303426,
            "bin_end": 303428,
            "count": 1
           },
           {
            "bin_start": 303428,
            "bin_end": 303430,
            "count": 0
           },
           {
            "bin_start": 303430,
            "bin_end": 303432,
            "count": 0
           },
           {
            "bin_start": 303432,
            "bin_end": 303434,
            "count": 0
           },
           {
            "bin_start": 303434,
            "bin_end": 303436,
            "count": 1
           },
           {
            "bin_start": 303436,
            "bin_end": 303438,
            "count": 0
           },
           {
            "bin_start": 303438,
            "bin_end": 303440,
            "count": 0
           },
           {
            "bin_start": 303440,
            "bin_end": 303442,
            "count": 0
           },
           {
            "bin_start": 303442,
            "bin_end": 303444,
            "count": 0
           },
           {
            "bin_start": 303444,
            "bin_end": 303446,
            "count": 1
           }
          ]
         }
        },
        {
         "name": "_deepnote_index_column",
         "dtype": "int64"
        }
       ],
       "rows_top": [
        {
         "blockNumber": 13198991,
         "timeStamp": 1631289899,
         "hash": "0x19447f4db56074a58ed898d82792b1840cae17cc9f4940a4e0403254682953dd",
         "nonce": 7,
         "blockHash": "0xad8c19b380dbf724d49032badc36a52f85adc3b498d176b1cec211a80fbec2bc",
         "transactionIndex": 21,
         "from": "0x0cbbc6ae48d9d3e14079aa15fab79a93b9f14796",
         "to": "0x447997d1dc7888a2ffc15826e7595a6f7dcc076b",
         "value": "40000000000000000",
         "gas": 21000,
         "gasPrice": 201000000000,
         "isError": 0,
         "txreceipt_status": 1,
         "input": "0x",
         "contractAddress": "nan",
         "cumulativeGasUsed": 1712459,
         "gasUsed": 21000,
         "confirmations": 303446,
         "_deepnote_index_column": 0
        },
        {
         "blockNumber": 13199002,
         "timeStamp": 1631290114,
         "hash": "0x9069dd7c39248b635b4d4129a9f747b0fbed1df80b7e3cc76a7a75567017fdfd",
         "nonce": 0,
         "blockHash": "0xceb3d9ed463a983d7472fa197aabebefca533e950aab2553feae8a9017785147",
         "transactionIndex": 306,
         "from": "0x447997d1dc7888a2ffc15826e7595a6f7dcc076b",
         "to": "0xdac17f958d2ee523a2206206994597c13d831ec7",
         "value": "0",
         "gas": 94795,
         "gasPrice": 101574817824,
         "isError": 0,
         "txreceipt_status": 1,
         "input": "0xa9059cbb000000000000000000000000a5ef5f8707713899ab957c449d2d4010f101a2990000000000000000000000000…",
         "contractAddress": "nan",
         "cumulativeGasUsed": 27995552,
         "gasUsed": 58397,
         "confirmations": 303435,
         "_deepnote_index_column": 1
        },
        {
         "blockNumber": 13199011,
         "timeStamp": 1631290177,
         "hash": "0x2b3732bade815729a849a6fa52b9390bfface387fc2b2d133ed68fcb4da2ec9d",
         "nonce": 1,
         "blockHash": "0xf447eb0e038a705484ab75593f86bc27767db937ce836b71bf7efc2b5fa18b70",
         "transactionIndex": 311,
         "from": "0x447997d1dc7888a2ffc15826e7595a6f7dcc076b",
         "to": "0x0cbbc6ae48d9d3e14079aa15fab79a93b9f14796",
         "value": "30726977495774872",
         "gas": 21000,
         "gasPrice": 81080397574,
         "isError": 0,
         "txreceipt_status": 1,
         "input": "0x",
         "contractAddress": "nan",
         "cumulativeGasUsed": 25089151,
         "gasUsed": 21000,
         "confirmations": 303426,
         "_deepnote_index_column": 2
        }
       ],
       "rows_bottom": null
      },
      "text/plain": "   blockNumber   timeStamp                                               hash  \\\n0     13198991  1631289899  0x19447f4db56074a58ed898d82792b1840cae17cc9f49...   \n1     13199002  1631290114  0x9069dd7c39248b635b4d4129a9f747b0fbed1df80b7e...   \n2     13199011  1631290177  0x2b3732bade815729a849a6fa52b9390bfface387fc2b...   \n\n   nonce                                          blockHash  transactionIndex  \\\n0      7  0xad8c19b380dbf724d49032badc36a52f85adc3b498d1...                21   \n1      0  0xceb3d9ed463a983d7472fa197aabebefca533e950aab...               306   \n2      1  0xf447eb0e038a705484ab75593f86bc27767db937ce83...               311   \n\n                                         from  \\\n0  0x0cbbc6ae48d9d3e14079aa15fab79a93b9f14796   \n1  0x447997d1dc7888a2ffc15826e7595a6f7dcc076b   \n2  0x447997d1dc7888a2ffc15826e7595a6f7dcc076b   \n\n                                           to              value    gas  \\\n0  0x447997d1dc7888a2ffc15826e7595a6f7dcc076b  40000000000000000  21000   \n1  0xdac17f958d2ee523a2206206994597c13d831ec7                  0  94795   \n2  0x0cbbc6ae48d9d3e14079aa15fab79a93b9f14796  30726977495774872  21000   \n\n       gasPrice  isError  txreceipt_status  \\\n0  201000000000        0               1.0   \n1  101574817824        0               1.0   \n2   81080397574        0               1.0   \n\n                                               input contractAddress  \\\n0                                                 0x             NaN   \n1  0xa9059cbb000000000000000000000000a5ef5f870771...             NaN   \n2                                                 0x             NaN   \n\n   cumulativeGasUsed  gasUsed  confirmations  \n0            1712459    21000         303446  \n1           27995552    58397         303435  \n2           25089151    21000         303426  ",
      "text/html": "<div>\n<style scoped>\n    .dataframe tbody tr th:only-of-type {\n        vertical-align: middle;\n    }\n\n    .dataframe tbody tr th {\n        vertical-align: top;\n    }\n\n    .dataframe thead th {\n        text-align: right;\n    }\n</style>\n<table border=\"1\" class=\"dataframe\">\n  <thead>\n    <tr style=\"text-align: right;\">\n      <th></th>\n      <th>blockNumber</th>\n      <th>timeStamp</th>\n      <th>hash</th>\n      <th>nonce</th>\n      <th>blockHash</th>\n      <th>transactionIndex</th>\n      <th>from</th>\n      <th>to</th>\n      <th>value</th>\n      <th>gas</th>\n      <th>gasPrice</th>\n      <th>isError</th>\n      <th>txreceipt_status</th>\n      <th>input</th>\n      <th>contractAddress</th>\n      <th>cumulativeGasUsed</th>\n      <th>gasUsed</th>\n      <th>confirmations</th>\n    </tr>\n  </thead>\n  <tbody>\n    <tr>\n      <th>0</th>\n      <td>13198991</td>\n      <td>1631289899</td>\n      <td>0x19447f4db56074a58ed898d82792b1840cae17cc9f49...</td>\n      <td>7</td>\n      <td>0xad8c19b380dbf724d49032badc36a52f85adc3b498d1...</td>\n      <td>21</td>\n      <td>0x0cbbc6ae48d9d3e14079aa15fab79a93b9f14796</td>\n      <td>0x447997d1dc7888a2ffc15826e7595a6f7dcc076b</td>\n      <td>40000000000000000</td>\n      <td>21000</td>\n      <td>201000000000</td>\n      <td>0</td>\n      <td>1.0</td>\n      <td>0x</td>\n      <td>NaN</td>\n      <td>1712459</td>\n      <td>21000</td>\n      <td>303446</td>\n    </tr>\n    <tr>\n      <th>1</th>\n      <td>13199002</td>\n      <td>1631290114</td>\n      <td>0x9069dd7c39248b635b4d4129a9f747b0fbed1df80b7e...</td>\n      <td>0</td>\n      <td>0xceb3d9ed463a983d7472fa197aabebefca533e950aab...</td>\n      <td>306</td>\n      <td>0x447997d1dc7888a2ffc15826e7595a6f7dcc076b</td>\n      <td>0xdac17f958d2ee523a2206206994597c13d831ec7</td>\n      <td>0</td>\n      <td>94795</td>\n      <td>101574817824</td>\n      <td>0</td>\n      <td>1.0</td>\n      <td>0xa9059cbb000000000000000000000000a5ef5f870771...</td>\n      <td>NaN</td>\n      <td>27995552</td>\n      <td>58397</td>\n      <td>303435</td>\n    </tr>\n    <tr>\n      <th>2</th>\n      <td>13199011</td>\n      <td>1631290177</td>\n      <td>0x2b3732bade815729a849a6fa52b9390bfface387fc2b...</td>\n      <td>1</td>\n      <td>0xf447eb0e038a705484ab75593f86bc27767db937ce83...</td>\n      <td>311</td>\n      <td>0x447997d1dc7888a2ffc15826e7595a6f7dcc076b</td>\n      <td>0x0cbbc6ae48d9d3e14079aa15fab79a93b9f14796</td>\n      <td>30726977495774872</td>\n      <td>21000</td>\n      <td>81080397574</td>\n      <td>0</td>\n      <td>1.0</td>\n      <td>0x</td>\n      <td>NaN</td>\n      <td>25089151</td>\n      <td>21000</td>\n      <td>303426</td>\n    </tr>\n  </tbody>\n</table>\n</div>"
     },
     "metadata": {}
    }
   ]
  },
  {
   "cell_type": "code",
   "metadata": {
    "tags": [],
    "deepnote_to_be_reexecuted": false,
    "source_hash": "d9ed4260",
    "execution_start": 1638477130774,
    "execution_millis": 14,
    "deepnote_output_heights": [
     21.1875
    ],
    "cell_id": "00008-02f9b910-db3d-4bfa-a646-f76c116f1675",
    "deepnote_cell_type": "code"
   },
   "source": "with open('grants.json', 'r') as f:\n    grants = json.load(f)\n\n\n'''\nfor key,projName in grants.items():\n    #print(key)\n    #print(projName)\n'''\n",
   "execution_count": null,
   "outputs": [
    {
     "output_type": "execute_result",
     "execution_count": 3,
     "data": {
      "text/plain": "'\\nfor key,projName in grants.items():\\n    #print(key)\\n    #print(projName)\\n'"
     },
     "metadata": {}
    }
   ]
  },
  {
   "cell_type": "code",
   "metadata": {
    "tags": [],
    "deepnote_to_be_reexecuted": false,
    "source_hash": "5e6ddb0d",
    "execution_start": 1638477130818,
    "execution_millis": 118,
    "cell_id": "00009-1929f8ec-5d95-4fc1-be4b-ec8f128c243b",
    "deepnote_cell_type": "code"
   },
   "source": "df['projectName'] = df.to.map(grants)\ndf[:2]",
   "execution_count": null,
   "outputs": [
    {
     "output_type": "execute_result",
     "execution_count": 4,
     "data": {
      "application/vnd.deepnote.dataframe.v2+json": {
       "row_count": 2,
       "column_count": 19,
       "columns": [
        {
         "name": "blockNumber",
         "dtype": "int64",
         "stats": {
          "unique_count": 2,
          "nan_count": 0,
          "min": "13198991",
          "max": "13199002",
          "histogram": [
           {
            "bin_start": 13198991,
            "bin_end": 13198992.1,
            "count": 1
           },
           {
            "bin_start": 13198992.1,
            "bin_end": 13198993.2,
            "count": 0
           },
           {
            "bin_start": 13198993.2,
            "bin_end": 13198994.3,
            "count": 0
           },
           {
            "bin_start": 13198994.3,
            "bin_end": 13198995.4,
            "count": 0
           },
           {
            "bin_start": 13198995.4,
            "bin_end": 13198996.5,
            "count": 0
           },
           {
            "bin_start": 13198996.5,
            "bin_end": 13198997.6,
            "count": 0
           },
           {
            "bin_start": 13198997.6,
            "bin_end": 13198998.7,
            "count": 0
           },
           {
            "bin_start": 13198998.7,
            "bin_end": 13198999.8,
            "count": 0
           },
           {
            "bin_start": 13198999.8,
            "bin_end": 13199000.9,
            "count": 0
           },
           {
            "bin_start": 13199000.9,
            "bin_end": 13199002,
            "count": 1
           }
          ]
         }
        },
        {
         "name": "timeStamp",
         "dtype": "int64",
         "stats": {
          "unique_count": 2,
          "nan_count": 0,
          "min": "1631289899",
          "max": "1631290114",
          "histogram": [
           {
            "bin_start": 1631289899,
            "bin_end": 1631289920.5,
            "count": 1
           },
           {
            "bin_start": 1631289920.5,
            "bin_end": 1631289942,
            "count": 0
           },
           {
            "bin_start": 1631289942,
            "bin_end": 1631289963.5,
            "count": 0
           },
           {
            "bin_start": 1631289963.5,
            "bin_end": 1631289985,
            "count": 0
           },
           {
            "bin_start": 1631289985,
            "bin_end": 1631290006.5,
            "count": 0
           },
           {
            "bin_start": 1631290006.5,
            "bin_end": 1631290028,
            "count": 0
           },
           {
            "bin_start": 1631290028,
            "bin_end": 1631290049.5,
            "count": 0
           },
           {
            "bin_start": 1631290049.5,
            "bin_end": 1631290071,
            "count": 0
           },
           {
            "bin_start": 1631290071,
            "bin_end": 1631290092.5,
            "count": 0
           },
           {
            "bin_start": 1631290092.5,
            "bin_end": 1631290114,
            "count": 1
           }
          ]
         }
        },
        {
         "name": "hash",
         "dtype": "object",
         "stats": {
          "unique_count": 2,
          "nan_count": 0,
          "categories": [
           {
            "name": "0x19447f4db56074a58ed898d82792b1840cae17cc9f4940a4e0403254682953dd",
            "count": 1
           },
           {
            "name": "0x9069dd7c39248b635b4d4129a9f747b0fbed1df80b7e3cc76a7a75567017fdfd",
            "count": 1
           }
          ]
         }
        },
        {
         "name": "nonce",
         "dtype": "int64",
         "stats": {
          "unique_count": 2,
          "nan_count": 0,
          "min": "0",
          "max": "7",
          "histogram": [
           {
            "bin_start": 0,
            "bin_end": 0.7,
            "count": 1
           },
           {
            "bin_start": 0.7,
            "bin_end": 1.4,
            "count": 0
           },
           {
            "bin_start": 1.4,
            "bin_end": 2.0999999999999996,
            "count": 0
           },
           {
            "bin_start": 2.0999999999999996,
            "bin_end": 2.8,
            "count": 0
           },
           {
            "bin_start": 2.8,
            "bin_end": 3.5,
            "count": 0
           },
           {
            "bin_start": 3.5,
            "bin_end": 4.199999999999999,
            "count": 0
           },
           {
            "bin_start": 4.199999999999999,
            "bin_end": 4.8999999999999995,
            "count": 0
           },
           {
            "bin_start": 4.8999999999999995,
            "bin_end": 5.6,
            "count": 0
           },
           {
            "bin_start": 5.6,
            "bin_end": 6.3,
            "count": 0
           },
           {
            "bin_start": 6.3,
            "bin_end": 7,
            "count": 1
           }
          ]
         }
        },
        {
         "name": "blockHash",
         "dtype": "object",
         "stats": {
          "unique_count": 2,
          "nan_count": 0,
          "categories": [
           {
            "name": "0xad8c19b380dbf724d49032badc36a52f85adc3b498d176b1cec211a80fbec2bc",
            "count": 1
           },
           {
            "name": "0xceb3d9ed463a983d7472fa197aabebefca533e950aab2553feae8a9017785147",
            "count": 1
           }
          ]
         }
        },
        {
         "name": "transactionIndex",
         "dtype": "int64",
         "stats": {
          "unique_count": 2,
          "nan_count": 0,
          "min": "21",
          "max": "306",
          "histogram": [
           {
            "bin_start": 21,
            "bin_end": 49.5,
            "count": 1
           },
           {
            "bin_start": 49.5,
            "bin_end": 78,
            "count": 0
           },
           {
            "bin_start": 78,
            "bin_end": 106.5,
            "count": 0
           },
           {
            "bin_start": 106.5,
            "bin_end": 135,
            "count": 0
           },
           {
            "bin_start": 135,
            "bin_end": 163.5,
            "count": 0
           },
           {
            "bin_start": 163.5,
            "bin_end": 192,
            "count": 0
           },
           {
            "bin_start": 192,
            "bin_end": 220.5,
            "count": 0
           },
           {
            "bin_start": 220.5,
            "bin_end": 249,
            "count": 0
           },
           {
            "bin_start": 249,
            "bin_end": 277.5,
            "count": 0
           },
           {
            "bin_start": 277.5,
            "bin_end": 306,
            "count": 1
           }
          ]
         }
        },
        {
         "name": "from",
         "dtype": "object",
         "stats": {
          "unique_count": 2,
          "nan_count": 0,
          "categories": [
           {
            "name": "0x0cbbc6ae48d9d3e14079aa15fab79a93b9f14796",
            "count": 1
           },
           {
            "name": "0x447997d1dc7888a2ffc15826e7595a6f7dcc076b",
            "count": 1
           }
          ]
         }
        },
        {
         "name": "to",
         "dtype": "object",
         "stats": {
          "unique_count": 2,
          "nan_count": 0,
          "categories": [
           {
            "name": "0x447997d1dc7888a2ffc15826e7595a6f7dcc076b",
            "count": 1
           },
           {
            "name": "0xdac17f958d2ee523a2206206994597c13d831ec7",
            "count": 1
           }
          ]
         }
        },
        {
         "name": "value",
         "dtype": "object",
         "stats": {
          "unique_count": 2,
          "nan_count": 0,
          "categories": [
           {
            "name": "40000000000000000",
            "count": 1
           },
           {
            "name": "0",
            "count": 1
           }
          ]
         }
        },
        {
         "name": "gas",
         "dtype": "int64",
         "stats": {
          "unique_count": 2,
          "nan_count": 0,
          "min": "21000",
          "max": "94795",
          "histogram": [
           {
            "bin_start": 21000,
            "bin_end": 28379.5,
            "count": 1
           },
           {
            "bin_start": 28379.5,
            "bin_end": 35759,
            "count": 0
           },
           {
            "bin_start": 35759,
            "bin_end": 43138.5,
            "count": 0
           },
           {
            "bin_start": 43138.5,
            "bin_end": 50518,
            "count": 0
           },
           {
            "bin_start": 50518,
            "bin_end": 57897.5,
            "count": 0
           },
           {
            "bin_start": 57897.5,
            "bin_end": 65277,
            "count": 0
           },
           {
            "bin_start": 65277,
            "bin_end": 72656.5,
            "count": 0
           },
           {
            "bin_start": 72656.5,
            "bin_end": 80036,
            "count": 0
           },
           {
            "bin_start": 80036,
            "bin_end": 87415.5,
            "count": 0
           },
           {
            "bin_start": 87415.5,
            "bin_end": 94795,
            "count": 1
           }
          ]
         }
        },
        {
         "name": "gasPrice",
         "dtype": "int64",
         "stats": {
          "unique_count": 2,
          "nan_count": 0,
          "min": "101574817824",
          "max": "201000000000",
          "histogram": [
           {
            "bin_start": 101574817824,
            "bin_end": 111517336041.6,
            "count": 1
           },
           {
            "bin_start": 111517336041.6,
            "bin_end": 121459854259.2,
            "count": 0
           },
           {
            "bin_start": 121459854259.2,
            "bin_end": 131402372476.8,
            "count": 0
           },
           {
            "bin_start": 131402372476.8,
            "bin_end": 141344890694.4,
            "count": 0
           },
           {
            "bin_start": 141344890694.4,
            "bin_end": 151287408912,
            "count": 0
           },
           {
            "bin_start": 151287408912,
            "bin_end": 161229927129.6,
            "count": 0
           },
           {
            "bin_start": 161229927129.6,
            "bin_end": 171172445347.2,
            "count": 0
           },
           {
            "bin_start": 171172445347.2,
            "bin_end": 181114963564.8,
            "count": 0
           },
           {
            "bin_start": 181114963564.8,
            "bin_end": 191057481782.40002,
            "count": 0
           },
           {
            "bin_start": 191057481782.40002,
            "bin_end": 201000000000,
            "count": 1
           }
          ]
         }
        },
        {
         "name": "isError",
         "dtype": "int64",
         "stats": {
          "unique_count": 1,
          "nan_count": 0,
          "min": "0",
          "max": "0",
          "histogram": [
           {
            "bin_start": -0.5,
            "bin_end": -0.4,
            "count": 0
           },
           {
            "bin_start": -0.4,
            "bin_end": -0.3,
            "count": 0
           },
           {
            "bin_start": -0.3,
            "bin_end": -0.19999999999999996,
            "count": 0
           },
           {
            "bin_start": -0.19999999999999996,
            "bin_end": -0.09999999999999998,
            "count": 0
           },
           {
            "bin_start": -0.09999999999999998,
            "bin_end": 0,
            "count": 0
           },
           {
            "bin_start": 0,
            "bin_end": 0.10000000000000009,
            "count": 2
           },
           {
            "bin_start": 0.10000000000000009,
            "bin_end": 0.20000000000000007,
            "count": 0
           },
           {
            "bin_start": 0.20000000000000007,
            "bin_end": 0.30000000000000004,
            "count": 0
           },
           {
            "bin_start": 0.30000000000000004,
            "bin_end": 0.4,
            "count": 0
           },
           {
            "bin_start": 0.4,
            "bin_end": 0.5,
            "count": 0
           }
          ]
         }
        },
        {
         "name": "txreceipt_status",
         "dtype": "float64",
         "stats": {
          "unique_count": 1,
          "nan_count": 0,
          "min": "1.0",
          "max": "1.0",
          "histogram": [
           {
            "bin_start": 0.5,
            "bin_end": 0.6,
            "count": 0
           },
           {
            "bin_start": 0.6,
            "bin_end": 0.7,
            "count": 0
           },
           {
            "bin_start": 0.7,
            "bin_end": 0.8,
            "count": 0
           },
           {
            "bin_start": 0.8,
            "bin_end": 0.9,
            "count": 0
           },
           {
            "bin_start": 0.9,
            "bin_end": 1,
            "count": 0
           },
           {
            "bin_start": 1,
            "bin_end": 1.1,
            "count": 2
           },
           {
            "bin_start": 1.1,
            "bin_end": 1.2000000000000002,
            "count": 0
           },
           {
            "bin_start": 1.2000000000000002,
            "bin_end": 1.3,
            "count": 0
           },
           {
            "bin_start": 1.3,
            "bin_end": 1.4,
            "count": 0
           },
           {
            "bin_start": 1.4,
            "bin_end": 1.5,
            "count": 0
           }
          ]
         }
        },
        {
         "name": "input",
         "dtype": "object",
         "stats": {
          "unique_count": 2,
          "nan_count": 0,
          "categories": [
           {
            "name": "0x",
            "count": 1
           },
           {
            "name": "0xa9059cbb000000000000000000000000a5ef5f8707713899ab957c449d2d4010f101a29900000000000000000000000000000000000000000000000000000000b4018b00",
            "count": 1
           }
          ]
         }
        },
        {
         "name": "contractAddress",
         "dtype": "object",
         "stats": {
          "unique_count": 0,
          "nan_count": 2,
          "categories": [
           {
            "name": "Missing",
            "count": 2
           }
          ]
         }
        },
        {
         "name": "cumulativeGasUsed",
         "dtype": "int64",
         "stats": {
          "unique_count": 2,
          "nan_count": 0,
          "min": "1712459",
          "max": "27995552",
          "histogram": [
           {
            "bin_start": 1712459,
            "bin_end": 4340768.3,
            "count": 1
           },
           {
            "bin_start": 4340768.3,
            "bin_end": 6969077.6,
            "count": 0
           },
           {
            "bin_start": 6969077.6,
            "bin_end": 9597386.899999999,
            "count": 0
           },
           {
            "bin_start": 9597386.899999999,
            "bin_end": 12225696.2,
            "count": 0
           },
           {
            "bin_start": 12225696.2,
            "bin_end": 14854005.5,
            "count": 0
           },
           {
            "bin_start": 14854005.5,
            "bin_end": 17482314.799999997,
            "count": 0
           },
           {
            "bin_start": 17482314.799999997,
            "bin_end": 20110624.099999998,
            "count": 0
           },
           {
            "bin_start": 20110624.099999998,
            "bin_end": 22738933.4,
            "count": 0
           },
           {
            "bin_start": 22738933.4,
            "bin_end": 25367242.7,
            "count": 0
           },
           {
            "bin_start": 25367242.7,
            "bin_end": 27995552,
            "count": 1
           }
          ]
         }
        },
        {
         "name": "gasUsed",
         "dtype": "int64",
         "stats": {
          "unique_count": 2,
          "nan_count": 0,
          "min": "21000",
          "max": "58397",
          "histogram": [
           {
            "bin_start": 21000,
            "bin_end": 24739.7,
            "count": 1
           },
           {
            "bin_start": 24739.7,
            "bin_end": 28479.4,
            "count": 0
           },
           {
            "bin_start": 28479.4,
            "bin_end": 32219.1,
            "count": 0
           },
           {
            "bin_start": 32219.1,
            "bin_end": 35958.8,
            "count": 0
           },
           {
            "bin_start": 35958.8,
            "bin_end": 39698.5,
            "count": 0
           },
           {
            "bin_start": 39698.5,
            "bin_end": 43438.2,
            "count": 0
           },
           {
            "bin_start": 43438.2,
            "bin_end": 47177.899999999994,
            "count": 0
           },
           {
            "bin_start": 47177.899999999994,
            "bin_end": 50917.6,
            "count": 0
           },
           {
            "bin_start": 50917.6,
            "bin_end": 54657.299999999996,
            "count": 0
           },
           {
            "bin_start": 54657.299999999996,
            "bin_end": 58397,
            "count": 1
           }
          ]
         }
        },
        {
         "name": "confirmations",
         "dtype": "int64",
         "stats": {
          "unique_count": 2,
          "nan_count": 0,
          "min": "303435",
          "max": "303446",
          "histogram": [
           {
            "bin_start": 303435,
            "bin_end": 303436.1,
            "count": 1
           },
           {
            "bin_start": 303436.1,
            "bin_end": 303437.2,
            "count": 0
           },
           {
            "bin_start": 303437.2,
            "bin_end": 303438.3,
            "count": 0
           },
           {
            "bin_start": 303438.3,
            "bin_end": 303439.4,
            "count": 0
           },
           {
            "bin_start": 303439.4,
            "bin_end": 303440.5,
            "count": 0
           },
           {
            "bin_start": 303440.5,
            "bin_end": 303441.6,
            "count": 0
           },
           {
            "bin_start": 303441.6,
            "bin_end": 303442.7,
            "count": 0
           },
           {
            "bin_start": 303442.7,
            "bin_end": 303443.8,
            "count": 0
           },
           {
            "bin_start": 303443.8,
            "bin_end": 303444.9,
            "count": 0
           },
           {
            "bin_start": 303444.9,
            "bin_end": 303446,
            "count": 1
           }
          ]
         }
        },
        {
         "name": "projectName",
         "dtype": "object",
         "stats": {
          "unique_count": 1,
          "nan_count": 1,
          "categories": [
           {
            "name": "NFTShop Your [FREE] NFT Shop Storefront on Flow Blockchain",
            "count": 1
           },
           {
            "name": "Missing",
            "count": 1
           }
          ]
         }
        },
        {
         "name": "_deepnote_index_column",
         "dtype": "int64"
        }
       ],
       "rows_top": [
        {
         "blockNumber": 13198991,
         "timeStamp": 1631289899,
         "hash": "0x19447f4db56074a58ed898d82792b1840cae17cc9f4940a4e0403254682953dd",
         "nonce": 7,
         "blockHash": "0xad8c19b380dbf724d49032badc36a52f85adc3b498d176b1cec211a80fbec2bc",
         "transactionIndex": 21,
         "from": "0x0cbbc6ae48d9d3e14079aa15fab79a93b9f14796",
         "to": "0x447997d1dc7888a2ffc15826e7595a6f7dcc076b",
         "value": "40000000000000000",
         "gas": 21000,
         "gasPrice": 201000000000,
         "isError": 0,
         "txreceipt_status": 1,
         "input": "0x",
         "contractAddress": "nan",
         "cumulativeGasUsed": 1712459,
         "gasUsed": 21000,
         "confirmations": 303446,
         "projectName": "NFTShop Your [FREE] NFT Shop Storefront on Flow Blockchain",
         "_deepnote_index_column": 0
        },
        {
         "blockNumber": 13199002,
         "timeStamp": 1631290114,
         "hash": "0x9069dd7c39248b635b4d4129a9f747b0fbed1df80b7e3cc76a7a75567017fdfd",
         "nonce": 0,
         "blockHash": "0xceb3d9ed463a983d7472fa197aabebefca533e950aab2553feae8a9017785147",
         "transactionIndex": 306,
         "from": "0x447997d1dc7888a2ffc15826e7595a6f7dcc076b",
         "to": "0xdac17f958d2ee523a2206206994597c13d831ec7",
         "value": "0",
         "gas": 94795,
         "gasPrice": 101574817824,
         "isError": 0,
         "txreceipt_status": 1,
         "input": "0xa9059cbb000000000000000000000000a5ef5f8707713899ab957c449d2d4010f101a2990000000000000000000000000…",
         "contractAddress": "nan",
         "cumulativeGasUsed": 27995552,
         "gasUsed": 58397,
         "confirmations": 303435,
         "projectName": "nan",
         "_deepnote_index_column": 1
        }
       ],
       "rows_bottom": null
      },
      "text/plain": "   blockNumber   timeStamp                                               hash  \\\n0     13198991  1631289899  0x19447f4db56074a58ed898d82792b1840cae17cc9f49...   \n1     13199002  1631290114  0x9069dd7c39248b635b4d4129a9f747b0fbed1df80b7e...   \n\n   nonce                                          blockHash  transactionIndex  \\\n0      7  0xad8c19b380dbf724d49032badc36a52f85adc3b498d1...                21   \n1      0  0xceb3d9ed463a983d7472fa197aabebefca533e950aab...               306   \n\n                                         from  \\\n0  0x0cbbc6ae48d9d3e14079aa15fab79a93b9f14796   \n1  0x447997d1dc7888a2ffc15826e7595a6f7dcc076b   \n\n                                           to              value    gas  \\\n0  0x447997d1dc7888a2ffc15826e7595a6f7dcc076b  40000000000000000  21000   \n1  0xdac17f958d2ee523a2206206994597c13d831ec7                  0  94795   \n\n       gasPrice  isError  txreceipt_status  \\\n0  201000000000        0               1.0   \n1  101574817824        0               1.0   \n\n                                               input contractAddress  \\\n0                                                 0x             NaN   \n1  0xa9059cbb000000000000000000000000a5ef5f870771...             NaN   \n\n   cumulativeGasUsed  gasUsed  confirmations  \\\n0            1712459    21000         303446   \n1           27995552    58397         303435   \n\n                                         projectName  \n0  NFTShop Your [FREE] NFT Shop Storefront on Flo...  \n1                                                NaN  ",
      "text/html": "<div>\n<style scoped>\n    .dataframe tbody tr th:only-of-type {\n        vertical-align: middle;\n    }\n\n    .dataframe tbody tr th {\n        vertical-align: top;\n    }\n\n    .dataframe thead th {\n        text-align: right;\n    }\n</style>\n<table border=\"1\" class=\"dataframe\">\n  <thead>\n    <tr style=\"text-align: right;\">\n      <th></th>\n      <th>blockNumber</th>\n      <th>timeStamp</th>\n      <th>hash</th>\n      <th>nonce</th>\n      <th>blockHash</th>\n      <th>transactionIndex</th>\n      <th>from</th>\n      <th>to</th>\n      <th>value</th>\n      <th>gas</th>\n      <th>gasPrice</th>\n      <th>isError</th>\n      <th>txreceipt_status</th>\n      <th>input</th>\n      <th>contractAddress</th>\n      <th>cumulativeGasUsed</th>\n      <th>gasUsed</th>\n      <th>confirmations</th>\n      <th>projectName</th>\n    </tr>\n  </thead>\n  <tbody>\n    <tr>\n      <th>0</th>\n      <td>13198991</td>\n      <td>1631289899</td>\n      <td>0x19447f4db56074a58ed898d82792b1840cae17cc9f49...</td>\n      <td>7</td>\n      <td>0xad8c19b380dbf724d49032badc36a52f85adc3b498d1...</td>\n      <td>21</td>\n      <td>0x0cbbc6ae48d9d3e14079aa15fab79a93b9f14796</td>\n      <td>0x447997d1dc7888a2ffc15826e7595a6f7dcc076b</td>\n      <td>40000000000000000</td>\n      <td>21000</td>\n      <td>201000000000</td>\n      <td>0</td>\n      <td>1.0</td>\n      <td>0x</td>\n      <td>NaN</td>\n      <td>1712459</td>\n      <td>21000</td>\n      <td>303446</td>\n      <td>NFTShop Your [FREE] NFT Shop Storefront on Flo...</td>\n    </tr>\n    <tr>\n      <th>1</th>\n      <td>13199002</td>\n      <td>1631290114</td>\n      <td>0x9069dd7c39248b635b4d4129a9f747b0fbed1df80b7e...</td>\n      <td>0</td>\n      <td>0xceb3d9ed463a983d7472fa197aabebefca533e950aab...</td>\n      <td>306</td>\n      <td>0x447997d1dc7888a2ffc15826e7595a6f7dcc076b</td>\n      <td>0xdac17f958d2ee523a2206206994597c13d831ec7</td>\n      <td>0</td>\n      <td>94795</td>\n      <td>101574817824</td>\n      <td>0</td>\n      <td>1.0</td>\n      <td>0xa9059cbb000000000000000000000000a5ef5f870771...</td>\n      <td>NaN</td>\n      <td>27995552</td>\n      <td>58397</td>\n      <td>303435</td>\n      <td>NaN</td>\n    </tr>\n  </tbody>\n</table>\n</div>"
     },
     "metadata": {}
    }
   ]
  },
  {
   "cell_type": "code",
   "metadata": {
    "tags": [],
    "deepnote_to_be_reexecuted": false,
    "source_hash": "e42c8d13",
    "execution_start": 1638477130973,
    "execution_millis": 96,
    "cell_id": "00010-f26a1a17-8274-4010-a9d2-345f6c5e7519",
    "deepnote_cell_type": "code"
   },
   "source": "df['fromName'] = df['from'].map(grants)\ndf[:5]",
   "execution_count": null,
   "outputs": [
    {
     "output_type": "execute_result",
     "execution_count": 5,
     "data": {
      "application/vnd.deepnote.dataframe.v2+json": {
       "row_count": 5,
       "column_count": 20,
       "columns": [
        {
         "name": "blockNumber",
         "dtype": "int64",
         "stats": {
          "unique_count": 5,
          "nan_count": 0,
          "min": "13198991",
          "max": "13221365",
          "histogram": [
           {
            "bin_start": 13198991,
            "bin_end": 13201228.4,
            "count": 3
           },
           {
            "bin_start": 13201228.4,
            "bin_end": 13203465.8,
            "count": 0
           },
           {
            "bin_start": 13203465.8,
            "bin_end": 13205703.2,
            "count": 0
           },
           {
            "bin_start": 13205703.2,
            "bin_end": 13207940.6,
            "count": 0
           },
           {
            "bin_start": 13207940.6,
            "bin_end": 13210178,
            "count": 0
           },
           {
            "bin_start": 13210178,
            "bin_end": 13212415.4,
            "count": 0
           },
           {
            "bin_start": 13212415.4,
            "bin_end": 13214652.8,
            "count": 0
           },
           {
            "bin_start": 13214652.8,
            "bin_end": 13216890.2,
            "count": 0
           },
           {
            "bin_start": 13216890.2,
            "bin_end": 13219127.6,
            "count": 0
           },
           {
            "bin_start": 13219127.6,
            "bin_end": 13221365,
            "count": 2
           }
          ]
         }
        },
        {
         "name": "timeStamp",
         "dtype": "int64",
         "stats": {
          "unique_count": 5,
          "nan_count": 0,
          "min": "1631289899",
          "max": "1631589710",
          "histogram": [
           {
            "bin_start": 1631289899,
            "bin_end": 1631319880.1,
            "count": 3
           },
           {
            "bin_start": 1631319880.1,
            "bin_end": 1631349861.2,
            "count": 0
           },
           {
            "bin_start": 1631349861.2,
            "bin_end": 1631379842.3,
            "count": 0
           },
           {
            "bin_start": 1631379842.3,
            "bin_end": 1631409823.4,
            "count": 0
           },
           {
            "bin_start": 1631409823.4,
            "bin_end": 1631439804.5,
            "count": 0
           },
           {
            "bin_start": 1631439804.5,
            "bin_end": 1631469785.6,
            "count": 0
           },
           {
            "bin_start": 1631469785.6,
            "bin_end": 1631499766.7,
            "count": 0
           },
           {
            "bin_start": 1631499766.7,
            "bin_end": 1631529747.8,
            "count": 0
           },
           {
            "bin_start": 1631529747.8,
            "bin_end": 1631559728.9,
            "count": 0
           },
           {
            "bin_start": 1631559728.9,
            "bin_end": 1631589710,
            "count": 2
           }
          ]
         }
        },
        {
         "name": "hash",
         "dtype": "object",
         "stats": {
          "unique_count": 5,
          "nan_count": 0,
          "categories": [
           {
            "name": "0x19447f4db56074a58ed898d82792b1840cae17cc9f4940a4e0403254682953dd",
            "count": 1
           },
           {
            "name": "0x9069dd7c39248b635b4d4129a9f747b0fbed1df80b7e3cc76a7a75567017fdfd",
            "count": 1
           },
           {
            "name": "3 others",
            "count": 3
           }
          ]
         }
        },
        {
         "name": "nonce",
         "dtype": "int64",
         "stats": {
          "unique_count": 5,
          "nan_count": 0,
          "min": "0",
          "max": "7",
          "histogram": [
           {
            "bin_start": 0,
            "bin_end": 0.7,
            "count": 1
           },
           {
            "bin_start": 0.7,
            "bin_end": 1.4,
            "count": 1
           },
           {
            "bin_start": 1.4,
            "bin_end": 2.0999999999999996,
            "count": 1
           },
           {
            "bin_start": 2.0999999999999996,
            "bin_end": 2.8,
            "count": 0
           },
           {
            "bin_start": 2.8,
            "bin_end": 3.5,
            "count": 1
           },
           {
            "bin_start": 3.5,
            "bin_end": 4.199999999999999,
            "count": 0
           },
           {
            "bin_start": 4.199999999999999,
            "bin_end": 4.8999999999999995,
            "count": 0
           },
           {
            "bin_start": 4.8999999999999995,
            "bin_end": 5.6,
            "count": 0
           },
           {
            "bin_start": 5.6,
            "bin_end": 6.3,
            "count": 0
           },
           {
            "bin_start": 6.3,
            "bin_end": 7,
            "count": 1
           }
          ]
         }
        },
        {
         "name": "blockHash",
         "dtype": "object",
         "stats": {
          "unique_count": 5,
          "nan_count": 0,
          "categories": [
           {
            "name": "0xad8c19b380dbf724d49032badc36a52f85adc3b498d176b1cec211a80fbec2bc",
            "count": 1
           },
           {
            "name": "0xceb3d9ed463a983d7472fa197aabebefca533e950aab2553feae8a9017785147",
            "count": 1
           },
           {
            "name": "3 others",
            "count": 3
           }
          ]
         }
        },
        {
         "name": "transactionIndex",
         "dtype": "int64",
         "stats": {
          "unique_count": 5,
          "nan_count": 0,
          "min": "21",
          "max": "394",
          "histogram": [
           {
            "bin_start": 21,
            "bin_end": 58.3,
            "count": 1
           },
           {
            "bin_start": 58.3,
            "bin_end": 95.6,
            "count": 0
           },
           {
            "bin_start": 95.6,
            "bin_end": 132.89999999999998,
            "count": 0
           },
           {
            "bin_start": 132.89999999999998,
            "bin_end": 170.2,
            "count": 0
           },
           {
            "bin_start": 170.2,
            "bin_end": 207.5,
            "count": 0
           },
           {
            "bin_start": 207.5,
            "bin_end": 244.79999999999998,
            "count": 1
           },
           {
            "bin_start": 244.79999999999998,
            "bin_end": 282.09999999999997,
            "count": 0
           },
           {
            "bin_start": 282.09999999999997,
            "bin_end": 319.4,
            "count": 2
           },
           {
            "bin_start": 319.4,
            "bin_end": 356.7,
            "count": 0
           },
           {
            "bin_start": 356.7,
            "bin_end": 394,
            "count": 1
           }
          ]
         }
        },
        {
         "name": "from",
         "dtype": "object",
         "stats": {
          "unique_count": 2,
          "nan_count": 0,
          "categories": [
           {
            "name": "0x447997d1dc7888a2ffc15826e7595a6f7dcc076b",
            "count": 4
           },
           {
            "name": "0x0cbbc6ae48d9d3e14079aa15fab79a93b9f14796",
            "count": 1
           }
          ]
         }
        },
        {
         "name": "to",
         "dtype": "object",
         "stats": {
          "unique_count": 4,
          "nan_count": 0,
          "categories": [
           {
            "name": "0x0fd8348a05e93c703253c23763d4e836529bc87e",
            "count": 2
           },
           {
            "name": "0x447997d1dc7888a2ffc15826e7595a6f7dcc076b",
            "count": 1
           },
           {
            "name": "2 others",
            "count": 2
           }
          ]
         }
        },
        {
         "name": "value",
         "dtype": "object",
         "stats": {
          "unique_count": 5,
          "nan_count": 0,
          "categories": [
           {
            "name": "40000000000000000",
            "count": 1
           },
           {
            "name": "0",
            "count": 1
           },
           {
            "name": "3 others",
            "count": 3
           }
          ]
         }
        },
        {
         "name": "gas",
         "dtype": "int64",
         "stats": {
          "unique_count": 2,
          "nan_count": 0,
          "min": "21000",
          "max": "94795",
          "histogram": [
           {
            "bin_start": 21000,
            "bin_end": 28379.5,
            "count": 4
           },
           {
            "bin_start": 28379.5,
            "bin_end": 35759,
            "count": 0
           },
           {
            "bin_start": 35759,
            "bin_end": 43138.5,
            "count": 0
           },
           {
            "bin_start": 43138.5,
            "bin_end": 50518,
            "count": 0
           },
           {
            "bin_start": 50518,
            "bin_end": 57897.5,
            "count": 0
           },
           {
            "bin_start": 57897.5,
            "bin_end": 65277,
            "count": 0
           },
           {
            "bin_start": 65277,
            "bin_end": 72656.5,
            "count": 0
           },
           {
            "bin_start": 72656.5,
            "bin_end": 80036,
            "count": 0
           },
           {
            "bin_start": 80036,
            "bin_end": 87415.5,
            "count": 0
           },
           {
            "bin_start": 87415.5,
            "bin_end": 94795,
            "count": 1
           }
          ]
         }
        },
        {
         "name": "gasPrice",
         "dtype": "int64",
         "stats": {
          "unique_count": 5,
          "nan_count": 0,
          "min": "53119523904",
          "max": "201000000000",
          "histogram": [
           {
            "bin_start": 53119523904,
            "bin_end": 67907571513.6,
            "count": 2
           },
           {
            "bin_start": 67907571513.6,
            "bin_end": 82695619123.2,
            "count": 1
           },
           {
            "bin_start": 82695619123.2,
            "bin_end": 97483666732.8,
            "count": 0
           },
           {
            "bin_start": 97483666732.8,
            "bin_end": 112271714342.4,
            "count": 1
           },
           {
            "bin_start": 112271714342.4,
            "bin_end": 127059761952,
            "count": 0
           },
           {
            "bin_start": 127059761952,
            "bin_end": 141847809561.6,
            "count": 0
           },
           {
            "bin_start": 141847809561.6,
            "bin_end": 156635857171.2,
            "count": 0
           },
           {
            "bin_start": 156635857171.2,
            "bin_end": 171423904780.8,
            "count": 0
           },
           {
            "bin_start": 171423904780.8,
            "bin_end": 186211952390.40002,
            "count": 0
           },
           {
            "bin_start": 186211952390.40002,
            "bin_end": 201000000000,
            "count": 1
           }
          ]
         }
        },
        {
         "name": "isError",
         "dtype": "int64",
         "stats": {
          "unique_count": 1,
          "nan_count": 0,
          "min": "0",
          "max": "0",
          "histogram": [
           {
            "bin_start": -0.5,
            "bin_end": -0.4,
            "count": 0
           },
           {
            "bin_start": -0.4,
            "bin_end": -0.3,
            "count": 0
           },
           {
            "bin_start": -0.3,
            "bin_end": -0.19999999999999996,
            "count": 0
           },
           {
            "bin_start": -0.19999999999999996,
            "bin_end": -0.09999999999999998,
            "count": 0
           },
           {
            "bin_start": -0.09999999999999998,
            "bin_end": 0,
            "count": 0
           },
           {
            "bin_start": 0,
            "bin_end": 0.10000000000000009,
            "count": 5
           },
           {
            "bin_start": 0.10000000000000009,
            "bin_end": 0.20000000000000007,
            "count": 0
           },
           {
            "bin_start": 0.20000000000000007,
            "bin_end": 0.30000000000000004,
            "count": 0
           },
           {
            "bin_start": 0.30000000000000004,
            "bin_end": 0.4,
            "count": 0
           },
           {
            "bin_start": 0.4,
            "bin_end": 0.5,
            "count": 0
           }
          ]
         }
        },
        {
         "name": "txreceipt_status",
         "dtype": "float64",
         "stats": {
          "unique_count": 1,
          "nan_count": 0,
          "min": "1.0",
          "max": "1.0",
          "histogram": [
           {
            "bin_start": 0.5,
            "bin_end": 0.6,
            "count": 0
           },
           {
            "bin_start": 0.6,
            "bin_end": 0.7,
            "count": 0
           },
           {
            "bin_start": 0.7,
            "bin_end": 0.8,
            "count": 0
           },
           {
            "bin_start": 0.8,
            "bin_end": 0.9,
            "count": 0
           },
           {
            "bin_start": 0.9,
            "bin_end": 1,
            "count": 0
           },
           {
            "bin_start": 1,
            "bin_end": 1.1,
            "count": 5
           },
           {
            "bin_start": 1.1,
            "bin_end": 1.2000000000000002,
            "count": 0
           },
           {
            "bin_start": 1.2000000000000002,
            "bin_end": 1.3,
            "count": 0
           },
           {
            "bin_start": 1.3,
            "bin_end": 1.4,
            "count": 0
           },
           {
            "bin_start": 1.4,
            "bin_end": 1.5,
            "count": 0
           }
          ]
         }
        },
        {
         "name": "input",
         "dtype": "object",
         "stats": {
          "unique_count": 2,
          "nan_count": 0,
          "categories": [
           {
            "name": "0x",
            "count": 4
           },
           {
            "name": "0xa9059cbb000000000000000000000000a5ef5f8707713899ab957c449d2d4010f101a29900000000000000000000000000000000000000000000000000000000b4018b00",
            "count": 1
           }
          ]
         }
        },
        {
         "name": "contractAddress",
         "dtype": "object",
         "stats": {
          "unique_count": 0,
          "nan_count": 5,
          "categories": [
           {
            "name": "Missing",
            "count": 5
           }
          ]
         }
        },
        {
         "name": "cumulativeGasUsed",
         "dtype": "int64",
         "stats": {
          "unique_count": 5,
          "nan_count": 0,
          "min": "1712459",
          "max": "27995552",
          "histogram": [
           {
            "bin_start": 1712459,
            "bin_end": 4340768.3,
            "count": 1
           },
           {
            "bin_start": 4340768.3,
            "bin_end": 6969077.6,
            "count": 0
           },
           {
            "bin_start": 6969077.6,
            "bin_end": 9597386.899999999,
            "count": 0
           },
           {
            "bin_start": 9597386.899999999,
            "bin_end": 12225696.2,
            "count": 0
           },
           {
            "bin_start": 12225696.2,
            "bin_end": 14854005.5,
            "count": 1
           },
           {
            "bin_start": 14854005.5,
            "bin_end": 17482314.799999997,
            "count": 0
           },
           {
            "bin_start": 17482314.799999997,
            "bin_end": 20110624.099999998,
            "count": 0
           },
           {
            "bin_start": 20110624.099999998,
            "bin_end": 22738933.4,
            "count": 0
           },
           {
            "bin_start": 22738933.4,
            "bin_end": 25367242.7,
            "count": 1
           },
           {
            "bin_start": 25367242.7,
            "bin_end": 27995552,
            "count": 2
           }
          ]
         }
        },
        {
         "name": "gasUsed",
         "dtype": "int64",
         "stats": {
          "unique_count": 2,
          "nan_count": 0,
          "min": "21000",
          "max": "58397",
          "histogram": [
           {
            "bin_start": 21000,
            "bin_end": 24739.7,
            "count": 4
           },
           {
            "bin_start": 24739.7,
            "bin_end": 28479.4,
            "count": 0
           },
           {
            "bin_start": 28479.4,
            "bin_end": 32219.1,
            "count": 0
           },
           {
            "bin_start": 32219.1,
            "bin_end": 35958.8,
            "count": 0
           },
           {
            "bin_start": 35958.8,
            "bin_end": 39698.5,
            "count": 0
           },
           {
            "bin_start": 39698.5,
            "bin_end": 43438.2,
            "count": 0
           },
           {
            "bin_start": 43438.2,
            "bin_end": 47177.899999999994,
            "count": 0
           },
           {
            "bin_start": 47177.899999999994,
            "bin_end": 50917.6,
            "count": 0
           },
           {
            "bin_start": 50917.6,
            "bin_end": 54657.299999999996,
            "count": 0
           },
           {
            "bin_start": 54657.299999999996,
            "bin_end": 58397,
            "count": 1
           }
          ]
         }
        },
        {
         "name": "confirmations",
         "dtype": "int64",
         "stats": {
          "unique_count": 5,
          "nan_count": 0,
          "min": "281072",
          "max": "303446",
          "histogram": [
           {
            "bin_start": 281072,
            "bin_end": 283309.4,
            "count": 2
           },
           {
            "bin_start": 283309.4,
            "bin_end": 285546.8,
            "count": 0
           },
           {
            "bin_start": 285546.8,
            "bin_end": 287784.2,
            "count": 0
           },
           {
            "bin_start": 287784.2,
            "bin_end": 290021.6,
            "count": 0
           },
           {
            "bin_start": 290021.6,
            "bin_end": 292259,
            "count": 0
           },
           {
            "bin_start": 292259,
            "bin_end": 294496.4,
            "count": 0
           },
           {
            "bin_start": 294496.4,
            "bin_end": 296733.8,
            "count": 0
           },
           {
            "bin_start": 296733.8,
            "bin_end": 298971.2,
            "count": 0
           },
           {
            "bin_start": 298971.2,
            "bin_end": 301208.6,
            "count": 0
           },
           {
            "bin_start": 301208.6,
            "bin_end": 303446,
            "count": 3
           }
          ]
         }
        },
        {
         "name": "projectName",
         "dtype": "object",
         "stats": {
          "unique_count": 2,
          "nan_count": 2,
          "categories": [
           {
            "name": "Designing schwag in store",
            "count": 2
           },
           {
            "name": "NFTShop Your [FREE] NFT Shop Storefront on Flow Blockchain",
            "count": 1
           },
           {
            "name": "Missing",
            "count": 2
           }
          ]
         }
        },
        {
         "name": "fromName",
         "dtype": "object",
         "stats": {
          "unique_count": 1,
          "nan_count": 1,
          "categories": [
           {
            "name": "NFTShop Your [FREE] NFT Shop Storefront on Flow Blockchain",
            "count": 4
           },
           {
            "name": "Missing",
            "count": 1
           }
          ]
         }
        },
        {
         "name": "_deepnote_index_column",
         "dtype": "int64"
        }
       ],
       "rows_top": [
        {
         "blockNumber": 13198991,
         "timeStamp": 1631289899,
         "hash": "0x19447f4db56074a58ed898d82792b1840cae17cc9f4940a4e0403254682953dd",
         "nonce": 7,
         "blockHash": "0xad8c19b380dbf724d49032badc36a52f85adc3b498d176b1cec211a80fbec2bc",
         "transactionIndex": 21,
         "from": "0x0cbbc6ae48d9d3e14079aa15fab79a93b9f14796",
         "to": "0x447997d1dc7888a2ffc15826e7595a6f7dcc076b",
         "value": "40000000000000000",
         "gas": 21000,
         "gasPrice": 201000000000,
         "isError": 0,
         "txreceipt_status": 1,
         "input": "0x",
         "contractAddress": "nan",
         "cumulativeGasUsed": 1712459,
         "gasUsed": 21000,
         "confirmations": 303446,
         "projectName": "NFTShop Your [FREE] NFT Shop Storefront on Flow Blockchain",
         "fromName": "nan",
         "_deepnote_index_column": 0
        },
        {
         "blockNumber": 13199002,
         "timeStamp": 1631290114,
         "hash": "0x9069dd7c39248b635b4d4129a9f747b0fbed1df80b7e3cc76a7a75567017fdfd",
         "nonce": 0,
         "blockHash": "0xceb3d9ed463a983d7472fa197aabebefca533e950aab2553feae8a9017785147",
         "transactionIndex": 306,
         "from": "0x447997d1dc7888a2ffc15826e7595a6f7dcc076b",
         "to": "0xdac17f958d2ee523a2206206994597c13d831ec7",
         "value": "0",
         "gas": 94795,
         "gasPrice": 101574817824,
         "isError": 0,
         "txreceipt_status": 1,
         "input": "0xa9059cbb000000000000000000000000a5ef5f8707713899ab957c449d2d4010f101a2990000000000000000000000000…",
         "contractAddress": "nan",
         "cumulativeGasUsed": 27995552,
         "gasUsed": 58397,
         "confirmations": 303435,
         "projectName": "nan",
         "fromName": "NFTShop Your [FREE] NFT Shop Storefront on Flow Blockchain",
         "_deepnote_index_column": 1
        },
        {
         "blockNumber": 13199011,
         "timeStamp": 1631290177,
         "hash": "0x2b3732bade815729a849a6fa52b9390bfface387fc2b2d133ed68fcb4da2ec9d",
         "nonce": 1,
         "blockHash": "0xf447eb0e038a705484ab75593f86bc27767db937ce836b71bf7efc2b5fa18b70",
         "transactionIndex": 311,
         "from": "0x447997d1dc7888a2ffc15826e7595a6f7dcc076b",
         "to": "0x0cbbc6ae48d9d3e14079aa15fab79a93b9f14796",
         "value": "30726977495774872",
         "gas": 21000,
         "gasPrice": 81080397574,
         "isError": 0,
         "txreceipt_status": 1,
         "input": "0x",
         "contractAddress": "nan",
         "cumulativeGasUsed": 25089151,
         "gasUsed": 21000,
         "confirmations": 303426,
         "projectName": "nan",
         "fromName": "NFTShop Your [FREE] NFT Shop Storefront on Flow Blockchain",
         "_deepnote_index_column": 2
        },
        {
         "blockNumber": 13221357,
         "timeStamp": 1631589568,
         "hash": "0x776d0ec5b42ae36c51594318032c5cc7eb1329ad591b93d7562aa907de234304",
         "nonce": 2,
         "blockHash": "0xaca7d72be2090ac8253252646da7f7a6b1dc092ae726e10e398ab316c9bdc57b",
         "transactionIndex": 394,
         "from": "0x447997d1dc7888a2ffc15826e7595a6f7dcc076b",
         "to": "0x0fd8348a05e93c703253c23763d4e836529bc87e",
         "value": "300000000000000",
         "gas": 21000,
         "gasPrice": 53119523904,
         "isError": 0,
         "txreceipt_status": 1,
         "input": "0x",
         "contractAddress": "nan",
         "cumulativeGasUsed": 26012454,
         "gasUsed": 21000,
         "confirmations": 281080,
         "projectName": "Designing schwag in store",
         "fromName": "NFTShop Your [FREE] NFT Shop Storefront on Flow Blockchain",
         "_deepnote_index_column": 3
        },
        {
         "blockNumber": 13221365,
         "timeStamp": 1631589710,
         "hash": "0xc765b90ed4a0a46559b947e4f4a68eede8f26f463a3cd442e5083b383b8bb4b9",
         "nonce": 3,
         "blockHash": "0x80dd61aa43168581e7478f928a3e9d085e4ee1ff59cd9b71b8f234df11e7f727",
         "transactionIndex": 208,
         "from": "0x447997d1dc7888a2ffc15826e7595a6f7dcc076b",
         "to": "0x0fd8348a05e93c703253c23763d4e836529bc87e",
         "value": "666000000000000",
         "gas": 21000,
         "gasPrice": 58632901610,
         "isError": 0,
         "txreceipt_status": 1,
         "input": "0x",
         "contractAddress": "nan",
         "cumulativeGasUsed": 13126545,
         "gasUsed": 21000,
         "confirmations": 281072,
         "projectName": "Designing schwag in store",
         "fromName": "NFTShop Your [FREE] NFT Shop Storefront on Flow Blockchain",
         "_deepnote_index_column": 4
        }
       ],
       "rows_bottom": null
      },
      "text/plain": "   blockNumber   timeStamp                                               hash  \\\n0     13198991  1631289899  0x19447f4db56074a58ed898d82792b1840cae17cc9f49...   \n1     13199002  1631290114  0x9069dd7c39248b635b4d4129a9f747b0fbed1df80b7e...   \n2     13199011  1631290177  0x2b3732bade815729a849a6fa52b9390bfface387fc2b...   \n3     13221357  1631589568  0x776d0ec5b42ae36c51594318032c5cc7eb1329ad591b...   \n4     13221365  1631589710  0xc765b90ed4a0a46559b947e4f4a68eede8f26f463a3c...   \n\n   nonce                                          blockHash  transactionIndex  \\\n0      7  0xad8c19b380dbf724d49032badc36a52f85adc3b498d1...                21   \n1      0  0xceb3d9ed463a983d7472fa197aabebefca533e950aab...               306   \n2      1  0xf447eb0e038a705484ab75593f86bc27767db937ce83...               311   \n3      2  0xaca7d72be2090ac8253252646da7f7a6b1dc092ae726...               394   \n4      3  0x80dd61aa43168581e7478f928a3e9d085e4ee1ff59cd...               208   \n\n                                         from  \\\n0  0x0cbbc6ae48d9d3e14079aa15fab79a93b9f14796   \n1  0x447997d1dc7888a2ffc15826e7595a6f7dcc076b   \n2  0x447997d1dc7888a2ffc15826e7595a6f7dcc076b   \n3  0x447997d1dc7888a2ffc15826e7595a6f7dcc076b   \n4  0x447997d1dc7888a2ffc15826e7595a6f7dcc076b   \n\n                                           to              value    gas  \\\n0  0x447997d1dc7888a2ffc15826e7595a6f7dcc076b  40000000000000000  21000   \n1  0xdac17f958d2ee523a2206206994597c13d831ec7                  0  94795   \n2  0x0cbbc6ae48d9d3e14079aa15fab79a93b9f14796  30726977495774872  21000   \n3  0x0fd8348a05e93c703253c23763d4e836529bc87e    300000000000000  21000   \n4  0x0fd8348a05e93c703253c23763d4e836529bc87e    666000000000000  21000   \n\n       gasPrice  isError  txreceipt_status  \\\n0  201000000000        0               1.0   \n1  101574817824        0               1.0   \n2   81080397574        0               1.0   \n3   53119523904        0               1.0   \n4   58632901610        0               1.0   \n\n                                               input contractAddress  \\\n0                                                 0x             NaN   \n1  0xa9059cbb000000000000000000000000a5ef5f870771...             NaN   \n2                                                 0x             NaN   \n3                                                 0x             NaN   \n4                                                 0x             NaN   \n\n   cumulativeGasUsed  gasUsed  confirmations  \\\n0            1712459    21000         303446   \n1           27995552    58397         303435   \n2           25089151    21000         303426   \n3           26012454    21000         281080   \n4           13126545    21000         281072   \n\n                                         projectName  \\\n0  NFTShop Your [FREE] NFT Shop Storefront on Flo...   \n1                                                NaN   \n2                                                NaN   \n3                          Designing schwag in store   \n4                          Designing schwag in store   \n\n                                            fromName  \n0                                                NaN  \n1  NFTShop Your [FREE] NFT Shop Storefront on Flo...  \n2  NFTShop Your [FREE] NFT Shop Storefront on Flo...  \n3  NFTShop Your [FREE] NFT Shop Storefront on Flo...  \n4  NFTShop Your [FREE] NFT Shop Storefront on Flo...  ",
      "text/html": "<div>\n<style scoped>\n    .dataframe tbody tr th:only-of-type {\n        vertical-align: middle;\n    }\n\n    .dataframe tbody tr th {\n        vertical-align: top;\n    }\n\n    .dataframe thead th {\n        text-align: right;\n    }\n</style>\n<table border=\"1\" class=\"dataframe\">\n  <thead>\n    <tr style=\"text-align: right;\">\n      <th></th>\n      <th>blockNumber</th>\n      <th>timeStamp</th>\n      <th>hash</th>\n      <th>nonce</th>\n      <th>blockHash</th>\n      <th>transactionIndex</th>\n      <th>from</th>\n      <th>to</th>\n      <th>value</th>\n      <th>gas</th>\n      <th>gasPrice</th>\n      <th>isError</th>\n      <th>txreceipt_status</th>\n      <th>input</th>\n      <th>contractAddress</th>\n      <th>cumulativeGasUsed</th>\n      <th>gasUsed</th>\n      <th>confirmations</th>\n      <th>projectName</th>\n      <th>fromName</th>\n    </tr>\n  </thead>\n  <tbody>\n    <tr>\n      <th>0</th>\n      <td>13198991</td>\n      <td>1631289899</td>\n      <td>0x19447f4db56074a58ed898d82792b1840cae17cc9f49...</td>\n      <td>7</td>\n      <td>0xad8c19b380dbf724d49032badc36a52f85adc3b498d1...</td>\n      <td>21</td>\n      <td>0x0cbbc6ae48d9d3e14079aa15fab79a93b9f14796</td>\n      <td>0x447997d1dc7888a2ffc15826e7595a6f7dcc076b</td>\n      <td>40000000000000000</td>\n      <td>21000</td>\n      <td>201000000000</td>\n      <td>0</td>\n      <td>1.0</td>\n      <td>0x</td>\n      <td>NaN</td>\n      <td>1712459</td>\n      <td>21000</td>\n      <td>303446</td>\n      <td>NFTShop Your [FREE] NFT Shop Storefront on Flo...</td>\n      <td>NaN</td>\n    </tr>\n    <tr>\n      <th>1</th>\n      <td>13199002</td>\n      <td>1631290114</td>\n      <td>0x9069dd7c39248b635b4d4129a9f747b0fbed1df80b7e...</td>\n      <td>0</td>\n      <td>0xceb3d9ed463a983d7472fa197aabebefca533e950aab...</td>\n      <td>306</td>\n      <td>0x447997d1dc7888a2ffc15826e7595a6f7dcc076b</td>\n      <td>0xdac17f958d2ee523a2206206994597c13d831ec7</td>\n      <td>0</td>\n      <td>94795</td>\n      <td>101574817824</td>\n      <td>0</td>\n      <td>1.0</td>\n      <td>0xa9059cbb000000000000000000000000a5ef5f870771...</td>\n      <td>NaN</td>\n      <td>27995552</td>\n      <td>58397</td>\n      <td>303435</td>\n      <td>NaN</td>\n      <td>NFTShop Your [FREE] NFT Shop Storefront on Flo...</td>\n    </tr>\n    <tr>\n      <th>2</th>\n      <td>13199011</td>\n      <td>1631290177</td>\n      <td>0x2b3732bade815729a849a6fa52b9390bfface387fc2b...</td>\n      <td>1</td>\n      <td>0xf447eb0e038a705484ab75593f86bc27767db937ce83...</td>\n      <td>311</td>\n      <td>0x447997d1dc7888a2ffc15826e7595a6f7dcc076b</td>\n      <td>0x0cbbc6ae48d9d3e14079aa15fab79a93b9f14796</td>\n      <td>30726977495774872</td>\n      <td>21000</td>\n      <td>81080397574</td>\n      <td>0</td>\n      <td>1.0</td>\n      <td>0x</td>\n      <td>NaN</td>\n      <td>25089151</td>\n      <td>21000</td>\n      <td>303426</td>\n      <td>NaN</td>\n      <td>NFTShop Your [FREE] NFT Shop Storefront on Flo...</td>\n    </tr>\n    <tr>\n      <th>3</th>\n      <td>13221357</td>\n      <td>1631589568</td>\n      <td>0x776d0ec5b42ae36c51594318032c5cc7eb1329ad591b...</td>\n      <td>2</td>\n      <td>0xaca7d72be2090ac8253252646da7f7a6b1dc092ae726...</td>\n      <td>394</td>\n      <td>0x447997d1dc7888a2ffc15826e7595a6f7dcc076b</td>\n      <td>0x0fd8348a05e93c703253c23763d4e836529bc87e</td>\n      <td>300000000000000</td>\n      <td>21000</td>\n      <td>53119523904</td>\n      <td>0</td>\n      <td>1.0</td>\n      <td>0x</td>\n      <td>NaN</td>\n      <td>26012454</td>\n      <td>21000</td>\n      <td>281080</td>\n      <td>Designing schwag in store</td>\n      <td>NFTShop Your [FREE] NFT Shop Storefront on Flo...</td>\n    </tr>\n    <tr>\n      <th>4</th>\n      <td>13221365</td>\n      <td>1631589710</td>\n      <td>0xc765b90ed4a0a46559b947e4f4a68eede8f26f463a3c...</td>\n      <td>3</td>\n      <td>0x80dd61aa43168581e7478f928a3e9d085e4ee1ff59cd...</td>\n      <td>208</td>\n      <td>0x447997d1dc7888a2ffc15826e7595a6f7dcc076b</td>\n      <td>0x0fd8348a05e93c703253c23763d4e836529bc87e</td>\n      <td>666000000000000</td>\n      <td>21000</td>\n      <td>58632901610</td>\n      <td>0</td>\n      <td>1.0</td>\n      <td>0x</td>\n      <td>NaN</td>\n      <td>13126545</td>\n      <td>21000</td>\n      <td>281072</td>\n      <td>Designing schwag in store</td>\n      <td>NFTShop Your [FREE] NFT Shop Storefront on Flo...</td>\n    </tr>\n  </tbody>\n</table>\n</div>"
     },
     "metadata": {}
    }
   ]
  },
  {
   "cell_type": "markdown",
   "source": "Drop rows that are not TO a grant. (i.e. drop the from rows)",
   "metadata": {
    "tags": [],
    "cell_id": "00011-611d2fb8-1e30-4869-9e8d-11bbb473cc42",
    "deepnote_cell_type": "markdown"
   }
  },
  {
   "cell_type": "code",
   "metadata": {
    "tags": [],
    "deepnote_to_be_reexecuted": false,
    "source_hash": "7c9ea664",
    "execution_start": 1638477131229,
    "execution_millis": 168,
    "deepnote_output_heights": [
     null,
     21.1875
    ],
    "cell_id": "00012-40c2f6b6-76f4-4d43-b1aa-a8da873135dc",
    "deepnote_cell_type": "code"
   },
   "source": "drop_mask1 = df.projectName.isna()\nprint(sum(drop_mask1))\ndf = df[~drop_mask1]\nlen(df)",
   "execution_count": null,
   "outputs": [
    {
     "name": "stdout",
     "text": "388696\n",
     "output_type": "stream"
    },
    {
     "output_type": "execute_result",
     "execution_count": 6,
     "data": {
      "text/plain": "111383"
     },
     "metadata": {}
    }
   ]
  },
  {
   "cell_type": "markdown",
   "source": "Create a dt column",
   "metadata": {
    "tags": [],
    "cell_id": "00013-4c3ca125-2503-48ba-8ed8-50f71260f889",
    "deepnote_cell_type": "markdown"
   }
  },
  {
   "cell_type": "code",
   "metadata": {
    "tags": [],
    "deepnote_to_be_reexecuted": false,
    "source_hash": "c2a118cb",
    "execution_start": 1638477131445,
    "execution_millis": 201,
    "cell_id": "00014-f0d829bf-ee2b-4531-ac6c-8595ae794f1a",
    "deepnote_cell_type": "code"
   },
   "source": "df.loc[:, 'dt'] = pd.to_datetime(df.timeStamp, unit='s')\ndf[:2]",
   "execution_count": null,
   "outputs": [
    {
     "output_type": "execute_result",
     "execution_count": 7,
     "data": {
      "application/vnd.deepnote.dataframe.v2+json": {
       "row_count": 2,
       "column_count": 21,
       "columns": [
        {
         "name": "blockNumber",
         "dtype": "int64",
         "stats": {
          "unique_count": 2,
          "nan_count": 0,
          "min": "13198991",
          "max": "13221357",
          "histogram": [
           {
            "bin_start": 13198991,
            "bin_end": 13201227.6,
            "count": 1
           },
           {
            "bin_start": 13201227.6,
            "bin_end": 13203464.2,
            "count": 0
           },
           {
            "bin_start": 13203464.2,
            "bin_end": 13205700.8,
            "count": 0
           },
           {
            "bin_start": 13205700.8,
            "bin_end": 13207937.4,
            "count": 0
           },
           {
            "bin_start": 13207937.4,
            "bin_end": 13210174,
            "count": 0
           },
           {
            "bin_start": 13210174,
            "bin_end": 13212410.6,
            "count": 0
           },
           {
            "bin_start": 13212410.6,
            "bin_end": 13214647.2,
            "count": 0
           },
           {
            "bin_start": 13214647.2,
            "bin_end": 13216883.8,
            "count": 0
           },
           {
            "bin_start": 13216883.8,
            "bin_end": 13219120.4,
            "count": 0
           },
           {
            "bin_start": 13219120.4,
            "bin_end": 13221357,
            "count": 1
           }
          ]
         }
        },
        {
         "name": "timeStamp",
         "dtype": "int64",
         "stats": {
          "unique_count": 2,
          "nan_count": 0,
          "min": "1631289899",
          "max": "1631589568",
          "histogram": [
           {
            "bin_start": 1631289899,
            "bin_end": 1631319865.9,
            "count": 1
           },
           {
            "bin_start": 1631319865.9,
            "bin_end": 1631349832.8,
            "count": 0
           },
           {
            "bin_start": 1631349832.8,
            "bin_end": 1631379799.7,
            "count": 0
           },
           {
            "bin_start": 1631379799.7,
            "bin_end": 1631409766.6,
            "count": 0
           },
           {
            "bin_start": 1631409766.6,
            "bin_end": 1631439733.5,
            "count": 0
           },
           {
            "bin_start": 1631439733.5,
            "bin_end": 1631469700.4,
            "count": 0
           },
           {
            "bin_start": 1631469700.4,
            "bin_end": 1631499667.3,
            "count": 0
           },
           {
            "bin_start": 1631499667.3,
            "bin_end": 1631529634.2,
            "count": 0
           },
           {
            "bin_start": 1631529634.2,
            "bin_end": 1631559601.1,
            "count": 0
           },
           {
            "bin_start": 1631559601.1,
            "bin_end": 1631589568,
            "count": 1
           }
          ]
         }
        },
        {
         "name": "hash",
         "dtype": "object",
         "stats": {
          "unique_count": 2,
          "nan_count": 0,
          "categories": [
           {
            "name": "0x19447f4db56074a58ed898d82792b1840cae17cc9f4940a4e0403254682953dd",
            "count": 1
           },
           {
            "name": "0x776d0ec5b42ae36c51594318032c5cc7eb1329ad591b93d7562aa907de234304",
            "count": 1
           }
          ]
         }
        },
        {
         "name": "nonce",
         "dtype": "int64",
         "stats": {
          "unique_count": 2,
          "nan_count": 0,
          "min": "2",
          "max": "7",
          "histogram": [
           {
            "bin_start": 2,
            "bin_end": 2.5,
            "count": 1
           },
           {
            "bin_start": 2.5,
            "bin_end": 3,
            "count": 0
           },
           {
            "bin_start": 3,
            "bin_end": 3.5,
            "count": 0
           },
           {
            "bin_start": 3.5,
            "bin_end": 4,
            "count": 0
           },
           {
            "bin_start": 4,
            "bin_end": 4.5,
            "count": 0
           },
           {
            "bin_start": 4.5,
            "bin_end": 5,
            "count": 0
           },
           {
            "bin_start": 5,
            "bin_end": 5.5,
            "count": 0
           },
           {
            "bin_start": 5.5,
            "bin_end": 6,
            "count": 0
           },
           {
            "bin_start": 6,
            "bin_end": 6.5,
            "count": 0
           },
           {
            "bin_start": 6.5,
            "bin_end": 7,
            "count": 1
           }
          ]
         }
        },
        {
         "name": "blockHash",
         "dtype": "object",
         "stats": {
          "unique_count": 2,
          "nan_count": 0,
          "categories": [
           {
            "name": "0xad8c19b380dbf724d49032badc36a52f85adc3b498d176b1cec211a80fbec2bc",
            "count": 1
           },
           {
            "name": "0xaca7d72be2090ac8253252646da7f7a6b1dc092ae726e10e398ab316c9bdc57b",
            "count": 1
           }
          ]
         }
        },
        {
         "name": "transactionIndex",
         "dtype": "int64",
         "stats": {
          "unique_count": 2,
          "nan_count": 0,
          "min": "21",
          "max": "394",
          "histogram": [
           {
            "bin_start": 21,
            "bin_end": 58.3,
            "count": 1
           },
           {
            "bin_start": 58.3,
            "bin_end": 95.6,
            "count": 0
           },
           {
            "bin_start": 95.6,
            "bin_end": 132.89999999999998,
            "count": 0
           },
           {
            "bin_start": 132.89999999999998,
            "bin_end": 170.2,
            "count": 0
           },
           {
            "bin_start": 170.2,
            "bin_end": 207.5,
            "count": 0
           },
           {
            "bin_start": 207.5,
            "bin_end": 244.79999999999998,
            "count": 0
           },
           {
            "bin_start": 244.79999999999998,
            "bin_end": 282.09999999999997,
            "count": 0
           },
           {
            "bin_start": 282.09999999999997,
            "bin_end": 319.4,
            "count": 0
           },
           {
            "bin_start": 319.4,
            "bin_end": 356.7,
            "count": 0
           },
           {
            "bin_start": 356.7,
            "bin_end": 394,
            "count": 1
           }
          ]
         }
        },
        {
         "name": "from",
         "dtype": "object",
         "stats": {
          "unique_count": 2,
          "nan_count": 0,
          "categories": [
           {
            "name": "0x0cbbc6ae48d9d3e14079aa15fab79a93b9f14796",
            "count": 1
           },
           {
            "name": "0x447997d1dc7888a2ffc15826e7595a6f7dcc076b",
            "count": 1
           }
          ]
         }
        },
        {
         "name": "to",
         "dtype": "object",
         "stats": {
          "unique_count": 2,
          "nan_count": 0,
          "categories": [
           {
            "name": "0x447997d1dc7888a2ffc15826e7595a6f7dcc076b",
            "count": 1
           },
           {
            "name": "0x0fd8348a05e93c703253c23763d4e836529bc87e",
            "count": 1
           }
          ]
         }
        },
        {
         "name": "value",
         "dtype": "object",
         "stats": {
          "unique_count": 2,
          "nan_count": 0,
          "categories": [
           {
            "name": "40000000000000000",
            "count": 1
           },
           {
            "name": "300000000000000",
            "count": 1
           }
          ]
         }
        },
        {
         "name": "gas",
         "dtype": "int64",
         "stats": {
          "unique_count": 1,
          "nan_count": 0,
          "min": "21000",
          "max": "21000",
          "histogram": [
           {
            "bin_start": 20999.5,
            "bin_end": 20999.6,
            "count": 0
           },
           {
            "bin_start": 20999.6,
            "bin_end": 20999.7,
            "count": 0
           },
           {
            "bin_start": 20999.7,
            "bin_end": 20999.8,
            "count": 0
           },
           {
            "bin_start": 20999.8,
            "bin_end": 20999.9,
            "count": 0
           },
           {
            "bin_start": 20999.9,
            "bin_end": 21000,
            "count": 0
           },
           {
            "bin_start": 21000,
            "bin_end": 21000.1,
            "count": 2
           },
           {
            "bin_start": 21000.1,
            "bin_end": 21000.2,
            "count": 0
           },
           {
            "bin_start": 21000.2,
            "bin_end": 21000.3,
            "count": 0
           },
           {
            "bin_start": 21000.3,
            "bin_end": 21000.4,
            "count": 0
           },
           {
            "bin_start": 21000.4,
            "bin_end": 21000.5,
            "count": 0
           }
          ]
         }
        },
        {
         "name": "gasPrice",
         "dtype": "int64",
         "stats": {
          "unique_count": 2,
          "nan_count": 0,
          "min": "53119523904",
          "max": "201000000000",
          "histogram": [
           {
            "bin_start": 53119523904,
            "bin_end": 67907571513.6,
            "count": 1
           },
           {
            "bin_start": 67907571513.6,
            "bin_end": 82695619123.2,
            "count": 0
           },
           {
            "bin_start": 82695619123.2,
            "bin_end": 97483666732.8,
            "count": 0
           },
           {
            "bin_start": 97483666732.8,
            "bin_end": 112271714342.4,
            "count": 0
           },
           {
            "bin_start": 112271714342.4,
            "bin_end": 127059761952,
            "count": 0
           },
           {
            "bin_start": 127059761952,
            "bin_end": 141847809561.6,
            "count": 0
           },
           {
            "bin_start": 141847809561.6,
            "bin_end": 156635857171.2,
            "count": 0
           },
           {
            "bin_start": 156635857171.2,
            "bin_end": 171423904780.8,
            "count": 0
           },
           {
            "bin_start": 171423904780.8,
            "bin_end": 186211952390.40002,
            "count": 0
           },
           {
            "bin_start": 186211952390.40002,
            "bin_end": 201000000000,
            "count": 1
           }
          ]
         }
        },
        {
         "name": "isError",
         "dtype": "int64",
         "stats": {
          "unique_count": 1,
          "nan_count": 0,
          "min": "0",
          "max": "0",
          "histogram": [
           {
            "bin_start": -0.5,
            "bin_end": -0.4,
            "count": 0
           },
           {
            "bin_start": -0.4,
            "bin_end": -0.3,
            "count": 0
           },
           {
            "bin_start": -0.3,
            "bin_end": -0.19999999999999996,
            "count": 0
           },
           {
            "bin_start": -0.19999999999999996,
            "bin_end": -0.09999999999999998,
            "count": 0
           },
           {
            "bin_start": -0.09999999999999998,
            "bin_end": 0,
            "count": 0
           },
           {
            "bin_start": 0,
            "bin_end": 0.10000000000000009,
            "count": 2
           },
           {
            "bin_start": 0.10000000000000009,
            "bin_end": 0.20000000000000007,
            "count": 0
           },
           {
            "bin_start": 0.20000000000000007,
            "bin_end": 0.30000000000000004,
            "count": 0
           },
           {
            "bin_start": 0.30000000000000004,
            "bin_end": 0.4,
            "count": 0
           },
           {
            "bin_start": 0.4,
            "bin_end": 0.5,
            "count": 0
           }
          ]
         }
        },
        {
         "name": "txreceipt_status",
         "dtype": "float64",
         "stats": {
          "unique_count": 1,
          "nan_count": 0,
          "min": "1.0",
          "max": "1.0",
          "histogram": [
           {
            "bin_start": 0.5,
            "bin_end": 0.6,
            "count": 0
           },
           {
            "bin_start": 0.6,
            "bin_end": 0.7,
            "count": 0
           },
           {
            "bin_start": 0.7,
            "bin_end": 0.8,
            "count": 0
           },
           {
            "bin_start": 0.8,
            "bin_end": 0.9,
            "count": 0
           },
           {
            "bin_start": 0.9,
            "bin_end": 1,
            "count": 0
           },
           {
            "bin_start": 1,
            "bin_end": 1.1,
            "count": 2
           },
           {
            "bin_start": 1.1,
            "bin_end": 1.2000000000000002,
            "count": 0
           },
           {
            "bin_start": 1.2000000000000002,
            "bin_end": 1.3,
            "count": 0
           },
           {
            "bin_start": 1.3,
            "bin_end": 1.4,
            "count": 0
           },
           {
            "bin_start": 1.4,
            "bin_end": 1.5,
            "count": 0
           }
          ]
         }
        },
        {
         "name": "input",
         "dtype": "object",
         "stats": {
          "unique_count": 1,
          "nan_count": 0,
          "categories": [
           {
            "name": "0x",
            "count": 2
           }
          ]
         }
        },
        {
         "name": "contractAddress",
         "dtype": "object",
         "stats": {
          "unique_count": 0,
          "nan_count": 2,
          "categories": [
           {
            "name": "Missing",
            "count": 2
           }
          ]
         }
        },
        {
         "name": "cumulativeGasUsed",
         "dtype": "int64",
         "stats": {
          "unique_count": 2,
          "nan_count": 0,
          "min": "1712459",
          "max": "26012454",
          "histogram": [
           {
            "bin_start": 1712459,
            "bin_end": 4142458.5,
            "count": 1
           },
           {
            "bin_start": 4142458.5,
            "bin_end": 6572458,
            "count": 0
           },
           {
            "bin_start": 6572458,
            "bin_end": 9002457.5,
            "count": 0
           },
           {
            "bin_start": 9002457.5,
            "bin_end": 11432457,
            "count": 0
           },
           {
            "bin_start": 11432457,
            "bin_end": 13862456.5,
            "count": 0
           },
           {
            "bin_start": 13862456.5,
            "bin_end": 16292456,
            "count": 0
           },
           {
            "bin_start": 16292456,
            "bin_end": 18722455.5,
            "count": 0
           },
           {
            "bin_start": 18722455.5,
            "bin_end": 21152455,
            "count": 0
           },
           {
            "bin_start": 21152455,
            "bin_end": 23582454.5,
            "count": 0
           },
           {
            "bin_start": 23582454.5,
            "bin_end": 26012454,
            "count": 1
           }
          ]
         }
        },
        {
         "name": "gasUsed",
         "dtype": "int64",
         "stats": {
          "unique_count": 1,
          "nan_count": 0,
          "min": "21000",
          "max": "21000",
          "histogram": [
           {
            "bin_start": 20999.5,
            "bin_end": 20999.6,
            "count": 0
           },
           {
            "bin_start": 20999.6,
            "bin_end": 20999.7,
            "count": 0
           },
           {
            "bin_start": 20999.7,
            "bin_end": 20999.8,
            "count": 0
           },
           {
            "bin_start": 20999.8,
            "bin_end": 20999.9,
            "count": 0
           },
           {
            "bin_start": 20999.9,
            "bin_end": 21000,
            "count": 0
           },
           {
            "bin_start": 21000,
            "bin_end": 21000.1,
            "count": 2
           },
           {
            "bin_start": 21000.1,
            "bin_end": 21000.2,
            "count": 0
           },
           {
            "bin_start": 21000.2,
            "bin_end": 21000.3,
            "count": 0
           },
           {
            "bin_start": 21000.3,
            "bin_end": 21000.4,
            "count": 0
           },
           {
            "bin_start": 21000.4,
            "bin_end": 21000.5,
            "count": 0
           }
          ]
         }
        },
        {
         "name": "confirmations",
         "dtype": "int64",
         "stats": {
          "unique_count": 2,
          "nan_count": 0,
          "min": "281080",
          "max": "303446",
          "histogram": [
           {
            "bin_start": 281080,
            "bin_end": 283316.6,
            "count": 1
           },
           {
            "bin_start": 283316.6,
            "bin_end": 285553.2,
            "count": 0
           },
           {
            "bin_start": 285553.2,
            "bin_end": 287789.8,
            "count": 0
           },
           {
            "bin_start": 287789.8,
            "bin_end": 290026.4,
            "count": 0
           },
           {
            "bin_start": 290026.4,
            "bin_end": 292263,
            "count": 0
           },
           {
            "bin_start": 292263,
            "bin_end": 294499.6,
            "count": 0
           },
           {
            "bin_start": 294499.6,
            "bin_end": 296736.2,
            "count": 0
           },
           {
            "bin_start": 296736.2,
            "bin_end": 298972.8,
            "count": 0
           },
           {
            "bin_start": 298972.8,
            "bin_end": 301209.4,
            "count": 0
           },
           {
            "bin_start": 301209.4,
            "bin_end": 303446,
            "count": 1
           }
          ]
         }
        },
        {
         "name": "projectName",
         "dtype": "object",
         "stats": {
          "unique_count": 2,
          "nan_count": 0,
          "categories": [
           {
            "name": "NFTShop Your [FREE] NFT Shop Storefront on Flow Blockchain",
            "count": 1
           },
           {
            "name": "Designing schwag in store",
            "count": 1
           }
          ]
         }
        },
        {
         "name": "fromName",
         "dtype": "object",
         "stats": {
          "unique_count": 1,
          "nan_count": 1,
          "categories": [
           {
            "name": "NFTShop Your [FREE] NFT Shop Storefront on Flow Blockchain",
            "count": 1
           },
           {
            "name": "Missing",
            "count": 1
           }
          ]
         }
        },
        {
         "name": "dt",
         "dtype": "datetime64[ns]",
         "stats": {
          "unique_count": 2,
          "nan_count": 0,
          "min": "2021-09-10 16:04:59",
          "max": "2021-09-14 03:19:28",
          "histogram": [
           {
            "bin_start": 1631289899000000000,
            "bin_end": 1631319865900000000,
            "count": 1
           },
           {
            "bin_start": 1631319865900000000,
            "bin_end": 1631349832800000000,
            "count": 0
           },
           {
            "bin_start": 1631349832800000000,
            "bin_end": 1631379799700000000,
            "count": 0
           },
           {
            "bin_start": 1631379799700000000,
            "bin_end": 1631409766600000000,
            "count": 0
           },
           {
            "bin_start": 1631409766600000000,
            "bin_end": 1631439733500000000,
            "count": 0
           },
           {
            "bin_start": 1631439733500000000,
            "bin_end": 1631469700400000000,
            "count": 0
           },
           {
            "bin_start": 1631469700400000000,
            "bin_end": 1631499667300000000,
            "count": 0
           },
           {
            "bin_start": 1631499667300000000,
            "bin_end": 1631529634200000000,
            "count": 0
           },
           {
            "bin_start": 1631529634200000000,
            "bin_end": 1631559601100000000,
            "count": 0
           },
           {
            "bin_start": 1631559601100000000,
            "bin_end": 1631589568000000000,
            "count": 1
           }
          ]
         }
        },
        {
         "name": "_deepnote_index_column",
         "dtype": "int64"
        }
       ],
       "rows_top": [
        {
         "blockNumber": 13198991,
         "timeStamp": 1631289899,
         "hash": "0x19447f4db56074a58ed898d82792b1840cae17cc9f4940a4e0403254682953dd",
         "nonce": 7,
         "blockHash": "0xad8c19b380dbf724d49032badc36a52f85adc3b498d176b1cec211a80fbec2bc",
         "transactionIndex": 21,
         "from": "0x0cbbc6ae48d9d3e14079aa15fab79a93b9f14796",
         "to": "0x447997d1dc7888a2ffc15826e7595a6f7dcc076b",
         "value": "40000000000000000",
         "gas": 21000,
         "gasPrice": 201000000000,
         "isError": 0,
         "txreceipt_status": 1,
         "input": "0x",
         "contractAddress": "nan",
         "cumulativeGasUsed": 1712459,
         "gasUsed": 21000,
         "confirmations": 303446,
         "projectName": "NFTShop Your [FREE] NFT Shop Storefront on Flow Blockchain",
         "fromName": "nan",
         "dt": "2021-09-10T16:04:59.000000",
         "_deepnote_index_column": 0
        },
        {
         "blockNumber": 13221357,
         "timeStamp": 1631589568,
         "hash": "0x776d0ec5b42ae36c51594318032c5cc7eb1329ad591b93d7562aa907de234304",
         "nonce": 2,
         "blockHash": "0xaca7d72be2090ac8253252646da7f7a6b1dc092ae726e10e398ab316c9bdc57b",
         "transactionIndex": 394,
         "from": "0x447997d1dc7888a2ffc15826e7595a6f7dcc076b",
         "to": "0x0fd8348a05e93c703253c23763d4e836529bc87e",
         "value": "300000000000000",
         "gas": 21000,
         "gasPrice": 53119523904,
         "isError": 0,
         "txreceipt_status": 1,
         "input": "0x",
         "contractAddress": "nan",
         "cumulativeGasUsed": 26012454,
         "gasUsed": 21000,
         "confirmations": 281080,
         "projectName": "Designing schwag in store",
         "fromName": "NFTShop Your [FREE] NFT Shop Storefront on Flow Blockchain",
         "dt": "2021-09-14T03:19:28.000000",
         "_deepnote_index_column": 3
        }
       ],
       "rows_bottom": null
      },
      "text/plain": "   blockNumber   timeStamp                                               hash  \\\n0     13198991  1631289899  0x19447f4db56074a58ed898d82792b1840cae17cc9f49...   \n3     13221357  1631589568  0x776d0ec5b42ae36c51594318032c5cc7eb1329ad591b...   \n\n   nonce                                          blockHash  transactionIndex  \\\n0      7  0xad8c19b380dbf724d49032badc36a52f85adc3b498d1...                21   \n3      2  0xaca7d72be2090ac8253252646da7f7a6b1dc092ae726...               394   \n\n                                         from  \\\n0  0x0cbbc6ae48d9d3e14079aa15fab79a93b9f14796   \n3  0x447997d1dc7888a2ffc15826e7595a6f7dcc076b   \n\n                                           to              value    gas  ...  \\\n0  0x447997d1dc7888a2ffc15826e7595a6f7dcc076b  40000000000000000  21000  ...   \n3  0x0fd8348a05e93c703253c23763d4e836529bc87e    300000000000000  21000  ...   \n\n   isError  txreceipt_status  input contractAddress cumulativeGasUsed  \\\n0        0               1.0     0x             NaN           1712459   \n3        0               1.0     0x             NaN          26012454   \n\n   gasUsed  confirmations                                        projectName  \\\n0    21000         303446  NFTShop Your [FREE] NFT Shop Storefront on Flo...   \n3    21000         281080                          Designing schwag in store   \n\n                                            fromName                  dt  \n0                                                NaN 2021-09-10 16:04:59  \n3  NFTShop Your [FREE] NFT Shop Storefront on Flo... 2021-09-14 03:19:28  \n\n[2 rows x 21 columns]",
      "text/html": "<div>\n<style scoped>\n    .dataframe tbody tr th:only-of-type {\n        vertical-align: middle;\n    }\n\n    .dataframe tbody tr th {\n        vertical-align: top;\n    }\n\n    .dataframe thead th {\n        text-align: right;\n    }\n</style>\n<table border=\"1\" class=\"dataframe\">\n  <thead>\n    <tr style=\"text-align: right;\">\n      <th></th>\n      <th>blockNumber</th>\n      <th>timeStamp</th>\n      <th>hash</th>\n      <th>nonce</th>\n      <th>blockHash</th>\n      <th>transactionIndex</th>\n      <th>from</th>\n      <th>to</th>\n      <th>value</th>\n      <th>gas</th>\n      <th>...</th>\n      <th>isError</th>\n      <th>txreceipt_status</th>\n      <th>input</th>\n      <th>contractAddress</th>\n      <th>cumulativeGasUsed</th>\n      <th>gasUsed</th>\n      <th>confirmations</th>\n      <th>projectName</th>\n      <th>fromName</th>\n      <th>dt</th>\n    </tr>\n  </thead>\n  <tbody>\n    <tr>\n      <th>0</th>\n      <td>13198991</td>\n      <td>1631289899</td>\n      <td>0x19447f4db56074a58ed898d82792b1840cae17cc9f49...</td>\n      <td>7</td>\n      <td>0xad8c19b380dbf724d49032badc36a52f85adc3b498d1...</td>\n      <td>21</td>\n      <td>0x0cbbc6ae48d9d3e14079aa15fab79a93b9f14796</td>\n      <td>0x447997d1dc7888a2ffc15826e7595a6f7dcc076b</td>\n      <td>40000000000000000</td>\n      <td>21000</td>\n      <td>...</td>\n      <td>0</td>\n      <td>1.0</td>\n      <td>0x</td>\n      <td>NaN</td>\n      <td>1712459</td>\n      <td>21000</td>\n      <td>303446</td>\n      <td>NFTShop Your [FREE] NFT Shop Storefront on Flo...</td>\n      <td>NaN</td>\n      <td>2021-09-10 16:04:59</td>\n    </tr>\n    <tr>\n      <th>3</th>\n      <td>13221357</td>\n      <td>1631589568</td>\n      <td>0x776d0ec5b42ae36c51594318032c5cc7eb1329ad591b...</td>\n      <td>2</td>\n      <td>0xaca7d72be2090ac8253252646da7f7a6b1dc092ae726...</td>\n      <td>394</td>\n      <td>0x447997d1dc7888a2ffc15826e7595a6f7dcc076b</td>\n      <td>0x0fd8348a05e93c703253c23763d4e836529bc87e</td>\n      <td>300000000000000</td>\n      <td>21000</td>\n      <td>...</td>\n      <td>0</td>\n      <td>1.0</td>\n      <td>0x</td>\n      <td>NaN</td>\n      <td>26012454</td>\n      <td>21000</td>\n      <td>281080</td>\n      <td>Designing schwag in store</td>\n      <td>NFTShop Your [FREE] NFT Shop Storefront on Flo...</td>\n      <td>2021-09-14 03:19:28</td>\n    </tr>\n  </tbody>\n</table>\n<p>2 rows × 21 columns</p>\n</div>"
     },
     "metadata": {}
    }
   ]
  },
  {
   "cell_type": "markdown",
   "source": "Covert from wei (10^18) to eth ",
   "metadata": {
    "tags": [],
    "cell_id": "00015-1a562108-22e5-435e-950c-52590e3a034c",
    "deepnote_cell_type": "markdown"
   }
  },
  {
   "cell_type": "code",
   "metadata": {
    "tags": [],
    "deepnote_to_be_reexecuted": false,
    "source_hash": "7d78bbd4",
    "execution_start": 1638477131643,
    "execution_millis": 168,
    "cell_id": "00016-ef45a1df-0817-4e5f-a75a-058e1666ed59",
    "deepnote_cell_type": "code"
   },
   "source": "df['value_in_eth'] = df.value.astype(np.float128).apply(lambda x: x / 10**18)\ndf[:2]",
   "execution_count": null,
   "outputs": [
    {
     "output_type": "execute_result",
     "execution_count": 8,
     "data": {
      "application/vnd.deepnote.dataframe.v2+json": {
       "row_count": 2,
       "column_count": 22,
       "columns": [
        {
         "name": "blockNumber",
         "dtype": "int64",
         "stats": {
          "unique_count": 2,
          "nan_count": 0,
          "min": "13198991",
          "max": "13221357",
          "histogram": [
           {
            "bin_start": 13198991,
            "bin_end": 13201227.6,
            "count": 1
           },
           {
            "bin_start": 13201227.6,
            "bin_end": 13203464.2,
            "count": 0
           },
           {
            "bin_start": 13203464.2,
            "bin_end": 13205700.8,
            "count": 0
           },
           {
            "bin_start": 13205700.8,
            "bin_end": 13207937.4,
            "count": 0
           },
           {
            "bin_start": 13207937.4,
            "bin_end": 13210174,
            "count": 0
           },
           {
            "bin_start": 13210174,
            "bin_end": 13212410.6,
            "count": 0
           },
           {
            "bin_start": 13212410.6,
            "bin_end": 13214647.2,
            "count": 0
           },
           {
            "bin_start": 13214647.2,
            "bin_end": 13216883.8,
            "count": 0
           },
           {
            "bin_start": 13216883.8,
            "bin_end": 13219120.4,
            "count": 0
           },
           {
            "bin_start": 13219120.4,
            "bin_end": 13221357,
            "count": 1
           }
          ]
         }
        },
        {
         "name": "timeStamp",
         "dtype": "int64",
         "stats": {
          "unique_count": 2,
          "nan_count": 0,
          "min": "1631289899",
          "max": "1631589568",
          "histogram": [
           {
            "bin_start": 1631289899,
            "bin_end": 1631319865.9,
            "count": 1
           },
           {
            "bin_start": 1631319865.9,
            "bin_end": 1631349832.8,
            "count": 0
           },
           {
            "bin_start": 1631349832.8,
            "bin_end": 1631379799.7,
            "count": 0
           },
           {
            "bin_start": 1631379799.7,
            "bin_end": 1631409766.6,
            "count": 0
           },
           {
            "bin_start": 1631409766.6,
            "bin_end": 1631439733.5,
            "count": 0
           },
           {
            "bin_start": 1631439733.5,
            "bin_end": 1631469700.4,
            "count": 0
           },
           {
            "bin_start": 1631469700.4,
            "bin_end": 1631499667.3,
            "count": 0
           },
           {
            "bin_start": 1631499667.3,
            "bin_end": 1631529634.2,
            "count": 0
           },
           {
            "bin_start": 1631529634.2,
            "bin_end": 1631559601.1,
            "count": 0
           },
           {
            "bin_start": 1631559601.1,
            "bin_end": 1631589568,
            "count": 1
           }
          ]
         }
        },
        {
         "name": "hash",
         "dtype": "object",
         "stats": {
          "unique_count": 2,
          "nan_count": 0,
          "categories": [
           {
            "name": "0x19447f4db56074a58ed898d82792b1840cae17cc9f4940a4e0403254682953dd",
            "count": 1
           },
           {
            "name": "0x776d0ec5b42ae36c51594318032c5cc7eb1329ad591b93d7562aa907de234304",
            "count": 1
           }
          ]
         }
        },
        {
         "name": "nonce",
         "dtype": "int64",
         "stats": {
          "unique_count": 2,
          "nan_count": 0,
          "min": "2",
          "max": "7",
          "histogram": [
           {
            "bin_start": 2,
            "bin_end": 2.5,
            "count": 1
           },
           {
            "bin_start": 2.5,
            "bin_end": 3,
            "count": 0
           },
           {
            "bin_start": 3,
            "bin_end": 3.5,
            "count": 0
           },
           {
            "bin_start": 3.5,
            "bin_end": 4,
            "count": 0
           },
           {
            "bin_start": 4,
            "bin_end": 4.5,
            "count": 0
           },
           {
            "bin_start": 4.5,
            "bin_end": 5,
            "count": 0
           },
           {
            "bin_start": 5,
            "bin_end": 5.5,
            "count": 0
           },
           {
            "bin_start": 5.5,
            "bin_end": 6,
            "count": 0
           },
           {
            "bin_start": 6,
            "bin_end": 6.5,
            "count": 0
           },
           {
            "bin_start": 6.5,
            "bin_end": 7,
            "count": 1
           }
          ]
         }
        },
        {
         "name": "blockHash",
         "dtype": "object",
         "stats": {
          "unique_count": 2,
          "nan_count": 0,
          "categories": [
           {
            "name": "0xad8c19b380dbf724d49032badc36a52f85adc3b498d176b1cec211a80fbec2bc",
            "count": 1
           },
           {
            "name": "0xaca7d72be2090ac8253252646da7f7a6b1dc092ae726e10e398ab316c9bdc57b",
            "count": 1
           }
          ]
         }
        },
        {
         "name": "transactionIndex",
         "dtype": "int64",
         "stats": {
          "unique_count": 2,
          "nan_count": 0,
          "min": "21",
          "max": "394",
          "histogram": [
           {
            "bin_start": 21,
            "bin_end": 58.3,
            "count": 1
           },
           {
            "bin_start": 58.3,
            "bin_end": 95.6,
            "count": 0
           },
           {
            "bin_start": 95.6,
            "bin_end": 132.89999999999998,
            "count": 0
           },
           {
            "bin_start": 132.89999999999998,
            "bin_end": 170.2,
            "count": 0
           },
           {
            "bin_start": 170.2,
            "bin_end": 207.5,
            "count": 0
           },
           {
            "bin_start": 207.5,
            "bin_end": 244.79999999999998,
            "count": 0
           },
           {
            "bin_start": 244.79999999999998,
            "bin_end": 282.09999999999997,
            "count": 0
           },
           {
            "bin_start": 282.09999999999997,
            "bin_end": 319.4,
            "count": 0
           },
           {
            "bin_start": 319.4,
            "bin_end": 356.7,
            "count": 0
           },
           {
            "bin_start": 356.7,
            "bin_end": 394,
            "count": 1
           }
          ]
         }
        },
        {
         "name": "from",
         "dtype": "object",
         "stats": {
          "unique_count": 2,
          "nan_count": 0,
          "categories": [
           {
            "name": "0x0cbbc6ae48d9d3e14079aa15fab79a93b9f14796",
            "count": 1
           },
           {
            "name": "0x447997d1dc7888a2ffc15826e7595a6f7dcc076b",
            "count": 1
           }
          ]
         }
        },
        {
         "name": "to",
         "dtype": "object",
         "stats": {
          "unique_count": 2,
          "nan_count": 0,
          "categories": [
           {
            "name": "0x447997d1dc7888a2ffc15826e7595a6f7dcc076b",
            "count": 1
           },
           {
            "name": "0x0fd8348a05e93c703253c23763d4e836529bc87e",
            "count": 1
           }
          ]
         }
        },
        {
         "name": "value",
         "dtype": "object",
         "stats": {
          "unique_count": 2,
          "nan_count": 0,
          "categories": [
           {
            "name": "40000000000000000",
            "count": 1
           },
           {
            "name": "300000000000000",
            "count": 1
           }
          ]
         }
        },
        {
         "name": "gas",
         "dtype": "int64",
         "stats": {
          "unique_count": 1,
          "nan_count": 0,
          "min": "21000",
          "max": "21000",
          "histogram": [
           {
            "bin_start": 20999.5,
            "bin_end": 20999.6,
            "count": 0
           },
           {
            "bin_start": 20999.6,
            "bin_end": 20999.7,
            "count": 0
           },
           {
            "bin_start": 20999.7,
            "bin_end": 20999.8,
            "count": 0
           },
           {
            "bin_start": 20999.8,
            "bin_end": 20999.9,
            "count": 0
           },
           {
            "bin_start": 20999.9,
            "bin_end": 21000,
            "count": 0
           },
           {
            "bin_start": 21000,
            "bin_end": 21000.1,
            "count": 2
           },
           {
            "bin_start": 21000.1,
            "bin_end": 21000.2,
            "count": 0
           },
           {
            "bin_start": 21000.2,
            "bin_end": 21000.3,
            "count": 0
           },
           {
            "bin_start": 21000.3,
            "bin_end": 21000.4,
            "count": 0
           },
           {
            "bin_start": 21000.4,
            "bin_end": 21000.5,
            "count": 0
           }
          ]
         }
        },
        {
         "name": "gasPrice",
         "dtype": "int64",
         "stats": {
          "unique_count": 2,
          "nan_count": 0,
          "min": "53119523904",
          "max": "201000000000",
          "histogram": [
           {
            "bin_start": 53119523904,
            "bin_end": 67907571513.6,
            "count": 1
           },
           {
            "bin_start": 67907571513.6,
            "bin_end": 82695619123.2,
            "count": 0
           },
           {
            "bin_start": 82695619123.2,
            "bin_end": 97483666732.8,
            "count": 0
           },
           {
            "bin_start": 97483666732.8,
            "bin_end": 112271714342.4,
            "count": 0
           },
           {
            "bin_start": 112271714342.4,
            "bin_end": 127059761952,
            "count": 0
           },
           {
            "bin_start": 127059761952,
            "bin_end": 141847809561.6,
            "count": 0
           },
           {
            "bin_start": 141847809561.6,
            "bin_end": 156635857171.2,
            "count": 0
           },
           {
            "bin_start": 156635857171.2,
            "bin_end": 171423904780.8,
            "count": 0
           },
           {
            "bin_start": 171423904780.8,
            "bin_end": 186211952390.40002,
            "count": 0
           },
           {
            "bin_start": 186211952390.40002,
            "bin_end": 201000000000,
            "count": 1
           }
          ]
         }
        },
        {
         "name": "isError",
         "dtype": "int64",
         "stats": {
          "unique_count": 1,
          "nan_count": 0,
          "min": "0",
          "max": "0",
          "histogram": [
           {
            "bin_start": -0.5,
            "bin_end": -0.4,
            "count": 0
           },
           {
            "bin_start": -0.4,
            "bin_end": -0.3,
            "count": 0
           },
           {
            "bin_start": -0.3,
            "bin_end": -0.19999999999999996,
            "count": 0
           },
           {
            "bin_start": -0.19999999999999996,
            "bin_end": -0.09999999999999998,
            "count": 0
           },
           {
            "bin_start": -0.09999999999999998,
            "bin_end": 0,
            "count": 0
           },
           {
            "bin_start": 0,
            "bin_end": 0.10000000000000009,
            "count": 2
           },
           {
            "bin_start": 0.10000000000000009,
            "bin_end": 0.20000000000000007,
            "count": 0
           },
           {
            "bin_start": 0.20000000000000007,
            "bin_end": 0.30000000000000004,
            "count": 0
           },
           {
            "bin_start": 0.30000000000000004,
            "bin_end": 0.4,
            "count": 0
           },
           {
            "bin_start": 0.4,
            "bin_end": 0.5,
            "count": 0
           }
          ]
         }
        },
        {
         "name": "txreceipt_status",
         "dtype": "float64",
         "stats": {
          "unique_count": 1,
          "nan_count": 0,
          "min": "1.0",
          "max": "1.0",
          "histogram": [
           {
            "bin_start": 0.5,
            "bin_end": 0.6,
            "count": 0
           },
           {
            "bin_start": 0.6,
            "bin_end": 0.7,
            "count": 0
           },
           {
            "bin_start": 0.7,
            "bin_end": 0.8,
            "count": 0
           },
           {
            "bin_start": 0.8,
            "bin_end": 0.9,
            "count": 0
           },
           {
            "bin_start": 0.9,
            "bin_end": 1,
            "count": 0
           },
           {
            "bin_start": 1,
            "bin_end": 1.1,
            "count": 2
           },
           {
            "bin_start": 1.1,
            "bin_end": 1.2000000000000002,
            "count": 0
           },
           {
            "bin_start": 1.2000000000000002,
            "bin_end": 1.3,
            "count": 0
           },
           {
            "bin_start": 1.3,
            "bin_end": 1.4,
            "count": 0
           },
           {
            "bin_start": 1.4,
            "bin_end": 1.5,
            "count": 0
           }
          ]
         }
        },
        {
         "name": "input",
         "dtype": "object",
         "stats": {
          "unique_count": 1,
          "nan_count": 0,
          "categories": [
           {
            "name": "0x",
            "count": 2
           }
          ]
         }
        },
        {
         "name": "contractAddress",
         "dtype": "object",
         "stats": {
          "unique_count": 0,
          "nan_count": 2,
          "categories": [
           {
            "name": "Missing",
            "count": 2
           }
          ]
         }
        },
        {
         "name": "cumulativeGasUsed",
         "dtype": "int64",
         "stats": {
          "unique_count": 2,
          "nan_count": 0,
          "min": "1712459",
          "max": "26012454",
          "histogram": [
           {
            "bin_start": 1712459,
            "bin_end": 4142458.5,
            "count": 1
           },
           {
            "bin_start": 4142458.5,
            "bin_end": 6572458,
            "count": 0
           },
           {
            "bin_start": 6572458,
            "bin_end": 9002457.5,
            "count": 0
           },
           {
            "bin_start": 9002457.5,
            "bin_end": 11432457,
            "count": 0
           },
           {
            "bin_start": 11432457,
            "bin_end": 13862456.5,
            "count": 0
           },
           {
            "bin_start": 13862456.5,
            "bin_end": 16292456,
            "count": 0
           },
           {
            "bin_start": 16292456,
            "bin_end": 18722455.5,
            "count": 0
           },
           {
            "bin_start": 18722455.5,
            "bin_end": 21152455,
            "count": 0
           },
           {
            "bin_start": 21152455,
            "bin_end": 23582454.5,
            "count": 0
           },
           {
            "bin_start": 23582454.5,
            "bin_end": 26012454,
            "count": 1
           }
          ]
         }
        },
        {
         "name": "gasUsed",
         "dtype": "int64",
         "stats": {
          "unique_count": 1,
          "nan_count": 0,
          "min": "21000",
          "max": "21000",
          "histogram": [
           {
            "bin_start": 20999.5,
            "bin_end": 20999.6,
            "count": 0
           },
           {
            "bin_start": 20999.6,
            "bin_end": 20999.7,
            "count": 0
           },
           {
            "bin_start": 20999.7,
            "bin_end": 20999.8,
            "count": 0
           },
           {
            "bin_start": 20999.8,
            "bin_end": 20999.9,
            "count": 0
           },
           {
            "bin_start": 20999.9,
            "bin_end": 21000,
            "count": 0
           },
           {
            "bin_start": 21000,
            "bin_end": 21000.1,
            "count": 2
           },
           {
            "bin_start": 21000.1,
            "bin_end": 21000.2,
            "count": 0
           },
           {
            "bin_start": 21000.2,
            "bin_end": 21000.3,
            "count": 0
           },
           {
            "bin_start": 21000.3,
            "bin_end": 21000.4,
            "count": 0
           },
           {
            "bin_start": 21000.4,
            "bin_end": 21000.5,
            "count": 0
           }
          ]
         }
        },
        {
         "name": "confirmations",
         "dtype": "int64",
         "stats": {
          "unique_count": 2,
          "nan_count": 0,
          "min": "281080",
          "max": "303446",
          "histogram": [
           {
            "bin_start": 281080,
            "bin_end": 283316.6,
            "count": 1
           },
           {
            "bin_start": 283316.6,
            "bin_end": 285553.2,
            "count": 0
           },
           {
            "bin_start": 285553.2,
            "bin_end": 287789.8,
            "count": 0
           },
           {
            "bin_start": 287789.8,
            "bin_end": 290026.4,
            "count": 0
           },
           {
            "bin_start": 290026.4,
            "bin_end": 292263,
            "count": 0
           },
           {
            "bin_start": 292263,
            "bin_end": 294499.6,
            "count": 0
           },
           {
            "bin_start": 294499.6,
            "bin_end": 296736.2,
            "count": 0
           },
           {
            "bin_start": 296736.2,
            "bin_end": 298972.8,
            "count": 0
           },
           {
            "bin_start": 298972.8,
            "bin_end": 301209.4,
            "count": 0
           },
           {
            "bin_start": 301209.4,
            "bin_end": 303446,
            "count": 1
           }
          ]
         }
        },
        {
         "name": "projectName",
         "dtype": "object",
         "stats": {
          "unique_count": 2,
          "nan_count": 0,
          "categories": [
           {
            "name": "NFTShop Your [FREE] NFT Shop Storefront on Flow Blockchain",
            "count": 1
           },
           {
            "name": "Designing schwag in store",
            "count": 1
           }
          ]
         }
        },
        {
         "name": "fromName",
         "dtype": "object",
         "stats": {
          "unique_count": 1,
          "nan_count": 1,
          "categories": [
           {
            "name": "NFTShop Your [FREE] NFT Shop Storefront on Flow Blockchain",
            "count": 1
           },
           {
            "name": "Missing",
            "count": 1
           }
          ]
         }
        },
        {
         "name": "dt",
         "dtype": "datetime64[ns]",
         "stats": {
          "unique_count": 2,
          "nan_count": 0,
          "min": "2021-09-10 16:04:59",
          "max": "2021-09-14 03:19:28",
          "histogram": [
           {
            "bin_start": 1631289899000000000,
            "bin_end": 1631319865900000000,
            "count": 1
           },
           {
            "bin_start": 1631319865900000000,
            "bin_end": 1631349832800000000,
            "count": 0
           },
           {
            "bin_start": 1631349832800000000,
            "bin_end": 1631379799700000000,
            "count": 0
           },
           {
            "bin_start": 1631379799700000000,
            "bin_end": 1631409766600000000,
            "count": 0
           },
           {
            "bin_start": 1631409766600000000,
            "bin_end": 1631439733500000000,
            "count": 0
           },
           {
            "bin_start": 1631439733500000000,
            "bin_end": 1631469700400000000,
            "count": 0
           },
           {
            "bin_start": 1631469700400000000,
            "bin_end": 1631499667300000000,
            "count": 0
           },
           {
            "bin_start": 1631499667300000000,
            "bin_end": 1631529634200000000,
            "count": 0
           },
           {
            "bin_start": 1631529634200000000,
            "bin_end": 1631559601100000000,
            "count": 0
           },
           {
            "bin_start": 1631559601100000000,
            "bin_end": 1631589568000000000,
            "count": 1
           }
          ]
         }
        },
        {
         "name": "value_in_eth",
         "dtype": "float64",
         "stats": {
          "unique_count": 2,
          "nan_count": 0,
          "min": "0.0003",
          "max": "0.04",
          "histogram": [
           {
            "bin_start": 0.0003,
            "bin_end": 0.0042699999999999995,
            "count": 1
           },
           {
            "bin_start": 0.0042699999999999995,
            "bin_end": 0.008239999999999999,
            "count": 0
           },
           {
            "bin_start": 0.008239999999999999,
            "bin_end": 0.012209999999999999,
            "count": 0
           },
           {
            "bin_start": 0.012209999999999999,
            "bin_end": 0.01618,
            "count": 0
           },
           {
            "bin_start": 0.01618,
            "bin_end": 0.02015,
            "count": 0
           },
           {
            "bin_start": 0.02015,
            "bin_end": 0.02412,
            "count": 0
           },
           {
            "bin_start": 0.02412,
            "bin_end": 0.028089999999999997,
            "count": 0
           },
           {
            "bin_start": 0.028089999999999997,
            "bin_end": 0.03206,
            "count": 0
           },
           {
            "bin_start": 0.03206,
            "bin_end": 0.03603,
            "count": 0
           },
           {
            "bin_start": 0.03603,
            "bin_end": 0.04,
            "count": 1
           }
          ]
         }
        },
        {
         "name": "_deepnote_index_column",
         "dtype": "int64"
        }
       ],
       "rows_top": [
        {
         "blockNumber": 13198991,
         "timeStamp": 1631289899,
         "hash": "0x19447f4db56074a58ed898d82792b1840cae17cc9f4940a4e0403254682953dd",
         "nonce": 7,
         "blockHash": "0xad8c19b380dbf724d49032badc36a52f85adc3b498d176b1cec211a80fbec2bc",
         "transactionIndex": 21,
         "from": "0x0cbbc6ae48d9d3e14079aa15fab79a93b9f14796",
         "to": "0x447997d1dc7888a2ffc15826e7595a6f7dcc076b",
         "value": "40000000000000000",
         "gas": 21000,
         "gasPrice": 201000000000,
         "isError": 0,
         "txreceipt_status": 1,
         "input": "0x",
         "contractAddress": "nan",
         "cumulativeGasUsed": 1712459,
         "gasUsed": 21000,
         "confirmations": 303446,
         "projectName": "NFTShop Your [FREE] NFT Shop Storefront on Flow Blockchain",
         "fromName": "nan",
         "dt": "2021-09-10T16:04:59.000000",
         "value_in_eth": 0.04,
         "_deepnote_index_column": 0
        },
        {
         "blockNumber": 13221357,
         "timeStamp": 1631589568,
         "hash": "0x776d0ec5b42ae36c51594318032c5cc7eb1329ad591b93d7562aa907de234304",
         "nonce": 2,
         "blockHash": "0xaca7d72be2090ac8253252646da7f7a6b1dc092ae726e10e398ab316c9bdc57b",
         "transactionIndex": 394,
         "from": "0x447997d1dc7888a2ffc15826e7595a6f7dcc076b",
         "to": "0x0fd8348a05e93c703253c23763d4e836529bc87e",
         "value": "300000000000000",
         "gas": 21000,
         "gasPrice": 53119523904,
         "isError": 0,
         "txreceipt_status": 1,
         "input": "0x",
         "contractAddress": "nan",
         "cumulativeGasUsed": 26012454,
         "gasUsed": 21000,
         "confirmations": 281080,
         "projectName": "Designing schwag in store",
         "fromName": "NFTShop Your [FREE] NFT Shop Storefront on Flow Blockchain",
         "dt": "2021-09-14T03:19:28.000000",
         "value_in_eth": 0.0003,
         "_deepnote_index_column": 3
        }
       ],
       "rows_bottom": null
      },
      "text/plain": "   blockNumber   timeStamp                                               hash  \\\n0     13198991  1631289899  0x19447f4db56074a58ed898d82792b1840cae17cc9f49...   \n3     13221357  1631589568  0x776d0ec5b42ae36c51594318032c5cc7eb1329ad591b...   \n\n   nonce                                          blockHash  transactionIndex  \\\n0      7  0xad8c19b380dbf724d49032badc36a52f85adc3b498d1...                21   \n3      2  0xaca7d72be2090ac8253252646da7f7a6b1dc092ae726...               394   \n\n                                         from  \\\n0  0x0cbbc6ae48d9d3e14079aa15fab79a93b9f14796   \n3  0x447997d1dc7888a2ffc15826e7595a6f7dcc076b   \n\n                                           to              value    gas  ...  \\\n0  0x447997d1dc7888a2ffc15826e7595a6f7dcc076b  40000000000000000  21000  ...   \n3  0x0fd8348a05e93c703253c23763d4e836529bc87e    300000000000000  21000  ...   \n\n   txreceipt_status  input  contractAddress cumulativeGasUsed gasUsed  \\\n0               1.0     0x              NaN           1712459   21000   \n3               1.0     0x              NaN          26012454   21000   \n\n   confirmations                                        projectName  \\\n0         303446  NFTShop Your [FREE] NFT Shop Storefront on Flo...   \n3         281080                          Designing schwag in store   \n\n                                            fromName                  dt  \\\n0                                                NaN 2021-09-10 16:04:59   \n3  NFTShop Your [FREE] NFT Shop Storefront on Flo... 2021-09-14 03:19:28   \n\n  value_in_eth  \n0       0.0400  \n3       0.0003  \n\n[2 rows x 22 columns]",
      "text/html": "<div>\n<style scoped>\n    .dataframe tbody tr th:only-of-type {\n        vertical-align: middle;\n    }\n\n    .dataframe tbody tr th {\n        vertical-align: top;\n    }\n\n    .dataframe thead th {\n        text-align: right;\n    }\n</style>\n<table border=\"1\" class=\"dataframe\">\n  <thead>\n    <tr style=\"text-align: right;\">\n      <th></th>\n      <th>blockNumber</th>\n      <th>timeStamp</th>\n      <th>hash</th>\n      <th>nonce</th>\n      <th>blockHash</th>\n      <th>transactionIndex</th>\n      <th>from</th>\n      <th>to</th>\n      <th>value</th>\n      <th>gas</th>\n      <th>...</th>\n      <th>txreceipt_status</th>\n      <th>input</th>\n      <th>contractAddress</th>\n      <th>cumulativeGasUsed</th>\n      <th>gasUsed</th>\n      <th>confirmations</th>\n      <th>projectName</th>\n      <th>fromName</th>\n      <th>dt</th>\n      <th>value_in_eth</th>\n    </tr>\n  </thead>\n  <tbody>\n    <tr>\n      <th>0</th>\n      <td>13198991</td>\n      <td>1631289899</td>\n      <td>0x19447f4db56074a58ed898d82792b1840cae17cc9f49...</td>\n      <td>7</td>\n      <td>0xad8c19b380dbf724d49032badc36a52f85adc3b498d1...</td>\n      <td>21</td>\n      <td>0x0cbbc6ae48d9d3e14079aa15fab79a93b9f14796</td>\n      <td>0x447997d1dc7888a2ffc15826e7595a6f7dcc076b</td>\n      <td>40000000000000000</td>\n      <td>21000</td>\n      <td>...</td>\n      <td>1.0</td>\n      <td>0x</td>\n      <td>NaN</td>\n      <td>1712459</td>\n      <td>21000</td>\n      <td>303446</td>\n      <td>NFTShop Your [FREE] NFT Shop Storefront on Flo...</td>\n      <td>NaN</td>\n      <td>2021-09-10 16:04:59</td>\n      <td>0.0400</td>\n    </tr>\n    <tr>\n      <th>3</th>\n      <td>13221357</td>\n      <td>1631589568</td>\n      <td>0x776d0ec5b42ae36c51594318032c5cc7eb1329ad591b...</td>\n      <td>2</td>\n      <td>0xaca7d72be2090ac8253252646da7f7a6b1dc092ae726...</td>\n      <td>394</td>\n      <td>0x447997d1dc7888a2ffc15826e7595a6f7dcc076b</td>\n      <td>0x0fd8348a05e93c703253c23763d4e836529bc87e</td>\n      <td>300000000000000</td>\n      <td>21000</td>\n      <td>...</td>\n      <td>1.0</td>\n      <td>0x</td>\n      <td>NaN</td>\n      <td>26012454</td>\n      <td>21000</td>\n      <td>281080</td>\n      <td>Designing schwag in store</td>\n      <td>NFTShop Your [FREE] NFT Shop Storefront on Flo...</td>\n      <td>2021-09-14 03:19:28</td>\n      <td>0.0003</td>\n    </tr>\n  </tbody>\n</table>\n<p>2 rows × 22 columns</p>\n</div>"
     },
     "metadata": {}
    }
   ]
  },
  {
   "cell_type": "markdown",
   "source": "Save the Oct 27 USD value (arbitrary, just for context)",
   "metadata": {
    "tags": [],
    "cell_id": "00017-a5122518-a4d9-4e93-9807-e676c93bb754",
    "deepnote_cell_type": "markdown"
   }
  },
  {
   "cell_type": "code",
   "metadata": {
    "tags": [],
    "deepnote_to_be_reexecuted": false,
    "source_hash": "7b2fa8e5",
    "execution_start": 1638477131856,
    "execution_millis": 1,
    "cell_id": "00018-af04acaa-906f-463d-bb0e-9110cf97b857",
    "deepnote_cell_type": "code"
   },
   "source": "df['value_in_usd_oct27'] = df.value_in_eth * 3968.33\n",
   "execution_count": null,
   "outputs": []
  },
  {
   "cell_type": "code",
   "metadata": {
    "tags": [],
    "deepnote_to_be_reexecuted": false,
    "source_hash": "661e5059",
    "execution_start": 1638477131858,
    "execution_millis": 29,
    "cell_id": "00019-1aa568ea-e83b-4fff-b71c-cdace3364f6e",
    "deepnote_cell_type": "code"
   },
   "source": "df[['value_in_eth', 'value_in_usd_oct27']]",
   "execution_count": null,
   "outputs": [
    {
     "output_type": "execute_result",
     "execution_count": 10,
     "data": {
      "application/vnd.deepnote.dataframe.v2+json": {
       "row_count": 111383,
       "column_count": 2,
       "columns": [
        {
         "name": "value_in_eth",
         "dtype": "float64"
        },
        {
         "name": "value_in_usd_oct27",
         "dtype": "float64"
        },
        {
         "name": "_deepnote_index_column",
         "dtype": "int64"
        }
       ],
       "rows_top": [
        {
         "value_in_eth": 0.04,
         "value_in_usd_oct27": 158.7332,
         "_deepnote_index_column": 0
        },
        {
         "value_in_eth": 0.0003,
         "value_in_usd_oct27": 1.190499,
         "_deepnote_index_column": 3
        },
        {
         "value_in_eth": 0.000666,
         "value_in_usd_oct27": 2.6429077800000003,
         "_deepnote_index_column": 4
        },
        {
         "value_in_eth": 0.4978480692410186,
         "value_in_usd_oct27": 1975.6254286112112,
         "_deepnote_index_column": 22
        },
        {
         "value_in_eth": 0.12,
         "value_in_usd_oct27": 476.1996,
         "_deepnote_index_column": 24
        },
        {
         "value_in_eth": 4.36777067,
         "value_in_usd_oct27": 17332.7553828811,
         "_deepnote_index_column": 40
        },
        {
         "value_in_eth": 0,
         "value_in_usd_oct27": 0,
         "_deepnote_index_column": 51
        },
        {
         "value_in_eth": 3.9709738,
         "value_in_usd_oct27": 15758.134459754,
         "_deepnote_index_column": 60
        },
        {
         "value_in_eth": 4.665950342421515,
         "value_in_usd_oct27": 18516.03072234157,
         "_deepnote_index_column": 77
        },
        {
         "value_in_eth": 0,
         "value_in_usd_oct27": 0,
         "_deepnote_index_column": 94
        },
        {
         "value_in_eth": 0,
         "value_in_usd_oct27": 0,
         "_deepnote_index_column": 106
        },
        {
         "value_in_eth": 0,
         "value_in_usd_oct27": 0,
         "_deepnote_index_column": 107
        },
        {
         "value_in_eth": 0,
         "value_in_usd_oct27": 0,
         "_deepnote_index_column": 108
        },
        {
         "value_in_eth": 0,
         "value_in_usd_oct27": 0,
         "_deepnote_index_column": 115
        },
        {
         "value_in_eth": 0,
         "value_in_usd_oct27": 0,
         "_deepnote_index_column": 120
        },
        {
         "value_in_eth": 0,
         "value_in_usd_oct27": 0,
         "_deepnote_index_column": 121
        },
        {
         "value_in_eth": 0,
         "value_in_usd_oct27": 0,
         "_deepnote_index_column": 129
        },
        {
         "value_in_eth": 2.54989954,
         "value_in_usd_oct27": 10118.842841568201,
         "_deepnote_index_column": 165
        },
        {
         "value_in_eth": 2.51895371,
         "value_in_usd_oct27": 9996.0395760043,
         "_deepnote_index_column": 167
        },
        {
         "value_in_eth": 2.74754446,
         "value_in_usd_oct27": 10903.163106951799,
         "_deepnote_index_column": 169
        },
        {
         "value_in_eth": 2.70761031,
         "value_in_usd_oct27": 10744.6912214823,
         "_deepnote_index_column": 171
        },
        {
         "value_in_eth": 0.80606,
         "value_in_usd_oct27": 3198.7120798,
         "_deepnote_index_column": 182
        },
        {
         "value_in_eth": 0.001,
         "value_in_usd_oct27": 3.96833,
         "_deepnote_index_column": 186
        },
        {
         "value_in_eth": 0.00349,
         "value_in_usd_oct27": 13.8494717,
         "_deepnote_index_column": 187
        },
        {
         "value_in_eth": 0.005,
         "value_in_usd_oct27": 19.84165,
         "_deepnote_index_column": 190
        },
        {
         "value_in_eth": 0.00355688,
         "value_in_usd_oct27": 14.1148736104,
         "_deepnote_index_column": 191
        },
        {
         "value_in_eth": 0,
         "value_in_usd_oct27": 0,
         "_deepnote_index_column": 194
        },
        {
         "value_in_eth": 0.03095919,
         "value_in_usd_oct27": 122.8562824527,
         "_deepnote_index_column": 197
        },
        {
         "value_in_eth": 0.00560556,
         "value_in_usd_oct27": 22.2447119148,
         "_deepnote_index_column": 201
        },
        {
         "value_in_eth": 0.0536,
         "value_in_usd_oct27": 212.70248800000002,
         "_deepnote_index_column": 203
        },
        {
         "value_in_eth": 0,
         "value_in_usd_oct27": 0,
         "_deepnote_index_column": 205
        },
        {
         "value_in_eth": 0,
         "value_in_usd_oct27": 0,
         "_deepnote_index_column": 206
        },
        {
         "value_in_eth": 0,
         "value_in_usd_oct27": 0,
         "_deepnote_index_column": 207
        },
        {
         "value_in_eth": 0,
         "value_in_usd_oct27": 0,
         "_deepnote_index_column": 208
        },
        {
         "value_in_eth": 0,
         "value_in_usd_oct27": 0,
         "_deepnote_index_column": 209
        },
        {
         "value_in_eth": 3.75,
         "value_in_usd_oct27": 14881.2375,
         "_deepnote_index_column": 210
        },
        {
         "value_in_eth": 0,
         "value_in_usd_oct27": 0,
         "_deepnote_index_column": 211
        },
        {
         "value_in_eth": 0,
         "value_in_usd_oct27": 0,
         "_deepnote_index_column": 212
        },
        {
         "value_in_eth": 0.14345,
         "value_in_usd_oct27": 569.2569384999999,
         "_deepnote_index_column": 213
        },
        {
         "value_in_eth": 0.1007,
         "value_in_usd_oct27": 399.61083099999996,
         "_deepnote_index_column": 214
        },
        {
         "value_in_eth": 0.03,
         "value_in_usd_oct27": 119.0499,
         "_deepnote_index_column": 215
        },
        {
         "value_in_eth": 0.007,
         "value_in_usd_oct27": 27.77831,
         "_deepnote_index_column": 216
        },
        {
         "value_in_eth": 0,
         "value_in_usd_oct27": 0,
         "_deepnote_index_column": 217
        },
        {
         "value_in_eth": 0,
         "value_in_usd_oct27": 0,
         "_deepnote_index_column": 218
        },
        {
         "value_in_eth": 0,
         "value_in_usd_oct27": 0,
         "_deepnote_index_column": 219
        },
        {
         "value_in_eth": 0,
         "value_in_usd_oct27": 0,
         "_deepnote_index_column": 220
        },
        {
         "value_in_eth": 0,
         "value_in_usd_oct27": 0,
         "_deepnote_index_column": 221
        },
        {
         "value_in_eth": 0,
         "value_in_usd_oct27": 0,
         "_deepnote_index_column": 222
        },
        {
         "value_in_eth": 0,
         "value_in_usd_oct27": 0,
         "_deepnote_index_column": 223
        },
        {
         "value_in_eth": 0,
         "value_in_usd_oct27": 0,
         "_deepnote_index_column": 224
        },
        {
         "value_in_eth": 0,
         "value_in_usd_oct27": 0,
         "_deepnote_index_column": 225
        },
        {
         "value_in_eth": 0.029,
         "value_in_usd_oct27": 115.08157,
         "_deepnote_index_column": 226
        },
        {
         "value_in_eth": 0.059,
         "value_in_usd_oct27": 234.13146999999998,
         "_deepnote_index_column": 229
        },
        {
         "value_in_eth": 0,
         "value_in_usd_oct27": 0,
         "_deepnote_index_column": 230
        },
        {
         "value_in_eth": 0,
         "value_in_usd_oct27": 0,
         "_deepnote_index_column": 241
        },
        {
         "value_in_eth": 0.002,
         "value_in_usd_oct27": 7.93666,
         "_deepnote_index_column": 262
        },
        {
         "value_in_eth": 0.0149999,
         "value_in_usd_oct27": 59.524553167,
         "_deepnote_index_column": 263
        },
        {
         "value_in_eth": 0,
         "value_in_usd_oct27": 0,
         "_deepnote_index_column": 265
        },
        {
         "value_in_eth": 0.005,
         "value_in_usd_oct27": 19.84165,
         "_deepnote_index_column": 271
        },
        {
         "value_in_eth": 0.003,
         "value_in_usd_oct27": 11.90499,
         "_deepnote_index_column": 275
        },
        {
         "value_in_eth": 0.000615794611265608,
         "value_in_usd_oct27": 2.4436762297236503,
         "_deepnote_index_column": 277
        },
        {
         "value_in_eth": 0,
         "value_in_usd_oct27": 0,
         "_deepnote_index_column": 287
        },
        {
         "value_in_eth": 0,
         "value_in_usd_oct27": 0,
         "_deepnote_index_column": 290
        },
        {
         "value_in_eth": 0,
         "value_in_usd_oct27": 0,
         "_deepnote_index_column": 299
        },
        {
         "value_in_eth": 0.023,
         "value_in_usd_oct27": 91.27159,
         "_deepnote_index_column": 300
        },
        {
         "value_in_eth": 0,
         "value_in_usd_oct27": 0,
         "_deepnote_index_column": 311
        },
        {
         "value_in_eth": 0,
         "value_in_usd_oct27": 0,
         "_deepnote_index_column": 312
        },
        {
         "value_in_eth": 0,
         "value_in_usd_oct27": 0,
         "_deepnote_index_column": 314
        },
        {
         "value_in_eth": 0,
         "value_in_usd_oct27": 0,
         "_deepnote_index_column": 315
        },
        {
         "value_in_eth": 0,
         "value_in_usd_oct27": 0,
         "_deepnote_index_column": 316
        },
        {
         "value_in_eth": 0.06051451950873359,
         "value_in_usd_oct27": 240.14158320209276,
         "_deepnote_index_column": 317
        },
        {
         "value_in_eth": 0,
         "value_in_usd_oct27": 0,
         "_deepnote_index_column": 318
        },
        {
         "value_in_eth": 0,
         "value_in_usd_oct27": 0,
         "_deepnote_index_column": 323
        },
        {
         "value_in_eth": 0,
         "value_in_usd_oct27": 0,
         "_deepnote_index_column": 326
        },
        {
         "value_in_eth": 0,
         "value_in_usd_oct27": 0,
         "_deepnote_index_column": 328
        },
        {
         "value_in_eth": 0,
         "value_in_usd_oct27": 0,
         "_deepnote_index_column": 331
        },
        {
         "value_in_eth": 0,
         "value_in_usd_oct27": 0,
         "_deepnote_index_column": 333
        },
        {
         "value_in_eth": 0,
         "value_in_usd_oct27": 0,
         "_deepnote_index_column": 335
        },
        {
         "value_in_eth": 0,
         "value_in_usd_oct27": 0,
         "_deepnote_index_column": 336
        },
        {
         "value_in_eth": 0.013813419064418016,
         "value_in_usd_oct27": 54.81620527590194,
         "_deepnote_index_column": 348
        },
        {
         "value_in_eth": 0,
         "value_in_usd_oct27": 0,
         "_deepnote_index_column": 352
        },
        {
         "value_in_eth": 0.025,
         "value_in_usd_oct27": 99.20825,
         "_deepnote_index_column": 355
        },
        {
         "value_in_eth": 0,
         "value_in_usd_oct27": 0,
         "_deepnote_index_column": 356
        },
        {
         "value_in_eth": 0,
         "value_in_usd_oct27": 0,
         "_deepnote_index_column": 384
        },
        {
         "value_in_eth": 0,
         "value_in_usd_oct27": 0,
         "_deepnote_index_column": 385
        },
        {
         "value_in_eth": 0.021,
         "value_in_usd_oct27": 83.33493,
         "_deepnote_index_column": 386
        },
        {
         "value_in_eth": 0,
         "value_in_usd_oct27": 0,
         "_deepnote_index_column": 387
        },
        {
         "value_in_eth": 0,
         "value_in_usd_oct27": 0,
         "_deepnote_index_column": 388
        },
        {
         "value_in_eth": 0,
         "value_in_usd_oct27": 0,
         "_deepnote_index_column": 389
        },
        {
         "value_in_eth": 0,
         "value_in_usd_oct27": 0,
         "_deepnote_index_column": 390
        },
        {
         "value_in_eth": 0,
         "value_in_usd_oct27": 0,
         "_deepnote_index_column": 391
        },
        {
         "value_in_eth": 0,
         "value_in_usd_oct27": 0,
         "_deepnote_index_column": 392
        },
        {
         "value_in_eth": 0,
         "value_in_usd_oct27": 0,
         "_deepnote_index_column": 393
        },
        {
         "value_in_eth": 0,
         "value_in_usd_oct27": 0,
         "_deepnote_index_column": 395
        },
        {
         "value_in_eth": 0,
         "value_in_usd_oct27": 0,
         "_deepnote_index_column": 399
        },
        {
         "value_in_eth": 0,
         "value_in_usd_oct27": 0,
         "_deepnote_index_column": 400
        },
        {
         "value_in_eth": 0,
         "value_in_usd_oct27": 0,
         "_deepnote_index_column": 402
        },
        {
         "value_in_eth": 0,
         "value_in_usd_oct27": 0,
         "_deepnote_index_column": 403
        },
        {
         "value_in_eth": 0,
         "value_in_usd_oct27": 0,
         "_deepnote_index_column": 404
        },
        {
         "value_in_eth": 0,
         "value_in_usd_oct27": 0,
         "_deepnote_index_column": 407
        },
        {
         "value_in_eth": 0,
         "value_in_usd_oct27": 0,
         "_deepnote_index_column": 408
        },
        {
         "value_in_eth": 0.045,
         "value_in_usd_oct27": 178.57485,
         "_deepnote_index_column": 419
        },
        {
         "value_in_eth": 0.015,
         "value_in_usd_oct27": 59.52495,
         "_deepnote_index_column": 421
        },
        {
         "value_in_eth": 0,
         "value_in_usd_oct27": 0,
         "_deepnote_index_column": 422
        },
        {
         "value_in_eth": 0,
         "value_in_usd_oct27": 0,
         "_deepnote_index_column": 424
        },
        {
         "value_in_eth": 0,
         "value_in_usd_oct27": 0,
         "_deepnote_index_column": 425
        },
        {
         "value_in_eth": 0.018,
         "value_in_usd_oct27": 71.42993999999999,
         "_deepnote_index_column": 426
        },
        {
         "value_in_eth": 0,
         "value_in_usd_oct27": 0,
         "_deepnote_index_column": 427
        },
        {
         "value_in_eth": 0,
         "value_in_usd_oct27": 0,
         "_deepnote_index_column": 428
        },
        {
         "value_in_eth": 0,
         "value_in_usd_oct27": 0,
         "_deepnote_index_column": 430
        },
        {
         "value_in_eth": 0.016,
         "value_in_usd_oct27": 63.49328,
         "_deepnote_index_column": 432
        },
        {
         "value_in_eth": 0.001,
         "value_in_usd_oct27": 3.96833,
         "_deepnote_index_column": 434
        },
        {
         "value_in_eth": 0,
         "value_in_usd_oct27": 0,
         "_deepnote_index_column": 435
        },
        {
         "value_in_eth": 0,
         "value_in_usd_oct27": 0,
         "_deepnote_index_column": 436
        },
        {
         "value_in_eth": 0,
         "value_in_usd_oct27": 0,
         "_deepnote_index_column": 437
        },
        {
         "value_in_eth": 0.037,
         "value_in_usd_oct27": 146.82820999999998,
         "_deepnote_index_column": 439
        },
        {
         "value_in_eth": 0,
         "value_in_usd_oct27": 0,
         "_deepnote_index_column": 441
        },
        {
         "value_in_eth": 0,
         "value_in_usd_oct27": 0,
         "_deepnote_index_column": 442
        },
        {
         "value_in_eth": 0.06837774586006616,
         "value_in_usd_oct27": 271.34546022887633,
         "_deepnote_index_column": 443
        },
        {
         "value_in_eth": 0.06823095253725521,
         "value_in_usd_oct27": 270.76293588216595,
         "_deepnote_index_column": 445
        },
        {
         "value_in_eth": 0,
         "value_in_usd_oct27": 0,
         "_deepnote_index_column": 446
        },
        {
         "value_in_eth": 0,
         "value_in_usd_oct27": 0,
         "_deepnote_index_column": 447
        },
        {
         "value_in_eth": 0,
         "value_in_usd_oct27": 0,
         "_deepnote_index_column": 450
        },
        {
         "value_in_eth": 0,
         "value_in_usd_oct27": 0,
         "_deepnote_index_column": 452
        },
        {
         "value_in_eth": 0,
         "value_in_usd_oct27": 0,
         "_deepnote_index_column": 454
        },
        {
         "value_in_eth": 0.1550720125673379,
         "value_in_usd_oct27": 615.376919631344,
         "_deepnote_index_column": 455
        },
        {
         "value_in_eth": 0,
         "value_in_usd_oct27": 0,
         "_deepnote_index_column": 457
        },
        {
         "value_in_eth": 0,
         "value_in_usd_oct27": 0,
         "_deepnote_index_column": 459
        },
        {
         "value_in_eth": 0.01525974635352816,
         "value_in_usd_oct27": 60.5557092470964,
         "_deepnote_index_column": 462
        },
        {
         "value_in_eth": 0.01122414,
         "value_in_usd_oct27": 44.5410914862,
         "_deepnote_index_column": 465
        },
        {
         "value_in_eth": 0.01198632,
         "value_in_usd_oct27": 47.565673245599996,
         "_deepnote_index_column": 466
        },
        {
         "value_in_eth": 0.002106729202354634,
         "value_in_usd_oct27": 8.360196695579964,
         "_deepnote_index_column": 467
        },
        {
         "value_in_eth": 0.003103666680259201,
         "value_in_usd_oct27": 12.316373597272996,
         "_deepnote_index_column": 468
        },
        {
         "value_in_eth": 0.00206810333307322,
         "value_in_usd_oct27": 8.20691649973445,
         "_deepnote_index_column": 469
        },
        {
         "value_in_eth": 0.005296880687632487,
         "value_in_usd_oct27": 21.019770539152628,
         "_deepnote_index_column": 470
        },
        {
         "value_in_eth": 0.005294582025088356,
         "value_in_usd_oct27": 21.010648687618875,
         "_deepnote_index_column": 471
        },
        {
         "value_in_eth": 0.005272869967010206,
         "value_in_usd_oct27": 20.92448807618561,
         "_deepnote_index_column": 473
        },
        {
         "value_in_eth": 0.03322790602350568,
         "value_in_usd_oct27": 131.8592963102583,
         "_deepnote_index_column": 475
        },
        {
         "value_in_eth": 0.01207303535819972,
         "value_in_usd_oct27": 47.90978840300469,
         "_deepnote_index_column": 478
        },
        {
         "value_in_eth": 0.01084854919381341,
         "value_in_usd_oct27": 43.05062322228557,
         "_deepnote_index_column": 479
        },
        {
         "value_in_eth": 0.01586722840857535,
         "value_in_usd_oct27": 62.96639851060182,
         "_deepnote_index_column": 484
        },
        {
         "value_in_eth": 0.01665354582577427,
         "value_in_usd_oct27": 66.0867655067948,
         "_deepnote_index_column": 486
        },
        {
         "value_in_eth": 0.008389811189109172,
         "value_in_usd_oct27": 33.293539436077594,
         "_deepnote_index_column": 491
        },
        {
         "value_in_eth": 0.005754906468030888,
         "value_in_usd_oct27": 22.837367984281013,
         "_deepnote_index_column": 494
        },
        {
         "value_in_eth": 0.002539102096625254,
         "value_in_usd_oct27": 10.075995023100894,
         "_deepnote_index_column": 495
        },
        {
         "value_in_eth": 0.002977786441158107,
         "value_in_usd_oct27": 11.816839268040951,
         "_deepnote_index_column": 496
        },
        {
         "value_in_eth": 0.007237543684690643,
         "value_in_usd_oct27": 28.720961730268417,
         "_deepnote_index_column": 501
        },
        {
         "value_in_eth": 0.005928610672697117,
         "value_in_usd_oct27": 23.52668359078415,
         "_deepnote_index_column": 506
        },
        {
         "value_in_eth": 0.05460262,
         "value_in_usd_oct27": 216.6812150246,
         "_deepnote_index_column": 508
        },
        {
         "value_in_eth": 0.014639982673844929,
         "value_in_usd_oct27": 58.096282444099046,
         "_deepnote_index_column": 515
        },
        {
         "value_in_eth": 0.004676512429443729,
         "value_in_usd_oct27": 18.55794456913443,
         "_deepnote_index_column": 518
        },
        {
         "value_in_eth": 0,
         "value_in_usd_oct27": 0,
         "_deepnote_index_column": 519
        },
        {
         "value_in_eth": 0.25,
         "value_in_usd_oct27": 992.0825,
         "_deepnote_index_column": 522
        },
        {
         "value_in_eth": 0.3439945122315684,
         "value_in_usd_oct27": 1365.0837427238998,
         "_deepnote_index_column": 523
        },
        {
         "value_in_eth": 3.13144229,
         "value_in_usd_oct27": 12426.5963826757,
         "_deepnote_index_column": 536
        },
        {
         "value_in_eth": 3.2,
         "value_in_usd_oct27": 12698.656,
         "_deepnote_index_column": 570
        },
        {
         "value_in_eth": 0.9943349081030185,
         "value_in_usd_oct27": 3945.8490458724514,
         "_deepnote_index_column": 589
        },
        {
         "value_in_eth": 0.63,
         "value_in_usd_oct27": 2500.0479,
         "_deepnote_index_column": 597
        },
        {
         "value_in_eth": 0,
         "value_in_usd_oct27": 0,
         "_deepnote_index_column": 599
        },
        {
         "value_in_eth": 0,
         "value_in_usd_oct27": 0,
         "_deepnote_index_column": 600
        },
        {
         "value_in_eth": 0,
         "value_in_usd_oct27": 0,
         "_deepnote_index_column": 613
        },
        {
         "value_in_eth": 0,
         "value_in_usd_oct27": 0,
         "_deepnote_index_column": 614
        },
        {
         "value_in_eth": 0.16971446,
         "value_in_usd_oct27": 673.4829830518,
         "_deepnote_index_column": 639
        },
        {
         "value_in_eth": 0.4309202061904444,
         "value_in_usd_oct27": 1710.0335818317262,
         "_deepnote_index_column": 663
        },
        {
         "value_in_eth": 0,
         "value_in_usd_oct27": 0,
         "_deepnote_index_column": 710
        },
        {
         "value_in_eth": 0,
         "value_in_usd_oct27": 0,
         "_deepnote_index_column": 721
        },
        {
         "value_in_eth": 1,
         "value_in_usd_oct27": 3968.33,
         "_deepnote_index_column": 746
        },
        {
         "value_in_eth": 2,
         "value_in_usd_oct27": 7936.66,
         "_deepnote_index_column": 748
        },
        {
         "value_in_eth": 0,
         "value_in_usd_oct27": 0,
         "_deepnote_index_column": 749
        },
        {
         "value_in_eth": 1,
         "value_in_usd_oct27": 3968.33,
         "_deepnote_index_column": 750
        },
        {
         "value_in_eth": 1,
         "value_in_usd_oct27": 3968.33,
         "_deepnote_index_column": 752
        },
        {
         "value_in_eth": 0,
         "value_in_usd_oct27": 0,
         "_deepnote_index_column": 753
        },
        {
         "value_in_eth": 1,
         "value_in_usd_oct27": 3968.33,
         "_deepnote_index_column": 754
        },
        {
         "value_in_eth": 2.869057729190906,
         "value_in_usd_oct27": 11385.367858480147,
         "_deepnote_index_column": 757
        },
        {
         "value_in_eth": 2.5,
         "value_in_usd_oct27": 9920.825,
         "_deepnote_index_column": 769
        },
        {
         "value_in_eth": 0.5,
         "value_in_usd_oct27": 1984.165,
         "_deepnote_index_column": 773
        },
        {
         "value_in_eth": 0.2,
         "value_in_usd_oct27": 793.666,
         "_deepnote_index_column": 775
        },
        {
         "value_in_eth": 0,
         "value_in_usd_oct27": 0,
         "_deepnote_index_column": 776
        },
        {
         "value_in_eth": 0,
         "value_in_usd_oct27": 0,
         "_deepnote_index_column": 779
        },
        {
         "value_in_eth": 0.1,
         "value_in_usd_oct27": 396.833,
         "_deepnote_index_column": 781
        },
        {
         "value_in_eth": 0.1,
         "value_in_usd_oct27": 396.833,
         "_deepnote_index_column": 782
        },
        {
         "value_in_eth": 5,
         "value_in_usd_oct27": 19841.65,
         "_deepnote_index_column": 784
        },
        {
         "value_in_eth": 3,
         "value_in_usd_oct27": 11904.99,
         "_deepnote_index_column": 785
        },
        {
         "value_in_eth": 3.04841,
         "value_in_usd_oct27": 12097.0968553,
         "_deepnote_index_column": 789
        },
        {
         "value_in_eth": 0.024,
         "value_in_usd_oct27": 95.23992,
         "_deepnote_index_column": 790
        },
        {
         "value_in_eth": 0.2,
         "value_in_usd_oct27": 793.666,
         "_deepnote_index_column": 792
        },
        {
         "value_in_eth": 0.024,
         "value_in_usd_oct27": 95.23992,
         "_deepnote_index_column": 794
        },
        {
         "value_in_eth": 0.3,
         "value_in_usd_oct27": 1190.499,
         "_deepnote_index_column": 795
        },
        {
         "value_in_eth": 0,
         "value_in_usd_oct27": 0,
         "_deepnote_index_column": 797
        },
        {
         "value_in_eth": 4.975,
         "value_in_usd_oct27": 19742.441749999998,
         "_deepnote_index_column": 804
        },
        {
         "value_in_eth": 3,
         "value_in_usd_oct27": 11904.99,
         "_deepnote_index_column": 812
        },
        {
         "value_in_eth": 0,
         "value_in_usd_oct27": 0,
         "_deepnote_index_column": 815
        },
        {
         "value_in_eth": 4.010574313234235,
         "value_in_usd_oct27": 15915.28236443681,
         "_deepnote_index_column": 816
        },
        {
         "value_in_eth": 0,
         "value_in_usd_oct27": 0,
         "_deepnote_index_column": 820
        },
        {
         "value_in_eth": 2,
         "value_in_usd_oct27": 7936.66,
         "_deepnote_index_column": 827
        },
        {
         "value_in_eth": 0,
         "value_in_usd_oct27": 0,
         "_deepnote_index_column": 828
        },
        {
         "value_in_eth": 2.5,
         "value_in_usd_oct27": 9920.825,
         "_deepnote_index_column": 829
        },
        {
         "value_in_eth": 2,
         "value_in_usd_oct27": 7936.66,
         "_deepnote_index_column": 830
        },
        {
         "value_in_eth": 0,
         "value_in_usd_oct27": 0,
         "_deepnote_index_column": 839
        },
        {
         "value_in_eth": 0.22,
         "value_in_usd_oct27": 873.0326,
         "_deepnote_index_column": 840
        },
        {
         "value_in_eth": 1.255,
         "value_in_usd_oct27": 4980.25415,
         "_deepnote_index_column": 843
        },
        {
         "value_in_eth": 0,
         "value_in_usd_oct27": 0,
         "_deepnote_index_column": 845
        },
        {
         "value_in_eth": 3,
         "value_in_usd_oct27": 11904.99,
         "_deepnote_index_column": 849
        },
        {
         "value_in_eth": 0,
         "value_in_usd_oct27": 0,
         "_deepnote_index_column": 850
        },
        {
         "value_in_eth": 0,
         "value_in_usd_oct27": 0,
         "_deepnote_index_column": 851
        },
        {
         "value_in_eth": 0,
         "value_in_usd_oct27": 0,
         "_deepnote_index_column": 852
        },
        {
         "value_in_eth": 0,
         "value_in_usd_oct27": 0,
         "_deepnote_index_column": 853
        },
        {
         "value_in_eth": 0,
         "value_in_usd_oct27": 0,
         "_deepnote_index_column": 855
        },
        {
         "value_in_eth": 0,
         "value_in_usd_oct27": 0,
         "_deepnote_index_column": 858
        },
        {
         "value_in_eth": 0,
         "value_in_usd_oct27": 0,
         "_deepnote_index_column": 862
        },
        {
         "value_in_eth": 0,
         "value_in_usd_oct27": 0,
         "_deepnote_index_column": 863
        },
        {
         "value_in_eth": 0,
         "value_in_usd_oct27": 0,
         "_deepnote_index_column": 868
        },
        {
         "value_in_eth": 0,
         "value_in_usd_oct27": 0,
         "_deepnote_index_column": 870
        },
        {
         "value_in_eth": 0,
         "value_in_usd_oct27": 0,
         "_deepnote_index_column": 872
        },
        {
         "value_in_eth": 0.5,
         "value_in_usd_oct27": 1984.165,
         "_deepnote_index_column": 873
        },
        {
         "value_in_eth": 0.5,
         "value_in_usd_oct27": 1984.165,
         "_deepnote_index_column": 874
        },
        {
         "value_in_eth": 0,
         "value_in_usd_oct27": 0,
         "_deepnote_index_column": 878
        },
        {
         "value_in_eth": 0,
         "value_in_usd_oct27": 0,
         "_deepnote_index_column": 879
        },
        {
         "value_in_eth": 0,
         "value_in_usd_oct27": 0,
         "_deepnote_index_column": 880
        },
        {
         "value_in_eth": 5,
         "value_in_usd_oct27": 19841.65,
         "_deepnote_index_column": 881
        },
        {
         "value_in_eth": 2,
         "value_in_usd_oct27": 7936.66,
         "_deepnote_index_column": 882
        },
        {
         "value_in_eth": 2,
         "value_in_usd_oct27": 7936.66,
         "_deepnote_index_column": 883
        },
        {
         "value_in_eth": 1.1757343278306192,
         "value_in_usd_oct27": 4665.701805160081,
         "_deepnote_index_column": 885
        },
        {
         "value_in_eth": 0,
         "value_in_usd_oct27": 0,
         "_deepnote_index_column": 887
        },
        {
         "value_in_eth": 5,
         "value_in_usd_oct27": 19841.65,
         "_deepnote_index_column": 904
        },
        {
         "value_in_eth": 5.351763203524497,
         "value_in_usd_oct27": 21237.562473442365,
         "_deepnote_index_column": 906
        },
        {
         "value_in_eth": 5,
         "value_in_usd_oct27": 19841.65,
         "_deepnote_index_column": 907
        },
        {
         "value_in_eth": 0,
         "value_in_usd_oct27": 0,
         "_deepnote_index_column": 909
        },
        {
         "value_in_eth": 0,
         "value_in_usd_oct27": 0,
         "_deepnote_index_column": 910
        },
        {
         "value_in_eth": 2.662122235936034,
         "value_in_usd_oct27": 10564.179532532042,
         "_deepnote_index_column": 911
        },
        {
         "value_in_eth": 6,
         "value_in_usd_oct27": 23809.98,
         "_deepnote_index_column": 915
        },
        {
         "value_in_eth": 0,
         "value_in_usd_oct27": 0,
         "_deepnote_index_column": 917
        },
        {
         "value_in_eth": 0,
         "value_in_usd_oct27": 0,
         "_deepnote_index_column": 918
        },
        {
         "value_in_eth": 0,
         "value_in_usd_oct27": 0,
         "_deepnote_index_column": 922
        },
        {
         "value_in_eth": 0,
         "value_in_usd_oct27": 0,
         "_deepnote_index_column": 923
        },
        {
         "value_in_eth": 0,
         "value_in_usd_oct27": 0,
         "_deepnote_index_column": 926
        },
        {
         "value_in_eth": 0,
         "value_in_usd_oct27": 0,
         "_deepnote_index_column": 927
        },
        {
         "value_in_eth": 0,
         "value_in_usd_oct27": 0,
         "_deepnote_index_column": 930
        },
        {
         "value_in_eth": 0.1,
         "value_in_usd_oct27": 396.833,
         "_deepnote_index_column": 932
        },
        {
         "value_in_eth": 0,
         "value_in_usd_oct27": 0,
         "_deepnote_index_column": 936
        },
        {
         "value_in_eth": 0,
         "value_in_usd_oct27": 0,
         "_deepnote_index_column": 937
        },
        {
         "value_in_eth": 0,
         "value_in_usd_oct27": 0,
         "_deepnote_index_column": 938
        },
        {
         "value_in_eth": 0,
         "value_in_usd_oct27": 0,
         "_deepnote_index_column": 945
        },
        {
         "value_in_eth": 3,
         "value_in_usd_oct27": 11904.99,
         "_deepnote_index_column": 946
        },
        {
         "value_in_eth": 0,
         "value_in_usd_oct27": 0,
         "_deepnote_index_column": 947
        },
        {
         "value_in_eth": 0,
         "value_in_usd_oct27": 0,
         "_deepnote_index_column": 948
        },
        {
         "value_in_eth": 0,
         "value_in_usd_oct27": 0,
         "_deepnote_index_column": 949
        },
        {
         "value_in_eth": 0,
         "value_in_usd_oct27": 0,
         "_deepnote_index_column": 952
        },
        {
         "value_in_eth": 2,
         "value_in_usd_oct27": 7936.66,
         "_deepnote_index_column": 957
        },
        {
         "value_in_eth": 0,
         "value_in_usd_oct27": 0,
         "_deepnote_index_column": 958
        }
       ],
       "rows_bottom": [
        {
         "value_in_eth": 0,
         "value_in_usd_oct27": 0,
         "_deepnote_index_column": 498049
        },
        {
         "value_in_eth": 0,
         "value_in_usd_oct27": 0,
         "_deepnote_index_column": 498121
        },
        {
         "value_in_eth": 0.04787782,
         "value_in_usd_oct27": 189.9949894406,
         "_deepnote_index_column": 498331
        },
        {
         "value_in_eth": 0.11316378,
         "value_in_usd_oct27": 449.0712230874,
         "_deepnote_index_column": 498468
        },
        {
         "value_in_eth": 0,
         "value_in_usd_oct27": 0,
         "_deepnote_index_column": 498478
        },
        {
         "value_in_eth": 0,
         "value_in_usd_oct27": 0,
         "_deepnote_index_column": 498479
        },
        {
         "value_in_eth": 0,
         "value_in_usd_oct27": 0,
         "_deepnote_index_column": 498480
        },
        {
         "value_in_eth": 0,
         "value_in_usd_oct27": 0,
         "_deepnote_index_column": 498481
        },
        {
         "value_in_eth": 0,
         "value_in_usd_oct27": 0,
         "_deepnote_index_column": 498511
        },
        {
         "value_in_eth": 0.10667063,
         "value_in_usd_oct27": 423.3042611479,
         "_deepnote_index_column": 498573
        },
        {
         "value_in_eth": 0,
         "value_in_usd_oct27": 0,
         "_deepnote_index_column": 498577
        },
        {
         "value_in_eth": 0,
         "value_in_usd_oct27": 0,
         "_deepnote_index_column": 498578
        },
        {
         "value_in_eth": 0.01357,
         "value_in_usd_oct27": 53.8502381,
         "_deepnote_index_column": 498589
        },
        {
         "value_in_eth": 0.00841229696,
         "value_in_usd_oct27": 33.38277039527679,
         "_deepnote_index_column": 498590
        },
        {
         "value_in_eth": 0.00141497,
         "value_in_usd_oct27": 5.6150679001,
         "_deepnote_index_column": 498594
        },
        {
         "value_in_eth": 0.02,
         "value_in_usd_oct27": 79.3666,
         "_deepnote_index_column": 498603
        },
        {
         "value_in_eth": 0.018,
         "value_in_usd_oct27": 71.42993999999999,
         "_deepnote_index_column": 498608
        },
        {
         "value_in_eth": 0,
         "value_in_usd_oct27": 0,
         "_deepnote_index_column": 498613
        },
        {
         "value_in_eth": 0.02,
         "value_in_usd_oct27": 79.3666,
         "_deepnote_index_column": 498623
        },
        {
         "value_in_eth": 0.034724709,
         "value_in_usd_oct27": 137.79910446597,
         "_deepnote_index_column": 498626
        },
        {
         "value_in_eth": 0.011548686987447515,
         "value_in_usd_oct27": 45.829001032897594,
         "_deepnote_index_column": 498630
        },
        {
         "value_in_eth": 0.0024802387,
         "value_in_usd_oct27": 9.842405640371,
         "_deepnote_index_column": 498632
        },
        {
         "value_in_eth": 0.0033731937,
         "value_in_usd_oct27": 13.385945755521,
         "_deepnote_index_column": 498636
        },
        {
         "value_in_eth": 0.005008805438884725,
         "value_in_usd_oct27": 19.876592887289423,
         "_deepnote_index_column": 498639
        },
        {
         "value_in_eth": 0.0178,
         "value_in_usd_oct27": 70.636274,
         "_deepnote_index_column": 498641
        },
        {
         "value_in_eth": 0.33,
         "value_in_usd_oct27": 1309.5489,
         "_deepnote_index_column": 498645
        },
        {
         "value_in_eth": 0,
         "value_in_usd_oct27": 0,
         "_deepnote_index_column": 498646
        },
        {
         "value_in_eth": 0,
         "value_in_usd_oct27": 0,
         "_deepnote_index_column": 498647
        },
        {
         "value_in_eth": 0.2,
         "value_in_usd_oct27": 793.666,
         "_deepnote_index_column": 498695
        },
        {
         "value_in_eth": 0.0236,
         "value_in_usd_oct27": 93.652588,
         "_deepnote_index_column": 498724
        },
        {
         "value_in_eth": 0.1,
         "value_in_usd_oct27": 396.833,
         "_deepnote_index_column": 498770
        },
        {
         "value_in_eth": 0,
         "value_in_usd_oct27": 0,
         "_deepnote_index_column": 498773
        },
        {
         "value_in_eth": 0,
         "value_in_usd_oct27": 0,
         "_deepnote_index_column": 498774
        },
        {
         "value_in_eth": 0,
         "value_in_usd_oct27": 0,
         "_deepnote_index_column": 498775
        },
        {
         "value_in_eth": 3.6,
         "value_in_usd_oct27": 14285.988,
         "_deepnote_index_column": 498783
        },
        {
         "value_in_eth": 0.019,
         "value_in_usd_oct27": 75.39827,
         "_deepnote_index_column": 498785
        },
        {
         "value_in_eth": 0.43,
         "value_in_usd_oct27": 1706.3818999999999,
         "_deepnote_index_column": 498789
        },
        {
         "value_in_eth": 0.6162441970338113,
         "value_in_usd_oct27": 2445.460334415184,
         "_deepnote_index_column": 498790
        },
        {
         "value_in_eth": 0,
         "value_in_usd_oct27": 0,
         "_deepnote_index_column": 498791
        },
        {
         "value_in_eth": 0,
         "value_in_usd_oct27": 0,
         "_deepnote_index_column": 498859
        },
        {
         "value_in_eth": 0,
         "value_in_usd_oct27": 0,
         "_deepnote_index_column": 498868
        },
        {
         "value_in_eth": 0,
         "value_in_usd_oct27": 0,
         "_deepnote_index_column": 498888
        },
        {
         "value_in_eth": 0,
         "value_in_usd_oct27": 0,
         "_deepnote_index_column": 498891
        },
        {
         "value_in_eth": 0,
         "value_in_usd_oct27": 0,
         "_deepnote_index_column": 498892
        },
        {
         "value_in_eth": 0,
         "value_in_usd_oct27": 0,
         "_deepnote_index_column": 498893
        },
        {
         "value_in_eth": 0,
         "value_in_usd_oct27": 0,
         "_deepnote_index_column": 498895
        },
        {
         "value_in_eth": 0.000001,
         "value_in_usd_oct27": 0.00396833,
         "_deepnote_index_column": 498897
        },
        {
         "value_in_eth": 0,
         "value_in_usd_oct27": 0,
         "_deepnote_index_column": 498898
        },
        {
         "value_in_eth": 0.06,
         "value_in_usd_oct27": 238.0998,
         "_deepnote_index_column": 498923
        },
        {
         "value_in_eth": 1,
         "value_in_usd_oct27": 3968.33,
         "_deepnote_index_column": 498924
        },
        {
         "value_in_eth": 0.021886,
         "value_in_usd_oct27": 86.85087037999999,
         "_deepnote_index_column": 498927
        },
        {
         "value_in_eth": 0,
         "value_in_usd_oct27": 0,
         "_deepnote_index_column": 498930
        },
        {
         "value_in_eth": 4,
         "value_in_usd_oct27": 15873.32,
         "_deepnote_index_column": 498932
        },
        {
         "value_in_eth": 0,
         "value_in_usd_oct27": 0,
         "_deepnote_index_column": 498933
        },
        {
         "value_in_eth": 0,
         "value_in_usd_oct27": 0,
         "_deepnote_index_column": 498934
        },
        {
         "value_in_eth": 0,
         "value_in_usd_oct27": 0,
         "_deepnote_index_column": 498935
        },
        {
         "value_in_eth": 3.386945914795758,
         "value_in_usd_oct27": 13440.51908206145,
         "_deepnote_index_column": 498937
        },
        {
         "value_in_eth": 0,
         "value_in_usd_oct27": 0,
         "_deepnote_index_column": 498939
        },
        {
         "value_in_eth": 0.01,
         "value_in_usd_oct27": 39.6833,
         "_deepnote_index_column": 498941
        },
        {
         "value_in_eth": 0.04891635,
         "value_in_usd_oct27": 194.11621919549998,
         "_deepnote_index_column": 498945
        },
        {
         "value_in_eth": 0.01697565979333037,
         "value_in_usd_oct27": 67.3650200276667,
         "_deepnote_index_column": 498947
        },
        {
         "value_in_eth": 0.008622,
         "value_in_usd_oct27": 34.214941259999996,
         "_deepnote_index_column": 498949
        },
        {
         "value_in_eth": 0.9982,
         "value_in_usd_oct27": 3961.1870059999997,
         "_deepnote_index_column": 498953
        },
        {
         "value_in_eth": 30.1532,
         "value_in_usd_oct27": 119657.848156,
         "_deepnote_index_column": 498954
        },
        {
         "value_in_eth": 0.007909125,
         "value_in_usd_oct27": 31.38601801125,
         "_deepnote_index_column": 498957
        },
        {
         "value_in_eth": 31.2135513,
         "value_in_usd_oct27": 123865.67203032899,
         "_deepnote_index_column": 498960
        },
        {
         "value_in_eth": 0.02,
         "value_in_usd_oct27": 79.3666,
         "_deepnote_index_column": 498962
        },
        {
         "value_in_eth": 0.22391978,
         "value_in_usd_oct27": 888.5875805674,
         "_deepnote_index_column": 498963
        },
        {
         "value_in_eth": 1.02004578,
         "value_in_usd_oct27": 4047.8782701474,
         "_deepnote_index_column": 498966
        },
        {
         "value_in_eth": 0.97970182,
         "value_in_usd_oct27": 3887.7801233605996,
         "_deepnote_index_column": 498967
        },
        {
         "value_in_eth": 0.04170509,
         "value_in_usd_oct27": 165.4995597997,
         "_deepnote_index_column": 498973
        },
        {
         "value_in_eth": 1.76432095,
         "value_in_usd_oct27": 7001.4077555135,
         "_deepnote_index_column": 498977
        },
        {
         "value_in_eth": 0.02540356,
         "value_in_usd_oct27": 100.8097092548,
         "_deepnote_index_column": 498993
        },
        {
         "value_in_eth": 0.0035,
         "value_in_usd_oct27": 13.889155,
         "_deepnote_index_column": 499019
        },
        {
         "value_in_eth": 0.06137775,
         "value_in_usd_oct27": 243.5671666575,
         "_deepnote_index_column": 499047
        },
        {
         "value_in_eth": 0.77042292,
         "value_in_usd_oct27": 3057.2923861236,
         "_deepnote_index_column": 499071
        },
        {
         "value_in_eth": 0.48831641,
         "value_in_usd_oct27": 1937.8006592953,
         "_deepnote_index_column": 499078
        },
        {
         "value_in_eth": 0.0019,
         "value_in_usd_oct27": 7.539827,
         "_deepnote_index_column": 499116
        },
        {
         "value_in_eth": 1.1890345,
         "value_in_usd_oct27": 4718.481277385,
         "_deepnote_index_column": 499142
        },
        {
         "value_in_eth": 2.00164518,
         "value_in_usd_oct27": 7943.188617149401,
         "_deepnote_index_column": 499162
        },
        {
         "value_in_eth": 1.92485547,
         "value_in_usd_oct27": 7638.4617072651,
         "_deepnote_index_column": 499171
        },
        {
         "value_in_eth": 0.2319294,
         "value_in_usd_oct27": 920.372395902,
         "_deepnote_index_column": 499187
        },
        {
         "value_in_eth": 2.06646923,
         "value_in_usd_oct27": 8200.4318394859,
         "_deepnote_index_column": 499189
        },
        {
         "value_in_eth": 1.6988724668,
         "value_in_usd_oct27": 6741.686576176444,
         "_deepnote_index_column": 499215
        },
        {
         "value_in_eth": 0,
         "value_in_usd_oct27": 0,
         "_deepnote_index_column": 499220
        },
        {
         "value_in_eth": 0.36130852,
         "value_in_usd_oct27": 1433.7914391716001,
         "_deepnote_index_column": 499317
        },
        {
         "value_in_eth": 0.311849,
         "value_in_usd_oct27": 1237.51974217,
         "_deepnote_index_column": 499368
        },
        {
         "value_in_eth": 0,
         "value_in_usd_oct27": 0,
         "_deepnote_index_column": 499383
        },
        {
         "value_in_eth": 0.3670928,
         "value_in_usd_oct27": 1456.745371024,
         "_deepnote_index_column": 499393
        },
        {
         "value_in_eth": 1.872188242263138,
         "value_in_usd_oct27": 7429.460767420078,
         "_deepnote_index_column": 499397
        },
        {
         "value_in_eth": 0.019,
         "value_in_usd_oct27": 75.39827,
         "_deepnote_index_column": 499413
        },
        {
         "value_in_eth": 0.5,
         "value_in_usd_oct27": 1984.165,
         "_deepnote_index_column": 499425
        },
        {
         "value_in_eth": 1,
         "value_in_usd_oct27": 3968.33,
         "_deepnote_index_column": 499445
        },
        {
         "value_in_eth": 0.43579083,
         "value_in_usd_oct27": 1729.3618244139,
         "_deepnote_index_column": 499455
        },
        {
         "value_in_eth": 0.083,
         "value_in_usd_oct27": 329.37139,
         "_deepnote_index_column": 499475
        },
        {
         "value_in_eth": 0.077,
         "value_in_usd_oct27": 305.56140999999997,
         "_deepnote_index_column": 499483
        },
        {
         "value_in_eth": 0.172,
         "value_in_usd_oct27": 682.5527599999999,
         "_deepnote_index_column": 499484
        },
        {
         "value_in_eth": 0.31,
         "value_in_usd_oct27": 1230.1823,
         "_deepnote_index_column": 499485
        },
        {
         "value_in_eth": 0.17178442,
         "value_in_usd_oct27": 681.6972674186,
         "_deepnote_index_column": 499486
        },
        {
         "value_in_eth": 0.1886,
         "value_in_usd_oct27": 748.4270379999999,
         "_deepnote_index_column": 499487
        },
        {
         "value_in_eth": 0.17,
         "value_in_usd_oct27": 674.6161000000001,
         "_deepnote_index_column": 499505
        },
        {
         "value_in_eth": 0.170000808,
         "value_in_usd_oct27": 674.61930641064,
         "_deepnote_index_column": 499509
        },
        {
         "value_in_eth": 0.16786339276356624,
         "value_in_usd_oct27": 666.1373374054428,
         "_deepnote_index_column": 499518
        },
        {
         "value_in_eth": 0,
         "value_in_usd_oct27": 0,
         "_deepnote_index_column": 499527
        },
        {
         "value_in_eth": 0,
         "value_in_usd_oct27": 0,
         "_deepnote_index_column": 499529
        },
        {
         "value_in_eth": 0.2,
         "value_in_usd_oct27": 793.666,
         "_deepnote_index_column": 499546
        },
        {
         "value_in_eth": 0.39,
         "value_in_usd_oct27": 1547.6487,
         "_deepnote_index_column": 499555
        },
        {
         "value_in_eth": 0.40153004,
         "value_in_usd_oct27": 1593.4037036332,
         "_deepnote_index_column": 499556
        },
        {
         "value_in_eth": 0,
         "value_in_usd_oct27": 0,
         "_deepnote_index_column": 499559
        },
        {
         "value_in_eth": 0.397,
         "value_in_usd_oct27": 1575.42701,
         "_deepnote_index_column": 499561
        },
        {
         "value_in_eth": 0,
         "value_in_usd_oct27": 0,
         "_deepnote_index_column": 499590
        },
        {
         "value_in_eth": 0,
         "value_in_usd_oct27": 0,
         "_deepnote_index_column": 499591
        },
        {
         "value_in_eth": 0.35,
         "value_in_usd_oct27": 1388.9154999999998,
         "_deepnote_index_column": 499593
        },
        {
         "value_in_eth": 0.33,
         "value_in_usd_oct27": 1309.5489,
         "_deepnote_index_column": 499594
        },
        {
         "value_in_eth": 0.4907038205693186,
         "value_in_usd_oct27": 1947.274692279844,
         "_deepnote_index_column": 499595
        },
        {
         "value_in_eth": 0,
         "value_in_usd_oct27": 0,
         "_deepnote_index_column": 499605
        },
        {
         "value_in_eth": 0,
         "value_in_usd_oct27": 0,
         "_deepnote_index_column": 499606
        },
        {
         "value_in_eth": 0.52,
         "value_in_usd_oct27": 2063.5316000000003,
         "_deepnote_index_column": 499608
        },
        {
         "value_in_eth": 0.0504,
         "value_in_usd_oct27": 200.003832,
         "_deepnote_index_column": 499609
        },
        {
         "value_in_eth": 0.186,
         "value_in_usd_oct27": 738.10938,
         "_deepnote_index_column": 499610
        },
        {
         "value_in_eth": 0,
         "value_in_usd_oct27": 0,
         "_deepnote_index_column": 499640
        },
        {
         "value_in_eth": 0,
         "value_in_usd_oct27": 0,
         "_deepnote_index_column": 499641
        },
        {
         "value_in_eth": 0,
         "value_in_usd_oct27": 0,
         "_deepnote_index_column": 499642
        },
        {
         "value_in_eth": 0,
         "value_in_usd_oct27": 0,
         "_deepnote_index_column": 499646
        },
        {
         "value_in_eth": 0,
         "value_in_usd_oct27": 0,
         "_deepnote_index_column": 499653
        },
        {
         "value_in_eth": 0,
         "value_in_usd_oct27": 0,
         "_deepnote_index_column": 499654
        },
        {
         "value_in_eth": 0.223,
         "value_in_usd_oct27": 884.93759,
         "_deepnote_index_column": 499655
        },
        {
         "value_in_eth": 0.223,
         "value_in_usd_oct27": 884.93759,
         "_deepnote_index_column": 499656
        },
        {
         "value_in_eth": 0.223,
         "value_in_usd_oct27": 884.93759,
         "_deepnote_index_column": 499657
        },
        {
         "value_in_eth": 0.30709576229341545,
         "value_in_usd_oct27": 1218.6573263818293,
         "_deepnote_index_column": 499661
        },
        {
         "value_in_eth": 0.31,
         "value_in_usd_oct27": 1230.1823,
         "_deepnote_index_column": 499662
        },
        {
         "value_in_eth": 0.31,
         "value_in_usd_oct27": 1230.1823,
         "_deepnote_index_column": 499663
        },
        {
         "value_in_eth": 0.31077,
         "value_in_usd_oct27": 1233.2379141,
         "_deepnote_index_column": 499664
        },
        {
         "value_in_eth": 0.315,
         "value_in_usd_oct27": 1250.02395,
         "_deepnote_index_column": 499665
        },
        {
         "value_in_eth": 0.33,
         "value_in_usd_oct27": 1309.5489,
         "_deepnote_index_column": 499666
        },
        {
         "value_in_eth": 0,
         "value_in_usd_oct27": 0,
         "_deepnote_index_column": 499676
        },
        {
         "value_in_eth": 0,
         "value_in_usd_oct27": 0,
         "_deepnote_index_column": 499683
        },
        {
         "value_in_eth": 0,
         "value_in_usd_oct27": 0,
         "_deepnote_index_column": 499684
        },
        {
         "value_in_eth": 0,
         "value_in_usd_oct27": 0,
         "_deepnote_index_column": 499685
        },
        {
         "value_in_eth": 0,
         "value_in_usd_oct27": 0,
         "_deepnote_index_column": 499687
        },
        {
         "value_in_eth": 0,
         "value_in_usd_oct27": 0,
         "_deepnote_index_column": 499691
        },
        {
         "value_in_eth": 0,
         "value_in_usd_oct27": 0,
         "_deepnote_index_column": 499693
        },
        {
         "value_in_eth": 0.44,
         "value_in_usd_oct27": 1746.0652,
         "_deepnote_index_column": 499695
        },
        {
         "value_in_eth": 0.445,
         "value_in_usd_oct27": 1765.90685,
         "_deepnote_index_column": 499696
        },
        {
         "value_in_eth": 0.45,
         "value_in_usd_oct27": 1785.7485,
         "_deepnote_index_column": 499697
        },
        {
         "value_in_eth": 0.45,
         "value_in_usd_oct27": 1785.7485,
         "_deepnote_index_column": 499698
        },
        {
         "value_in_eth": 0.45,
         "value_in_usd_oct27": 1785.7485,
         "_deepnote_index_column": 499699
        },
        {
         "value_in_eth": 0.46,
         "value_in_usd_oct27": 1825.4318,
         "_deepnote_index_column": 499700
        },
        {
         "value_in_eth": 0.458,
         "value_in_usd_oct27": 1817.49514,
         "_deepnote_index_column": 499701
        },
        {
         "value_in_eth": 0,
         "value_in_usd_oct27": 0,
         "_deepnote_index_column": 499703
        },
        {
         "value_in_eth": 0,
         "value_in_usd_oct27": 0,
         "_deepnote_index_column": 499704
        },
        {
         "value_in_eth": 0,
         "value_in_usd_oct27": 0,
         "_deepnote_index_column": 499705
        },
        {
         "value_in_eth": 0,
         "value_in_usd_oct27": 0,
         "_deepnote_index_column": 499706
        },
        {
         "value_in_eth": 0,
         "value_in_usd_oct27": 0,
         "_deepnote_index_column": 499710
        },
        {
         "value_in_eth": 0,
         "value_in_usd_oct27": 0,
         "_deepnote_index_column": 499711
        },
        {
         "value_in_eth": 0,
         "value_in_usd_oct27": 0,
         "_deepnote_index_column": 499712
        },
        {
         "value_in_eth": 0,
         "value_in_usd_oct27": 0,
         "_deepnote_index_column": 499715
        },
        {
         "value_in_eth": 0,
         "value_in_usd_oct27": 0,
         "_deepnote_index_column": 499731
        },
        {
         "value_in_eth": 0,
         "value_in_usd_oct27": 0,
         "_deepnote_index_column": 499732
        },
        {
         "value_in_eth": 0,
         "value_in_usd_oct27": 0,
         "_deepnote_index_column": 499734
        },
        {
         "value_in_eth": 0,
         "value_in_usd_oct27": 0,
         "_deepnote_index_column": 499735
        },
        {
         "value_in_eth": 0,
         "value_in_usd_oct27": 0,
         "_deepnote_index_column": 499736
        },
        {
         "value_in_eth": 0,
         "value_in_usd_oct27": 0,
         "_deepnote_index_column": 499738
        },
        {
         "value_in_eth": 0.7,
         "value_in_usd_oct27": 2777.8309999999997,
         "_deepnote_index_column": 499739
        },
        {
         "value_in_eth": 0.15,
         "value_in_usd_oct27": 595.2495,
         "_deepnote_index_column": 499741
        },
        {
         "value_in_eth": 0,
         "value_in_usd_oct27": 0,
         "_deepnote_index_column": 499748
        },
        {
         "value_in_eth": 0.45969638275,
         "value_in_usd_oct27": 1824.2269465583076,
         "_deepnote_index_column": 499751
        },
        {
         "value_in_eth": 0.475,
         "value_in_usd_oct27": 1884.9567499999998,
         "_deepnote_index_column": 499752
        },
        {
         "value_in_eth": 0.471,
         "value_in_usd_oct27": 1869.08343,
         "_deepnote_index_column": 499753
        },
        {
         "value_in_eth": 0.47,
         "value_in_usd_oct27": 1865.1150999999998,
         "_deepnote_index_column": 499754
        },
        {
         "value_in_eth": 0.3974025974025974,
         "value_in_usd_oct27": 1577.0246493506495,
         "_deepnote_index_column": 499755
        },
        {
         "value_in_eth": 0.2765472280023959,
         "value_in_usd_oct27": 1097.4306612987477,
         "_deepnote_index_column": 499759
        },
        {
         "value_in_eth": 0.2743852519317573,
         "value_in_usd_oct27": 1088.8512267983504,
         "_deepnote_index_column": 499760
        },
        {
         "value_in_eth": 0.41,
         "value_in_usd_oct27": 1627.0152999999998,
         "_deepnote_index_column": 499772
        },
        {
         "value_in_eth": 0.395,
         "value_in_usd_oct27": 1567.49035,
         "_deepnote_index_column": 499773
        },
        {
         "value_in_eth": 0.42,
         "value_in_usd_oct27": 1666.6986,
         "_deepnote_index_column": 499774
        },
        {
         "value_in_eth": 0.081,
         "value_in_usd_oct27": 321.43473,
         "_deepnote_index_column": 499782
        },
        {
         "value_in_eth": 0,
         "value_in_usd_oct27": 0,
         "_deepnote_index_column": 499784
        },
        {
         "value_in_eth": 0.345,
         "value_in_usd_oct27": 1369.0738499999998,
         "_deepnote_index_column": 499785
        },
        {
         "value_in_eth": 0.306,
         "value_in_usd_oct27": 1214.30898,
         "_deepnote_index_column": 499799
        },
        {
         "value_in_eth": 0,
         "value_in_usd_oct27": 0,
         "_deepnote_index_column": 499801
        },
        {
         "value_in_eth": 0,
         "value_in_usd_oct27": 0,
         "_deepnote_index_column": 499802
        },
        {
         "value_in_eth": 0,
         "value_in_usd_oct27": 0,
         "_deepnote_index_column": 499807
        },
        {
         "value_in_eth": 0.33000001,
         "value_in_usd_oct27": 1309.5489396833,
         "_deepnote_index_column": 499810
        },
        {
         "value_in_eth": 0.343122663,
         "value_in_usd_oct27": 1361.6239572627899,
         "_deepnote_index_column": 499811
        },
        {
         "value_in_eth": 0.311907,
         "value_in_usd_oct27": 1237.74990531,
         "_deepnote_index_column": 499812
        },
        {
         "value_in_eth": 1.1687206188999586,
         "value_in_usd_oct27": 4637.869093599273,
         "_deepnote_index_column": 499814
        },
        {
         "value_in_eth": 0,
         "value_in_usd_oct27": 0,
         "_deepnote_index_column": 499831
        },
        {
         "value_in_eth": 0,
         "value_in_usd_oct27": 0,
         "_deepnote_index_column": 499837
        },
        {
         "value_in_eth": 0,
         "value_in_usd_oct27": 0,
         "_deepnote_index_column": 499838
        },
        {
         "value_in_eth": 0,
         "value_in_usd_oct27": 0,
         "_deepnote_index_column": 499856
        },
        {
         "value_in_eth": 0.197,
         "value_in_usd_oct27": 781.76101,
         "_deepnote_index_column": 499864
        },
        {
         "value_in_eth": 0.18116287495947672,
         "value_in_usd_oct27": 718.9140715879403,
         "_deepnote_index_column": 499865
        },
        {
         "value_in_eth": 0,
         "value_in_usd_oct27": 0,
         "_deepnote_index_column": 499867
        },
        {
         "value_in_eth": 0.16000001,
         "value_in_usd_oct27": 634.9328396833,
         "_deepnote_index_column": 499868
        },
        {
         "value_in_eth": 0,
         "value_in_usd_oct27": 0,
         "_deepnote_index_column": 499869
        },
        {
         "value_in_eth": 0.16,
         "value_in_usd_oct27": 634.9328,
         "_deepnote_index_column": 499870
        },
        {
         "value_in_eth": 0,
         "value_in_usd_oct27": 0,
         "_deepnote_index_column": 499872
        },
        {
         "value_in_eth": 0.14,
         "value_in_usd_oct27": 555.5662000000001,
         "_deepnote_index_column": 499880
        },
        {
         "value_in_eth": 0,
         "value_in_usd_oct27": 0,
         "_deepnote_index_column": 499882
        },
        {
         "value_in_eth": 0.36785186,
         "value_in_usd_oct27": 1459.7575715937999,
         "_deepnote_index_column": 499883
        },
        {
         "value_in_eth": 0.50309143,
         "value_in_usd_oct27": 1996.4328144119,
         "_deepnote_index_column": 499885
        },
        {
         "value_in_eth": 0.29591941,
         "value_in_usd_oct27": 1174.3058722853,
         "_deepnote_index_column": 499887
        },
        {
         "value_in_eth": 0,
         "value_in_usd_oct27": 0,
         "_deepnote_index_column": 499918
        },
        {
         "value_in_eth": 0,
         "value_in_usd_oct27": 0,
         "_deepnote_index_column": 499919
        },
        {
         "value_in_eth": 0.16,
         "value_in_usd_oct27": 634.9328,
         "_deepnote_index_column": 499934
        },
        {
         "value_in_eth": 0.16,
         "value_in_usd_oct27": 634.9328,
         "_deepnote_index_column": 499935
        },
        {
         "value_in_eth": 0.872,
         "value_in_usd_oct27": 3460.3837599999997,
         "_deepnote_index_column": 499936
        },
        {
         "value_in_eth": 0.15,
         "value_in_usd_oct27": 595.2495,
         "_deepnote_index_column": 499937
        },
        {
         "value_in_eth": 0.16002,
         "value_in_usd_oct27": 635.0121666,
         "_deepnote_index_column": 499938
        },
        {
         "value_in_eth": 0.16,
         "value_in_usd_oct27": 634.9328,
         "_deepnote_index_column": 499939
        },
        {
         "value_in_eth": 0.15081983,
         "value_in_usd_oct27": 598.5028559839,
         "_deepnote_index_column": 499940
        },
        {
         "value_in_eth": 0.14545377097861673,
         "value_in_usd_oct27": 577.208562987574,
         "_deepnote_index_column": 499941
        },
        {
         "value_in_eth": 0.1454,
         "value_in_usd_oct27": 576.995182,
         "_deepnote_index_column": 499942
        },
        {
         "value_in_eth": 0,
         "value_in_usd_oct27": 0,
         "_deepnote_index_column": 499947
        },
        {
         "value_in_eth": 0,
         "value_in_usd_oct27": 0,
         "_deepnote_index_column": 499949
        },
        {
         "value_in_eth": 0,
         "value_in_usd_oct27": 0,
         "_deepnote_index_column": 499950
        },
        {
         "value_in_eth": 0.14,
         "value_in_usd_oct27": 555.5662000000001,
         "_deepnote_index_column": 499958
        },
        {
         "value_in_eth": 0.34121823,
         "value_in_usd_oct27": 1354.0665386559,
         "_deepnote_index_column": 499962
        },
        {
         "value_in_eth": 0.30360652,
         "value_in_usd_oct27": 1204.8108615116,
         "_deepnote_index_column": 499965
        },
        {
         "value_in_eth": 0,
         "value_in_usd_oct27": 0,
         "_deepnote_index_column": 499969
        },
        {
         "value_in_eth": 0,
         "value_in_usd_oct27": 0,
         "_deepnote_index_column": 499970
        },
        {
         "value_in_eth": 0,
         "value_in_usd_oct27": 0,
         "_deepnote_index_column": 499976
        },
        {
         "value_in_eth": 0,
         "value_in_usd_oct27": 0,
         "_deepnote_index_column": 499977
        },
        {
         "value_in_eth": 1.2,
         "value_in_usd_oct27": 4761.996,
         "_deepnote_index_column": 499978
        },
        {
         "value_in_eth": 0.142,
         "value_in_usd_oct27": 563.5028599999999,
         "_deepnote_index_column": 499979
        },
        {
         "value_in_eth": 0.14,
         "value_in_usd_oct27": 555.5662000000001,
         "_deepnote_index_column": 499993
        },
        {
         "value_in_eth": 0.1182879,
         "value_in_usd_oct27": 469.405422207,
         "_deepnote_index_column": 499994
        },
        {
         "value_in_eth": 0.12,
         "value_in_usd_oct27": 476.1996,
         "_deepnote_index_column": 499995
        },
        {
         "value_in_eth": 0,
         "value_in_usd_oct27": 0,
         "_deepnote_index_column": 500001
        },
        {
         "value_in_eth": 0,
         "value_in_usd_oct27": 0,
         "_deepnote_index_column": 500002
        },
        {
         "value_in_eth": 0,
         "value_in_usd_oct27": 0,
         "_deepnote_index_column": 500003
        },
        {
         "value_in_eth": 0,
         "value_in_usd_oct27": 0,
         "_deepnote_index_column": 500005
        },
        {
         "value_in_eth": 0.135,
         "value_in_usd_oct27": 535.72455,
         "_deepnote_index_column": 500007
        },
        {
         "value_in_eth": 0.45779095,
         "value_in_usd_oct27": 1816.6655606134998,
         "_deepnote_index_column": 500019
        },
        {
         "value_in_eth": 0.149,
         "value_in_usd_oct27": 591.28117,
         "_deepnote_index_column": 500024
        },
        {
         "value_in_eth": 0.2045,
         "value_in_usd_oct27": 811.5234849999999,
         "_deepnote_index_column": 500027
        },
        {
         "value_in_eth": 1.02972907,
         "value_in_usd_oct27": 4086.3047603530995,
         "_deepnote_index_column": 500028
        },
        {
         "value_in_eth": 0.14,
         "value_in_usd_oct27": 555.5662000000001,
         "_deepnote_index_column": 500031
        },
        {
         "value_in_eth": 1.48548924,
         "value_in_usd_oct27": 5894.9115157691995,
         "_deepnote_index_column": 500037
        },
        {
         "value_in_eth": 0.60371876,
         "value_in_usd_oct27": 2395.7552668708,
         "_deepnote_index_column": 500038
        },
        {
         "value_in_eth": 0.329,
         "value_in_usd_oct27": 1305.58057,
         "_deepnote_index_column": 500039
        },
        {
         "value_in_eth": 0.26399155,
         "value_in_usd_oct27": 1047.6055876115001,
         "_deepnote_index_column": 500040
        },
        {
         "value_in_eth": 0.49,
         "value_in_usd_oct27": 1944.4816999999998,
         "_deepnote_index_column": 500042
        },
        {
         "value_in_eth": 0.19276786,
         "value_in_usd_oct27": 764.9664818738,
         "_deepnote_index_column": 500043
        },
        {
         "value_in_eth": 0.27,
         "value_in_usd_oct27": 1071.4491,
         "_deepnote_index_column": 500044
        },
        {
         "value_in_eth": 0.008,
         "value_in_usd_oct27": 31.74664,
         "_deepnote_index_column": 500055
        },
        {
         "value_in_eth": 0.05295046,
         "value_in_usd_oct27": 210.12489893179998,
         "_deepnote_index_column": 500057
        },
        {
         "value_in_eth": 0,
         "value_in_usd_oct27": 0,
         "_deepnote_index_column": 500066
        },
        {
         "value_in_eth": 0.001076600555491301,
         "value_in_usd_oct27": 4.272306282372795,
         "_deepnote_index_column": 500072
        }
       ]
      },
      "text/plain": "        value_in_eth  value_in_usd_oct27\n0           0.040000          158.733200\n3           0.000300            1.190499\n4           0.000666            2.642908\n22          0.497848         1975.625429\n24          0.120000          476.199600\n...              ...                 ...\n500044      0.270000         1071.449100\n500055      0.008000           31.746640\n500057      0.052950          210.124899\n500066      0.000000            0.000000\n500072      0.001077            4.272306\n\n[111383 rows x 2 columns]",
      "text/html": "<div>\n<style scoped>\n    .dataframe tbody tr th:only-of-type {\n        vertical-align: middle;\n    }\n\n    .dataframe tbody tr th {\n        vertical-align: top;\n    }\n\n    .dataframe thead th {\n        text-align: right;\n    }\n</style>\n<table border=\"1\" class=\"dataframe\">\n  <thead>\n    <tr style=\"text-align: right;\">\n      <th></th>\n      <th>value_in_eth</th>\n      <th>value_in_usd_oct27</th>\n    </tr>\n  </thead>\n  <tbody>\n    <tr>\n      <th>0</th>\n      <td>0.040000</td>\n      <td>158.733200</td>\n    </tr>\n    <tr>\n      <th>3</th>\n      <td>0.000300</td>\n      <td>1.190499</td>\n    </tr>\n    <tr>\n      <th>4</th>\n      <td>0.000666</td>\n      <td>2.642908</td>\n    </tr>\n    <tr>\n      <th>22</th>\n      <td>0.497848</td>\n      <td>1975.625429</td>\n    </tr>\n    <tr>\n      <th>24</th>\n      <td>0.120000</td>\n      <td>476.199600</td>\n    </tr>\n    <tr>\n      <th>...</th>\n      <td>...</td>\n      <td>...</td>\n    </tr>\n    <tr>\n      <th>500044</th>\n      <td>0.270000</td>\n      <td>1071.449100</td>\n    </tr>\n    <tr>\n      <th>500055</th>\n      <td>0.008000</td>\n      <td>31.746640</td>\n    </tr>\n    <tr>\n      <th>500057</th>\n      <td>0.052950</td>\n      <td>210.124899</td>\n    </tr>\n    <tr>\n      <th>500066</th>\n      <td>0.000000</td>\n      <td>0.000000</td>\n    </tr>\n    <tr>\n      <th>500072</th>\n      <td>0.001077</td>\n      <td>4.272306</td>\n    </tr>\n  </tbody>\n</table>\n<p>111383 rows × 2 columns</p>\n</div>"
     },
     "metadata": {}
    }
   ]
  },
  {
   "cell_type": "code",
   "metadata": {
    "tags": [],
    "deepnote_to_be_reexecuted": false,
    "source_hash": "e482927d",
    "execution_start": 1638491128830,
    "execution_millis": 563,
    "cell_id": "00020-60fdb395-42f7-4e5c-b4a0-02f0c3941a55",
    "deepnote_cell_type": "code"
   },
   "source": "cols_we_want = ['dt', 'from', 'to', 'projectName', 'gas', 'gasPrice', 'value_in_eth', 'value_in_usd_oct27']\nprint('dropped columns:', [x for x in df.columns if x not in cols_we_want])\ndf = df[cols_we_want]\ndf",
   "outputs": [
    {
     "output_type": "error",
     "ename": "NameError",
     "evalue": "name 'df' is not defined",
     "traceback": [
      "\u001b[0;31m---------------------------------------------------------------------------\u001b[0m",
      "\u001b[0;31mNameError\u001b[0m                                 Traceback (most recent call last)",
      "\u001b[0;32m<ipython-input-1-e198c26c26bb>\u001b[0m in \u001b[0;36m<module>\u001b[0;34m\u001b[0m\n\u001b[1;32m      1\u001b[0m \u001b[0mcols_we_want\u001b[0m \u001b[0;34m=\u001b[0m \u001b[0;34m[\u001b[0m\u001b[0;34m'dt'\u001b[0m\u001b[0;34m,\u001b[0m \u001b[0;34m'from'\u001b[0m\u001b[0;34m,\u001b[0m \u001b[0;34m'to'\u001b[0m\u001b[0;34m,\u001b[0m \u001b[0;34m'projectName'\u001b[0m\u001b[0;34m,\u001b[0m \u001b[0;34m'gas'\u001b[0m\u001b[0;34m,\u001b[0m \u001b[0;34m'gasPrice'\u001b[0m\u001b[0;34m,\u001b[0m \u001b[0;34m'value_in_eth'\u001b[0m\u001b[0;34m,\u001b[0m \u001b[0;34m'value_in_usd_oct27'\u001b[0m\u001b[0;34m]\u001b[0m\u001b[0;34m\u001b[0m\u001b[0;34m\u001b[0m\u001b[0m\n\u001b[0;32m----> 2\u001b[0;31m \u001b[0mprint\u001b[0m\u001b[0;34m(\u001b[0m\u001b[0;34m'dropped columns:'\u001b[0m\u001b[0;34m,\u001b[0m \u001b[0;34m[\u001b[0m\u001b[0mx\u001b[0m \u001b[0;32mfor\u001b[0m \u001b[0mx\u001b[0m \u001b[0;32min\u001b[0m \u001b[0mdf\u001b[0m\u001b[0;34m.\u001b[0m\u001b[0mcolumns\u001b[0m \u001b[0;32mif\u001b[0m \u001b[0mx\u001b[0m \u001b[0;32mnot\u001b[0m \u001b[0;32min\u001b[0m \u001b[0mcols_we_want\u001b[0m\u001b[0;34m]\u001b[0m\u001b[0;34m)\u001b[0m\u001b[0;34m\u001b[0m\u001b[0;34m\u001b[0m\u001b[0m\n\u001b[0m\u001b[1;32m      3\u001b[0m \u001b[0mdf\u001b[0m \u001b[0;34m=\u001b[0m \u001b[0mdf\u001b[0m\u001b[0;34m[\u001b[0m\u001b[0mcols_we_want\u001b[0m\u001b[0;34m]\u001b[0m\u001b[0;34m\u001b[0m\u001b[0;34m\u001b[0m\u001b[0m\n\u001b[1;32m      4\u001b[0m \u001b[0mlen\u001b[0m\u001b[0;34m(\u001b[0m\u001b[0mdf\u001b[0m\u001b[0;34m)\u001b[0m\u001b[0;34m\u001b[0m\u001b[0;34m\u001b[0m\u001b[0m\n",
      "\u001b[0;31mNameError\u001b[0m: name 'df' is not defined"
     ]
    }
   ],
   "execution_count": null
  },
  {
   "cell_type": "markdown",
   "source": "We will drop rows with zero value (not a donation)",
   "metadata": {
    "tags": [],
    "cell_id": "00021-9475aa54-77ef-458e-aabe-964430d8305c",
    "deepnote_cell_type": "markdown"
   }
  },
  {
   "cell_type": "code",
   "metadata": {
    "tags": [],
    "deepnote_to_be_reexecuted": false,
    "source_hash": "c00ae64d",
    "execution_start": 1638477131944,
    "execution_millis": 44,
    "cell_id": "00022-299603c6-3a51-43dc-b6a0-d9ead3c75447",
    "deepnote_cell_type": "code"
   },
   "source": "df = df[df.value_in_eth != 0]\ndf[:1]",
   "execution_count": null,
   "outputs": [
    {
     "output_type": "execute_result",
     "execution_count": 12,
     "data": {
      "application/vnd.deepnote.dataframe.v2+json": {
       "row_count": 1,
       "column_count": 8,
       "columns": [
        {
         "name": "dt",
         "dtype": "datetime64[ns]",
         "stats": {
          "unique_count": 1,
          "nan_count": 0,
          "min": "2021-09-10 16:04:59",
          "max": "2021-09-10 16:04:59",
          "histogram": null
         }
        },
        {
         "name": "from",
         "dtype": "object",
         "stats": {
          "unique_count": 1,
          "nan_count": 0,
          "categories": [
           {
            "name": "0x0cbbc6ae48d9d3e14079aa15fab79a93b9f14796",
            "count": 1
           }
          ]
         }
        },
        {
         "name": "to",
         "dtype": "object",
         "stats": {
          "unique_count": 1,
          "nan_count": 0,
          "categories": [
           {
            "name": "0x447997d1dc7888a2ffc15826e7595a6f7dcc076b",
            "count": 1
           }
          ]
         }
        },
        {
         "name": "projectName",
         "dtype": "object",
         "stats": {
          "unique_count": 1,
          "nan_count": 0,
          "categories": [
           {
            "name": "NFTShop Your [FREE] NFT Shop Storefront on Flow Blockchain",
            "count": 1
           }
          ]
         }
        },
        {
         "name": "gas",
         "dtype": "int64",
         "stats": {
          "unique_count": 1,
          "nan_count": 0,
          "min": "21000",
          "max": "21000",
          "histogram": [
           {
            "bin_start": 20999.5,
            "bin_end": 20999.6,
            "count": 0
           },
           {
            "bin_start": 20999.6,
            "bin_end": 20999.7,
            "count": 0
           },
           {
            "bin_start": 20999.7,
            "bin_end": 20999.8,
            "count": 0
           },
           {
            "bin_start": 20999.8,
            "bin_end": 20999.9,
            "count": 0
           },
           {
            "bin_start": 20999.9,
            "bin_end": 21000,
            "count": 0
           },
           {
            "bin_start": 21000,
            "bin_end": 21000.1,
            "count": 1
           },
           {
            "bin_start": 21000.1,
            "bin_end": 21000.2,
            "count": 0
           },
           {
            "bin_start": 21000.2,
            "bin_end": 21000.3,
            "count": 0
           },
           {
            "bin_start": 21000.3,
            "bin_end": 21000.4,
            "count": 0
           },
           {
            "bin_start": 21000.4,
            "bin_end": 21000.5,
            "count": 0
           }
          ]
         }
        },
        {
         "name": "gasPrice",
         "dtype": "int64",
         "stats": {
          "unique_count": 1,
          "nan_count": 0,
          "min": "201000000000",
          "max": "201000000000",
          "histogram": [
           {
            "bin_start": 200999999999.5,
            "bin_end": 200999999999.6,
            "count": 0
           },
           {
            "bin_start": 200999999999.6,
            "bin_end": 200999999999.7,
            "count": 0
           },
           {
            "bin_start": 200999999999.7,
            "bin_end": 200999999999.8,
            "count": 0
           },
           {
            "bin_start": 200999999999.8,
            "bin_end": 200999999999.9,
            "count": 0
           },
           {
            "bin_start": 200999999999.9,
            "bin_end": 201000000000,
            "count": 0
           },
           {
            "bin_start": 201000000000,
            "bin_end": 201000000000.1,
            "count": 1
           },
           {
            "bin_start": 201000000000.1,
            "bin_end": 201000000000.2,
            "count": 0
           },
           {
            "bin_start": 201000000000.2,
            "bin_end": 201000000000.3,
            "count": 0
           },
           {
            "bin_start": 201000000000.3,
            "bin_end": 201000000000.4,
            "count": 0
           },
           {
            "bin_start": 201000000000.4,
            "bin_end": 201000000000.5,
            "count": 0
           }
          ]
         }
        },
        {
         "name": "value_in_eth",
         "dtype": "float64",
         "stats": {
          "unique_count": 1,
          "nan_count": 0,
          "min": "0.04",
          "max": "0.04",
          "histogram": [
           {
            "bin_start": -0.46,
            "bin_end": -0.36,
            "count": 0
           },
           {
            "bin_start": -0.36,
            "bin_end": -0.26,
            "count": 0
           },
           {
            "bin_start": -0.26,
            "bin_end": -0.15999999999999998,
            "count": 0
           },
           {
            "bin_start": -0.15999999999999998,
            "bin_end": -0.06,
            "count": 0
           },
           {
            "bin_start": -0.06,
            "bin_end": 0.03999999999999998,
            "count": 0
           },
           {
            "bin_start": 0.03999999999999998,
            "bin_end": 0.14000000000000007,
            "count": 1
           },
           {
            "bin_start": 0.14000000000000007,
            "bin_end": 0.24000000000000005,
            "count": 0
           },
           {
            "bin_start": 0.24000000000000005,
            "bin_end": 0.34,
            "count": 0
           },
           {
            "bin_start": 0.34,
            "bin_end": 0.44,
            "count": 0
           },
           {
            "bin_start": 0.44,
            "bin_end": 0.54,
            "count": 0
           }
          ]
         }
        },
        {
         "name": "value_in_usd_oct27",
         "dtype": "float64",
         "stats": {
          "unique_count": 1,
          "nan_count": 0,
          "min": "158.7332",
          "max": "158.7332",
          "histogram": [
           {
            "bin_start": 158.2332,
            "bin_end": 158.3332,
            "count": 0
           },
           {
            "bin_start": 158.3332,
            "bin_end": 158.4332,
            "count": 0
           },
           {
            "bin_start": 158.4332,
            "bin_end": 158.53320000000002,
            "count": 0
           },
           {
            "bin_start": 158.53320000000002,
            "bin_end": 158.63320000000002,
            "count": 0
           },
           {
            "bin_start": 158.63320000000002,
            "bin_end": 158.7332,
            "count": 0
           },
           {
            "bin_start": 158.7332,
            "bin_end": 158.8332,
            "count": 1
           },
           {
            "bin_start": 158.8332,
            "bin_end": 158.9332,
            "count": 0
           },
           {
            "bin_start": 158.9332,
            "bin_end": 159.03320000000002,
            "count": 0
           },
           {
            "bin_start": 159.03320000000002,
            "bin_end": 159.13320000000002,
            "count": 0
           },
           {
            "bin_start": 159.13320000000002,
            "bin_end": 159.2332,
            "count": 0
           }
          ]
         }
        },
        {
         "name": "_deepnote_index_column",
         "dtype": "int64"
        }
       ],
       "rows_top": [
        {
         "dt": "2021-09-10T16:04:59.000000",
         "from": "0x0cbbc6ae48d9d3e14079aa15fab79a93b9f14796",
         "to": "0x447997d1dc7888a2ffc15826e7595a6f7dcc076b",
         "projectName": "NFTShop Your [FREE] NFT Shop Storefront on Flow Blockchain",
         "gas": 21000,
         "gasPrice": 201000000000,
         "value_in_eth": 0.04,
         "value_in_usd_oct27": 158.7332,
         "_deepnote_index_column": 0
        }
       ],
       "rows_bottom": null
      },
      "text/plain": "                   dt                                        from  \\\n0 2021-09-10 16:04:59  0x0cbbc6ae48d9d3e14079aa15fab79a93b9f14796   \n\n                                           to  \\\n0  0x447997d1dc7888a2ffc15826e7595a6f7dcc076b   \n\n                                         projectName    gas      gasPrice  \\\n0  NFTShop Your [FREE] NFT Shop Storefront on Flo...  21000  201000000000   \n\n   value_in_eth  value_in_usd_oct27  \n0          0.04            158.7332  ",
      "text/html": "<div>\n<style scoped>\n    .dataframe tbody tr th:only-of-type {\n        vertical-align: middle;\n    }\n\n    .dataframe tbody tr th {\n        vertical-align: top;\n    }\n\n    .dataframe thead th {\n        text-align: right;\n    }\n</style>\n<table border=\"1\" class=\"dataframe\">\n  <thead>\n    <tr style=\"text-align: right;\">\n      <th></th>\n      <th>dt</th>\n      <th>from</th>\n      <th>to</th>\n      <th>projectName</th>\n      <th>gas</th>\n      <th>gasPrice</th>\n      <th>value_in_eth</th>\n      <th>value_in_usd_oct27</th>\n    </tr>\n  </thead>\n  <tbody>\n    <tr>\n      <th>0</th>\n      <td>2021-09-10 16:04:59</td>\n      <td>0x0cbbc6ae48d9d3e14079aa15fab79a93b9f14796</td>\n      <td>0x447997d1dc7888a2ffc15826e7595a6f7dcc076b</td>\n      <td>NFTShop Your [FREE] NFT Shop Storefront on Flo...</td>\n      <td>21000</td>\n      <td>201000000000</td>\n      <td>0.04</td>\n      <td>158.7332</td>\n    </tr>\n  </tbody>\n</table>\n</div>"
     },
     "metadata": {}
    }
   ]
  },
  {
   "cell_type": "code",
   "metadata": {
    "tags": [],
    "deepnote_to_be_reexecuted": false,
    "source_hash": "2f88c77a",
    "execution_start": 1638477131992,
    "execution_millis": 6,
    "deepnote_output_heights": [
     21.1875
    ],
    "cell_id": "00023-f8256b32-6ae3-4570-b52a-8cb69ec20af4",
    "deepnote_cell_type": "code"
   },
   "source": "len(df)",
   "execution_count": null,
   "outputs": [
    {
     "output_type": "execute_result",
     "execution_count": 13,
     "data": {
      "text/plain": "60865"
     },
     "metadata": {}
    }
   ]
  },
  {
   "cell_type": "code",
   "metadata": {
    "tags": [],
    "deepnote_to_be_reexecuted": false,
    "source_hash": "1062c5d2",
    "execution_start": 1638477132048,
    "execution_millis": 33227503,
    "cell_id": "00024-7619a7de-1dd9-412e-9f2b-73b28988ee13",
    "deepnote_cell_type": "code"
   },
   "source": "df.set_index('dt', inplace=True)",
   "execution_count": null,
   "outputs": []
  },
  {
   "cell_type": "code",
   "metadata": {
    "tags": [],
    "deepnote_to_be_reexecuted": false,
    "source_hash": "34c432ea",
    "execution_start": 1638477132048,
    "execution_millis": 1,
    "deepnote_output_heights": [
     21.1875
    ],
    "cell_id": "00025-dd9c92c0-5d56-498a-adc9-ee187e518d1b",
    "deepnote_cell_type": "code"
   },
   "source": "rounds = list(range(2, 10))\nround_dicts = []\nfor round_num in rounds:\n    with open(f'roundX/round{round_num}.json') as f:\n        round_dicts.append(json.load(f))\n\n",
   "execution_count": null,
   "outputs": []
  },
  {
   "cell_type": "markdown",
   "source": "Exploration note: Looks like there are contributions from Round 1 Contributors before the official start date of round 1. Let's just exclude this round for now?",
   "metadata": {
    "tags": [],
    "cell_id": "00026-c8415128-1409-451d-88d1-c4591c76d09e",
    "deepnote_cell_type": "markdown"
   }
  },
  {
   "cell_type": "code",
   "metadata": {
    "tags": [],
    "deepnote_to_be_reexecuted": false,
    "source_hash": "e1329379",
    "execution_start": 1638477132049,
    "execution_millis": 2,
    "cell_id": "00027-a6cf4326-7494-4d6f-b7b6-37c0687ff91e",
    "deepnote_cell_type": "code"
   },
   "source": "# df[\n#     (df['from'].isin(\n#     [x[0].lower() for x in round_dicts[0]['addresses']]\n#     )) & (\n#         df.index < pd.to_datetime('2019-02-15')\n#     )\n# ]",
   "execution_count": null,
   "outputs": []
  },
  {
   "cell_type": "code",
   "metadata": {
    "tags": [],
    "deepnote_to_be_reexecuted": false,
    "source_hash": "cd29b056",
    "execution_start": 1638477132058,
    "execution_millis": 12,
    "deepnote_output_heights": [
     21.1875
    ],
    "cell_id": "00028-9d64013d-979e-4ae7-bc25-beaa80443d92",
    "deepnote_cell_type": "code"
   },
   "source": "# round_dicts[0]\nlen(round_dicts)",
   "execution_count": null,
   "outputs": [
    {
     "output_type": "execute_result",
     "execution_count": 17,
     "data": {
      "text/plain": "8"
     },
     "metadata": {}
    }
   ]
  },
  {
   "cell_type": "code",
   "metadata": {
    "tags": [],
    "deepnote_to_be_reexecuted": false,
    "source_hash": "8792f3d9",
    "execution_start": 1638477132068,
    "execution_millis": 1,
    "deepnote_output_heights": [
     21.1875
    ],
    "cell_id": "00029-5b17d2bd-5b37-4d86-893a-e96a0a192d23",
    "deepnote_cell_type": "code"
   },
   "source": "# import datetime\n# pd.to_datetime('2020-06-01') - datetime.timedelta(days=7)\n",
   "execution_count": null,
   "outputs": []
  },
  {
   "cell_type": "code",
   "metadata": {
    "tags": [],
    "deepnote_to_be_reexecuted": false,
    "source_hash": "6cb3a33a",
    "execution_start": 1638477132076,
    "execution_millis": 6,
    "deepnote_output_heights": [
     21.1875
    ],
    "cell_id": "00030-bbecfa66-e60e-4457-9335-d0ab84ace95d",
    "deepnote_cell_type": "code"
   },
   "source": "#interested in addresses of round3 in lower cases. Check # address\nlen([x[0].lower() for x in round_dicts[2]['addresses']]) \n\n",
   "execution_count": null,
   "outputs": [
    {
     "output_type": "execute_result",
     "execution_count": 19,
     "data": {
      "text/plain": "1081"
     },
     "metadata": {}
    }
   ]
  },
  {
   "cell_type": "code",
   "metadata": {
    "tags": [],
    "deepnote_to_be_reexecuted": false,
    "source_hash": "2f3bfb89",
    "execution_start": 1638477132092,
    "execution_millis": 151,
    "deepnote_output_heights": [
     null,
     21.1875
    ],
    "cell_id": "00031-af842e3a-2b71-426c-b583-e7d534294780",
    "deepnote_cell_type": "code"
   },
   "source": "subsets = {}\nfor round_dict in round_dicts:\n    after_mask = df.index > pd.to_datetime(round_dict['meta']['meta']['start'])\n    before_mask = df.index < pd.to_datetime(round_dict['meta']['meta']['end'])\n    addresses = [x[0].lower() for x in round_dict['addresses']]\n    \n    address_mask = df['from'].isin(addresses)\n    print(len(addresses), sum(address_mask))\n\n    subsets[round_dict['meta']['meta']['round']] = df[\n        (after_mask) &\n        (before_mask) &\n        (address_mask)\n    ]\n\n\n",
   "execution_count": null,
   "outputs": [
    {
     "name": "stdout",
     "text": "94 741\n465 1047\n1081 4199\n1159 4684\n1315 5017\n1408 4417\n5643 5935\n16749 5691\n",
     "output_type": "stream"
    }
   ]
  },
  {
   "cell_type": "code",
   "source": "",
   "metadata": {
    "cell_id": "00032-3aa1df64-810a-43d2-bb2c-ed8589397255",
    "deepnote_to_be_reexecuted": false,
    "source_hash": "b623e53d",
    "execution_start": 1638477132250,
    "execution_millis": 2,
    "deepnote_cell_type": "visualization"
   },
   "execution_count": null,
   "outputs": []
  },
  {
   "cell_type": "code",
   "source": "",
   "metadata": {
    "cell_id": "00033-3c2e5649-4cdb-48f3-8bfa-080a22d727b1",
    "deepnote_to_be_reexecuted": false,
    "source_hash": "b623e53d",
    "execution_start": 1638477132261,
    "execution_millis": 33227520,
    "deepnote_cell_type": "visualization"
   },
   "execution_count": null,
   "outputs": []
  },
  {
   "cell_type": "code",
   "source": "",
   "metadata": {
    "cell_id": "00034-e49f278c-66ae-43c7-8662-1ef146fd1374",
    "deepnote_to_be_reexecuted": false,
    "source_hash": "b623e53d",
    "execution_start": 1638477132272,
    "execution_millis": 33227519,
    "deepnote_cell_type": "visualization"
   },
   "execution_count": null,
   "outputs": []
  },
  {
   "cell_type": "code",
   "metadata": {
    "tags": [],
    "deepnote_to_be_reexecuted": false,
    "source_hash": "d55f0ba8",
    "execution_start": 1638477132284,
    "execution_millis": 33227520,
    "cell_id": "00035-351f680e-9924-4437-aabb-9d74675ba552",
    "deepnote_cell_type": "code"
   },
   "source": "round_dict = round_dicts[3]",
   "execution_count": null,
   "outputs": []
  },
  {
   "cell_type": "code",
   "metadata": {
    "tags": [],
    "deepnote_to_be_reexecuted": false,
    "source_hash": "7db9b40b",
    "execution_start": 1638484979146,
    "execution_millis": 4,
    "cell_id": "00036-763de6ed-e0c2-4cc4-9410-011f44f6a9a8",
    "deepnote_output_heights": [
     251.4375
    ],
    "deepnote_cell_type": "code"
   },
   "source": "after_mask = df.index > pd.to_datetime(round_dict['meta']['meta']['start'])\nbefore_mask = df.index < pd.to_datetime(round_dict['meta']['meta']['end'])\n\naddresses = [x[0].lower() for x in round_dict['addresses']] \naddress_mask = df['from'].isin(addresses)\n",
   "execution_count": null,
   "outputs": []
  },
  {
   "cell_type": "code",
   "metadata": {
    "tags": [],
    "deepnote_to_be_reexecuted": false,
    "source_hash": "8a2603b7",
    "execution_start": 1638477132302,
    "execution_millis": 6,
    "deepnote_output_heights": [
     21.1875
    ],
    "cell_id": "00037-6cc30c44-b82a-4be6-8864-4826bdbf6c00",
    "deepnote_cell_type": "code"
   },
   "source": "    pd.to_datetime(round_dict['meta']['meta']['start']), pd.to_datetime(round_dict['meta']['meta']['end'])",
   "execution_count": null,
   "outputs": [
    {
     "output_type": "execute_result",
     "execution_count": 23,
     "data": {
      "text/plain": "(Timestamp('2020-03-23 00:00:00'), Timestamp('2020-04-05 00:00:00'))"
     },
     "metadata": {}
    }
   ]
  },
  {
   "cell_type": "code",
   "metadata": {
    "tags": [],
    "deepnote_to_be_reexecuted": false,
    "source_hash": "dcfc0724",
    "execution_start": 1638477132314,
    "execution_millis": 153,
    "cell_id": "00038-d449ed92-524c-40d3-8d7b-0e1cf5045ea5",
    "deepnote_cell_type": "code"
   },
   "source": "df[(address_mask) & ~((after_mask)&(before_mask))]",
   "execution_count": null,
   "outputs": [
    {
     "output_type": "execute_result",
     "execution_count": 24,
     "data": {
      "application/vnd.deepnote.dataframe.v2+json": {
       "row_count": 4240,
       "column_count": 7,
       "columns": [
        {
         "name": "from",
         "dtype": "object",
         "stats": {
          "unique_count": 252,
          "nan_count": 0,
          "categories": [
           {
            "name": "0x12a0e25e62c1dbd32e505446062b26aecb65f028",
            "count": 675
           },
           {
            "name": "0x00de4b13153673bcae2616b67bf822500d325fc3",
            "count": 499
           },
           {
            "name": "250 others",
            "count": 3066
           }
          ]
         }
        },
        {
         "name": "to",
         "dtype": "object",
         "stats": {
          "unique_count": 303,
          "nan_count": 0,
          "categories": [
           {
            "name": "0x7a250d5630b4cf539739df2c5dacb4c659f2488d",
            "count": 1973
           },
           {
            "name": "0xfe206f90c58feb8e42474c5074de43c22da8bc35",
            "count": 173
           },
           {
            "name": "301 others",
            "count": 2094
           }
          ]
         }
        },
        {
         "name": "projectName",
         "dtype": "object",
         "stats": {
          "unique_count": 298,
          "nan_count": 0,
          "categories": [
           {
            "name": "Open Zone Finance",
            "count": 1973
           },
           {
            "name": "Cyber Dystopian Grant - molecula451",
            "count": 173
           },
           {
            "name": "296 others",
            "count": 2094
           }
          ]
         }
        },
        {
         "name": "gas",
         "dtype": "int64",
         "stats": {
          "unique_count": 741,
          "nan_count": 0,
          "min": "21000",
          "max": "3022527",
          "histogram": [
           {
            "bin_start": 21000,
            "bin_end": 321152.7,
            "count": 4221
           },
           {
            "bin_start": 321152.7,
            "bin_end": 621305.4,
            "count": 17
           },
           {
            "bin_start": 621305.4,
            "bin_end": 921458.1000000001,
            "count": 0
           },
           {
            "bin_start": 921458.1000000001,
            "bin_end": 1221610.8,
            "count": 0
           },
           {
            "bin_start": 1221610.8,
            "bin_end": 1521763.5,
            "count": 0
           },
           {
            "bin_start": 1521763.5,
            "bin_end": 1821916.2000000002,
            "count": 0
           },
           {
            "bin_start": 1821916.2000000002,
            "bin_end": 2122068.9,
            "count": 0
           },
           {
            "bin_start": 2122068.9,
            "bin_end": 2422221.6,
            "count": 0
           },
           {
            "bin_start": 2422221.6,
            "bin_end": 2722374.3000000003,
            "count": 0
           },
           {
            "bin_start": 2722374.3000000003,
            "bin_end": 3022527,
            "count": 2
           }
          ]
         }
        },
        {
         "name": "gasPrice",
         "dtype": "int64",
         "stats": {
          "unique_count": 608,
          "nan_count": 0,
          "min": "500000000",
          "max": "800000000000",
          "histogram": [
           {
            "bin_start": 500000000,
            "bin_end": 80450000000,
            "count": 2926
           },
           {
            "bin_start": 80450000000,
            "bin_end": 160400000000,
            "count": 943
           },
           {
            "bin_start": 160400000000,
            "bin_end": 240350000000,
            "count": 190
           },
           {
            "bin_start": 240350000000,
            "bin_end": 320300000000,
            "count": 95
           },
           {
            "bin_start": 320300000000,
            "bin_end": 400250000000,
            "count": 21
           },
           {
            "bin_start": 400250000000,
            "bin_end": 480200000000,
            "count": 18
           },
           {
            "bin_start": 480200000000,
            "bin_end": 560150000000,
            "count": 37
           },
           {
            "bin_start": 560150000000,
            "bin_end": 640100000000,
            "count": 3
           },
           {
            "bin_start": 640100000000,
            "bin_end": 720050000000,
            "count": 3
           },
           {
            "bin_start": 720050000000,
            "bin_end": 800000000000,
            "count": 4
           }
          ]
         }
        },
        {
         "name": "value_in_eth",
         "dtype": "float64",
         "stats": {
          "unique_count": 940,
          "nan_count": 0,
          "min": "1e-08",
          "max": "276.0",
          "histogram": [
           {
            "bin_start": 1e-8,
            "bin_end": 27.600000009,
            "count": 4226
           },
           {
            "bin_start": 27.600000009,
            "bin_end": 55.200000007999996,
            "count": 5
           },
           {
            "bin_start": 55.200000007999996,
            "bin_end": 82.80000000699998,
            "count": 4
           },
           {
            "bin_start": 82.80000000699998,
            "bin_end": 110.40000000599998,
            "count": 1
           },
           {
            "bin_start": 110.40000000599998,
            "bin_end": 138.000000005,
            "count": 0
           },
           {
            "bin_start": 138.000000005,
            "bin_end": 165.60000000399998,
            "count": 2
           },
           {
            "bin_start": 165.60000000399998,
            "bin_end": 193.20000000299999,
            "count": 0
           },
           {
            "bin_start": 193.20000000299999,
            "bin_end": 220.800000002,
            "count": 0
           },
           {
            "bin_start": 220.800000002,
            "bin_end": 248.400000001,
            "count": 1
           },
           {
            "bin_start": 248.400000001,
            "bin_end": 276,
            "count": 1
           }
          ]
         }
        },
        {
         "name": "value_in_usd_oct27",
         "dtype": "float64",
         "stats": {
          "unique_count": 940,
          "nan_count": 0,
          "min": "3.96833e-05",
          "max": "1095259.08",
          "histogram": [
           {
            "bin_start": 0.0000396833,
            "bin_end": 109525.908035715,
            "count": 4226
           },
           {
            "bin_start": 109525.908035715,
            "bin_end": 219051.81603174668,
            "count": 5
           },
           {
            "bin_start": 219051.81603174668,
            "bin_end": 328577.7240277784,
            "count": 4
           },
           {
            "bin_start": 328577.7240277784,
            "bin_end": 438103.63202381006,
            "count": 1
           },
           {
            "bin_start": 438103.63202381006,
            "bin_end": 547629.5400198417,
            "count": 0
           },
           {
            "bin_start": 547629.5400198417,
            "bin_end": 657155.4480158734,
            "count": 2
           },
           {
            "bin_start": 657155.4480158734,
            "bin_end": 766681.3560119051,
            "count": 0
           },
           {
            "bin_start": 766681.3560119051,
            "bin_end": 876207.2640079368,
            "count": 0
           },
           {
            "bin_start": 876207.2640079368,
            "bin_end": 985733.1720039685,
            "count": 1
           },
           {
            "bin_start": 985733.1720039685,
            "bin_end": 1095259.08,
            "count": 1
           }
          ]
         }
        },
        {
         "name": "_deepnote_index_column",
         "dtype": "datetime64[ns]"
        }
       ],
       "rows_top": [
        {
         "from": "0x624af08b36819939f133b4c3bc668cc93beef16b",
         "to": "0xd25185f8c3b9e38c3f014378ce58b362db568352",
         "projectName": "Daohaus/Pokemol",
         "gas": 34033,
         "gasPrice": 1100000000,
         "value_in_eth": 0.007,
         "value_in_usd_oct27": 27.77831,
         "_deepnote_index_column": "2020-04-11T03:44:14.000000"
        },
        {
         "from": "0xbbbfc46566e5f0302cef913af8c8f423070ce6a1",
         "to": "0x565b93a15d38acd79c120b15432d21e21ed274d6",
         "projectName": "Jamm Session Newsletter",
         "gas": 21000,
         "gasPrice": 12000000000,
         "value_in_eth": 3.2,
         "value_in_usd_oct27": 12698.656,
         "_deepnote_index_column": "2020-04-14T22:35:51.000000"
        },
        {
         "from": "0xbbbfc46566e5f0302cef913af8c8f423070ce6a1",
         "to": "0x565b93a15d38acd79c120b15432d21e21ed274d6",
         "projectName": "Jamm Session Newsletter",
         "gas": 21000,
         "gasPrice": 7500000000,
         "value_in_eth": 0.63,
         "value_in_usd_oct27": 2500.0479,
         "_deepnote_index_column": "2020-04-29T08:16:51.000000"
        },
        {
         "from": "0x5b93ff82faaf241c15997ea3975419dddd8362c5",
         "to": "0x565b93a15d38acd79c120b15432d21e21ed274d6",
         "projectName": "Jamm Session Newsletter",
         "gas": 21000,
         "gasPrice": 52000000000,
         "value_in_eth": 1,
         "value_in_usd_oct27": 3968.33,
         "_deepnote_index_column": "2020-07-31T20:10:53.000000"
        },
        {
         "from": "0x5b93ff82faaf241c15997ea3975419dddd8362c5",
         "to": "0x565b93a15d38acd79c120b15432d21e21ed274d6",
         "projectName": "Jamm Session Newsletter",
         "gas": 21000,
         "gasPrice": 46000000000,
         "value_in_eth": 1,
         "value_in_usd_oct27": 3968.33,
         "_deepnote_index_column": "2020-08-03T06:37:49.000000"
        },
        {
         "from": "0x625236038836cecc532664915bd0399647e7826b",
         "to": "0x97103fda00a2b47eac669568063c00e65866a633",
         "projectName": "Moloch Mystics ",
         "gas": 60715,
         "gasPrice": 1000000000,
         "value_in_eth": 0.000005564210994881,
         "value_in_usd_oct27": 0.02208062541731612,
         "_deepnote_index_column": "2019-11-15T22:04:40.000000"
        },
        {
         "from": "0x625236038836cecc532664915bd0399647e7826b",
         "to": "0x97103fda00a2b47eac669568063c00e65866a633",
         "projectName": "Moloch Mystics ",
         "gas": 60715,
         "gasPrice": 10000000000,
         "value_in_eth": 0.01668799020971241,
         "value_in_usd_oct27": 66.22345218890806,
         "_deepnote_index_column": "2019-11-15T22:09:25.000000"
        },
        {
         "from": "0xbbbfc46566e5f0302cef913af8c8f423070ce6a1",
         "to": "0xc662606edb852ba22f75680f7b2c89767014520e",
         "projectName": "DeFi Tutorials",
         "gas": 21000,
         "gasPrice": 10000000000,
         "value_in_eth": 0.05,
         "value_in_usd_oct27": 198.4165,
         "_deepnote_index_column": "2019-10-28T13:43:15.000000"
        },
        {
         "from": "0xbbbfc46566e5f0302cef913af8c8f423070ce6a1",
         "to": "0xc662606edb852ba22f75680f7b2c89767014520e",
         "projectName": "DeFi Tutorials",
         "gas": 21000,
         "gasPrice": 10000000000,
         "value_in_eth": 0.25,
         "value_in_usd_oct27": 992.0825,
         "_deepnote_index_column": "2019-12-08T09:34:01.000000"
        },
        {
         "from": "0xbbbfc46566e5f0302cef913af8c8f423070ce6a1",
         "to": "0xc662606edb852ba22f75680f7b2c89767014520e",
         "projectName": "DeFi Tutorials",
         "gas": 21000,
         "gasPrice": 5000000000,
         "value_in_eth": 0.04,
         "value_in_usd_oct27": 158.7332,
         "_deepnote_index_column": "2019-12-22T01:26:23.000000"
        },
        {
         "from": "0xbbbfc46566e5f0302cef913af8c8f423070ce6a1",
         "to": "0xc662606edb852ba22f75680f7b2c89767014520e",
         "projectName": "DeFi Tutorials",
         "gas": 21000,
         "gasPrice": 5000000000,
         "value_in_eth": 0.05,
         "value_in_usd_oct27": 198.4165,
         "_deepnote_index_column": "2020-01-03T20:06:39.000000"
        },
        {
         "from": "0xbbbfc46566e5f0302cef913af8c8f423070ce6a1",
         "to": "0xc662606edb852ba22f75680f7b2c89767014520e",
         "projectName": "DeFi Tutorials",
         "gas": 21000,
         "gasPrice": 5000000000,
         "value_in_eth": 0.05,
         "value_in_usd_oct27": 198.4165,
         "_deepnote_index_column": "2020-01-22T10:18:07.000000"
        },
        {
         "from": "0xbbbfc46566e5f0302cef913af8c8f423070ce6a1",
         "to": "0x565b93a15d38acd79c120b15432d21e21ed274d6",
         "projectName": "Jamm Session Newsletter",
         "gas": 21000,
         "gasPrice": 12000000000,
         "value_in_eth": 3.2,
         "value_in_usd_oct27": 12698.656,
         "_deepnote_index_column": "2020-04-14T22:35:51.000000"
        },
        {
         "from": "0xbbbfc46566e5f0302cef913af8c8f423070ce6a1",
         "to": "0x565b93a15d38acd79c120b15432d21e21ed274d6",
         "projectName": "Jamm Session Newsletter",
         "gas": 21000,
         "gasPrice": 7500000000,
         "value_in_eth": 0.63,
         "value_in_usd_oct27": 2500.0479,
         "_deepnote_index_column": "2020-04-29T08:16:51.000000"
        },
        {
         "from": "0xbbbfc46566e5f0302cef913af8c8f423070ce6a1",
         "to": "0xc662606edb852ba22f75680f7b2c89767014520e",
         "projectName": "DeFi Tutorials",
         "gas": 21000,
         "gasPrice": 49000000000,
         "value_in_eth": 0.1,
         "value_in_usd_oct27": 396.833,
         "_deepnote_index_column": "2020-06-02T21:30:18.000000"
        },
        {
         "from": "0xbbbfc46566e5f0302cef913af8c8f423070ce6a1",
         "to": "0x7a250d5630b4cf539739df2c5dacb4c659f2488d",
         "projectName": "Open Zone Finance",
         "gas": 165969,
         "gasPrice": 56000000000,
         "value_in_eth": 0.1,
         "value_in_usd_oct27": 396.833,
         "_deepnote_index_column": "2020-06-06T12:55:21.000000"
        },
        {
         "from": "0xbbbfc46566e5f0302cef913af8c8f423070ce6a1",
         "to": "0x7a250d5630b4cf539739df2c5dacb4c659f2488d",
         "projectName": "Open Zone Finance",
         "gas": 207793,
         "gasPrice": 50000000000,
         "value_in_eth": 0.8,
         "value_in_usd_oct27": 3174.664,
         "_deepnote_index_column": "2020-06-18T13:20:38.000000"
        },
        {
         "from": "0xbbbfc46566e5f0302cef913af8c8f423070ce6a1",
         "to": "0x7a250d5630b4cf539739df2c5dacb4c659f2488d",
         "projectName": "Open Zone Finance",
         "gas": 207793,
         "gasPrice": 65000000000,
         "value_in_eth": 0.8,
         "value_in_usd_oct27": 3174.664,
         "_deepnote_index_column": "2020-06-18T13:21:09.000000"
        },
        {
         "from": "0xbbbfc46566e5f0302cef913af8c8f423070ce6a1",
         "to": "0xa19fcdad77c1f0fd184689aca88babcf68010347",
         "projectName": "EthHub - Ethereum Information Hub",
         "gas": 33766,
         "gasPrice": 44000000000,
         "value_in_eth": 25,
         "value_in_usd_oct27": 99208.25,
         "_deepnote_index_column": "2020-06-24T11:00:52.000000"
        },
        {
         "from": "0xbbbfc46566e5f0302cef913af8c8f423070ce6a1",
         "to": "0x4bc821fef2ff947b57585a5fdbc73690db288a49",
         "projectName": "YieldFarming.info",
         "gas": 21000,
         "gasPrice": 45000000000,
         "value_in_eth": 0.5,
         "value_in_usd_oct27": 1984.165,
         "_deepnote_index_column": "2020-07-04T11:10:04.000000"
        },
        {
         "from": "0xbbbfc46566e5f0302cef913af8c8f423070ce6a1",
         "to": "0x7a250d5630b4cf539739df2c5dacb4c659f2488d",
         "projectName": "Open Zone Finance",
         "gas": 158613,
         "gasPrice": 60000000000,
         "value_in_eth": 2.1542410113688644,
         "value_in_usd_oct27": 8548.739232645405,
         "_deepnote_index_column": "2020-07-05T00:33:25.000000"
        },
        {
         "from": "0xbbbfc46566e5f0302cef913af8c8f423070ce6a1",
         "to": "0x7a250d5630b4cf539739df2c5dacb4c659f2488d",
         "projectName": "Open Zone Finance",
         "gas": 199553,
         "gasPrice": 50000000000,
         "value_in_eth": 2.1333595336204776,
         "value_in_usd_oct27": 8465.87463805215,
         "_deepnote_index_column": "2020-07-10T09:33:14.000000"
        },
        {
         "from": "0xbbbfc46566e5f0302cef913af8c8f423070ce6a1",
         "to": "0x7a250d5630b4cf539739df2c5dacb4c659f2488d",
         "projectName": "Open Zone Finance",
         "gas": 199553,
         "gasPrice": 40000000000,
         "value_in_eth": 8.49924508405605,
         "value_in_usd_oct27": 33727.80924441214,
         "_deepnote_index_column": "2020-07-10T12:07:23.000000"
        },
        {
         "from": "0xbbbfc46566e5f0302cef913af8c8f423070ce6a1",
         "to": "0x4bc821fef2ff947b57585a5fdbc73690db288a49",
         "projectName": "YieldFarming.info",
         "gas": 21000,
         "gasPrice": 34000000000,
         "value_in_eth": 0.25,
         "value_in_usd_oct27": 992.0825,
         "_deepnote_index_column": "2020-07-19T01:34:22.000000"
        },
        {
         "from": "0xbbbfc46566e5f0302cef913af8c8f423070ce6a1",
         "to": "0x7a250d5630b4cf539739df2c5dacb4c659f2488d",
         "projectName": "Open Zone Finance",
         "gas": 174758,
         "gasPrice": 43000000000,
         "value_in_eth": 1,
         "value_in_usd_oct27": 3968.33,
         "_deepnote_index_column": "2020-07-21T00:15:10.000000"
        },
        {
         "from": "0xbbbfc46566e5f0302cef913af8c8f423070ce6a1",
         "to": "0xc662606edb852ba22f75680f7b2c89767014520e",
         "projectName": "DeFi Tutorials",
         "gas": 21000,
         "gasPrice": 60000000000,
         "value_in_eth": 0.5,
         "value_in_usd_oct27": 1984.165,
         "_deepnote_index_column": "2020-07-21T00:43:33.000000"
        },
        {
         "from": "0xbbbfc46566e5f0302cef913af8c8f423070ce6a1",
         "to": "0x7a250d5630b4cf539739df2c5dacb4c659f2488d",
         "projectName": "Open Zone Finance",
         "gas": 134790,
         "gasPrice": 515000000000,
         "value_in_eth": 0.1,
         "value_in_usd_oct27": 396.833,
         "_deepnote_index_column": "2020-09-01T12:55:04.000000"
        },
        {
         "from": "0xbbbfc46566e5f0302cef913af8c8f423070ce6a1",
         "to": "0x7a250d5630b4cf539739df2c5dacb4c659f2488d",
         "projectName": "Open Zone Finance",
         "gas": 179257,
         "gasPrice": 515000000000,
         "value_in_eth": 0.05,
         "value_in_usd_oct27": 198.4165,
         "_deepnote_index_column": "2020-09-01T12:57:53.000000"
        },
        {
         "from": "0xbbbfc46566e5f0302cef913af8c8f423070ce6a1",
         "to": "0x7a250d5630b4cf539739df2c5dacb4c659f2488d",
         "projectName": "Open Zone Finance",
         "gas": 151409,
         "gasPrice": 215000000000,
         "value_in_eth": 5,
         "value_in_usd_oct27": 19841.65,
         "_deepnote_index_column": "2020-09-14T07:29:50.000000"
        },
        {
         "from": "0xbbbfc46566e5f0302cef913af8c8f423070ce6a1",
         "to": "0x7a250d5630b4cf539739df2c5dacb4c659f2488d",
         "projectName": "Open Zone Finance",
         "gas": 254875,
         "gasPrice": 115000000000,
         "value_in_eth": 2.6,
         "value_in_usd_oct27": 10317.658,
         "_deepnote_index_column": "2020-09-16T22:41:53.000000"
        },
        {
         "from": "0xbbbfc46566e5f0302cef913af8c8f423070ce6a1",
         "to": "0x7a250d5630b4cf539739df2c5dacb4c659f2488d",
         "projectName": "Open Zone Finance",
         "gas": 167310,
         "gasPrice": 250000000000,
         "value_in_eth": 0.1,
         "value_in_usd_oct27": 396.833,
         "_deepnote_index_column": "2020-09-22T12:57:43.000000"
        },
        {
         "from": "0xbbbfc46566e5f0302cef913af8c8f423070ce6a1",
         "to": "0x7a250d5630b4cf539739df2c5dacb4c659f2488d",
         "projectName": "Open Zone Finance",
         "gas": 189544,
         "gasPrice": 125000000000,
         "value_in_eth": 1.0049963848163723,
         "value_in_usd_oct27": 3988.157303758355,
         "_deepnote_index_column": "2020-10-05T13:52:49.000000"
        },
        {
         "from": "0xbbbfc46566e5f0302cef913af8c8f423070ce6a1",
         "to": "0x7a250d5630b4cf539739df2c5dacb4c659f2488d",
         "projectName": "Open Zone Finance",
         "gas": 224419,
         "gasPrice": 75000000000,
         "value_in_eth": 0.3,
         "value_in_usd_oct27": 1190.499,
         "_deepnote_index_column": "2020-11-30T08:25:06.000000"
        },
        {
         "from": "0xbbbfc46566e5f0302cef913af8c8f423070ce6a1",
         "to": "0xc662606edb852ba22f75680f7b2c89767014520e",
         "projectName": "DeFi Tutorials",
         "gas": 21000,
         "gasPrice": 175000000000,
         "value_in_eth": 0.05,
         "value_in_usd_oct27": 198.4165,
         "_deepnote_index_column": "2020-12-25T01:37:06.000000"
        },
        {
         "from": "0xbbbfc46566e5f0302cef913af8c8f423070ce6a1",
         "to": "0xc662606edb852ba22f75680f7b2c89767014520e",
         "projectName": "DeFi Tutorials",
         "gas": 21000,
         "gasPrice": 30000000000,
         "value_in_eth": 0.01,
         "value_in_usd_oct27": 39.6833,
         "_deepnote_index_column": "2021-07-29T08:36:55.000000"
        },
        {
         "from": "0xce7298e5ef1ae8af0573edc2ebd03ab0f837e214",
         "to": "0x9384eb57f892cce158c9ad5446d815cc7584d42b",
         "projectName": "Agency",
         "gas": 21000,
         "gasPrice": 8000000000,
         "value_in_eth": 0.1,
         "value_in_usd_oct27": 396.833,
         "_deepnote_index_column": "2020-04-10T12:05:24.000000"
        },
        {
         "from": "0xce7298e5ef1ae8af0573edc2ebd03ab0f837e214",
         "to": "0x9384eb57f892cce158c9ad5446d815cc7584d42b",
         "projectName": "Agency",
         "gas": 21000,
         "gasPrice": 165000000000,
         "value_in_eth": 0.3,
         "value_in_usd_oct27": 1190.499,
         "_deepnote_index_column": "2021-04-07T14:19:03.000000"
        },
        {
         "from": "0xce7298e5ef1ae8af0573edc2ebd03ab0f837e214",
         "to": "0x9384eb57f892cce158c9ad5446d815cc7584d42b",
         "projectName": "Agency",
         "gas": 21000,
         "gasPrice": 133000000000,
         "value_in_eth": 0.05,
         "value_in_usd_oct27": 198.4165,
         "_deepnote_index_column": "2021-05-17T19:05:06.000000"
        },
        {
         "from": "0xce7298e5ef1ae8af0573edc2ebd03ab0f837e214",
         "to": "0x9384eb57f892cce158c9ad5446d815cc7584d42b",
         "projectName": "Agency",
         "gas": 21000,
         "gasPrice": 35670967759,
         "value_in_eth": 0.125,
         "value_in_usd_oct27": 496.04125,
         "_deepnote_index_column": "2021-08-19T09:20:54.000000"
        },
        {
         "from": "0x00de4b13153673bcae2616b67bf822500d325fc3",
         "to": "0x073ab1c0cad3677cde9bdb0cdeedc2085c029579",
         "projectName": "Vyper.fun | CryptoZombies+Ethernaut for Vyper",
         "gas": 21000,
         "gasPrice": 5000000000,
         "value_in_eth": 0.0006,
         "value_in_usd_oct27": 2.380998,
         "_deepnote_index_column": "2020-01-08T21:20:32.000000"
        },
        {
         "from": "0x995904724b237f9342886adadb88c16d973a58fc",
         "to": "0x073ab1c0cad3677cde9bdb0cdeedc2085c029579",
         "projectName": "Vyper.fun | CryptoZombies+Ethernaut for Vyper",
         "gas": 21000,
         "gasPrice": 47000000000,
         "value_in_eth": 8,
         "value_in_usd_oct27": 31746.64,
         "_deepnote_index_column": "2021-05-04T13:06:39.000000"
        },
        {
         "from": "0x995904724b237f9342886adadb88c16d973a58fc",
         "to": "0x073ab1c0cad3677cde9bdb0cdeedc2085c029579",
         "projectName": "Vyper.fun | CryptoZombies+Ethernaut for Vyper",
         "gas": 21000,
         "gasPrice": 89919339936,
         "value_in_eth": 0.3,
         "value_in_usd_oct27": 1190.499,
         "_deepnote_index_column": "2021-08-24T19:59:44.000000"
        },
        {
         "from": "0x995904724b237f9342886adadb88c16d973a58fc",
         "to": "0x073ab1c0cad3677cde9bdb0cdeedc2085c029579",
         "projectName": "Vyper.fun | CryptoZombies+Ethernaut for Vyper",
         "gas": 21000,
         "gasPrice": 51646475589,
         "value_in_eth": 0.3,
         "value_in_usd_oct27": 1190.499,
         "_deepnote_index_column": "2021-09-11T22:12:14.000000"
        },
        {
         "from": "0x2586e4b30c581ee20af694495dbcf98daecde75e",
         "to": "0xe990aab0655654518a6fb49d5837bd4cf5b15b24",
         "projectName": "Writing is Designing",
         "gas": 40446,
         "gasPrice": 5000000000,
         "value_in_eth": 3.671071953010279,
         "value_in_usd_oct27": 14568.024963289281,
         "_deepnote_index_column": "2018-03-13T19:51:34.000000"
        },
        {
         "from": "0x2586e4b30c581ee20af694495dbcf98daecde75e",
         "to": "0xe990aab0655654518a6fb49d5837bd4cf5b15b24",
         "projectName": "Writing is Designing",
         "gas": 40446,
         "gasPrice": 3000000000,
         "value_in_eth": 4.9009037266471935,
         "value_in_usd_oct27": 19448.40328556586,
         "_deepnote_index_column": "2018-04-17T01:10:09.000000"
        },
        {
         "from": "0x2586e4b30c581ee20af694495dbcf98daecde75e",
         "to": "0xe990aab0655654518a6fb49d5837bd4cf5b15b24",
         "projectName": "Writing is Designing",
         "gas": 40446,
         "gasPrice": 10000000000,
         "value_in_eth": 3.3463797525285246,
         "value_in_usd_oct27": 13279.53916335152,
         "_deepnote_index_column": "2018-05-09T21:30:29.000000"
        },
        {
         "from": "0x2586e4b30c581ee20af694495dbcf98daecde75e",
         "to": "0xe990aab0655654518a6fb49d5837bd4cf5b15b24",
         "projectName": "Writing is Designing",
         "gas": 40446,
         "gasPrice": 12000000000,
         "value_in_eth": 5.057411738050347,
         "value_in_usd_oct27": 20069.478722457334,
         "_deepnote_index_column": "2018-06-15T14:49:07.000000"
        },
        {
         "from": "0x2586e4b30c581ee20af694495dbcf98daecde75e",
         "to": "0xe990aab0655654518a6fb49d5837bd4cf5b15b24",
         "projectName": "Writing is Designing",
         "gas": 40446,
         "gasPrice": 39000150000,
         "value_in_eth": 5.70395991713287,
         "value_in_usd_oct27": 22635.195257955882,
         "_deepnote_index_column": "2018-07-11T19:34:52.000000"
        },
        {
         "from": "0x2586e4b30c581ee20af694495dbcf98daecde75e",
         "to": "0xe990aab0655654518a6fb49d5837bd4cf5b15b24",
         "projectName": "Writing is Designing",
         "gas": 40446,
         "gasPrice": 33000000000,
         "value_in_eth": 6.922635856909968,
         "value_in_usd_oct27": 27471.303550051536,
         "_deepnote_index_column": "2018-08-10T15:05:56.000000"
        },
        {
         "from": "0x2586e4b30c581ee20af694495dbcf98daecde75e",
         "to": "0xe990aab0655654518a6fb49d5837bd4cf5b15b24",
         "projectName": "Writing is Designing",
         "gas": 40446,
         "gasPrice": 7500000000,
         "value_in_eth": 12.755350261754613,
         "value_in_usd_oct27": 50617.43910422868,
         "_deepnote_index_column": "2018-09-10T21:57:42.000000"
        },
        {
         "from": "0x2586e4b30c581ee20af694495dbcf98daecde75e",
         "to": "0xe990aab0655654518a6fb49d5837bd4cf5b15b24",
         "projectName": "Writing is Designing",
         "gas": 40446,
         "gasPrice": 13500000000,
         "value_in_eth": 12.585371013338467,
         "value_in_usd_oct27": 49942.905353361435,
         "_deepnote_index_column": "2018-10-12T17:31:39.000000"
        },
        {
         "from": "0x2586e4b30c581ee20af694495dbcf98daecde75e",
         "to": "0xe990aab0655654518a6fb49d5837bd4cf5b15b24",
         "projectName": "Writing is Designing",
         "gas": 40446,
         "gasPrice": 7500000000,
         "value_in_eth": 12.123342905971672,
         "value_in_usd_oct27": 48109.42535405456,
         "_deepnote_index_column": "2018-11-13T22:40:02.000000"
        },
        {
         "from": "0x2586e4b30c581ee20af694495dbcf98daecde75e",
         "to": "0xe990aab0655654518a6fb49d5837bd4cf5b15b24",
         "projectName": "Writing is Designing",
         "gas": 41007,
         "gasPrice": 7600000000,
         "value_in_eth": 27.303757120831527,
         "value_in_usd_oct27": 108350.31849530937,
         "_deepnote_index_column": "2018-12-12T17:52:44.000000"
        },
        {
         "from": "0x2586e4b30c581ee20af694495dbcf98daecde75e",
         "to": "0xe990aab0655654518a6fb49d5837bd4cf5b15b24",
         "projectName": "Writing is Designing",
         "gas": 41007,
         "gasPrice": 7100000000,
         "value_in_eth": 20.485086856768273,
         "value_in_usd_oct27": 81291.58472631924,
         "_deepnote_index_column": "2019-01-16T20:58:35.000000"
        },
        {
         "from": "0x2586e4b30c581ee20af694495dbcf98daecde75e",
         "to": "0xe990aab0655654518a6fb49d5837bd4cf5b15b24",
         "projectName": "Writing is Designing",
         "gas": 41007,
         "gasPrice": 7000000000,
         "value_in_eth": 20.496843486103142,
         "value_in_usd_oct27": 81338.23891120768,
         "_deepnote_index_column": "2019-02-15T21:25:07.000000"
        },
        {
         "from": "0x2586e4b30c581ee20af694495dbcf98daecde75e",
         "to": "0xe990aab0655654518a6fb49d5837bd4cf5b15b24",
         "projectName": "Writing is Designing",
         "gas": 41007,
         "gasPrice": 5000000000,
         "value_in_eth": 17.810639392694377,
         "value_in_usd_oct27": 70678.49462121088,
         "_deepnote_index_column": "2019-03-19T01:32:29.000000"
        },
        {
         "from": "0x00de4b13153673bcae2616b67bf822500d325fc3",
         "to": "0xe990aab0655654518a6fb49d5837bd4cf5b15b24",
         "projectName": "Writing is Designing",
         "gas": 51457,
         "gasPrice": 47000000000,
         "value_in_eth": 5,
         "value_in_usd_oct27": 19841.65,
         "_deepnote_index_column": "2020-07-14T13:18:30.000000"
        },
        {
         "from": "0x68d36dcbdd7bbf206e27134f28103abe7cf972df",
         "to": "0xb7fa4569ecbdfe1770ef4c3bd8d937cb03d83f7a",
         "projectName": "DeLance",
         "gas": 21000,
         "gasPrice": 290000000000,
         "value_in_eth": 0.13,
         "value_in_usd_oct27": 515.8829000000001,
         "_deepnote_index_column": "2020-09-17T22:10:07.000000"
        },
        {
         "from": "0xb7fa4569ecbdfe1770ef4c3bd8d937cb03d83f7a",
         "to": "0x7a250d5630b4cf539739df2c5dacb4c659f2488d",
         "projectName": "Open Zone Finance",
         "gas": 149207,
         "gasPrice": 205000000000,
         "value_in_eth": 0.1,
         "value_in_usd_oct27": 396.833,
         "_deepnote_index_column": "2020-09-17T22:15:26.000000"
        },
        {
         "from": "0xb7fa4569ecbdfe1770ef4c3bd8d937cb03d83f7a",
         "to": "0x7a250d5630b4cf539739df2c5dacb4c659f2488d",
         "projectName": "Open Zone Finance",
         "gas": 149207,
         "gasPrice": 201300000000,
         "value_in_eth": 0.5,
         "value_in_usd_oct27": 1984.165,
         "_deepnote_index_column": "2020-09-17T22:15:35.000000"
        },
        {
         "from": "0x93f3f612a525a59523e91cc5552f718df9fc0746",
         "to": "0x91bd7429bfb4731d13e2a431dd729f49b5760b03",
         "projectName": "Burner Wallet 2 & Burner Factory",
         "gas": 21000,
         "gasPrice": 4000000000,
         "value_in_eth": 0.1,
         "value_in_usd_oct27": 396.833,
         "_deepnote_index_column": "2019-10-02T07:51:01.000000"
        },
        {
         "from": "0x34aa3f359a9d614239015126635ce7732c18fdf3",
         "to": "0x97843608a00e2bbc75ab0c1911387e002565dede",
         "projectName": "BuidlGuidl",
         "gas": 34104,
         "gasPrice": 20600000000,
         "value_in_eth": 1,
         "value_in_usd_oct27": 3968.33,
         "_deepnote_index_column": "2020-11-05T21:16:20.000000"
        },
        {
         "from": "0x34aa3f359a9d614239015126635ce7732c18fdf3",
         "to": "0x97843608a00e2bbc75ab0c1911387e002565dede",
         "projectName": "BuidlGuidl",
         "gas": 120000,
         "gasPrice": 204000000000,
         "value_in_eth": 0.25,
         "value_in_usd_oct27": 992.0825,
         "_deepnote_index_column": "2021-05-14T14:04:31.000000"
        },
        {
         "from": "0x00de4b13153673bcae2616b67bf822500d325fc3",
         "to": "0xdb53fd872368c4d72ebb814b1e5d7b1babe2b834",
         "projectName": "Crypto Fonts",
         "gas": 21000,
         "gasPrice": 17000000000,
         "value_in_eth": 0.001,
         "value_in_usd_oct27": 3.96833,
         "_deepnote_index_column": "2020-06-05T20:39:21.000000"
        },
        {
         "from": "0x7904667c340601aab73939372c016dc5102732a2",
         "to": "0xdb53fd872368c4d72ebb814b1e5d7b1babe2b834",
         "projectName": "Crypto Fonts",
         "gas": 21000,
         "gasPrice": 17000000000,
         "value_in_eth": 0.001,
         "value_in_usd_oct27": 3.96833,
         "_deepnote_index_column": "2020-06-05T20:48:00.000000"
        },
        {
         "from": "0x1426fbd146942e153653863cbe633780c17268da",
         "to": "0xdb53fd872368c4d72ebb814b1e5d7b1babe2b834",
         "projectName": "Crypto Fonts",
         "gas": 21000,
         "gasPrice": 45000000000,
         "value_in_eth": 0.005,
         "value_in_usd_oct27": 19.84165,
         "_deepnote_index_column": "2020-06-25T09:30:51.000000"
        },
        {
         "from": "0x33d66941465ac776c38096cb1bc496c673ae7390",
         "to": "0x7a250d5630b4cf539739df2c5dacb4c659f2488d",
         "projectName": "Open Zone Finance",
         "gas": 189044,
         "gasPrice": 35000000000,
         "value_in_eth": 0.04516183795184243,
         "value_in_usd_oct27": 179.21707639943486,
         "_deepnote_index_column": "2020-11-03T13:33:39.000000"
        },
        {
         "from": "0x33d66941465ac776c38096cb1bc496c673ae7390",
         "to": "0x7a250d5630b4cf539739df2c5dacb4c659f2488d",
         "projectName": "Open Zone Finance",
         "gas": 169620,
         "gasPrice": 45000000000,
         "value_in_eth": 0.2,
         "value_in_usd_oct27": 793.666,
         "_deepnote_index_column": "2020-11-03T15:29:12.000000"
        },
        {
         "from": "0x33d66941465ac776c38096cb1bc496c673ae7390",
         "to": "0x7a250d5630b4cf539739df2c5dacb4c659f2488d",
         "projectName": "Open Zone Finance",
         "gas": 172362,
         "gasPrice": 33000000000,
         "value_in_eth": 0.1879705009457975,
         "value_in_usd_oct27": 745.9289780182366,
         "_deepnote_index_column": "2020-11-04T13:45:55.000000"
        },
        {
         "from": "0x33d66941465ac776c38096cb1bc496c673ae7390",
         "to": "0x7a250d5630b4cf539739df2c5dacb4c659f2488d",
         "projectName": "Open Zone Finance",
         "gas": 172362,
         "gasPrice": 39000000000,
         "value_in_eth": 0.22515589040683412,
         "value_in_usd_oct27": 893.492874578152,
         "_deepnote_index_column": "2020-11-04T15:13:20.000000"
        },
        {
         "from": "0x33d66941465ac776c38096cb1bc496c673ae7390",
         "to": "0x7a250d5630b4cf539739df2c5dacb4c659f2488d",
         "projectName": "Open Zone Finance",
         "gas": 172362,
         "gasPrice": 44000000000,
         "value_in_eth": 0.22515589040683412,
         "value_in_usd_oct27": 893.492874578152,
         "_deepnote_index_column": "2020-11-04T15:13:20.000000"
        }
       ],
       "rows_bottom": [
        {
         "from": "0x12a0e25e62c1dbd32e505446062b26aecb65f028",
         "to": "0x7a250d5630b4cf539739df2c5dacb4c659f2488d",
         "projectName": "Open Zone Finance",
         "gas": 271338,
         "gasPrice": 147000000000,
         "value_in_eth": 0.5,
         "value_in_usd_oct27": 1984.165,
         "_deepnote_index_column": "2021-02-18T14:02:43.000000"
        },
        {
         "from": "0x12a0e25e62c1dbd32e505446062b26aecb65f028",
         "to": "0x7a250d5630b4cf539739df2c5dacb4c659f2488d",
         "projectName": "Open Zone Finance",
         "gas": 233656,
         "gasPrice": 228000000000,
         "value_in_eth": 0.7,
         "value_in_usd_oct27": 2777.8309999999997,
         "_deepnote_index_column": "2021-02-19T15:11:19.000000"
        },
        {
         "from": "0x12a0e25e62c1dbd32e505446062b26aecb65f028",
         "to": "0x7a250d5630b4cf539739df2c5dacb4c659f2488d",
         "projectName": "Open Zone Finance",
         "gas": 271338,
         "gasPrice": 246000000000,
         "value_in_eth": 0.7,
         "value_in_usd_oct27": 2777.8309999999997,
         "_deepnote_index_column": "2021-02-19T15:15:46.000000"
        },
        {
         "from": "0x12a0e25e62c1dbd32e505446062b26aecb65f028",
         "to": "0x7a250d5630b4cf539739df2c5dacb4c659f2488d",
         "projectName": "Open Zone Finance",
         "gas": 278139,
         "gasPrice": 175000000000,
         "value_in_eth": 0.713156400015234,
         "value_in_usd_oct27": 2830.0399368724534,
         "_deepnote_index_column": "2021-02-20T19:30:20.000000"
        },
        {
         "from": "0x12a0e25e62c1dbd32e505446062b26aecb65f028",
         "to": "0x7a250d5630b4cf539739df2c5dacb4c659f2488d",
         "projectName": "Open Zone Finance",
         "gas": 278139,
         "gasPrice": 148000000000,
         "value_in_eth": 0.7147450101813969,
         "value_in_usd_oct27": 2836.344066253143,
         "_deepnote_index_column": "2021-02-21T14:55:27.000000"
        },
        {
         "from": "0x12a0e25e62c1dbd32e505446062b26aecb65f028",
         "to": "0x7a250d5630b4cf539739df2c5dacb4c659f2488d",
         "projectName": "Open Zone Finance",
         "gas": 182781,
         "gasPrice": 151000000000,
         "value_in_eth": 1.454566271937833,
         "value_in_usd_oct27": 5772.19897391906,
         "_deepnote_index_column": "2021-02-24T04:04:25.000000"
        },
        {
         "from": "0x12a0e25e62c1dbd32e505446062b26aecb65f028",
         "to": "0x7a250d5630b4cf539739df2c5dacb4c659f2488d",
         "projectName": "Open Zone Finance",
         "gas": 158254,
         "gasPrice": 151000000000,
         "value_in_eth": 3,
         "value_in_usd_oct27": 11904.99,
         "_deepnote_index_column": "2021-02-25T23:49:24.000000"
        },
        {
         "from": "0x12a0e25e62c1dbd32e505446062b26aecb65f028",
         "to": "0x7a250d5630b4cf539739df2c5dacb4c659f2488d",
         "projectName": "Open Zone Finance",
         "gas": 187572,
         "gasPrice": 210000000000,
         "value_in_eth": 4,
         "value_in_usd_oct27": 15873.32,
         "_deepnote_index_column": "2021-02-27T03:08:37.000000"
        },
        {
         "from": "0x12a0e25e62c1dbd32e505446062b26aecb65f028",
         "to": "0x7a250d5630b4cf539739df2c5dacb4c659f2488d",
         "projectName": "Open Zone Finance",
         "gas": 278139,
         "gasPrice": 104000000000,
         "value_in_eth": 0.7038821959539012,
         "value_in_usd_oct27": 2793.236834669745,
         "_deepnote_index_column": "2021-02-27T17:18:38.000000"
        },
        {
         "from": "0x12a0e25e62c1dbd32e505446062b26aecb65f028",
         "to": "0x7a250d5630b4cf539739df2c5dacb4c659f2488d",
         "projectName": "Open Zone Finance",
         "gas": 182781,
         "gasPrice": 104000000000,
         "value_in_eth": 0.6852229008775853,
         "value_in_usd_oct27": 2719.190594239548,
         "_deepnote_index_column": "2021-02-27T17:21:04.000000"
        },
        {
         "from": "0x12a0e25e62c1dbd32e505446062b26aecb65f028",
         "to": "0x7a250d5630b4cf539739df2c5dacb4c659f2488d",
         "projectName": "Open Zone Finance",
         "gas": 158241,
         "gasPrice": 109000000000,
         "value_in_eth": 1.5,
         "value_in_usd_oct27": 5952.495,
         "_deepnote_index_column": "2021-02-27T17:21:04.000000"
        },
        {
         "from": "0x12a0e25e62c1dbd32e505446062b26aecb65f028",
         "to": "0x7a250d5630b4cf539739df2c5dacb4c659f2488d",
         "projectName": "Open Zone Finance",
         "gas": 174796,
         "gasPrice": 120000000000,
         "value_in_eth": 0.33392704683545543,
         "value_in_usd_oct27": 1325.1327177685428,
         "_deepnote_index_column": "2021-03-05T18:42:20.000000"
        },
        {
         "from": "0x12a0e25e62c1dbd32e505446062b26aecb65f028",
         "to": "0x7a250d5630b4cf539739df2c5dacb4c659f2488d",
         "projectName": "Open Zone Finance",
         "gas": 160036,
         "gasPrice": 152000000000,
         "value_in_eth": 0.13063154643926206,
         "value_in_usd_oct27": 518.3890846813168,
         "_deepnote_index_column": "2021-03-06T19:21:41.000000"
        },
        {
         "from": "0x12a0e25e62c1dbd32e505446062b26aecb65f028",
         "to": "0x7a250d5630b4cf539739df2c5dacb4c659f2488d",
         "projectName": "Open Zone Finance",
         "gas": 173380,
         "gasPrice": 138000000000,
         "value_in_eth": 0.6299139727328302,
         "value_in_usd_oct27": 2499.7065154148722,
         "_deepnote_index_column": "2021-03-07T02:43:58.000000"
        },
        {
         "from": "0x12a0e25e62c1dbd32e505446062b26aecb65f028",
         "to": "0x7a250d5630b4cf539739df2c5dacb4c659f2488d",
         "projectName": "Open Zone Finance",
         "gas": 173608,
         "gasPrice": 110000000000,
         "value_in_eth": 0.6723801011306545,
         "value_in_usd_oct27": 2668.22612671981,
         "_deepnote_index_column": "2021-03-07T13:15:27.000000"
        },
        {
         "from": "0x12a0e25e62c1dbd32e505446062b26aecb65f028",
         "to": "0x7a250d5630b4cf539739df2c5dacb4c659f2488d",
         "projectName": "Open Zone Finance",
         "gas": 157108,
         "gasPrice": 98000000000,
         "value_in_eth": 0.37813978533771614,
         "value_in_usd_oct27": 1500.583454349219,
         "_deepnote_index_column": "2021-03-07T13:26:42.000000"
        },
        {
         "from": "0x12a0e25e62c1dbd32e505446062b26aecb65f028",
         "to": "0x7a250d5630b4cf539739df2c5dacb4c659f2488d",
         "projectName": "Open Zone Finance",
         "gas": 173759,
         "gasPrice": 126000000000,
         "value_in_eth": 0.22928847882948564,
         "value_in_usd_oct27": 909.8923491934128,
         "_deepnote_index_column": "2021-03-08T17:48:08.000000"
        },
        {
         "from": "0x12a0e25e62c1dbd32e505446062b26aecb65f028",
         "to": "0x7a250d5630b4cf539739df2c5dacb4c659f2488d",
         "projectName": "Open Zone Finance",
         "gas": 156817,
         "gasPrice": 135000000000,
         "value_in_eth": 0.22959049496164133,
         "value_in_usd_oct27": 911.0908488711301,
         "_deepnote_index_column": "2021-03-08T18:28:32.000000"
        },
        {
         "from": "0x12a0e25e62c1dbd32e505446062b26aecb65f028",
         "to": "0x7a250d5630b4cf539739df2c5dacb4c659f2488d",
         "projectName": "Open Zone Finance",
         "gas": 156803,
         "gasPrice": 135000000000,
         "value_in_eth": 0.3219135702272684,
         "value_in_usd_oct27": 1277.459278139976,
         "_deepnote_index_column": "2021-03-08T18:29:31.000000"
        },
        {
         "from": "0x12a0e25e62c1dbd32e505446062b26aecb65f028",
         "to": "0x7a250d5630b4cf539739df2c5dacb4c659f2488d",
         "projectName": "Open Zone Finance",
         "gas": 173368,
         "gasPrice": 96800000000,
         "value_in_eth": 0.0270293388370996,
         "value_in_usd_oct27": 107.26133618742746,
         "_deepnote_index_column": "2021-03-11T05:12:18.000000"
        },
        {
         "from": "0x12a0e25e62c1dbd32e505446062b26aecb65f028",
         "to": "0x7a250d5630b4cf539739df2c5dacb4c659f2488d",
         "projectName": "Open Zone Finance",
         "gas": 143925,
         "gasPrice": 300000000000,
         "value_in_eth": 0.7322245729444942,
         "value_in_usd_oct27": 2905.7087395528247,
         "_deepnote_index_column": "2021-03-11T15:14:43.000000"
        },
        {
         "from": "0x12a0e25e62c1dbd32e505446062b26aecb65f028",
         "to": "0x7a250d5630b4cf539739df2c5dacb4c659f2488d",
         "projectName": "Open Zone Finance",
         "gas": 204064,
         "gasPrice": 128700000000,
         "value_in_eth": 0.5231253612969957,
         "value_in_usd_oct27": 2075.934064995707,
         "_deepnote_index_column": "2021-03-13T06:44:23.000000"
        },
        {
         "from": "0x12a0e25e62c1dbd32e505446062b26aecb65f028",
         "to": "0x7a250d5630b4cf539739df2c5dacb4c659f2488d",
         "projectName": "Open Zone Finance",
         "gas": 182781,
         "gasPrice": 130000000000,
         "value_in_eth": 1.6844723852066605,
         "value_in_usd_oct27": 6684.542300387147,
         "_deepnote_index_column": "2021-03-13T06:47:26.000000"
        },
        {
         "from": "0x12a0e25e62c1dbd32e505446062b26aecb65f028",
         "to": "0x7a250d5630b4cf539739df2c5dacb4c659f2488d",
         "projectName": "Open Zone Finance",
         "gas": 215793,
         "gasPrice": 154000000000,
         "value_in_eth": 1.489897563112076,
         "value_in_usd_oct27": 5912.405196624545,
         "_deepnote_index_column": "2021-03-14T03:08:06.000000"
        },
        {
         "from": "0x12a0e25e62c1dbd32e505446062b26aecb65f028",
         "to": "0x7a250d5630b4cf539739df2c5dacb4c659f2488d",
         "projectName": "Open Zone Finance",
         "gas": 173255,
         "gasPrice": 130900000000,
         "value_in_eth": 0.9066609324602586,
         "value_in_usd_oct27": 3597.929778110018,
         "_deepnote_index_column": "2021-03-14T04:47:05.000000"
        },
        {
         "from": "0x12a0e25e62c1dbd32e505446062b26aecb65f028",
         "to": "0x7a250d5630b4cf539739df2c5dacb4c659f2488d",
         "projectName": "Open Zone Finance",
         "gas": 161449,
         "gasPrice": 130000000000,
         "value_in_eth": 0.4849873910821719,
         "value_in_usd_oct27": 1924.5900136531152,
         "_deepnote_index_column": "2021-03-14T12:35:40.000000"
        },
        {
         "from": "0x12a0e25e62c1dbd32e505446062b26aecb65f028",
         "to": "0x7a250d5630b4cf539739df2c5dacb4c659f2488d",
         "projectName": "Open Zone Finance",
         "gas": 174666,
         "gasPrice": 182000000000,
         "value_in_eth": 0.00201072249471762,
         "value_in_usd_oct27": 7.979210397462773,
         "_deepnote_index_column": "2021-03-14T16:20:36.000000"
        },
        {
         "from": "0x12a0e25e62c1dbd32e505446062b26aecb65f028",
         "to": "0x7a250d5630b4cf539739df2c5dacb4c659f2488d",
         "projectName": "Open Zone Finance",
         "gas": 156755,
         "gasPrice": 143000001604,
         "value_in_eth": 0.23425842864301766,
         "value_in_usd_oct27": 929.6147501369462,
         "_deepnote_index_column": "2021-03-15T03:49:16.000000"
        },
        {
         "from": "0x12a0e25e62c1dbd32e505446062b26aecb65f028",
         "to": "0x7a250d5630b4cf539739df2c5dacb4c659f2488d",
         "projectName": "Open Zone Finance",
         "gas": 156755,
         "gasPrice": 160000000000,
         "value_in_eth": 0.24529997321942007,
         "value_in_usd_oct27": 973.4312427258212,
         "_deepnote_index_column": "2021-03-15T04:17:06.000000"
        },
        {
         "from": "0x12a0e25e62c1dbd32e505446062b26aecb65f028",
         "to": "0x7a250d5630b4cf539739df2c5dacb4c659f2488d",
         "projectName": "Open Zone Finance",
         "gas": 166119,
         "gasPrice": 168000000000,
         "value_in_eth": 0.5,
         "value_in_usd_oct27": 1984.165,
         "_deepnote_index_column": "2021-03-17T10:18:21.000000"
        },
        {
         "from": "0x12a0e25e62c1dbd32e505446062b26aecb65f028",
         "to": "0x7a250d5630b4cf539739df2c5dacb4c659f2488d",
         "projectName": "Open Zone Finance",
         "gas": 174100,
         "gasPrice": 150000000000,
         "value_in_eth": 0.5216814779339191,
         "value_in_usd_oct27": 2070.204259329509,
         "_deepnote_index_column": "2021-04-04T15:37:31.000000"
        },
        {
         "from": "0x12a0e25e62c1dbd32e505446062b26aecb65f028",
         "to": "0x7a250d5630b4cf539739df2c5dacb4c659f2488d",
         "projectName": "Open Zone Finance",
         "gas": 174666,
         "gasPrice": 117700000000,
         "value_in_eth": 0.24867792372153893,
         "value_in_usd_oct27": 986.8360650418946,
         "_deepnote_index_column": "2021-04-07T01:36:35.000000"
        },
        {
         "from": "0x12a0e25e62c1dbd32e505446062b26aecb65f028",
         "to": "0x7a250d5630b4cf539739df2c5dacb4c659f2488d",
         "projectName": "Open Zone Finance",
         "gas": 174176,
         "gasPrice": 102000000000,
         "value_in_eth": 0.4673486054250652,
         "value_in_usd_oct27": 1854.593491366449,
         "_deepnote_index_column": "2021-04-14T12:52:01.000000"
        },
        {
         "from": "0x12a0e25e62c1dbd32e505446062b26aecb65f028",
         "to": "0x7a250d5630b4cf539739df2c5dacb4c659f2488d",
         "projectName": "Open Zone Finance",
         "gas": 147810,
         "gasPrice": 272000000000,
         "value_in_eth": 0.4293237898488195,
         "value_in_usd_oct27": 1703.698474970766,
         "_deepnote_index_column": "2021-04-20T08:34:51.000000"
        },
        {
         "from": "0x12a0e25e62c1dbd32e505446062b26aecb65f028",
         "to": "0x7a250d5630b4cf539739df2c5dacb4c659f2488d",
         "projectName": "Open Zone Finance",
         "gas": 248272,
         "gasPrice": 50000000000,
         "value_in_eth": 0.606,
         "value_in_usd_oct27": 2404.80798,
         "_deepnote_index_column": "2021-04-25T04:16:59.000000"
        },
        {
         "from": "0x12a0e25e62c1dbd32e505446062b26aecb65f028",
         "to": "0x7a250d5630b4cf539739df2c5dacb4c659f2488d",
         "projectName": "Open Zone Finance",
         "gas": 144420,
         "gasPrice": 48000000000,
         "value_in_eth": 1.6,
         "value_in_usd_oct27": 6349.328,
         "_deepnote_index_column": "2021-04-25T12:22:41.000000"
        },
        {
         "from": "0x12a0e25e62c1dbd32e505446062b26aecb65f028",
         "to": "0x7a250d5630b4cf539739df2c5dacb4c659f2488d",
         "projectName": "Open Zone Finance",
         "gas": 166416,
         "gasPrice": 47000000000,
         "value_in_eth": 0.11207822192763695,
         "value_in_usd_oct27": 444.7633704220995,
         "_deepnote_index_column": "2021-04-29T04:56:56.000000"
        },
        {
         "from": "0x12a0e25e62c1dbd32e505446062b26aecb65f028",
         "to": "0x7a250d5630b4cf539739df2c5dacb4c659f2488d",
         "projectName": "Open Zone Finance",
         "gas": 184244,
         "gasPrice": 73000000000,
         "value_in_eth": 0.10082473338532995,
         "value_in_usd_oct27": 400.1058142350064,
         "_deepnote_index_column": "2021-05-16T16:28:59.000000"
        },
        {
         "from": "0x12a0e25e62c1dbd32e505446062b26aecb65f028",
         "to": "0x7a250d5630b4cf539739df2c5dacb4c659f2488d",
         "projectName": "Open Zone Finance",
         "gas": 180968,
         "gasPrice": 62000000000,
         "value_in_eth": 0.15075628889012366,
         "value_in_usd_oct27": 598.2507038913444,
         "_deepnote_index_column": "2021-05-18T01:41:13.000000"
        },
        {
         "from": "0x12a0e25e62c1dbd32e505446062b26aecb65f028",
         "to": "0x7a250d5630b4cf539739df2c5dacb4c659f2488d",
         "projectName": "Open Zone Finance",
         "gas": 280024,
         "gasPrice": 155000000000,
         "value_in_eth": 0.2833259329311768,
         "value_in_usd_oct27": 1124.3307994287768,
         "_deepnote_index_column": "2021-05-20T03:06:52.000000"
        },
        {
         "from": "0x12a0e25e62c1dbd32e505446062b26aecb65f028",
         "to": "0x7a250d5630b4cf539739df2c5dacb4c659f2488d",
         "projectName": "Open Zone Finance",
         "gas": 181017,
         "gasPrice": 68000000000,
         "value_in_eth": 0.662998936769886,
         "value_in_usd_oct27": 2630.9985707520414,
         "_deepnote_index_column": "2021-05-22T03:29:00.000000"
        },
        {
         "from": "0x12a0e25e62c1dbd32e505446062b26aecb65f028",
         "to": "0x7a250d5630b4cf539739df2c5dacb4c659f2488d",
         "projectName": "Open Zone Finance",
         "gas": 173990,
         "gasPrice": 36000000000,
         "value_in_eth": 0.2,
         "value_in_usd_oct27": 793.666,
         "_deepnote_index_column": "2021-05-23T02:00:21.000000"
        },
        {
         "from": "0x12a0e25e62c1dbd32e505446062b26aecb65f028",
         "to": "0x7a250d5630b4cf539739df2c5dacb4c659f2488d",
         "projectName": "Open Zone Finance",
         "gas": 152360,
         "gasPrice": 78000000000,
         "value_in_eth": 0.4,
         "value_in_usd_oct27": 1587.332,
         "_deepnote_index_column": "2021-05-24T17:33:37.000000"
        },
        {
         "from": "0x12a0e25e62c1dbd32e505446062b26aecb65f028",
         "to": "0x7a250d5630b4cf539739df2c5dacb4c659f2488d",
         "projectName": "Open Zone Finance",
         "gas": 181017,
         "gasPrice": 21000000000,
         "value_in_eth": 0.09674946074205097,
         "value_in_usd_oct27": 383.93378754650314,
         "_deepnote_index_column": "2021-06-04T07:03:08.000000"
        },
        {
         "from": "0x12a0e25e62c1dbd32e505446062b26aecb65f028",
         "to": "0x7a250d5630b4cf539739df2c5dacb4c659f2488d",
         "projectName": "Open Zone Finance",
         "gas": 181012,
         "gasPrice": 40000000000,
         "value_in_eth": 0.1215773334415384,
         "value_in_usd_oct27": 482.45897961606005,
         "_deepnote_index_column": "2021-06-09T15:19:11.000000"
        },
        {
         "from": "0x12a0e25e62c1dbd32e505446062b26aecb65f028",
         "to": "0x7a250d5630b4cf539739df2c5dacb4c659f2488d",
         "projectName": "Open Zone Finance",
         "gas": 160462,
         "gasPrice": 27000000000,
         "value_in_eth": 0.5967017716191616,
         "value_in_usd_oct27": 2367.9095413694677,
         "_deepnote_index_column": "2021-06-15T19:40:38.000000"
        },
        {
         "from": "0x12a0e25e62c1dbd32e505446062b26aecb65f028",
         "to": "0x7a250d5630b4cf539739df2c5dacb4c659f2488d",
         "projectName": "Open Zone Finance",
         "gas": 184398,
         "gasPrice": 34000000000,
         "value_in_eth": 0.11929949029385035,
         "value_in_usd_oct27": 473.41974631779516,
         "_deepnote_index_column": "2021-06-17T14:44:12.000000"
        },
        {
         "from": "0x12a0e25e62c1dbd32e505446062b26aecb65f028",
         "to": "0x7a250d5630b4cf539739df2c5dacb4c659f2488d",
         "projectName": "Open Zone Finance",
         "gas": 183952,
         "gasPrice": 18000000000,
         "value_in_eth": 0.054797747538968704,
         "value_in_usd_oct27": 217.45554549131566,
         "_deepnote_index_column": "2021-06-23T19:12:19.000000"
        },
        {
         "from": "0x12a0e25e62c1dbd32e505446062b26aecb65f028",
         "to": "0x7a250d5630b4cf539739df2c5dacb4c659f2488d",
         "projectName": "Open Zone Finance",
         "gas": 163447,
         "gasPrice": 13000000000,
         "value_in_eth": 0.05369749307941862,
         "value_in_usd_oct27": 213.0893727118493,
         "_deepnote_index_column": "2021-06-23T19:14:16.000000"
        },
        {
         "from": "0x12a0e25e62c1dbd32e505446062b26aecb65f028",
         "to": "0x7a250d5630b4cf539739df2c5dacb4c659f2488d",
         "projectName": "Open Zone Finance",
         "gas": 163447,
         "gasPrice": 17000000000,
         "value_in_eth": 0.06993396716363845,
         "value_in_usd_oct27": 277.5210599144814,
         "_deepnote_index_column": "2021-06-23T19:19:07.000000"
        },
        {
         "from": "0x12a0e25e62c1dbd32e505446062b26aecb65f028",
         "to": "0x7a250d5630b4cf539739df2c5dacb4c659f2488d",
         "projectName": "Open Zone Finance",
         "gas": 186700,
         "gasPrice": 11000000000,
         "value_in_eth": 0.05123064770472647,
         "value_in_usd_oct27": 203.3001162060972,
         "_deepnote_index_column": "2021-06-26T11:42:42.000000"
        },
        {
         "from": "0x12a0e25e62c1dbd32e505446062b26aecb65f028",
         "to": "0x7a250d5630b4cf539739df2c5dacb4c659f2488d",
         "projectName": "Open Zone Finance",
         "gas": 173154,
         "gasPrice": 35000000000,
         "value_in_eth": 0.3,
         "value_in_usd_oct27": 1190.499,
         "_deepnote_index_column": "2021-07-08T19:30:34.000000"
        },
        {
         "from": "0x12a0e25e62c1dbd32e505446062b26aecb65f028",
         "to": "0x7a250d5630b4cf539739df2c5dacb4c659f2488d",
         "projectName": "Open Zone Finance",
         "gas": 201048,
         "gasPrice": 27000000000,
         "value_in_eth": 0.23990032422009744,
         "value_in_usd_oct27": 952.0036536123392,
         "_deepnote_index_column": "2021-07-15T10:16:48.000000"
        },
        {
         "from": "0x12a0e25e62c1dbd32e505446062b26aecb65f028",
         "to": "0x7a250d5630b4cf539739df2c5dacb4c659f2488d",
         "projectName": "Open Zone Finance",
         "gas": 174100,
         "gasPrice": 79000000000,
         "value_in_eth": 0.1,
         "value_in_usd_oct27": 396.833,
         "_deepnote_index_column": "2021-08-05T18:15:10.000000"
        },
        {
         "from": "0x12a0e25e62c1dbd32e505446062b26aecb65f028",
         "to": "0x12a0e25e62c1dbd32e505446062b26aecb65f028",
         "projectName": "BBFT Podcast Show - Season4",
         "gas": 21000,
         "gasPrice": 60000000000,
         "value_in_eth": 1.5,
         "value_in_usd_oct27": 5952.495,
         "_deepnote_index_column": "2021-08-14T03:08:31.000000"
        },
        {
         "from": "0x12a0e25e62c1dbd32e505446062b26aecb65f028",
         "to": "0x7a250d5630b4cf539739df2c5dacb4c659f2488d",
         "projectName": "Open Zone Finance",
         "gas": 173240,
         "gasPrice": 35000000000,
         "value_in_eth": 1,
         "value_in_usd_oct27": 3968.33,
         "_deepnote_index_column": "2021-08-17T09:43:47.000000"
        },
        {
         "from": "0x12a0e25e62c1dbd32e505446062b26aecb65f028",
         "to": "0x7a250d5630b4cf539739df2c5dacb4c659f2488d",
         "projectName": "Open Zone Finance",
         "gas": 221834,
         "gasPrice": 25327133035,
         "value_in_eth": 0.07200171944404643,
         "value_in_usd_oct27": 285.72658332139275,
         "_deepnote_index_column": "2021-08-19T18:03:22.000000"
        },
        {
         "from": "0x12a0e25e62c1dbd32e505446062b26aecb65f028",
         "to": "0x7a250d5630b4cf539739df2c5dacb4c659f2488d",
         "projectName": "Open Zone Finance",
         "gas": 266137,
         "gasPrice": 167315411138,
         "value_in_eth": 0.1,
         "value_in_usd_oct27": 396.833,
         "_deepnote_index_column": "2021-08-26T15:18:13.000000"
        },
        {
         "from": "0x12a0e25e62c1dbd32e505446062b26aecb65f028",
         "to": "0x7a250d5630b4cf539739df2c5dacb4c659f2488d",
         "projectName": "Open Zone Finance",
         "gas": 181017,
         "gasPrice": 138638300728,
         "value_in_eth": 0.3456411070728256,
         "value_in_usd_oct27": 1371.6179744303058,
         "_deepnote_index_column": "2021-09-01T16:18:30.000000"
        },
        {
         "from": "0x12a0e25e62c1dbd32e505446062b26aecb65f028",
         "to": "0x7a250d5630b4cf539739df2c5dacb4c659f2488d",
         "projectName": "Open Zone Finance",
         "gas": 216516,
         "gasPrice": 86000000000,
         "value_in_eth": 0.4026128293262647,
         "value_in_usd_oct27": 1597.700569000296,
         "_deepnote_index_column": "2021-09-08T08:44:57.000000"
        },
        {
         "from": "0x12a0e25e62c1dbd32e505446062b26aecb65f028",
         "to": "0x7a250d5630b4cf539739df2c5dacb4c659f2488d",
         "projectName": "Open Zone Finance",
         "gas": 205594,
         "gasPrice": 95000000000,
         "value_in_eth": 1.0872411197568153,
         "value_in_usd_oct27": 4314.531552764563,
         "_deepnote_index_column": "2021-10-16T16:49:40.000000"
        },
        {
         "from": "0x12a0e25e62c1dbd32e505446062b26aecb65f028",
         "to": "0x7a250d5630b4cf539739df2c5dacb4c659f2488d",
         "projectName": "Open Zone Finance",
         "gas": 192955,
         "gasPrice": 128000000000,
         "value_in_eth": 0.43881178008826505,
         "value_in_usd_oct27": 1741.3499512776648,
         "_deepnote_index_column": "2021-10-26T14:22:58.000000"
        },
        {
         "from": "0x12a0e25e62c1dbd32e505446062b26aecb65f028",
         "to": "0x7a250d5630b4cf539739df2c5dacb4c659f2488d",
         "projectName": "Open Zone Finance",
         "gas": 205638,
         "gasPrice": 95703798624,
         "value_in_eth": 0.4345227783364462,
         "value_in_usd_oct27": 1724.3297769558694,
         "_deepnote_index_column": "2021-10-26T14:26:02.000000"
        },
        {
         "from": "0xaf539ff7d03933a7febbe20218121dc5f5cac342",
         "to": "0x7a250d5630b4cf539739df2c5dacb4c659f2488d",
         "projectName": "Open Zone Finance",
         "gas": 173687,
         "gasPrice": 97120000000,
         "value_in_eth": 1.0763329350890825,
         "value_in_usd_oct27": 4271.244276302058,
         "_deepnote_index_column": "2021-02-27T11:36:52.000000"
        },
        {
         "from": "0xaf539ff7d03933a7febbe20218121dc5f5cac342",
         "to": "0x7a250d5630b4cf539739df2c5dacb4c659f2488d",
         "projectName": "Open Zone Finance",
         "gas": 164839,
         "gasPrice": 114400000233,
         "value_in_eth": 0.15,
         "value_in_usd_oct27": 595.2495,
         "_deepnote_index_column": "2021-02-27T19:37:36.000000"
        },
        {
         "from": "0xaf539ff7d03933a7febbe20218121dc5f5cac342",
         "to": "0x7a250d5630b4cf539739df2c5dacb4c659f2488d",
         "projectName": "Open Zone Finance",
         "gas": 164839,
         "gasPrice": 113300000233,
         "value_in_eth": 0.15,
         "value_in_usd_oct27": 595.2495,
         "_deepnote_index_column": "2021-02-27T19:40:05.000000"
        },
        {
         "from": "0xaf539ff7d03933a7febbe20218121dc5f5cac342",
         "to": "0x7a250d5630b4cf539739df2c5dacb4c659f2488d",
         "projectName": "Open Zone Finance",
         "gas": 164839,
         "gasPrice": 113300000233,
         "value_in_eth": 0.14,
         "value_in_usd_oct27": 555.5662000000001,
         "_deepnote_index_column": "2021-02-27T19:42:33.000000"
        },
        {
         "from": "0xaf539ff7d03933a7febbe20218121dc5f5cac342",
         "to": "0x7a250d5630b4cf539739df2c5dacb4c659f2488d",
         "projectName": "Open Zone Finance",
         "gas": 194474,
         "gasPrice": 141900000233,
         "value_in_eth": 1.7266447223465597,
         "value_in_usd_oct27": 6851.896051029524,
         "_deepnote_index_column": "2021-03-05T02:56:24.000000"
        },
        {
         "from": "0xaf539ff7d03933a7febbe20218121dc5f5cac342",
         "to": "0x7a250d5630b4cf539739df2c5dacb4c659f2488d",
         "projectName": "Open Zone Finance",
         "gas": 165067,
         "gasPrice": 122000000000,
         "value_in_eth": 0.3,
         "value_in_usd_oct27": 1190.499,
         "_deepnote_index_column": "2021-03-09T16:15:38.000000"
        },
        {
         "from": "0xaf539ff7d03933a7febbe20218121dc5f5cac342",
         "to": "0x7a250d5630b4cf539739df2c5dacb4c659f2488d",
         "projectName": "Open Zone Finance",
         "gas": 192223,
         "gasPrice": 92400000233,
         "value_in_eth": 0.2902010621507504,
         "value_in_usd_oct27": 1151.6135809646873,
         "_deepnote_index_column": "2021-03-10T07:07:32.000000"
        },
        {
         "from": "0xaf539ff7d03933a7febbe20218121dc5f5cac342",
         "to": "0x7a250d5630b4cf539739df2c5dacb4c659f2488d",
         "projectName": "Open Zone Finance",
         "gas": 192460,
         "gasPrice": 96800000000,
         "value_in_eth": 0.29221963619399444,
         "value_in_usd_oct27": 1159.623948897714,
         "_deepnote_index_column": "2021-03-11T05:47:25.000000"
        }
       ]
      },
      "text/plain": "                                                           from  \\\ndt                                                                \n2020-04-11 03:44:14  0x624af08b36819939f133b4c3bc668cc93beef16b   \n2020-04-14 22:35:51  0xbbbfc46566e5f0302cef913af8c8f423070ce6a1   \n2020-04-29 08:16:51  0xbbbfc46566e5f0302cef913af8c8f423070ce6a1   \n2020-07-31 20:10:53  0x5b93ff82faaf241c15997ea3975419dddd8362c5   \n2020-08-03 06:37:49  0x5b93ff82faaf241c15997ea3975419dddd8362c5   \n...                                                         ...   \n2021-02-27 19:42:33  0xaf539ff7d03933a7febbe20218121dc5f5cac342   \n2021-03-05 02:56:24  0xaf539ff7d03933a7febbe20218121dc5f5cac342   \n2021-03-09 16:15:38  0xaf539ff7d03933a7febbe20218121dc5f5cac342   \n2021-03-10 07:07:32  0xaf539ff7d03933a7febbe20218121dc5f5cac342   \n2021-03-11 05:47:25  0xaf539ff7d03933a7febbe20218121dc5f5cac342   \n\n                                                             to  \\\ndt                                                                \n2020-04-11 03:44:14  0xd25185f8c3b9e38c3f014378ce58b362db568352   \n2020-04-14 22:35:51  0x565b93a15d38acd79c120b15432d21e21ed274d6   \n2020-04-29 08:16:51  0x565b93a15d38acd79c120b15432d21e21ed274d6   \n2020-07-31 20:10:53  0x565b93a15d38acd79c120b15432d21e21ed274d6   \n2020-08-03 06:37:49  0x565b93a15d38acd79c120b15432d21e21ed274d6   \n...                                                         ...   \n2021-02-27 19:42:33  0x7a250d5630b4cf539739df2c5dacb4c659f2488d   \n2021-03-05 02:56:24  0x7a250d5630b4cf539739df2c5dacb4c659f2488d   \n2021-03-09 16:15:38  0x7a250d5630b4cf539739df2c5dacb4c659f2488d   \n2021-03-10 07:07:32  0x7a250d5630b4cf539739df2c5dacb4c659f2488d   \n2021-03-11 05:47:25  0x7a250d5630b4cf539739df2c5dacb4c659f2488d   \n\n                                 projectName     gas      gasPrice  \\\ndt                                                                   \n2020-04-11 03:44:14          Daohaus/Pokemol   34033    1100000000   \n2020-04-14 22:35:51  Jamm Session Newsletter   21000   12000000000   \n2020-04-29 08:16:51  Jamm Session Newsletter   21000    7500000000   \n2020-07-31 20:10:53  Jamm Session Newsletter   21000   52000000000   \n2020-08-03 06:37:49  Jamm Session Newsletter   21000   46000000000   \n...                                      ...     ...           ...   \n2021-02-27 19:42:33        Open Zone Finance  164839  113300000233   \n2021-03-05 02:56:24        Open Zone Finance  194474  141900000233   \n2021-03-09 16:15:38        Open Zone Finance  165067  122000000000   \n2021-03-10 07:07:32        Open Zone Finance  192223   92400000233   \n2021-03-11 05:47:25        Open Zone Finance  192460   96800000000   \n\n                     value_in_eth  value_in_usd_oct27  \ndt                                                     \n2020-04-11 03:44:14      0.007000           27.778310  \n2020-04-14 22:35:51      3.200000        12698.656000  \n2020-04-29 08:16:51      0.630000         2500.047900  \n2020-07-31 20:10:53      1.000000         3968.330000  \n2020-08-03 06:37:49      1.000000         3968.330000  \n...                           ...                 ...  \n2021-02-27 19:42:33      0.140000          555.566200  \n2021-03-05 02:56:24      1.726645         6851.896051  \n2021-03-09 16:15:38      0.300000         1190.499000  \n2021-03-10 07:07:32      0.290201         1151.613581  \n2021-03-11 05:47:25      0.292220         1159.623949  \n\n[4240 rows x 7 columns]",
      "text/html": "<div>\n<style scoped>\n    .dataframe tbody tr th:only-of-type {\n        vertical-align: middle;\n    }\n\n    .dataframe tbody tr th {\n        vertical-align: top;\n    }\n\n    .dataframe thead th {\n        text-align: right;\n    }\n</style>\n<table border=\"1\" class=\"dataframe\">\n  <thead>\n    <tr style=\"text-align: right;\">\n      <th></th>\n      <th>from</th>\n      <th>to</th>\n      <th>projectName</th>\n      <th>gas</th>\n      <th>gasPrice</th>\n      <th>value_in_eth</th>\n      <th>value_in_usd_oct27</th>\n    </tr>\n    <tr>\n      <th>dt</th>\n      <th></th>\n      <th></th>\n      <th></th>\n      <th></th>\n      <th></th>\n      <th></th>\n      <th></th>\n    </tr>\n  </thead>\n  <tbody>\n    <tr>\n      <th>2020-04-11 03:44:14</th>\n      <td>0x624af08b36819939f133b4c3bc668cc93beef16b</td>\n      <td>0xd25185f8c3b9e38c3f014378ce58b362db568352</td>\n      <td>Daohaus/Pokemol</td>\n      <td>34033</td>\n      <td>1100000000</td>\n      <td>0.007000</td>\n      <td>27.778310</td>\n    </tr>\n    <tr>\n      <th>2020-04-14 22:35:51</th>\n      <td>0xbbbfc46566e5f0302cef913af8c8f423070ce6a1</td>\n      <td>0x565b93a15d38acd79c120b15432d21e21ed274d6</td>\n      <td>Jamm Session Newsletter</td>\n      <td>21000</td>\n      <td>12000000000</td>\n      <td>3.200000</td>\n      <td>12698.656000</td>\n    </tr>\n    <tr>\n      <th>2020-04-29 08:16:51</th>\n      <td>0xbbbfc46566e5f0302cef913af8c8f423070ce6a1</td>\n      <td>0x565b93a15d38acd79c120b15432d21e21ed274d6</td>\n      <td>Jamm Session Newsletter</td>\n      <td>21000</td>\n      <td>7500000000</td>\n      <td>0.630000</td>\n      <td>2500.047900</td>\n    </tr>\n    <tr>\n      <th>2020-07-31 20:10:53</th>\n      <td>0x5b93ff82faaf241c15997ea3975419dddd8362c5</td>\n      <td>0x565b93a15d38acd79c120b15432d21e21ed274d6</td>\n      <td>Jamm Session Newsletter</td>\n      <td>21000</td>\n      <td>52000000000</td>\n      <td>1.000000</td>\n      <td>3968.330000</td>\n    </tr>\n    <tr>\n      <th>2020-08-03 06:37:49</th>\n      <td>0x5b93ff82faaf241c15997ea3975419dddd8362c5</td>\n      <td>0x565b93a15d38acd79c120b15432d21e21ed274d6</td>\n      <td>Jamm Session Newsletter</td>\n      <td>21000</td>\n      <td>46000000000</td>\n      <td>1.000000</td>\n      <td>3968.330000</td>\n    </tr>\n    <tr>\n      <th>...</th>\n      <td>...</td>\n      <td>...</td>\n      <td>...</td>\n      <td>...</td>\n      <td>...</td>\n      <td>...</td>\n      <td>...</td>\n    </tr>\n    <tr>\n      <th>2021-02-27 19:42:33</th>\n      <td>0xaf539ff7d03933a7febbe20218121dc5f5cac342</td>\n      <td>0x7a250d5630b4cf539739df2c5dacb4c659f2488d</td>\n      <td>Open Zone Finance</td>\n      <td>164839</td>\n      <td>113300000233</td>\n      <td>0.140000</td>\n      <td>555.566200</td>\n    </tr>\n    <tr>\n      <th>2021-03-05 02:56:24</th>\n      <td>0xaf539ff7d03933a7febbe20218121dc5f5cac342</td>\n      <td>0x7a250d5630b4cf539739df2c5dacb4c659f2488d</td>\n      <td>Open Zone Finance</td>\n      <td>194474</td>\n      <td>141900000233</td>\n      <td>1.726645</td>\n      <td>6851.896051</td>\n    </tr>\n    <tr>\n      <th>2021-03-09 16:15:38</th>\n      <td>0xaf539ff7d03933a7febbe20218121dc5f5cac342</td>\n      <td>0x7a250d5630b4cf539739df2c5dacb4c659f2488d</td>\n      <td>Open Zone Finance</td>\n      <td>165067</td>\n      <td>122000000000</td>\n      <td>0.300000</td>\n      <td>1190.499000</td>\n    </tr>\n    <tr>\n      <th>2021-03-10 07:07:32</th>\n      <td>0xaf539ff7d03933a7febbe20218121dc5f5cac342</td>\n      <td>0x7a250d5630b4cf539739df2c5dacb4c659f2488d</td>\n      <td>Open Zone Finance</td>\n      <td>192223</td>\n      <td>92400000233</td>\n      <td>0.290201</td>\n      <td>1151.613581</td>\n    </tr>\n    <tr>\n      <th>2021-03-11 05:47:25</th>\n      <td>0xaf539ff7d03933a7febbe20218121dc5f5cac342</td>\n      <td>0x7a250d5630b4cf539739df2c5dacb4c659f2488d</td>\n      <td>Open Zone Finance</td>\n      <td>192460</td>\n      <td>96800000000</td>\n      <td>0.292220</td>\n      <td>1159.623949</td>\n    </tr>\n  </tbody>\n</table>\n<p>4240 rows × 7 columns</p>\n</div>"
     },
     "metadata": {}
    }
   ]
  },
  {
   "cell_type": "code",
   "metadata": {
    "tags": [],
    "deepnote_to_be_reexecuted": false,
    "source_hash": "b5c0fb43",
    "execution_start": 1638477132469,
    "execution_millis": 3,
    "deepnote_output_heights": [
     21.1875
    ],
    "cell_id": "00039-e730262e-8553-43c1-9b31-7b924c9e34e0",
    "deepnote_cell_type": "code"
   },
   "source": "len(df), [len(x) for x in subsets.values()]",
   "execution_count": null,
   "outputs": [
    {
     "output_type": "execute_result",
     "execution_count": 25,
     "data": {
      "text/plain": "(60865, [14, 12, 66, 444, 242, 326, 236, 304])"
     },
     "metadata": {}
    }
   ]
  },
  {
   "cell_type": "code",
   "metadata": {
    "tags": [],
    "deepnote_to_be_reexecuted": false,
    "source_hash": "ff0aa535",
    "execution_start": 1638477132528,
    "execution_millis": 8,
    "deepnote_output_heights": [
     155.5
    ],
    "cell_id": "00040-e8c3b81f-a6ad-4fec-95f3-76a71692b946",
    "deepnote_cell_type": "code"
   },
   "source": "subsets[3]['projectName'].value_counts()",
   "execution_count": null,
   "outputs": [
    {
     "output_type": "execute_result",
     "execution_count": 26,
     "data": {
      "text/plain": "Marma J Foundation (Marma J DAO) - Panvala League 🥰         3\nDecentralization, off the shelf.                            2\nEthereum for Environmental Intelligence 🔗🍃                  2\nWizards of DApps podcast                                    2\nNeptune Loop                                                1\n@antiprosynth | antiprosynthesis.eth ⟠ | Twitter account    1\nETHPlanet - member of togETHer                              1\nName: projectName, dtype: int64"
     },
     "metadata": {}
    }
   ]
  },
  {
   "cell_type": "code",
   "metadata": {
    "tags": [],
    "deepnote_to_be_reexecuted": false,
    "source_hash": "abf4f75",
    "execution_start": 1638477132529,
    "execution_millis": 7,
    "deepnote_output_heights": [
     174.6875
    ],
    "cell_id": "00041-873dc0c7-a47e-41ea-9bc0-42030d44ec6d",
    "deepnote_cell_type": "code"
   },
   "source": "subsets[3].groupby('projectName').value_in_usd_oct27.sum().sort_values(ascending=False)[:20]",
   "execution_count": null,
   "outputs": [
    {
     "output_type": "execute_result",
     "execution_count": 27,
     "data": {
      "text/plain": "projectName\nEthereum for Environmental Intelligence 🔗🍃                  14762.187600\nNeptune Loop                                                 6269.961400\nMarma J Foundation (Marma J DAO) - Panvala League 🥰          4563.579500\nWizards of DApps podcast                                      793.666000\nDecentralization, off the shelf.                              459.669871\n@antiprosynth | antiprosynthesis.eth ⟠ | Twitter account       59.524950\nETHPlanet - member of togETHer                                 39.683300\nName: value_in_usd_oct27, dtype: float64"
     },
     "metadata": {}
    }
   ]
  },
  {
   "cell_type": "markdown",
   "source": "## Show the Contributions over Time for Top 3 Projects per Round",
   "metadata": {
    "tags": [],
    "cell_id": "00042-5e83a97f-a1f6-48fc-b3f8-a868464fedf5",
    "deepnote_cell_type": "markdown"
   }
  },
  {
   "cell_type": "code",
   "metadata": {
    "tags": [],
    "deepnote_to_be_reexecuted": false,
    "source_hash": "dac5c786",
    "execution_start": 1638477132571,
    "execution_millis": 11702,
    "deepnote_output_heights": [
     611
    ],
    "cell_id": "00043-c534b3a9-82bc-4345-a906-7fc9570be6b0",
    "deepnote_cell_type": "code"
   },
   "source": "cols = 3\n\nrounds_to_plot = rounds[3:8]\nfig, ax = plt.subplots(len(rounds_to_plot),cols, figsize=(11,11))\n\nfor round_index, round_num in enumerate(rounds_to_plot):\n# round_num = 7\n    subset = subsets[round_num]\n\n    counts = subset.to.value_counts()\n    gt = counts[counts > 5].index\n    multi = subset[subset.to.isin(gt)]\n\n    ranked_by_sum = multi.groupby('to').value_in_eth.sum().sort_values(ascending=False)\n    for i, address in enumerate(\n        ranked_by_sum.index[:cols]\n    ):\n        row = round_index\n        col = i\n#       cumulative_contribution = subset[\n#             subset.to == address].value_in_eth.sort_index().reset_index().cumsum()\n\n\n        cumulative_contribution = subset[subset.to == address].value_in_eth.sort_index().cumsum()\n        sns.lineplot(data=cumulative_contribution, ax=ax[row,col])\n        ax[row,col].set_title(round_num)\n        ax[row,col].tick_params(axis='x', rotation=15)\nplt.tight_layout()",
   "execution_count": null,
   "outputs": [
    {
     "data": {
      "text/plain": "<Figure size 792x792 with 15 Axes>",
      "image/png": "[encoded data removed]"
     },
     "metadata": {
      "needs_background": "light",
      "image/png": {
       "width": 784,
       "height": 784
      }
     },
     "output_type": "display_data"
    }
   ]
  },
  {
   "cell_type": "code",
   "metadata": {
    "tags": [],
    "deepnote_to_be_reexecuted": false,
    "source_hash": "b9a80050",
    "deepnote_output_heights": [
     611
    ],
    "cell_id": "00044-c75451ae-894e-4fd7-bfb1-1328b678156b",
    "allow_embed": false,
    "execution_start": 1638485626328,
    "execution_millis": 11396,
    "deepnote_cell_type": "code"
   },
   "source": "cols = 3\n\nrounds_to_plot = rounds[3:8]\nfig, ax = plt.subplots(len(rounds_to_plot),cols, figsize=(11,11))\n\nfor round_index, round_num in enumerate(rounds_to_plot):\n# round_num = 7\n    subset = subsets[round_num]\n\n    counts = subset.to.value_counts()\n    gt = counts[counts > 5].index\n    multi = subset[subset.to.isin(gt)]\n\n    ranked_by_sum = multi.groupby('to').value_in_usd_oct27.sum().sort_values(ascending=False)\n    for i, address in enumerate(\n        ranked_by_sum.index[:cols]\n    ):\n        row = round_index\n        col = i\n#       cumulative_contribution = subset[\n#             subset.to == address].value_in_eth.sort_index().reset_index().cumsum()\n\n\n        cumulative_contribution = subset[subset.to == address].value_in_usd_oct27.sort_index().cumsum()\n        sns.lineplot(data=cumulative_contribution, ax=ax[row,col])\n        ax[row,col].set_title(round_num)\n        ax[row,col].tick_params(axis='x', rotation=15)\nplt.tight_layout()",
   "execution_count": null,
   "outputs": [
    {
     "data": {
      "text/plain": "<Figure size 792x792 with 15 Axes>",
      "image/png": "[encoded data removed]"
     },
     "metadata": {
      "needs_background": "light",
      "image/png": {
       "width": 784,
       "height": 784
      }
     },
     "output_type": "display_data"
    }
   ]
  },
  {
   "cell_type": "code",
   "metadata": {
    "tags": [],
    "deepnote_to_be_reexecuted": false,
    "source_hash": "263a10c9",
    "execution_start": 1638480780478,
    "execution_millis": 15583,
    "deepnote_output_heights": [
     611
    ],
    "cell_id": "00044-313ec4a9-6523-49dc-a55c-44fa16027573",
    "deepnote_cell_type": "code"
   },
   "source": "rows = 8\nfig, round_ax = plt.subplots(rows, 1, figsize=(4,15))\n\nfor round_num, subset in subsets.items():\n    cumulative_contribution = subset.value_in_eth.sort_index().cumsum()\n\n    row_num = round_num-2\n    sns.lineplot(data=cumulative_contribution, ax=round_ax[row_num])\n    round_ax[row_num].tick_params(axis='x', rotation=30)\n    # relevant_cols[relevant_cols.to == address].value_in_eth.sort_index().cumsum().plot(ax=ax[row, col])\nplt.tight_layout()",
   "execution_count": null,
   "outputs": [
    {
     "data": {
      "text/plain": "<Figure size 288x1080 with 8 Axes>",
      "image/png": "[encoded data removed]"
     },
     "metadata": {
      "needs_background": "light",
      "image/png": {
       "width": 281,
       "height": 1072
      }
     },
     "output_type": "display_data"
    }
   ]
  },
  {
   "cell_type": "code",
   "metadata": {
    "tags": [],
    "deepnote_to_be_reexecuted": false,
    "source_hash": "77b1b300",
    "deepnote_output_heights": [
     611
    ],
    "cell_id": "00046-d047c2f3-80f0-4486-8701-338e5a866069",
    "allow_embed": false,
    "execution_start": 1638485677576,
    "execution_millis": 15726,
    "deepnote_cell_type": "code"
   },
   "source": "rows = 8\nfig, round_ax = plt.subplots(rows, 1, figsize=(4,15))\n\nfor round_num, subset in subsets.items():\n    cumulative_contribution = subset.value_in_usd_oct27.sort_index().cumsum()\n\n    row_num = round_num-2\n    sns.lineplot(data=cumulative_contribution, ax=round_ax[row_num])\n    round_ax[row_num].tick_params(axis='x', rotation=30)\n    # relevant_cols[relevant_cols.to == address].value_in_eth.sort_index().cumsum().plot(ax=ax[row, col])\nplt.tight_layout()",
   "execution_count": null,
   "outputs": [
    {
     "data": {
      "text/plain": "<Figure size 288x1080 with 8 Axes>",
      "image/png": "[encoded data removed]"
     },
     "metadata": {
      "needs_background": "light",
      "image/png": {
       "width": 281,
       "height": 1094
      }
     },
     "output_type": "display_data"
    }
   ]
  },
  {
   "cell_type": "code",
   "metadata": {
    "tags": [],
    "deepnote_to_be_reexecuted": false,
    "source_hash": "38dddd8c",
    "execution_start": 1638485851773,
    "execution_millis": 22,
    "cell_id": "00046-e5a0ebf5-93ea-4205-9411-8685747ae9fa",
    "deepnote_cell_type": "code"
   },
   "source": "#grouping 'to', 'from', 'value_in_eth'        \n#I just converted value to USD\nround_num_to_xy = {}\nfor round_num, subset in subsets.items():\n    amount = subset.groupby('to').value_in_usd_oct27.sum()\n    num_contributors = subset.groupby('to')['from'].nunique()\n    merged = pd.concat([amount, num_contributors], axis=1)\n    round_num_to_xy[round_num] = merged\n    \n",
   "execution_count": null,
   "outputs": []
  },
  {
   "cell_type": "code",
   "metadata": {
    "tags": [],
    "deepnote_to_be_reexecuted": false,
    "source_hash": "6170b93f",
    "execution_start": 1638485926188,
    "execution_millis": 1744,
    "deepnote_output_heights": [
     265,
     265,
     265,
     265,
     265,
     265,
     265
    ],
    "cell_id": "00047-d5004f03-b4d0-4af0-a0c3-451472af32bb",
    "deepnote_cell_type": "code"
   },
   "source": "#changed to value_in_usd_oct27\nfor round_num in range(2,9):\n     round_num_to_xy[round_num].plot('value_in_usd_oct27', 'from',kind='scatter')",
   "execution_count": null,
   "outputs": [
    {
     "data": {
      "text/plain": "<Figure size 432x288 with 1 Axes>",
      "image/png": "[encoded data removed]"
     },
     "metadata": {
      "needs_background": "light",
      "image/png": {
       "width": 389,
       "height": 263
      }
     },
     "output_type": "display_data"
    },
    {
     "data": {
      "text/plain": "<Figure size 432x288 with 1 Axes>",
      "image/png": "[encoded data removed]"
     },
     "metadata": {
      "needs_background": "light",
      "image/png": {
       "width": 392,
       "height": 263
      }
     },
     "output_type": "display_data"
    },
    {
     "data": {
      "text/plain": "<Figure size 432x288 with 1 Axes>",
      "image/png": "[encoded data removed]"
     },
     "metadata": {
      "needs_background": "light",
      "image/png": {
       "width": 392,
       "height": 263
      }
     },
     "output_type": "display_data"
    },
    {
     "data": {
      "text/plain": "<Figure size 432x288 with 1 Axes>",
      "image/png": "[encoded data removed]"
     },
     "metadata": {
      "needs_background": "light",
      "image/png": {
       "width": 380,
       "height": 263
      }
     },
     "output_type": "display_data"
    },
    {
     "data": {
      "text/plain": "<Figure size 432x288 with 1 Axes>",
      "image/png": "[encoded data removed]"
     },
     "metadata": {
      "needs_background": "light",
      "image/png": {
       "width": 382,
       "height": 263
      }
     },
     "output_type": "display_data"
    },
    {
     "data": {
      "text/plain": "<Figure size 432x288 with 1 Axes>",
      "image/png": "[encoded data removed]"
     },
     "metadata": {
      "needs_background": "light",
      "image/png": {
       "width": 382,
       "height": 263
      }
     },
     "output_type": "display_data"
    },
    {
     "data": {
      "text/plain": "<Figure size 432x288 with 1 Axes>",
      "image/png": "[encoded data removed]"
     },
     "metadata": {
      "needs_background": "light",
      "image/png": {
       "width": 382,
       "height": 263
      }
     },
     "output_type": "display_data"
    }
   ]
  },
  {
   "cell_type": "code",
   "metadata": {
    "tags": [],
    "deepnote_to_be_reexecuted": false,
    "source_hash": "25f2884c",
    "execution_start": 1638485940002,
    "execution_millis": 2,
    "cell_id": "00048-ed11214c-279d-47e9-864d-ccf6cd1434c4",
    "deepnote_cell_type": "code"
   },
   "source": "paginated = [('Connexion', '0xa5b0c665e95545604f0a1dd0e3ecd857a9c2d2c9'),\n ('iearn.finance', '0xa5b0c665e95545604f0a1dd0e3ecd857a9c2d2c9'),\n ('yearn.finance', '0xa5b0c665e95545604f0a1dd0e3ecd857a9c2d2c9'),\n ('Open Zone Finance', '0xa5b0c665e95545604f0a1dd0e3ecd857a9c2d2c9'),\n (' Ether', '0xa5b0c665e95545604f0a1dd0e3ecd857a9c2d2c9')]\n",
   "execution_count": null,
   "outputs": []
  },
  {
   "cell_type": "code",
   "metadata": {
    "tags": [],
    "deepnote_to_be_reexecuted": false,
    "source_hash": "b3cc05d6",
    "execution_start": 1638485943476,
    "execution_millis": 13,
    "deepnote_output_heights": [
     97.9375
    ],
    "cell_id": "00050-acd5d780-9ead-4e00-aef5-4a6e71ea5bc8",
    "deepnote_cell_type": "code"
   },
   "source": "skip_addresses = [x[1] for x in paginated]\nskip_addresses",
   "execution_count": null,
   "outputs": [
    {
     "output_type": "execute_result",
     "execution_count": 97,
     "data": {
      "text/plain": "['0xa5b0c665e95545604f0a1dd0e3ecd857a9c2d2c9',\n '0xa5b0c665e95545604f0a1dd0e3ecd857a9c2d2c9',\n '0xa5b0c665e95545604f0a1dd0e3ecd857a9c2d2c9',\n '0xa5b0c665e95545604f0a1dd0e3ecd857a9c2d2c9',\n '0xa5b0c665e95545604f0a1dd0e3ecd857a9c2d2c9']"
     },
     "metadata": {}
    }
   ]
  },
  {
   "cell_type": "code",
   "metadata": {
    "tags": [],
    "deepnote_to_be_reexecuted": false,
    "source_hash": "751df32d",
    "execution_start": 1638486376686,
    "execution_millis": 1,
    "cell_id": "00051-ad7d5092-c33a-43ef-9c9a-9ec6cd13cd7e",
    "deepnote_cell_type": "code"
   },
   "source": "for subset_num, subset in subsets.items():\n    subset['round_num'] = subset_num\nfiltered = pd.concat(list(subsets.values()))\n",
   "execution_count": null,
   "outputs": [
    {
     "name": "stderr",
     "text": "/shared-libs/python3.7/py-core/lib/python3.7/site-packages/ipykernel_launcher.py:2: SettingWithCopyWarning: \nA value is trying to be set on a copy of a slice from a DataFrame.\nTry using .loc[row_indexer,col_indexer] = value instead\n\nSee the caveats in the documentation: https://pandas.pydata.org/pandas-docs/stable/user_guide/indexing.html#returning-a-view-versus-a-copy\n  \n",
     "output_type": "stream"
    }
   ]
  },
  {
   "cell_type": "code",
   "metadata": {
    "tags": [],
    "deepnote_to_be_reexecuted": false,
    "source_hash": "8c9f90a0",
    "execution_start": 1638486391894,
    "execution_millis": 7,
    "deepnote_output_heights": [
     21.1875
    ],
    "cell_id": "00052-554aa08e-0956-4311-b738-cf6973d766aa",
    "deepnote_cell_type": "code"
   },
   "source": "len(filtered)",
   "execution_count": null,
   "outputs": [
    {
     "output_type": "execute_result",
     "execution_count": 105,
     "data": {
      "text/plain": "1644"
     },
     "metadata": {}
    }
   ]
  },
  {
   "cell_type": "code",
   "metadata": {
    "tags": [],
    "deepnote_to_be_reexecuted": true,
    "source_hash": "6b734ed6",
    "execution_start": 1635372412306,
    "execution_millis": 86,
    "cell_id": "00053-0c3ea586-04ca-4cda-a243-d8d45a59a582",
    "deepnote_cell_type": "code"
   },
   "source": "filtered.to_csv('filtered_gitcoin_transactions.csv')",
   "execution_count": null,
   "outputs": []
  },
  {
   "cell_type": "code",
   "metadata": {
    "tags": [],
    "deepnote_to_be_reexecuted": false,
    "source_hash": "b68ae949",
    "execution_start": 1638484343792,
    "execution_millis": 22,
    "cell_id": "00054-4a4d43b5-f60d-4d1a-9a9b-0fafff4a0811",
    "deepnote_cell_type": "code"
   },
   "source": "filtered",
   "execution_count": null,
   "outputs": [
    {
     "output_type": "error",
     "ename": "NameError",
     "evalue": "name 'filtered' is not defined",
     "traceback": [
      "\u001b[0;31m---------------------------------------------------------------------------\u001b[0m",
      "\u001b[0;31mNameError\u001b[0m                                 Traceback (most recent call last)",
      "\u001b[0;32m<ipython-input-80-8adf3a7c513e>\u001b[0m in \u001b[0;36m<module>\u001b[0;34m\u001b[0m\n\u001b[0;32m----> 1\u001b[0;31m \u001b[0mfiltered\u001b[0m\u001b[0;34m\u001b[0m\u001b[0;34m\u001b[0m\u001b[0m\n\u001b[0m",
      "\u001b[0;31mNameError\u001b[0m: name 'filtered' is not defined"
     ]
    }
   ]
  },
  {
   "cell_type": "markdown",
   "source": "## Data Dictionary\n* Index (first column): UTC Timestamp as YYYY-MM-DDHH:MM:SS\n* from: Wallet address of the contributor. Should only include contributors identified as \"Gitcoin contributors\", provided by the Gitcoin rounds api (https://gitcoin.co/grants/v1/api/export_addresses/roundX.json)\n* to: Wallet address of the recipient. Should only include Gitcoin grants, listed in the Gitcoin grants api (https://gitcoin.co/grants/grants.json)\n* value_in_eth: # of ETH donated\n* gas: How much it cost in \"gas\" to send the transaction\n* gasPrice: gas price at time of transaction\n* roundNum: which round of Gitcoin",
   "metadata": {
    "tags": [],
    "cell_id": "00055-d740459d-a698-4fe2-8473-5b156c544860",
    "deepnote_cell_type": "markdown"
   }
  },
  {
   "cell_type": "code",
   "metadata": {
    "tags": [],
    "deepnote_to_be_reexecuted": true,
    "source_hash": "e1531d10",
    "execution_start": 1635372412632,
    "execution_millis": 170,
    "cell_id": "00056-c2a8a969-2455-4b39-9882-24cdd2d7ca4f",
    "deepnote_cell_type": "code"
   },
   "source": "filtered[~filtered.to.isin(skip_addresses)]",
   "execution_count": null,
   "outputs": [
    {
     "output_type": "execute_result",
     "execution_count": 37,
     "data": {
      "application/vnd.deepnote.dataframe.v2+json": {
       "row_count": 6100,
       "column_count": 8,
       "columns": [
        {
         "name": "from",
         "dtype": "object",
         "stats": {
          "unique_count": 560,
          "nan_count": 0,
          "categories": [
           {
            "name": "0x12a0e25e62c1dbd32e505446062b26aecb65f028",
            "count": 425
           },
           {
            "name": "0x4647116a410ca5e80ee2be0077335bbf0db35166",
            "count": 372
           },
           {
            "name": "558 others",
            "count": 5303
           }
          ]
         }
        },
        {
         "name": "to",
         "dtype": "object",
         "stats": {
          "unique_count": 390,
          "nan_count": 0,
          "categories": [
           {
            "name": "0x7a250d5630b4cf539739df2c5dacb4c659f2488d",
            "count": 3668
           },
           {
            "name": "0x4647116a410ca5e80ee2be0077335bbf0db35166",
            "count": 147
           },
           {
            "name": "388 others",
            "count": 2285
           }
          ]
         }
        },
        {
         "name": "projectName",
         "dtype": "object",
         "stats": {
          "unique_count": 387,
          "nan_count": 0,
          "categories": [
           {
            "name": "Open Zone Finance",
            "count": 3668
           },
           {
            "name": "Thanos VS Gitcoin | The Movie",
            "count": 147
           },
           {
            "name": "385 others",
            "count": 2285
           }
          ]
         }
        },
        {
         "name": "gas",
         "dtype": "int64",
         "stats": {
          "unique_count": 1817,
          "nan_count": 0,
          "min": "21000",
          "max": "8067112",
          "histogram": [
           {
            "bin_start": 21000,
            "bin_end": 825611.2,
            "count": 5999
           },
           {
            "bin_start": 825611.2,
            "bin_end": 1630222.4,
            "count": 20
           },
           {
            "bin_start": 1630222.4,
            "bin_end": 2434833.5999999996,
            "count": 26
           },
           {
            "bin_start": 2434833.5999999996,
            "bin_end": 3239444.8,
            "count": 22
           },
           {
            "bin_start": 3239444.8,
            "bin_end": 4044056,
            "count": 1
           },
           {
            "bin_start": 4044056,
            "bin_end": 4848667.199999999,
            "count": 0
           },
           {
            "bin_start": 4848667.199999999,
            "bin_end": 5653278.399999999,
            "count": 2
           },
           {
            "bin_start": 5653278.399999999,
            "bin_end": 6457889.6,
            "count": 12
           },
           {
            "bin_start": 6457889.6,
            "bin_end": 7262500.8,
            "count": 8
           },
           {
            "bin_start": 7262500.8,
            "bin_end": 8067112,
            "count": 10
           }
          ]
         }
        },
        {
         "name": "gasPrice",
         "dtype": "int64",
         "stats": {
          "unique_count": 1028,
          "nan_count": 0,
          "min": "214358881",
          "max": "1127357000000",
          "histogram": [
           {
            "bin_start": 214358881,
            "bin_end": 112928622992.9,
            "count": 4337
           },
           {
            "bin_start": 112928622992.9,
            "bin_end": 225642887104.8,
            "count": 1426
           },
           {
            "bin_start": 225642887104.8,
            "bin_end": 338357151216.69995,
            "count": 172
           },
           {
            "bin_start": 338357151216.69995,
            "bin_end": 451071415328.6,
            "count": 75
           },
           {
            "bin_start": 451071415328.6,
            "bin_end": 563785679440.5,
            "count": 66
           },
           {
            "bin_start": 563785679440.5,
            "bin_end": 676499943552.3999,
            "count": 9
           },
           {
            "bin_start": 676499943552.3999,
            "bin_end": 789214207664.2999,
            "count": 4
           },
           {
            "bin_start": 789214207664.2999,
            "bin_end": 901928471776.2,
            "count": 10
           },
           {
            "bin_start": 901928471776.2,
            "bin_end": 1014642735888.1,
            "count": 0
           },
           {
            "bin_start": 1014642735888.1,
            "bin_end": 1127357000000,
            "count": 1
           }
          ]
         }
        },
        {
         "name": "value_in_eth",
         "dtype": "float64",
         "stats": {
          "unique_count": 704,
          "nan_count": 0,
          "min": "0.0",
          "max": "150.0",
          "histogram": [
           {
            "bin_start": 0,
            "bin_end": 15,
            "count": 6071
           },
           {
            "bin_start": 15,
            "bin_end": 30,
            "count": 24
           },
           {
            "bin_start": 30,
            "bin_end": 45,
            "count": 1
           },
           {
            "bin_start": 45,
            "bin_end": 60,
            "count": 0
           },
           {
            "bin_start": 60,
            "bin_end": 75,
            "count": 0
           },
           {
            "bin_start": 75,
            "bin_end": 90,
            "count": 3
           },
           {
            "bin_start": 90,
            "bin_end": 105,
            "count": 0
           },
           {
            "bin_start": 105,
            "bin_end": 120,
            "count": 0
           },
           {
            "bin_start": 120,
            "bin_end": 135,
            "count": 0
           },
           {
            "bin_start": 135,
            "bin_end": 150,
            "count": 1
           }
          ]
         }
        },
        {
         "name": "value_in_usd_oct27",
         "dtype": "float64",
         "stats": {
          "unique_count": 704,
          "nan_count": 0,
          "min": "0.0",
          "max": "595249.5",
          "histogram": [
           {
            "bin_start": 0,
            "bin_end": 59524.95,
            "count": 6071
           },
           {
            "bin_start": 59524.95,
            "bin_end": 119049.9,
            "count": 24
           },
           {
            "bin_start": 119049.9,
            "bin_end": 178574.84999999998,
            "count": 1
           },
           {
            "bin_start": 178574.84999999998,
            "bin_end": 238099.8,
            "count": 0
           },
           {
            "bin_start": 238099.8,
            "bin_end": 297624.75,
            "count": 0
           },
           {
            "bin_start": 297624.75,
            "bin_end": 357149.69999999995,
            "count": 3
           },
           {
            "bin_start": 357149.69999999995,
            "bin_end": 416674.64999999997,
            "count": 0
           },
           {
            "bin_start": 416674.64999999997,
            "bin_end": 476199.6,
            "count": 0
           },
           {
            "bin_start": 476199.6,
            "bin_end": 535724.5499999999,
            "count": 0
           },
           {
            "bin_start": 535724.5499999999,
            "bin_end": 595249.5,
            "count": 1
           }
          ]
         }
        },
        {
         "name": "round_num",
         "dtype": "int64",
         "stats": {
          "unique_count": 8,
          "nan_count": 0,
          "min": "2",
          "max": "9",
          "histogram": [
           {
            "bin_start": 2,
            "bin_end": 2.7,
            "count": 18
           },
           {
            "bin_start": 2.7,
            "bin_end": 3.4,
            "count": 73
           },
           {
            "bin_start": 3.4,
            "bin_end": 4.1,
            "count": 279
           },
           {
            "bin_start": 4.1,
            "bin_end": 4.8,
            "count": 0
           },
           {
            "bin_start": 4.8,
            "bin_end": 5.5,
            "count": 761
           },
           {
            "bin_start": 5.5,
            "bin_end": 6.199999999999999,
            "count": 814
           },
           {
            "bin_start": 6.199999999999999,
            "bin_end": 6.8999999999999995,
            "count": 0
           },
           {
            "bin_start": 6.8999999999999995,
            "bin_end": 7.6,
            "count": 1426
           },
           {
            "bin_start": 7.6,
            "bin_end": 8.3,
            "count": 1377
           },
           {
            "bin_start": 8.3,
            "bin_end": 9,
            "count": 1352
           }
          ]
         }
        },
        {
         "name": "_deepnote_index_column",
         "dtype": "datetime64[ns]"
        }
       ],
       "rows_top": [
        {
         "from": "0xc024559c710123b6caf5d225b56913aab339aad0",
         "to": "0xa19fcdad77c1f0fd184689aca88babcf68010347",
         "projectName": "EthHub - Ethereum Information Hub",
         "gas": 31597,
         "gasPrice": 10000000000,
         "value_in_eth": 0.1,
         "value_in_usd_oct27": 396.833,
         "round_num": 2,
         "_deepnote_index_column": "2019-03-29T16:59:10.000000"
        },
        {
         "from": "0x2764aa8c0897cf95148bf04b6a157fc885fca7f1",
         "to": "0x865c2f85c9fea1c6ac7f53de07554d68cb92ed88",
         "projectName": "Wizards of DApps podcast",
         "gas": 25000,
         "gasPrice": 10200000000,
         "value_in_eth": 0.01,
         "value_in_usd_oct27": 39.6833,
         "round_num": 2,
         "_deepnote_index_column": "2019-04-23T15:52:11.000000"
        },
        {
         "from": "0x2764aa8c0897cf95148bf04b6a157fc885fca7f1",
         "to": "0x865c2f85c9fea1c6ac7f53de07554d68cb92ed88",
         "projectName": "Wizards of DApps podcast",
         "gas": 25000,
         "gasPrice": 10200000000,
         "value_in_eth": 0.01,
         "value_in_usd_oct27": 39.6833,
         "round_num": 2,
         "_deepnote_index_column": "2019-04-23T15:52:11.000000"
        },
        {
         "from": "0xbaf6e57a3940898fd21076b139d4ab231dcbbc5f",
         "to": "0x2577a8539cb2194acd72f035dbb691ce5f406d3f",
         "projectName": "Trackato: DeFi",
         "gas": 21000,
         "gasPrice": 1000000000,
         "value_in_eth": 0.04,
         "value_in_usd_oct27": 158.7332,
         "round_num": 2,
         "_deepnote_index_column": "2019-03-26T02:23:35.000000"
        },
        {
         "from": "0x6b3e8d126d19208eb64a3eab2de96bccb212c8d7",
         "to": "0x587fb98e404a18503a24cf19abb1887704beb407",
         "projectName": "Hardhat by Nomic Labs",
         "gas": 21000,
         "gasPrice": 9200000000,
         "value_in_eth": 0.03,
         "value_in_usd_oct27": 119.0499,
         "round_num": 2,
         "_deepnote_index_column": "2019-04-17T15:11:24.000000"
        },
        {
         "from": "0x1591b9056822c273252fcea32963223650db18e1",
         "to": "0xebf03226c3a0eeaba2b956de54033079949c0c88",
         "projectName": "Cryptorado: OSS Dev Fund",
         "gas": 21000,
         "gasPrice": 500000000,
         "value_in_eth": 0.03,
         "value_in_usd_oct27": 119.0499,
         "round_num": 2,
         "_deepnote_index_column": "2019-04-13T22:30:23.000000"
        },
        {
         "from": "0x00de4b13153673bcae2616b67bf822500d325fc3",
         "to": "0x5df67bdf139abc95b0b3a5851875a73a5e722c0e",
         "projectName": "Gitcoin Product Development Grant",
         "gas": 21000,
         "gasPrice": 10000000000,
         "value_in_eth": 10,
         "value_in_usd_oct27": 39683.3,
         "round_num": 2,
         "_deepnote_index_column": "2019-04-24T15:30:41.000000"
        },
        {
         "from": "0x00de4b13153673bcae2616b67bf822500d325fc3",
         "to": "0xbca89cfff5cfe1313ac392ddf922eeefa2024b54",
         "projectName": "GrinSwap - cross chain atomic swaps with Grin",
         "gas": 21000,
         "gasPrice": 3000000000,
         "value_in_eth": 0.0005,
         "value_in_usd_oct27": 1.984165,
         "round_num": 2,
         "_deepnote_index_column": "2019-04-10T16:16:26.000000"
        },
        {
         "from": "0x00de4b13153673bcae2616b67bf822500d325fc3",
         "to": "0x7056e70a5ca249ba88e9550eb22caec4c985bb8e",
         "projectName": "fuzz geth and Parity for EVM consensus bugs",
         "gas": 21000,
         "gasPrice": 10000000000,
         "value_in_eth": 0.375,
         "value_in_usd_oct27": 1488.12375,
         "round_num": 2,
         "_deepnote_index_column": "2019-04-03T17:54:44.000000"
        },
        {
         "from": "0x6b3e8d126d19208eb64a3eab2de96bccb212c8d7",
         "to": "0x587fb98e404a18503a24cf19abb1887704beb407",
         "projectName": "Hardhat by Nomic Labs",
         "gas": 21000,
         "gasPrice": 9200000000,
         "value_in_eth": 0.03,
         "value_in_usd_oct27": 119.0499,
         "round_num": 2,
         "_deepnote_index_column": "2019-04-17T15:11:24.000000"
        },
        {
         "from": "0x6b3e8d126d19208eb64a3eab2de96bccb212c8d7",
         "to": "0x587fb98e404a18503a24cf19abb1887704beb407",
         "projectName": "Hardhat by Nomic Labs",
         "gas": 21000,
         "gasPrice": 9200000000,
         "value_in_eth": 0.03,
         "value_in_usd_oct27": 119.0499,
         "round_num": 2,
         "_deepnote_index_column": "2019-04-17T15:11:24.000000"
        },
        {
         "from": "0x00de4b13153673bcae2616b67bf822500d325fc3",
         "to": "0xcdcbc6b4e1a7a1d671fc6a5f2e2a89122d79108e",
         "projectName": "Knockturn Allee - Grin payment processor",
         "gas": 21000,
         "gasPrice": 5000000000,
         "value_in_eth": 0.00125,
         "value_in_usd_oct27": 4.9604125,
         "round_num": 2,
         "_deepnote_index_column": "2019-04-11T17:49:55.000000"
        },
        {
         "from": "0xf98bcbf3723784705d8546a6121685b756031f2b",
         "to": "0xcdcbc6b4e1a7a1d671fc6a5f2e2a89122d79108e",
         "projectName": "Knockturn Allee - Grin payment processor",
         "gas": 21000,
         "gasPrice": 4000000000,
         "value_in_eth": 0,
         "value_in_usd_oct27": 0,
         "round_num": 2,
         "_deepnote_index_column": "2019-04-15T09:09:47.000000"
        },
        {
         "from": "0xf98bcbf3723784705d8546a6121685b756031f2b",
         "to": "0xcdcbc6b4e1a7a1d671fc6a5f2e2a89122d79108e",
         "projectName": "Knockturn Allee - Grin payment processor",
         "gas": 21000,
         "gasPrice": 4000000000,
         "value_in_eth": 0.0015,
         "value_in_usd_oct27": 5.952495,
         "round_num": 2,
         "_deepnote_index_column": "2019-04-15T09:12:05.000000"
        },
        {
         "from": "0xbaf6e57a3940898fd21076b139d4ab231dcbbc5f",
         "to": "0x2577a8539cb2194acd72f035dbb691ce5f406d3f",
         "projectName": "Trackato: DeFi",
         "gas": 21000,
         "gasPrice": 1000000000,
         "value_in_eth": 0.04,
         "value_in_usd_oct27": 158.7332,
         "round_num": 2,
         "_deepnote_index_column": "2019-03-26T02:23:35.000000"
        },
        {
         "from": "0xbaf6e57a3940898fd21076b139d4ab231dcbbc5f",
         "to": "0x2577a8539cb2194acd72f035dbb691ce5f406d3f",
         "projectName": "Trackato: DeFi",
         "gas": 21000,
         "gasPrice": 1000000000,
         "value_in_eth": 0.04,
         "value_in_usd_oct27": 158.7332,
         "round_num": 2,
         "_deepnote_index_column": "2019-03-26T02:23:35.000000"
        },
        {
         "from": "0x00de4b13153673bcae2616b67bf822500d325fc3",
         "to": "0x2577a8539cb2194acd72f035dbb691ce5f406d3f",
         "projectName": "Trackato: DeFi",
         "gas": 21000,
         "gasPrice": 10000000000,
         "value_in_eth": 0.375,
         "value_in_usd_oct27": 1488.12375,
         "round_num": 2,
         "_deepnote_index_column": "2019-04-03T17:54:59.000000"
        },
        {
         "from": "0x1591b9056822c273252fcea32963223650db18e1",
         "to": "0xebf03226c3a0eeaba2b956de54033079949c0c88",
         "projectName": "Cryptorado: OSS Dev Fund",
         "gas": 21000,
         "gasPrice": 500000000,
         "value_in_eth": 0.03,
         "value_in_usd_oct27": 119.0499,
         "round_num": 2,
         "_deepnote_index_column": "2019-04-13T22:30:23.000000"
        },
        {
         "from": "0xc3036e205bde25eb25f2aa89a4f69333a7e795d3",
         "to": "0x6b3999bb710e92701421c63ae4952301bef0ec98",
         "projectName": "David Hoffman, Independent Content Creator",
         "gas": 21000,
         "gasPrice": 15100000000,
         "value_in_eth": 0.055540127742293804,
         "value_in_usd_oct27": 220.40155512357677,
         "round_num": 3,
         "_deepnote_index_column": "2019-09-10T14:42:15.000000"
        },
        {
         "from": "0xc92d76e01bd4e7ce25819c94fc6c3aea7b2cd155",
         "to": "0x7f1a44a4b572d2f700d0b8ce659fd5ef95aaad04",
         "projectName": "Decentralization, off the shelf.",
         "gas": 21000,
         "gasPrice": 20000000000,
         "value_in_eth": 0.05791729410401946,
         "value_in_usd_oct27": 229.83493571180355,
         "round_num": 3,
         "_deepnote_index_column": "2019-09-19T21:49:00.000000"
        },
        {
         "from": "0xc3036e205bde25eb25f2aa89a4f69333a7e795d3",
         "to": "0x133d705a9696882228f6bb7fe008745aef7cdc93",
         "projectName": "@antiprosynth | antiprosynthesis.eth ⟠ | Twitter account",
         "gas": 21000,
         "gasPrice": 1100000000,
         "value_in_eth": 0.015,
         "value_in_usd_oct27": 59.52495,
         "round_num": 3,
         "_deepnote_index_column": "2019-10-01T22:14:32.000000"
        },
        {
         "from": "0xa1b02d8c67b0fdcf4e379855868deb470e169cfb",
         "to": "0xc4d9d1a93068d311ab18e988244123430eb4f1cd",
         "projectName": "Ethereum for Environmental Intelligence 🔗🍃",
         "gas": 21000,
         "gasPrice": 20000000000,
         "value_in_eth": 1.86,
         "value_in_usd_oct27": 7381.093800000001,
         "round_num": 3,
         "_deepnote_index_column": "2019-10-02T14:00:47.000000"
        },
        {
         "from": "0xaf0939af286a35dbfab7ded7c777a5f6e8be26a8",
         "to": "0xc5cdcd5470aef35fc33bddff3f8ecec027f95b1d",
         "projectName": "LeapDAO - scaling for decentralized apps",
         "gas": 77463,
         "gasPrice": 10500000000,
         "value_in_eth": 0,
         "value_in_usd_oct27": 0,
         "round_num": 3,
         "_deepnote_index_column": "2019-09-09T14:37:49.000000"
        },
        {
         "from": "0xaf0939af286a35dbfab7ded7c777a5f6e8be26a8",
         "to": "0xc5cdcd5470aef35fc33bddff3f8ecec027f95b1d",
         "projectName": "LeapDAO - scaling for decentralized apps",
         "gas": 162165,
         "gasPrice": 10500000000,
         "value_in_eth": 0,
         "value_in_usd_oct27": 0,
         "round_num": 3,
         "_deepnote_index_column": "2019-09-09T14:37:49.000000"
        },
        {
         "from": "0xaf0939af286a35dbfab7ded7c777a5f6e8be26a8",
         "to": "0xc5cdcd5470aef35fc33bddff3f8ecec027f95b1d",
         "projectName": "LeapDAO - scaling for decentralized apps",
         "gas": 131987,
         "gasPrice": 10500000000,
         "value_in_eth": 0,
         "value_in_usd_oct27": 0,
         "round_num": 3,
         "_deepnote_index_column": "2019-09-09T15:12:49.000000"
        },
        {
         "from": "0xaf0939af286a35dbfab7ded7c777a5f6e8be26a8",
         "to": "0xc5cdcd5470aef35fc33bddff3f8ecec027f95b1d",
         "projectName": "LeapDAO - scaling for decentralized apps",
         "gas": 131987,
         "gasPrice": 10500000000,
         "value_in_eth": 0,
         "value_in_usd_oct27": 0,
         "round_num": 3,
         "_deepnote_index_column": "2019-09-09T15:16:10.000000"
        },
        {
         "from": "0xaf0939af286a35dbfab7ded7c777a5f6e8be26a8",
         "to": "0xc5cdcd5470aef35fc33bddff3f8ecec027f95b1d",
         "projectName": "LeapDAO - scaling for decentralized apps",
         "gas": 500000,
         "gasPrice": 10500000000,
         "value_in_eth": 0,
         "value_in_usd_oct27": 0,
         "round_num": 3,
         "_deepnote_index_column": "2019-09-11T09:13:17.000000"
        },
        {
         "from": "0xaf0939af286a35dbfab7ded7c777a5f6e8be26a8",
         "to": "0xc5cdcd5470aef35fc33bddff3f8ecec027f95b1d",
         "projectName": "LeapDAO - scaling for decentralized apps",
         "gas": 77463,
         "gasPrice": 13000000000,
         "value_in_eth": 0,
         "value_in_usd_oct27": 0,
         "round_num": 3,
         "_deepnote_index_column": "2019-09-12T14:04:23.000000"
        },
        {
         "from": "0xaf0939af286a35dbfab7ded7c777a5f6e8be26a8",
         "to": "0xc5cdcd5470aef35fc33bddff3f8ecec027f95b1d",
         "projectName": "LeapDAO - scaling for decentralized apps",
         "gas": 77463,
         "gasPrice": 13000000000,
         "value_in_eth": 0,
         "value_in_usd_oct27": 0,
         "round_num": 3,
         "_deepnote_index_column": "2019-09-12T14:04:23.000000"
        },
        {
         "from": "0xaf0939af286a35dbfab7ded7c777a5f6e8be26a8",
         "to": "0xc5cdcd5470aef35fc33bddff3f8ecec027f95b1d",
         "projectName": "LeapDAO - scaling for decentralized apps",
         "gas": 77463,
         "gasPrice": 13000000000,
         "value_in_eth": 0,
         "value_in_usd_oct27": 0,
         "round_num": 3,
         "_deepnote_index_column": "2019-09-12T14:05:16.000000"
        },
        {
         "from": "0xaf0939af286a35dbfab7ded7c777a5f6e8be26a8",
         "to": "0xc5cdcd5470aef35fc33bddff3f8ecec027f95b1d",
         "projectName": "LeapDAO - scaling for decentralized apps",
         "gas": 77463,
         "gasPrice": 13000000000,
         "value_in_eth": 0,
         "value_in_usd_oct27": 0,
         "round_num": 3,
         "_deepnote_index_column": "2019-09-12T14:05:16.000000"
        },
        {
         "from": "0xaf0939af286a35dbfab7ded7c777a5f6e8be26a8",
         "to": "0xc5cdcd5470aef35fc33bddff3f8ecec027f95b1d",
         "projectName": "LeapDAO - scaling for decentralized apps",
         "gas": 77463,
         "gasPrice": 20600000000,
         "value_in_eth": 0,
         "value_in_usd_oct27": 0,
         "round_num": 3,
         "_deepnote_index_column": "2019-09-26T10:17:22.000000"
        },
        {
         "from": "0xaf0939af286a35dbfab7ded7c777a5f6e8be26a8",
         "to": "0xc5cdcd5470aef35fc33bddff3f8ecec027f95b1d",
         "projectName": "LeapDAO - scaling for decentralized apps",
         "gas": 77463,
         "gasPrice": 20500000000,
         "value_in_eth": 0,
         "value_in_usd_oct27": 0,
         "round_num": 3,
         "_deepnote_index_column": "2019-09-27T13:55:39.000000"
        },
        {
         "from": "0xaf0939af286a35dbfab7ded7c777a5f6e8be26a8",
         "to": "0xc5cdcd5470aef35fc33bddff3f8ecec027f95b1d",
         "projectName": "LeapDAO - scaling for decentralized apps",
         "gas": 77463,
         "gasPrice": 20500000000,
         "value_in_eth": 0,
         "value_in_usd_oct27": 0,
         "round_num": 3,
         "_deepnote_index_column": "2019-09-27T13:56:34.000000"
        },
        {
         "from": "0xaf0939af286a35dbfab7ded7c777a5f6e8be26a8",
         "to": "0xc5cdcd5470aef35fc33bddff3f8ecec027f95b1d",
         "projectName": "LeapDAO - scaling for decentralized apps",
         "gas": 230651,
         "gasPrice": 10500000000,
         "value_in_eth": 0,
         "value_in_usd_oct27": 0,
         "round_num": 3,
         "_deepnote_index_column": "2019-09-27T15:39:56.000000"
        },
        {
         "from": "0xaf0939af286a35dbfab7ded7c777a5f6e8be26a8",
         "to": "0xc5cdcd5470aef35fc33bddff3f8ecec027f95b1d",
         "projectName": "LeapDAO - scaling for decentralized apps",
         "gas": 230651,
         "gasPrice": 15500000000,
         "value_in_eth": 0,
         "value_in_usd_oct27": 0,
         "round_num": 3,
         "_deepnote_index_column": "2019-09-28T15:00:26.000000"
        },
        {
         "from": "0xaf0939af286a35dbfab7ded7c777a5f6e8be26a8",
         "to": "0xc5cdcd5470aef35fc33bddff3f8ecec027f95b1d",
         "projectName": "LeapDAO - scaling for decentralized apps",
         "gas": 261725,
         "gasPrice": 1500000000,
         "value_in_eth": 0,
         "value_in_usd_oct27": 0,
         "round_num": 3,
         "_deepnote_index_column": "2019-10-01T15:03:08.000000"
        },
        {
         "from": "0xaf0939af286a35dbfab7ded7c777a5f6e8be26a8",
         "to": "0xc5cdcd5470aef35fc33bddff3f8ecec027f95b1d",
         "projectName": "LeapDAO - scaling for decentralized apps",
         "gas": 1363241,
         "gasPrice": 1500000000,
         "value_in_eth": 0,
         "value_in_usd_oct27": 0,
         "round_num": 3,
         "_deepnote_index_column": "2019-10-01T15:11:43.000000"
        },
        {
         "from": "0xaf0939af286a35dbfab7ded7c777a5f6e8be26a8",
         "to": "0xc5cdcd5470aef35fc33bddff3f8ecec027f95b1d",
         "projectName": "LeapDAO - scaling for decentralized apps",
         "gas": 500000,
         "gasPrice": 1500000000,
         "value_in_eth": 0,
         "value_in_usd_oct27": 0,
         "round_num": 3,
         "_deepnote_index_column": "2019-10-01T16:35:22.000000"
        },
        {
         "from": "0xaf0939af286a35dbfab7ded7c777a5f6e8be26a8",
         "to": "0xc5cdcd5470aef35fc33bddff3f8ecec027f95b1d",
         "projectName": "LeapDAO - scaling for decentralized apps",
         "gas": 500000,
         "gasPrice": 1500000000,
         "value_in_eth": 0,
         "value_in_usd_oct27": 0,
         "round_num": 3,
         "_deepnote_index_column": "2019-10-01T16:35:22.000000"
        },
        {
         "from": "0xaf0939af286a35dbfab7ded7c777a5f6e8be26a8",
         "to": "0xc5cdcd5470aef35fc33bddff3f8ecec027f95b1d",
         "projectName": "LeapDAO - scaling for decentralized apps",
         "gas": 500000,
         "gasPrice": 1500000000,
         "value_in_eth": 0,
         "value_in_usd_oct27": 0,
         "round_num": 3,
         "_deepnote_index_column": "2019-10-01T21:20:56.000000"
        },
        {
         "from": "0xaf0939af286a35dbfab7ded7c777a5f6e8be26a8",
         "to": "0xc5cdcd5470aef35fc33bddff3f8ecec027f95b1d",
         "projectName": "LeapDAO - scaling for decentralized apps",
         "gas": 77463,
         "gasPrice": 1500000000,
         "value_in_eth": 0,
         "value_in_usd_oct27": 0,
         "round_num": 3,
         "_deepnote_index_column": "2019-10-02T15:11:16.000000"
        },
        {
         "from": "0xaf0939af286a35dbfab7ded7c777a5f6e8be26a8",
         "to": "0xc5cdcd5470aef35fc33bddff3f8ecec027f95b1d",
         "projectName": "LeapDAO - scaling for decentralized apps",
         "gas": 77463,
         "gasPrice": 1500000000,
         "value_in_eth": 0,
         "value_in_usd_oct27": 0,
         "round_num": 3,
         "_deepnote_index_column": "2019-10-02T15:11:16.000000"
        },
        {
         "from": "0xaf0939af286a35dbfab7ded7c777a5f6e8be26a8",
         "to": "0xc5cdcd5470aef35fc33bddff3f8ecec027f95b1d",
         "projectName": "LeapDAO - scaling for decentralized apps",
         "gas": 261725,
         "gasPrice": 1500000000,
         "value_in_eth": 0,
         "value_in_usd_oct27": 0,
         "round_num": 3,
         "_deepnote_index_column": "2019-10-02T15:11:16.000000"
        },
        {
         "from": "0xaf0939af286a35dbfab7ded7c777a5f6e8be26a8",
         "to": "0xc5cdcd5470aef35fc33bddff3f8ecec027f95b1d",
         "projectName": "LeapDAO - scaling for decentralized apps",
         "gas": 300000,
         "gasPrice": 1500000000,
         "value_in_eth": 0,
         "value_in_usd_oct27": 0,
         "round_num": 3,
         "_deepnote_index_column": "2019-10-02T16:05:08.000000"
        },
        {
         "from": "0xaf0939af286a35dbfab7ded7c777a5f6e8be26a8",
         "to": "0xc5cdcd5470aef35fc33bddff3f8ecec027f95b1d",
         "projectName": "LeapDAO - scaling for decentralized apps",
         "gas": 77463,
         "gasPrice": 1500000000,
         "value_in_eth": 0,
         "value_in_usd_oct27": 0,
         "round_num": 3,
         "_deepnote_index_column": "2019-10-02T16:11:10.000000"
        },
        {
         "from": "0xaf0939af286a35dbfab7ded7c777a5f6e8be26a8",
         "to": "0xc5cdcd5470aef35fc33bddff3f8ecec027f95b1d",
         "projectName": "LeapDAO - scaling for decentralized apps",
         "gas": 300000,
         "gasPrice": 1500000000,
         "value_in_eth": 0,
         "value_in_usd_oct27": 0,
         "round_num": 3,
         "_deepnote_index_column": "2019-10-02T16:11:10.000000"
        },
        {
         "from": "0xaf0939af286a35dbfab7ded7c777a5f6e8be26a8",
         "to": "0xc5cdcd5470aef35fc33bddff3f8ecec027f95b1d",
         "projectName": "LeapDAO - scaling for decentralized apps",
         "gas": 133682,
         "gasPrice": 1500000000,
         "value_in_eth": 0,
         "value_in_usd_oct27": 0,
         "round_num": 3,
         "_deepnote_index_column": "2019-10-04T10:32:10.000000"
        },
        {
         "from": "0x70564145fa8e8a15348ef0190e6b7c07a2120462",
         "to": "0xdac817294c0c87ca4fa1895ef4b972eade99f2fd",
         "projectName": "Livestream NFT Minting (videoDAC)",
         "gas": 21000,
         "gasPrice": 10000001000,
         "value_in_eth": 0.1,
         "value_in_usd_oct27": 396.833,
         "round_num": 3,
         "_deepnote_index_column": "2019-09-13T15:53:24.000000"
        },
        {
         "from": "0x54becc7560a7be76d72ed76a1f5fee6c5a2a7ab6",
         "to": "0x54becc7560a7be76d72ed76a1f5fee6c5a2a7ab6",
         "projectName": "Simona Pop's Ecosystem Development Activity",
         "gas": 21000,
         "gasPrice": 25300000000,
         "value_in_eth": 0,
         "value_in_usd_oct27": 0,
         "round_num": 3,
         "_deepnote_index_column": "2019-09-19T19:38:31.000000"
        },
        {
         "from": "0x54becc7560a7be76d72ed76a1f5fee6c5a2a7ab6",
         "to": "0x54becc7560a7be76d72ed76a1f5fee6c5a2a7ab6",
         "projectName": "Simona Pop's Ecosystem Development Activity",
         "gas": 21000,
         "gasPrice": 22000000000,
         "value_in_eth": 0,
         "value_in_usd_oct27": 0,
         "round_num": 3,
         "_deepnote_index_column": "2019-09-23T13:24:49.000000"
        },
        {
         "from": "0x9bcb319bed50ff0ce2d6ffa95ab9293a175aed7d",
         "to": "0x865c2f85c9fea1c6ac7f53de07554d68cb92ed88",
         "projectName": "Wizards of DApps podcast",
         "gas": 21000,
         "gasPrice": 24000000000,
         "value_in_eth": 0.1,
         "value_in_usd_oct27": 396.833,
         "round_num": 3,
         "_deepnote_index_column": "2019-09-25T17:41:11.000000"
        },
        {
         "from": "0x865c2f85c9fea1c6ac7f53de07554d68cb92ed88",
         "to": "0x865c2f85c9fea1c6ac7f53de07554d68cb92ed88",
         "projectName": "Wizards of DApps podcast",
         "gas": 21000,
         "gasPrice": 9130000000,
         "value_in_eth": 0,
         "value_in_usd_oct27": 0,
         "round_num": 3,
         "_deepnote_index_column": "2019-09-27T17:35:16.000000"
        },
        {
         "from": "0x4d37f28d2db99e8d35a6c725a5f1749a085850a3",
         "to": "0x4d37f28d2db99e8d35a6c725a5f1749a085850a3",
         "projectName": "1inch.exchange on-chain DeFi aggregation protocol",
         "gas": 21000,
         "gasPrice": 11000000000,
         "value_in_eth": 0,
         "value_in_usd_oct27": 0,
         "round_num": 3,
         "_deepnote_index_column": "2019-09-08T11:08:46.000000"
        },
        {
         "from": "0x4d37f28d2db99e8d35a6c725a5f1749a085850a3",
         "to": "0x4d37f28d2db99e8d35a6c725a5f1749a085850a3",
         "projectName": "1inch.exchange on-chain DeFi aggregation protocol",
         "gas": 21000,
         "gasPrice": 22000000000,
         "value_in_eth": 0,
         "value_in_usd_oct27": 0,
         "round_num": 3,
         "_deepnote_index_column": "2019-09-08T12:51:47.000000"
        },
        {
         "from": "0x4d37f28d2db99e8d35a6c725a5f1749a085850a3",
         "to": "0x4d37f28d2db99e8d35a6c725a5f1749a085850a3",
         "projectName": "1inch.exchange on-chain DeFi aggregation protocol",
         "gas": 21000,
         "gasPrice": 30000000000,
         "value_in_eth": 0,
         "value_in_usd_oct27": 0,
         "round_num": 3,
         "_deepnote_index_column": "2019-09-08T12:54:17.000000"
        },
        {
         "from": "0x4d37f28d2db99e8d35a6c725a5f1749a085850a3",
         "to": "0x4d37f28d2db99e8d35a6c725a5f1749a085850a3",
         "projectName": "1inch.exchange on-chain DeFi aggregation protocol",
         "gas": 21000,
         "gasPrice": 30000000000,
         "value_in_eth": 0,
         "value_in_usd_oct27": 0,
         "round_num": 3,
         "_deepnote_index_column": "2019-09-08T12:54:41.000000"
        },
        {
         "from": "0x4d37f28d2db99e8d35a6c725a5f1749a085850a3",
         "to": "0x4d37f28d2db99e8d35a6c725a5f1749a085850a3",
         "projectName": "1inch.exchange on-chain DeFi aggregation protocol",
         "gas": 21000,
         "gasPrice": 22000000000,
         "value_in_eth": 0,
         "value_in_usd_oct27": 0,
         "round_num": 3,
         "_deepnote_index_column": "2019-09-11T23:04:56.000000"
        },
        {
         "from": "0x4d37f28d2db99e8d35a6c725a5f1749a085850a3",
         "to": "0x4d37f28d2db99e8d35a6c725a5f1749a085850a3",
         "projectName": "1inch.exchange on-chain DeFi aggregation protocol",
         "gas": 21000,
         "gasPrice": 18150000000,
         "value_in_eth": 0,
         "value_in_usd_oct27": 0,
         "round_num": 3,
         "_deepnote_index_column": "2019-09-14T15:51:24.000000"
        },
        {
         "from": "0x4d37f28d2db99e8d35a6c725a5f1749a085850a3",
         "to": "0x4d37f28d2db99e8d35a6c725a5f1749a085850a3",
         "projectName": "1inch.exchange on-chain DeFi aggregation protocol",
         "gas": 21000,
         "gasPrice": 16500000000,
         "value_in_eth": 0,
         "value_in_usd_oct27": 0,
         "round_num": 3,
         "_deepnote_index_column": "2019-09-30T05:40:05.000000"
        },
        {
         "from": "0x4d37f28d2db99e8d35a6c725a5f1749a085850a3",
         "to": "0x4d37f28d2db99e8d35a6c725a5f1749a085850a3",
         "projectName": "1inch.exchange on-chain DeFi aggregation protocol",
         "gas": 21000,
         "gasPrice": 16500000000,
         "value_in_eth": 0,
         "value_in_usd_oct27": 0,
         "round_num": 3,
         "_deepnote_index_column": "2019-09-30T07:23:40.000000"
        },
        {
         "from": "0x4d37f28d2db99e8d35a6c725a5f1749a085850a3",
         "to": "0x4d37f28d2db99e8d35a6c725a5f1749a085850a3",
         "projectName": "1inch.exchange on-chain DeFi aggregation protocol",
         "gas": 21000,
         "gasPrice": 40000000000,
         "value_in_eth": 0,
         "value_in_usd_oct27": 0,
         "round_num": 3,
         "_deepnote_index_column": "2019-09-30T21:16:54.000000"
        }
       ],
       "rows_bottom": [
        {
         "from": "0x12a0e25e62c1dbd32e505446062b26aecb65f028",
         "to": "0x7a250d5630b4cf539739df2c5dacb4c659f2488d",
         "projectName": "Open Zone Finance",
         "gas": 174666,
         "gasPrice": 182000000000,
         "value_in_eth": 0.00201072249471762,
         "value_in_usd_oct27": 7.979210397462773,
         "round_num": 9,
         "_deepnote_index_column": "2021-03-14T16:20:36.000000"
        },
        {
         "from": "0x12a0e25e62c1dbd32e505446062b26aecb65f028",
         "to": "0x7a250d5630b4cf539739df2c5dacb4c659f2488d",
         "projectName": "Open Zone Finance",
         "gas": 199749,
         "gasPrice": 135520000256,
         "value_in_eth": 0,
         "value_in_usd_oct27": 0,
         "round_num": 9,
         "_deepnote_index_column": "2021-03-15T01:08:50.000000"
        },
        {
         "from": "0x12a0e25e62c1dbd32e505446062b26aecb65f028",
         "to": "0x7a250d5630b4cf539739df2c5dacb4c659f2488d",
         "projectName": "Open Zone Finance",
         "gas": 156755,
         "gasPrice": 143000001604,
         "value_in_eth": 0.23425842864301766,
         "value_in_usd_oct27": 929.6147501369462,
         "round_num": 9,
         "_deepnote_index_column": "2021-03-15T03:49:16.000000"
        },
        {
         "from": "0x12a0e25e62c1dbd32e505446062b26aecb65f028",
         "to": "0x7a250d5630b4cf539739df2c5dacb4c659f2488d",
         "projectName": "Open Zone Finance",
         "gas": 156755,
         "gasPrice": 160000000000,
         "value_in_eth": 0.24529997321942007,
         "value_in_usd_oct27": 973.4312427258212,
         "round_num": 9,
         "_deepnote_index_column": "2021-03-15T04:17:06.000000"
        },
        {
         "from": "0x42fab2d830f430b33ccbe282a72cdf341a4e1a5a",
         "to": "0x12a0e25e62c1dbd32e505446062b26aecb65f028",
         "projectName": "BBFT Podcast Show - Season4",
         "gas": 21000,
         "gasPrice": 129000000000,
         "value_in_eth": 0.005,
         "value_in_usd_oct27": 19.84165,
         "round_num": 9,
         "_deepnote_index_column": "2021-03-15T06:28:27.000000"
        },
        {
         "from": "0x12a0e25e62c1dbd32e505446062b26aecb65f028",
         "to": "0x7a250d5630b4cf539739df2c5dacb4c659f2488d",
         "projectName": "Open Zone Finance",
         "gas": 166119,
         "gasPrice": 168000000000,
         "value_in_eth": 0.5,
         "value_in_usd_oct27": 1984.165,
         "round_num": 9,
         "_deepnote_index_column": "2021-03-17T10:18:21.000000"
        },
        {
         "from": "0x12a0e25e62c1dbd32e505446062b26aecb65f028",
         "to": "0x7a250d5630b4cf539739df2c5dacb4c659f2488d",
         "projectName": "Open Zone Finance",
         "gas": 219817,
         "gasPrice": 162000000000,
         "value_in_eth": 0,
         "value_in_usd_oct27": 0,
         "round_num": 9,
         "_deepnote_index_column": "2021-03-18T18:00:22.000000"
        },
        {
         "from": "0x12a0e25e62c1dbd32e505446062b26aecb65f028",
         "to": "0x7a250d5630b4cf539739df2c5dacb4c659f2488d",
         "projectName": "Open Zone Finance",
         "gas": 154958,
         "gasPrice": 145000000000,
         "value_in_eth": 0,
         "value_in_usd_oct27": 0,
         "round_num": 9,
         "_deepnote_index_column": "2021-03-28T18:54:50.000000"
        },
        {
         "from": "0x12a0e25e62c1dbd32e505446062b26aecb65f028",
         "to": "0x7a250d5630b4cf539739df2c5dacb4c659f2488d",
         "projectName": "Open Zone Finance",
         "gas": 168402,
         "gasPrice": 289000000000,
         "value_in_eth": 0,
         "value_in_usd_oct27": 0,
         "round_num": 9,
         "_deepnote_index_column": "2021-03-31T18:32:32.000000"
        },
        {
         "from": "0x12a0e25e62c1dbd32e505446062b26aecb65f028",
         "to": "0x7a250d5630b4cf539739df2c5dacb4c659f2488d",
         "projectName": "Open Zone Finance",
         "gas": 177639,
         "gasPrice": 350000000000,
         "value_in_eth": 0,
         "value_in_usd_oct27": 0,
         "round_num": 9,
         "_deepnote_index_column": "2021-03-31T19:52:50.000000"
        },
        {
         "from": "0x3f99945c9b107d2278ea6a7f6692180b2b548fe3",
         "to": "0x0cf83143f0ab9d6e178fc7f141205ec2992266c8",
         "projectName": "CoinTool.App",
         "gas": 21000,
         "gasPrice": 187000000000,
         "value_in_eth": 0.006,
         "value_in_usd_oct27": 23.80998,
         "round_num": 9,
         "_deepnote_index_column": "2021-03-10T16:36:02.000000"
        },
        {
         "from": "0x22331707993107aeb0a8d893370cec90c41f0bfc",
         "to": "0x0cf83143f0ab9d6e178fc7f141205ec2992266c8",
         "projectName": "CoinTool.App",
         "gas": 21000,
         "gasPrice": 109000001459,
         "value_in_eth": 0.005,
         "value_in_usd_oct27": 19.84165,
         "round_num": 9,
         "_deepnote_index_column": "2021-03-26T09:33:18.000000"
        },
        {
         "from": "0xbc5ec594509ed050f4a53eee85d92af6d2529b56",
         "to": "0x7a250d5630b4cf539739df2c5dacb4c659f2488d",
         "projectName": "Open Zone Finance",
         "gas": 147162,
         "gasPrice": 191000000000,
         "value_in_eth": 0,
         "value_in_usd_oct27": 0,
         "round_num": 9,
         "_deepnote_index_column": "2021-03-31T08:38:23.000000"
        },
        {
         "from": "0xbc5ec594509ed050f4a53eee85d92af6d2529b56",
         "to": "0xbc5ec594509ed050f4a53eee85d92af6d2529b56",
         "projectName": "ActivityWatch - Open-source automated time-tracker",
         "gas": 21000,
         "gasPrice": 210100000000,
         "value_in_eth": 0,
         "value_in_usd_oct27": 0,
         "round_num": 9,
         "_deepnote_index_column": "2021-03-31T08:50:27.000000"
        },
        {
         "from": "0x8ebed0ff2b0232b0aedbfe6e9c0f72ac72577869",
         "to": "0x3c5c2f4bcec51a36494682f91dbc6ca7c63b514c",
         "projectName": "rekt.news - The dark web of DeFi journalism",
         "gas": 34077,
         "gasPrice": 96000000000,
         "value_in_eth": 0.019049312319825255,
         "value_in_usd_oct27": 75.59395755813216,
         "round_num": 9,
         "_deepnote_index_column": "2021-03-04T00:42:30.000000"
        },
        {
         "from": "0x258c9f067b916e9ea82c385cc8afdf60b3054d1d",
         "to": "0x3c5c2f4bcec51a36494682f91dbc6ca7c63b514c",
         "projectName": "rekt.news - The dark web of DeFi journalism",
         "gas": 34104,
         "gasPrice": 96000000000,
         "value_in_eth": 0.022224197706462796,
         "value_in_usd_oct27": 88.1929504844875,
         "round_num": 9,
         "_deepnote_index_column": "2021-03-04T00:42:30.000000"
        },
        {
         "from": "0xea886349d44aa81de644f0f02105707f563103e6",
         "to": "0x3c5c2f4bcec51a36494682f91dbc6ca7c63b514c",
         "projectName": "rekt.news - The dark web of DeFi journalism",
         "gas": 34104,
         "gasPrice": 74000000000,
         "value_in_eth": 0.0007,
         "value_in_usd_oct27": 2.777831,
         "round_num": 9,
         "_deepnote_index_column": "2021-03-04T13:21:33.000000"
        },
        {
         "from": "0x8fc2236ac32307df8ab5116024b5c73827c37ceb",
         "to": "0x3c5c2f4bcec51a36494682f91dbc6ca7c63b514c",
         "projectName": "rekt.news - The dark web of DeFi journalism",
         "gas": 34077,
         "gasPrice": 129000000000,
         "value_in_eth": 0.01,
         "value_in_usd_oct27": 39.6833,
         "round_num": 9,
         "_deepnote_index_column": "2021-03-04T15:03:38.000000"
        },
        {
         "from": "0x81aa6141923ea42fcaa763d9857418224d9b025a",
         "to": "0x3c5c2f4bcec51a36494682f91dbc6ca7c63b514c",
         "projectName": "rekt.news - The dark web of DeFi journalism",
         "gas": 34077,
         "gasPrice": 113000000000,
         "value_in_eth": 0.05,
         "value_in_usd_oct27": 198.4165,
         "round_num": 9,
         "_deepnote_index_column": "2021-03-04T15:15:02.000000"
        },
        {
         "from": "0x2993e1d02b11377f44455aedc618c705acbb0591",
         "to": "0x3c5c2f4bcec51a36494682f91dbc6ca7c63b514c",
         "projectName": "rekt.news - The dark web of DeFi journalism",
         "gas": 34077,
         "gasPrice": 109000000000,
         "value_in_eth": 0.031531020217690164,
         "value_in_usd_oct27": 125.1254934604664,
         "round_num": 9,
         "_deepnote_index_column": "2021-03-04T16:25:11.000000"
        },
        {
         "from": "0x9410301585fd5ac83eec0471ca3157d8fa5d2640",
         "to": "0x3c5c2f4bcec51a36494682f91dbc6ca7c63b514c",
         "projectName": "rekt.news - The dark web of DeFi journalism",
         "gas": 34104,
         "gasPrice": 135000000000,
         "value_in_eth": 0.002,
         "value_in_usd_oct27": 7.93666,
         "round_num": 9,
         "_deepnote_index_column": "2021-03-04T16:48:01.000000"
        },
        {
         "from": "0xbb551640ac416d8676ac5e0ffc0f39595a1961ab",
         "to": "0x3c5c2f4bcec51a36494682f91dbc6ca7c63b514c",
         "projectName": "rekt.news - The dark web of DeFi journalism",
         "gas": 34104,
         "gasPrice": 130000000000,
         "value_in_eth": 0.002,
         "value_in_usd_oct27": 7.93666,
         "round_num": 9,
         "_deepnote_index_column": "2021-03-04T17:02:15.000000"
        },
        {
         "from": "0x8fc2236ac32307df8ab5116024b5c73827c37ceb",
         "to": "0x3c5c2f4bcec51a36494682f91dbc6ca7c63b514c",
         "projectName": "rekt.news - The dark web of DeFi journalism",
         "gas": 34077,
         "gasPrice": 116000000000,
         "value_in_eth": 0.01,
         "value_in_usd_oct27": 39.6833,
         "round_num": 9,
         "_deepnote_index_column": "2021-03-06T20:08:22.000000"
        },
        {
         "from": "0x7f688e99ee7dbae3d07b1b5f46e8ff3430fe5835",
         "to": "0x3c5c2f4bcec51a36494682f91dbc6ca7c63b514c",
         "projectName": "rekt.news - The dark web of DeFi journalism",
         "gas": 34077,
         "gasPrice": 81000000000,
         "value_in_eth": 0.01,
         "value_in_usd_oct27": 39.6833,
         "round_num": 9,
         "_deepnote_index_column": "2021-03-08T05:49:31.000000"
        },
        {
         "from": "0xd5a191afe4c240f2ed31049aacaf5eba4112e041",
         "to": "0x3c5c2f4bcec51a36494682f91dbc6ca7c63b514c",
         "projectName": "rekt.news - The dark web of DeFi journalism",
         "gas": 34077,
         "gasPrice": 105000000000,
         "value_in_eth": 0.005,
         "value_in_usd_oct27": 19.84165,
         "round_num": 9,
         "_deepnote_index_column": "2021-03-08T06:55:34.000000"
        },
        {
         "from": "0x374d410f0edf510562aed617e8de0a47baf5cd60",
         "to": "0x3c5c2f4bcec51a36494682f91dbc6ca7c63b514c",
         "projectName": "rekt.news - The dark web of DeFi journalism",
         "gas": 34077,
         "gasPrice": 104000000000,
         "value_in_eth": 0.0006,
         "value_in_usd_oct27": 2.380998,
         "round_num": 9,
         "_deepnote_index_column": "2021-03-09T12:14:04.000000"
        },
        {
         "from": "0x5d544c2329d812b1ea1d3f520c882d69811c7a06",
         "to": "0x3c5c2f4bcec51a36494682f91dbc6ca7c63b514c",
         "projectName": "rekt.news - The dark web of DeFi journalism",
         "gas": 34104,
         "gasPrice": 91000000000,
         "value_in_eth": 0.006,
         "value_in_usd_oct27": 23.80998,
         "round_num": 9,
         "_deepnote_index_column": "2021-03-09T17:48:14.000000"
        },
        {
         "from": "0x279322ca10987bb236902dbddb85e9e676cf7a0d",
         "to": "0x3c5c2f4bcec51a36494682f91dbc6ca7c63b514c",
         "projectName": "rekt.news - The dark web of DeFi journalism",
         "gas": 34077,
         "gasPrice": 85000000000,
         "value_in_eth": 0.05,
         "value_in_usd_oct27": 198.4165,
         "round_num": 9,
         "_deepnote_index_column": "2021-03-11T11:03:58.000000"
        },
        {
         "from": "0x5f855b107afaadf722cf9611b82167a272b4acb0",
         "to": "0x3c5c2f4bcec51a36494682f91dbc6ca7c63b514c",
         "projectName": "rekt.news - The dark web of DeFi journalism",
         "gas": 34077,
         "gasPrice": 156000000000,
         "value_in_eth": 0.01,
         "value_in_usd_oct27": 39.6833,
         "round_num": 9,
         "_deepnote_index_column": "2021-03-11T16:07:56.000000"
        },
        {
         "from": "0x5956289105438b8a20ce4062574a87a0cd942a8f",
         "to": "0x3c5c2f4bcec51a36494682f91dbc6ca7c63b514c",
         "projectName": "rekt.news - The dark web of DeFi journalism",
         "gas": 34077,
         "gasPrice": 100000000000,
         "value_in_eth": 0.001,
         "value_in_usd_oct27": 3.96833,
         "round_num": 9,
         "_deepnote_index_column": "2021-03-12T10:46:22.000000"
        },
        {
         "from": "0x99a9d2c4dbca1ab05631f4bfdf75abc76ca39983",
         "to": "0x3c5c2f4bcec51a36494682f91dbc6ca7c63b514c",
         "projectName": "rekt.news - The dark web of DeFi journalism",
         "gas": 34077,
         "gasPrice": 124000000000,
         "value_in_eth": 0.01,
         "value_in_usd_oct27": 39.6833,
         "round_num": 9,
         "_deepnote_index_column": "2021-03-13T02:50:54.000000"
        },
        {
         "from": "0x16562e41112bf3f574a82cf17ad04ef3afdcd1de",
         "to": "0x3c5c2f4bcec51a36494682f91dbc6ca7c63b514c",
         "projectName": "rekt.news - The dark web of DeFi journalism",
         "gas": 22718,
         "gasPrice": 131000001459,
         "value_in_eth": 0.0001,
         "value_in_usd_oct27": 0.396833,
         "round_num": 9,
         "_deepnote_index_column": "2021-03-14T08:56:07.000000"
        },
        {
         "from": "0x89331a76732698498d57db10f709f927a7de4d45",
         "to": "0x3c5c2f4bcec51a36494682f91dbc6ca7c63b514c",
         "projectName": "rekt.news - The dark web of DeFi journalism",
         "gas": 34077,
         "gasPrice": 150000000000,
         "value_in_eth": 0.001496835052514724,
         "value_in_usd_oct27": 5.939935443945755,
         "round_num": 9,
         "_deepnote_index_column": "2021-03-14T17:25:07.000000"
        },
        {
         "from": "0x76e059c6ff6bf9fffd5f33afdf4ab2fd511c9df4",
         "to": "0x3c5c2f4bcec51a36494682f91dbc6ca7c63b514c",
         "projectName": "rekt.news - The dark web of DeFi journalism",
         "gas": 34077,
         "gasPrice": 190000000000,
         "value_in_eth": 0.001,
         "value_in_usd_oct27": 3.96833,
         "round_num": 9,
         "_deepnote_index_column": "2021-03-18T15:06:21.000000"
        },
        {
         "from": "0xd77900479ef30963f4b5aa7d752b15795192ee15",
         "to": "0x3c5c2f4bcec51a36494682f91dbc6ca7c63b514c",
         "projectName": "rekt.news - The dark web of DeFi journalism",
         "gas": 34077,
         "gasPrice": 140000000000,
         "value_in_eth": 0.001,
         "value_in_usd_oct27": 3.96833,
         "round_num": 9,
         "_deepnote_index_column": "2021-03-18T17:15:24.000000"
        },
        {
         "from": "0x08ceb8bba685ee708c9c4c65576837cbe19b9dea",
         "to": "0x7a250d5630b4cf539739df2c5dacb4c659f2488d",
         "projectName": "Open Zone Finance",
         "gas": 168451,
         "gasPrice": 133000000000,
         "value_in_eth": 0,
         "value_in_usd_oct27": 0,
         "round_num": 9,
         "_deepnote_index_column": "2021-03-04T17:55:23.000000"
        },
        {
         "from": "0x08ceb8bba685ee708c9c4c65576837cbe19b9dea",
         "to": "0x7a250d5630b4cf539739df2c5dacb4c659f2488d",
         "projectName": "Open Zone Finance",
         "gas": 135850,
         "gasPrice": 153000000000,
         "value_in_eth": 0,
         "value_in_usd_oct27": 0,
         "round_num": 9,
         "_deepnote_index_column": "2021-03-05T17:18:43.000000"
        },
        {
         "from": "0x08ceb8bba685ee708c9c4c65576837cbe19b9dea",
         "to": "0x7a250d5630b4cf539739df2c5dacb4c659f2488d",
         "projectName": "Open Zone Finance",
         "gas": 164744,
         "gasPrice": 145000000000,
         "value_in_eth": 0,
         "value_in_usd_oct27": 0,
         "round_num": 9,
         "_deepnote_index_column": "2021-03-07T20:06:31.000000"
        },
        {
         "from": "0x08ceb8bba685ee708c9c4c65576837cbe19b9dea",
         "to": "0x7a250d5630b4cf539739df2c5dacb4c659f2488d",
         "projectName": "Open Zone Finance",
         "gas": 147968,
         "gasPrice": 102300000000,
         "value_in_eth": 0,
         "value_in_usd_oct27": 0,
         "round_num": 9,
         "_deepnote_index_column": "2021-03-10T04:28:21.000000"
        },
        {
         "from": "0x08ceb8bba685ee708c9c4c65576837cbe19b9dea",
         "to": "0x7a250d5630b4cf539739df2c5dacb4c659f2488d",
         "projectName": "Open Zone Finance",
         "gas": 167910,
         "gasPrice": 159000000000,
         "value_in_eth": 0,
         "value_in_usd_oct27": 0,
         "round_num": 9,
         "_deepnote_index_column": "2021-03-15T01:20:16.000000"
        },
        {
         "from": "0x08ceb8bba685ee708c9c4c65576837cbe19b9dea",
         "to": "0x7a250d5630b4cf539739df2c5dacb4c659f2488d",
         "projectName": "Open Zone Finance",
         "gas": 179484,
         "gasPrice": 151000000000,
         "value_in_eth": 0.25602653881384535,
         "value_in_usd_oct27": 1015.9977947711469,
         "round_num": 9,
         "_deepnote_index_column": "2021-03-19T00:50:16.000000"
        },
        {
         "from": "0x08ceb8bba685ee708c9c4c65576837cbe19b9dea",
         "to": "0x7a250d5630b4cf539739df2c5dacb4c659f2488d",
         "projectName": "Open Zone Finance",
         "gas": 168348,
         "gasPrice": 140000000000,
         "value_in_eth": 0,
         "value_in_usd_oct27": 0,
         "round_num": 9,
         "_deepnote_index_column": "2021-03-30T21:09:28.000000"
        },
        {
         "from": "0x0b81747f504dfc906a215e301d8b8ad82e44cbd2",
         "to": "0x7a250d5630b4cf539739df2c5dacb4c659f2488d",
         "projectName": "Open Zone Finance",
         "gas": 151756,
         "gasPrice": 124000000000,
         "value_in_eth": 0.5,
         "value_in_usd_oct27": 1984.165,
         "round_num": 9,
         "_deepnote_index_column": "2021-03-12T05:48:21.000000"
        },
        {
         "from": "0x0b81747f504dfc906a215e301d8b8ad82e44cbd2",
         "to": "0x7a250d5630b4cf539739df2c5dacb4c659f2488d",
         "projectName": "Open Zone Finance",
         "gas": 192739,
         "gasPrice": 110000000000,
         "value_in_eth": 0.49867792267764965,
         "value_in_usd_oct27": 1978.9185608993973,
         "round_num": 9,
         "_deepnote_index_column": "2021-03-12T05:50:17.000000"
        },
        {
         "from": "0x20abe68290b1e0deeef4b5e09aa5d862d511d9aa",
         "to": "0x8110d1d04ac316fdcace8f24fd60c86b810ab15a",
         "projectName": "The Commons Stack: Iteration 0",
         "gas": 21000,
         "gasPrice": 119000000000,
         "value_in_eth": 0.01,
         "value_in_usd_oct27": 39.6833,
         "round_num": 9,
         "_deepnote_index_column": "2021-03-21T13:46:22.000000"
        },
        {
         "from": "0xdd3703b76943f86ee05080dc1d67e978f05e74b5",
         "to": "0x8110d1d04ac316fdcace8f24fd60c86b810ab15a",
         "projectName": "The Commons Stack: Iteration 0",
         "gas": 21000,
         "gasPrice": 129000001459,
         "value_in_eth": 0.001,
         "value_in_usd_oct27": 3.96833,
         "round_num": 9,
         "_deepnote_index_column": "2021-03-21T17:09:55.000000"
        },
        {
         "from": "0xde5bacc8880421fa08864d240627862e4423eaa2",
         "to": "0x8110d1d04ac316fdcace8f24fd60c86b810ab15a",
         "projectName": "The Commons Stack: Iteration 0",
         "gas": 21000,
         "gasPrice": 131000000000,
         "value_in_eth": 0.031208,
         "value_in_usd_oct27": 123.84364264,
         "round_num": 9,
         "_deepnote_index_column": "2021-03-21T20:31:42.000000"
        },
        {
         "from": "0xaf30b0285bb41bdbb732e4a533874901e4943522",
         "to": "0x7a250d5630b4cf539739df2c5dacb4c659f2488d",
         "projectName": "Open Zone Finance",
         "gas": 161186,
         "gasPrice": 171000000000,
         "value_in_eth": 0,
         "value_in_usd_oct27": 0,
         "round_num": 9,
         "_deepnote_index_column": "2021-03-31T09:39:36.000000"
        },
        {
         "from": "0xf78cd306b23031de9e739a5bcde61764e82ad5ef",
         "to": "0x7a250d5630b4cf539739df2c5dacb4c659f2488d",
         "projectName": "Open Zone Finance",
         "gas": 200262,
         "gasPrice": 175000000000,
         "value_in_eth": 0,
         "value_in_usd_oct27": 0,
         "round_num": 9,
         "_deepnote_index_column": "2021-03-08T16:28:36.000000"
        },
        {
         "from": "0xcffe08bdf20918007f8ab268c32f8756494fc8d8",
         "to": "0x7a250d5630b4cf539739df2c5dacb4c659f2488d",
         "projectName": "Open Zone Finance",
         "gas": 167142,
         "gasPrice": 123000000000,
         "value_in_eth": 0,
         "value_in_usd_oct27": 0,
         "round_num": 9,
         "_deepnote_index_column": "2021-03-05T09:24:07.000000"
        },
        {
         "from": "0xcffe08bdf20918007f8ab268c32f8756494fc8d8",
         "to": "0x7a250d5630b4cf539739df2c5dacb4c659f2488d",
         "projectName": "Open Zone Finance",
         "gas": 153925,
         "gasPrice": 150000000000,
         "value_in_eth": 0,
         "value_in_usd_oct27": 0,
         "round_num": 9,
         "_deepnote_index_column": "2021-03-05T09:24:44.000000"
        },
        {
         "from": "0xcffe08bdf20918007f8ab268c32f8756494fc8d8",
         "to": "0x7a250d5630b4cf539739df2c5dacb4c659f2488d",
         "projectName": "Open Zone Finance",
         "gas": 192721,
         "gasPrice": 93000001459,
         "value_in_eth": 7.55911068052197,
         "value_in_usd_oct27": 29997.045686835747,
         "round_num": 9,
         "_deepnote_index_column": "2021-03-29T07:05:33.000000"
        },
        {
         "from": "0xcffe08bdf20918007f8ab268c32f8756494fc8d8",
         "to": "0x7a250d5630b4cf539739df2c5dacb4c659f2488d",
         "projectName": "Open Zone Finance",
         "gas": 186028,
         "gasPrice": 180000000000,
         "value_in_eth": 0,
         "value_in_usd_oct27": 0,
         "round_num": 9,
         "_deepnote_index_column": "2021-03-29T19:22:04.000000"
        },
        {
         "from": "0xcffe08bdf20918007f8ab268c32f8756494fc8d8",
         "to": "0x7a250d5630b4cf539739df2c5dacb4c659f2488d",
         "projectName": "Open Zone Finance",
         "gas": 169543,
         "gasPrice": 177156100000,
         "value_in_eth": 0,
         "value_in_usd_oct27": 0,
         "round_num": 9,
         "_deepnote_index_column": "2021-03-29T19:24:56.000000"
        },
        {
         "from": "0x4cb2ccbf80ddf2c12f8199b75c849cfa658ba9b5",
         "to": "0xb35cd25e91b376eafba79abe71d78814dec3401a",
         "projectName": "Ethereum Magicians",
         "gas": 152876,
         "gasPrice": 154000000000,
         "value_in_eth": 0,
         "value_in_usd_oct27": 0,
         "round_num": 9,
         "_deepnote_index_column": "2021-03-24T00:12:15.000000"
        },
        {
         "from": "0xef1f6856f97d9bd4c1790adefbb688613d59b5b4",
         "to": "0x56391667fc9cd614b934bd4664ddd87e2f78df5d",
         "projectName": "CLAIRVOYANT ALLIANCE ART UNIVERSITY - NFT DAO COMMUNITY ARTHΞRΞUM THE REAL ΞTHΞRΞALARTMUSΞUM",
         "gas": 21000,
         "gasPrice": 104000000000,
         "value_in_eth": 0.06198590440533822,
         "value_in_usd_oct27": 245.98052402883582,
         "round_num": 9,
         "_deepnote_index_column": "2021-03-26T04:35:31.000000"
        },
        {
         "from": "0xef1f6856f97d9bd4c1790adefbb688613d59b5b4",
         "to": "0x56391667fc9cd614b934bd4664ddd87e2f78df5d",
         "projectName": "CLAIRVOYANT ALLIANCE ART UNIVERSITY - NFT DAO COMMUNITY ARTHΞRΞUM THE REAL ΞTHΞRΞALARTMUSΞUM",
         "gas": 21000,
         "gasPrice": 165000000000,
         "value_in_eth": 0.03786567422537649,
         "value_in_usd_oct27": 150.26349099878828,
         "round_num": 9,
         "_deepnote_index_column": "2021-03-31T01:46:46.000000"
        },
        {
         "from": "0xef8305e140ac520225daf050e2f71d5fbcc543e7",
         "to": "0xf7e72865cf3e2c4f6970f628b2e84bdf3edca222",
         "projectName": "ETHTurin Meetup & Devshop | on-chain Copyright R&D",
         "gas": 21000,
         "gasPrice": 180000000000,
         "value_in_eth": 0.0562,
         "value_in_usd_oct27": 223.02014599999998,
         "round_num": 9,
         "_deepnote_index_column": "2021-03-30T13:55:49.000000"
        },
        {
         "from": "0xd1eddfcc4596cc8bd0bd7495beab9b979fc50336",
         "to": "0x7a250d5630b4cf539739df2c5dacb4c659f2488d",
         "projectName": "Open Zone Finance",
         "gas": 169111,
         "gasPrice": 88000000000,
         "value_in_eth": 0,
         "value_in_usd_oct27": 0,
         "round_num": 9,
         "_deepnote_index_column": "2021-03-10T08:04:03.000000"
        },
        {
         "from": "0xd1eddfcc4596cc8bd0bd7495beab9b979fc50336",
         "to": "0xd1eddfcc4596cc8bd0bd7495beab9b979fc50336",
         "projectName": "BeyondNFT",
         "gas": 21000,
         "gasPrice": 230000000000,
         "value_in_eth": 0,
         "value_in_usd_oct27": 0,
         "round_num": 9,
         "_deepnote_index_column": "2021-03-12T17:53:15.000000"
        },
        {
         "from": "0xd1eddfcc4596cc8bd0bd7495beab9b979fc50336",
         "to": "0x7a250d5630b4cf539739df2c5dacb4c659f2488d",
         "projectName": "Open Zone Finance",
         "gas": 160761,
         "gasPrice": 133000000000,
         "value_in_eth": 1,
         "value_in_usd_oct27": 3968.33,
         "round_num": 9,
         "_deepnote_index_column": "2021-03-24T10:09:29.000000"
        },
        {
         "from": "0xd1eddfcc4596cc8bd0bd7495beab9b979fc50336",
         "to": "0xd1eddfcc4596cc8bd0bd7495beab9b979fc50336",
         "projectName": "BeyondNFT",
         "gas": 21000,
         "gasPrice": 200000000000,
         "value_in_eth": 0,
         "value_in_usd_oct27": 0,
         "round_num": 9,
         "_deepnote_index_column": "2021-03-25T17:47:13.000000"
        },
        {
         "from": "0xa7499aa6464c078eeb940da2fc95c6acd010c3cc",
         "to": "0x7a250d5630b4cf539739df2c5dacb4c659f2488d",
         "projectName": "Open Zone Finance",
         "gas": 299161,
         "gasPrice": 144000000000,
         "value_in_eth": 0,
         "value_in_usd_oct27": 0,
         "round_num": 9,
         "_deepnote_index_column": "2021-03-14T14:21:02.000000"
        }
       ]
      },
      "text/plain": "                                                           from  \\\ndt                                                                \n2019-03-29 16:59:10  0xc024559c710123b6caf5d225b56913aab339aad0   \n2019-04-23 15:52:11  0x2764aa8c0897cf95148bf04b6a157fc885fca7f1   \n2019-04-23 15:52:11  0x2764aa8c0897cf95148bf04b6a157fc885fca7f1   \n2019-03-26 02:23:35  0xbaf6e57a3940898fd21076b139d4ab231dcbbc5f   \n2019-04-17 15:11:24  0x6b3e8d126d19208eb64a3eab2de96bccb212c8d7   \n...                                                         ...   \n2021-03-10 08:04:03  0xd1eddfcc4596cc8bd0bd7495beab9b979fc50336   \n2021-03-12 17:53:15  0xd1eddfcc4596cc8bd0bd7495beab9b979fc50336   \n2021-03-24 10:09:29  0xd1eddfcc4596cc8bd0bd7495beab9b979fc50336   \n2021-03-25 17:47:13  0xd1eddfcc4596cc8bd0bd7495beab9b979fc50336   \n2021-03-14 14:21:02  0xa7499aa6464c078eeb940da2fc95c6acd010c3cc   \n\n                                                             to  \\\ndt                                                                \n2019-03-29 16:59:10  0xa19fcdad77c1f0fd184689aca88babcf68010347   \n2019-04-23 15:52:11  0x865c2f85c9fea1c6ac7f53de07554d68cb92ed88   \n2019-04-23 15:52:11  0x865c2f85c9fea1c6ac7f53de07554d68cb92ed88   \n2019-03-26 02:23:35  0x2577a8539cb2194acd72f035dbb691ce5f406d3f   \n2019-04-17 15:11:24  0x587fb98e404a18503a24cf19abb1887704beb407   \n...                                                         ...   \n2021-03-10 08:04:03  0x7a250d5630b4cf539739df2c5dacb4c659f2488d   \n2021-03-12 17:53:15  0xd1eddfcc4596cc8bd0bd7495beab9b979fc50336   \n2021-03-24 10:09:29  0x7a250d5630b4cf539739df2c5dacb4c659f2488d   \n2021-03-25 17:47:13  0xd1eddfcc4596cc8bd0bd7495beab9b979fc50336   \n2021-03-14 14:21:02  0x7a250d5630b4cf539739df2c5dacb4c659f2488d   \n\n                                           projectName     gas      gasPrice  \\\ndt                                                                             \n2019-03-29 16:59:10  EthHub - Ethereum Information Hub   31597   10000000000   \n2019-04-23 15:52:11           Wizards of DApps podcast   25000   10200000000   \n2019-04-23 15:52:11           Wizards of DApps podcast   25000   10200000000   \n2019-03-26 02:23:35                     Trackato: DeFi   21000    1000000000   \n2019-04-17 15:11:24              Hardhat by Nomic Labs   21000    9200000000   \n...                                                ...     ...           ...   \n2021-03-10 08:04:03                  Open Zone Finance  169111   88000000000   \n2021-03-12 17:53:15                          BeyondNFT   21000  230000000000   \n2021-03-24 10:09:29                  Open Zone Finance  160761  133000000000   \n2021-03-25 17:47:13                          BeyondNFT   21000  200000000000   \n2021-03-14 14:21:02                  Open Zone Finance  299161  144000000000   \n\n                     value_in_eth  value_in_usd_oct27  round_num  \ndt                                                                \n2019-03-29 16:59:10          0.10            396.8330          2  \n2019-04-23 15:52:11          0.01             39.6833          2  \n2019-04-23 15:52:11          0.01             39.6833          2  \n2019-03-26 02:23:35          0.04            158.7332          2  \n2019-04-17 15:11:24          0.03            119.0499          2  \n...                           ...                 ...        ...  \n2021-03-10 08:04:03          0.00              0.0000          9  \n2021-03-12 17:53:15          0.00              0.0000          9  \n2021-03-24 10:09:29          1.00           3968.3300          9  \n2021-03-25 17:47:13          0.00              0.0000          9  \n2021-03-14 14:21:02          0.00              0.0000          9  \n\n[6100 rows x 8 columns]",
      "text/html": "<div>\n<style scoped>\n    .dataframe tbody tr th:only-of-type {\n        vertical-align: middle;\n    }\n\n    .dataframe tbody tr th {\n        vertical-align: top;\n    }\n\n    .dataframe thead th {\n        text-align: right;\n    }\n</style>\n<table border=\"1\" class=\"dataframe\">\n  <thead>\n    <tr style=\"text-align: right;\">\n      <th></th>\n      <th>from</th>\n      <th>to</th>\n      <th>projectName</th>\n      <th>gas</th>\n      <th>gasPrice</th>\n      <th>value_in_eth</th>\n      <th>value_in_usd_oct27</th>\n      <th>round_num</th>\n    </tr>\n    <tr>\n      <th>dt</th>\n      <th></th>\n      <th></th>\n      <th></th>\n      <th></th>\n      <th></th>\n      <th></th>\n      <th></th>\n      <th></th>\n    </tr>\n  </thead>\n  <tbody>\n    <tr>\n      <th>2019-03-29 16:59:10</th>\n      <td>0xc024559c710123b6caf5d225b56913aab339aad0</td>\n      <td>0xa19fcdad77c1f0fd184689aca88babcf68010347</td>\n      <td>EthHub - Ethereum Information Hub</td>\n      <td>31597</td>\n      <td>10000000000</td>\n      <td>0.10</td>\n      <td>396.8330</td>\n      <td>2</td>\n    </tr>\n    <tr>\n      <th>2019-04-23 15:52:11</th>\n      <td>0x2764aa8c0897cf95148bf04b6a157fc885fca7f1</td>\n      <td>0x865c2f85c9fea1c6ac7f53de07554d68cb92ed88</td>\n      <td>Wizards of DApps podcast</td>\n      <td>25000</td>\n      <td>10200000000</td>\n      <td>0.01</td>\n      <td>39.6833</td>\n      <td>2</td>\n    </tr>\n    <tr>\n      <th>2019-04-23 15:52:11</th>\n      <td>0x2764aa8c0897cf95148bf04b6a157fc885fca7f1</td>\n      <td>0x865c2f85c9fea1c6ac7f53de07554d68cb92ed88</td>\n      <td>Wizards of DApps podcast</td>\n      <td>25000</td>\n      <td>10200000000</td>\n      <td>0.01</td>\n      <td>39.6833</td>\n      <td>2</td>\n    </tr>\n    <tr>\n      <th>2019-03-26 02:23:35</th>\n      <td>0xbaf6e57a3940898fd21076b139d4ab231dcbbc5f</td>\n      <td>0x2577a8539cb2194acd72f035dbb691ce5f406d3f</td>\n      <td>Trackato: DeFi</td>\n      <td>21000</td>\n      <td>1000000000</td>\n      <td>0.04</td>\n      <td>158.7332</td>\n      <td>2</td>\n    </tr>\n    <tr>\n      <th>2019-04-17 15:11:24</th>\n      <td>0x6b3e8d126d19208eb64a3eab2de96bccb212c8d7</td>\n      <td>0x587fb98e404a18503a24cf19abb1887704beb407</td>\n      <td>Hardhat by Nomic Labs</td>\n      <td>21000</td>\n      <td>9200000000</td>\n      <td>0.03</td>\n      <td>119.0499</td>\n      <td>2</td>\n    </tr>\n    <tr>\n      <th>...</th>\n      <td>...</td>\n      <td>...</td>\n      <td>...</td>\n      <td>...</td>\n      <td>...</td>\n      <td>...</td>\n      <td>...</td>\n      <td>...</td>\n    </tr>\n    <tr>\n      <th>2021-03-10 08:04:03</th>\n      <td>0xd1eddfcc4596cc8bd0bd7495beab9b979fc50336</td>\n      <td>0x7a250d5630b4cf539739df2c5dacb4c659f2488d</td>\n      <td>Open Zone Finance</td>\n      <td>169111</td>\n      <td>88000000000</td>\n      <td>0.00</td>\n      <td>0.0000</td>\n      <td>9</td>\n    </tr>\n    <tr>\n      <th>2021-03-12 17:53:15</th>\n      <td>0xd1eddfcc4596cc8bd0bd7495beab9b979fc50336</td>\n      <td>0xd1eddfcc4596cc8bd0bd7495beab9b979fc50336</td>\n      <td>BeyondNFT</td>\n      <td>21000</td>\n      <td>230000000000</td>\n      <td>0.00</td>\n      <td>0.0000</td>\n      <td>9</td>\n    </tr>\n    <tr>\n      <th>2021-03-24 10:09:29</th>\n      <td>0xd1eddfcc4596cc8bd0bd7495beab9b979fc50336</td>\n      <td>0x7a250d5630b4cf539739df2c5dacb4c659f2488d</td>\n      <td>Open Zone Finance</td>\n      <td>160761</td>\n      <td>133000000000</td>\n      <td>1.00</td>\n      <td>3968.3300</td>\n      <td>9</td>\n    </tr>\n    <tr>\n      <th>2021-03-25 17:47:13</th>\n      <td>0xd1eddfcc4596cc8bd0bd7495beab9b979fc50336</td>\n      <td>0xd1eddfcc4596cc8bd0bd7495beab9b979fc50336</td>\n      <td>BeyondNFT</td>\n      <td>21000</td>\n      <td>200000000000</td>\n      <td>0.00</td>\n      <td>0.0000</td>\n      <td>9</td>\n    </tr>\n    <tr>\n      <th>2021-03-14 14:21:02</th>\n      <td>0xa7499aa6464c078eeb940da2fc95c6acd010c3cc</td>\n      <td>0x7a250d5630b4cf539739df2c5dacb4c659f2488d</td>\n      <td>Open Zone Finance</td>\n      <td>299161</td>\n      <td>144000000000</td>\n      <td>0.00</td>\n      <td>0.0000</td>\n      <td>9</td>\n    </tr>\n  </tbody>\n</table>\n<p>6100 rows × 8 columns</p>\n</div>"
     },
     "metadata": {}
    }
   ]
  },
  {
   "cell_type": "code",
   "metadata": {
    "tags": [],
    "deepnote_to_be_reexecuted": false,
    "source_hash": "6a9ce0cd",
    "execution_start": 1638480555956,
    "execution_millis": 113,
    "cell_id": "00057-88a82333-9c2d-4952-907e-0716bd92dc54",
    "deepnote_cell_type": "code"
   },
   "source": "",
   "execution_count": null,
   "outputs": [
    {
     "output_type": "error",
     "ename": "NameError",
     "evalue": "name 'skip_addresses' is not defined",
     "traceback": [
      "\u001b[0;31m---------------------------------------------------------------------------\u001b[0m",
      "\u001b[0;31mNameError\u001b[0m                                 Traceback (most recent call last)",
      "\u001b[0;32m<ipython-input-42-59003fab194e>\u001b[0m in \u001b[0;36m<module>\u001b[0;34m\u001b[0m\n\u001b[0;32m----> 1\u001b[0;31m \u001b[0mskip_addresses\u001b[0m\u001b[0;34m\u001b[0m\u001b[0;34m\u001b[0m\u001b[0m\n\u001b[0m",
      "\u001b[0;31mNameError\u001b[0m: name 'skip_addresses' is not defined"
     ]
    }
   ]
  },
  {
   "cell_type": "code",
   "metadata": {
    "tags": [],
    "cell_id": "00058-8729e3fc-b1c9-46fe-80c9-b0d54bfa9cc5",
    "deepnote_cell_type": "code"
   },
   "source": "",
   "execution_count": null,
   "outputs": []
  },
  {
   "cell_type": "markdown",
   "source": "<a style='text-decoration:none;line-height:16px;display:flex;color:#5B5B62;padding:10px;justify-content:end;' href='https://deepnote.com?utm_source=created-in-deepnote-cell&projectId=32e1581d-cef2-4771-a5bf-9bbfe7a3603c' target=\"_blank\">\n<img alt='Created in deepnote.com' style='display:inline;max-height:16px;margin:0px;margin-right:7.5px;' src='data:image/svg+xml;base64,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' > </img>\nCreated in <span style='font-weight:600;margin-left:4px;'>Deepnote</span></a>",
   "metadata": {
    "tags": [],
    "created_in_deepnote_cell": true,
    "deepnote_cell_type": "markdown"
   }
  }
 ],
 "nbformat": 4,
 "nbformat_minor": 2,
 "metadata": {
  "orig_nbformat": 2,
  "deepnote": {
   "is_reactive": false
  },
  "deepnote_notebook_id": "36cb2b49-e9de-4a41-8282-839cd746b1b7",
  "deepnote_execution_queue": []
 }
}
