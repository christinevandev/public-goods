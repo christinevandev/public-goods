{
 "cells": [
  {
   "cell_type": "code",
   "metadata": {
    "tags": [],
    "cell_id": "00000-7c00cfb3-b546-4a50-8ac6-fdb674a93c25",
    "deepnote_to_be_reexecuted": false,
    "source_hash": "24758400",
    "execution_start": 1636431845555,
    "execution_millis": 1,
    "deepnote_cell_type": "code"
   },
   "source": "import json\nimport pandas as pd\nimport datetime\nimport time",
   "execution_count": null,
   "outputs": []
  },
  {
   "cell_type": "code",
   "metadata": {
    "tags": [],
    "cell_id": "00000-d194085e-2656-45e6-805d-27a49caff222",
    "deepnote_to_be_reexecuted": false,
    "source_hash": "e797b8fc",
    "execution_start": 1636427355951,
    "execution_millis": 45,
    "deepnote_cell_type": "code"
   },
   "source": "rounds = list(range(2, 10))\nround_info = {}\nfor round_num in rounds:\n    with open(f'roundX/round{round_num}.json') as f:\n        d = json.load(f)\n        round_info[d['meta']['meta']['round']] = d\n        #round_dicts.append()",
   "execution_count": null,
   "outputs": []
  },
  {
   "cell_type": "code",
   "metadata": {
    "tags": [],
    "cell_id": "00002-b50de292-d06b-4d03-ab93-18460aabfb0a",
    "deepnote_to_be_reexecuted": false,
    "source_hash": "9405f326",
    "execution_start": 1636427355996,
    "execution_millis": 1305,
    "deepnote_cell_type": "code"
   },
   "source": "from web3 import Web3\nw3 = Web3(Web3.HTTPProvider('https://mainnet.infura.io/v3/d0fc40c38f9248debb6335ba9e29b49e'))",
   "execution_count": null,
   "outputs": []
  },
  {
   "cell_type": "code",
   "metadata": {
    "tags": [],
    "cell_id": "00002-a6c2df94-e129-4bd4-9f2b-90f81eb92eb7",
    "deepnote_cell_type": "code"
   },
   "source": "def binary_search_block_date(timestamp):\n    \"\"\"\n    \"\"\"\n\n    ",
   "execution_count": null,
   "outputs": []
  },
  {
   "cell_type": "code",
   "metadata": {
    "tags": [],
    "cell_id": "00002-73de724a-a5fc-4d3b-8331-15bbcf16482a",
    "deepnote_to_be_reexecuted": false,
    "source_hash": "fd2eed4e",
    "execution_start": 1636431857314,
    "execution_millis": 4,
    "deepnote_cell_type": "code"
   },
   "source": "def estimate_block_height_by_timestamp(timestamp):\n    #block_found = False\n    #close_in_seconds = 600\n\n    low_block = 0\n    high_block = 13579485\n    mid_block = 0 \n\n    while low_block <= high_block:\n        mid_block = (high_block + low_block) // 2\n        #print(mid_block)\n\n        block_obj = w3.eth.getBlock(mid_block)\n        block_date = datetime.datetime.fromtimestamp(block_obj.timestamp)\n\n        if block_date < timestamp:\n            low_block = mid_block + 1 \n        elif block_date > timestamp:\n            high_block = mid_block - 1\n        else:\n            return mid_block\n        time.sleep(0.5)\n    return mid_block",
   "execution_count": null,
   "outputs": []
  },
  {
   "cell_type": "code",
   "metadata": {
    "tags": [],
    "cell_id": "00004-e235d0bd-6edc-4510-ba25-2103fbffd43b",
    "deepnote_to_be_reexecuted": false,
    "source_hash": "ee671dc9",
    "execution_start": 1636431327117,
    "execution_millis": 4,
    "deepnote_cell_type": "code"
   },
   "source": "startdate = pd.to_datetime(round_info[4]['meta']['meta']['start'])\nstartblock = estimate_block_height_by_timestamp(startdate)",
   "execution_count": null,
   "outputs": []
  },
  {
   "cell_type": "code",
   "metadata": {
    "tags": [],
    "cell_id": "00003-7d14385e-8749-4061-be40-9158c0485456",
    "deepnote_to_be_reexecuted": false,
    "source_hash": "c36b71b0",
    "execution_start": 1636431887823,
    "execution_millis": 200515,
    "deepnote_cell_type": "code"
   },
   "source": "nice_rounds = {}\nfor k, v in round_info.items():\n    nice_rounds[k] = {}\n    print(k)\n    startdate = pd.to_datetime(v['meta']['meta']['start'])\n\n    startblock = estimate_block_height_by_timestamp(startdate)\n    print(startdate, startblock)\n    nice_rounds[k]['startdate'] = str(startdate)\n    nice_rounds[k]['startblock'] = startblock\n\n    enddate = pd.to_datetime(v['meta']['meta']['end'])\n    endblock = estimate_block_height_by_timestamp(enddate)\n    print(enddate, endblock)\n    nice_rounds[k]['enddate'] = str(enddate)\n    nice_rounds[k]['endblock'] = endblock\n\n    addresses = [x[0] for x in v['addresses']]\n    nice_rounds[k]['addresses'] = addresses\n\n    with open(f'nice_rounds.json', 'w') as f:\n        json.dump(nice_rounds, f)\n\n    ",
   "execution_count": null,
   "outputs": [
    {
     "name": "stdout",
     "text": "2\n2019-03-26 00:00:00 7440911\n2019-04-19 00:00:00 7594804\n3\n2019-09-15 00:00:00 8550783\n2019-10-04 00:00:00 8672333\n4\n2020-01-06 00:00:00 9223505\n2020-01-21 00:00:00 9321479\n5\n2020-03-23 00:00:00 9724406\n2020-04-05 00:00:00 9808656\n6\n2020-06-16 00:00:00 10273465\n2020-07-03 00:00:00 10383124\n7\n2020-09-14 00:00:00 10856779\n2020-10-02 00:00:00 10973299\n8\n2020-12-01 00:00:00 11363270\n2020-12-18 00:00:00 11473820\n9\n2021-03-10 00:00:00 12007407\n2021-03-25 00:00:00 12104732\n",
     "output_type": "stream"
    }
   ]
  },
  {
   "cell_type": "code",
   "metadata": {
    "tags": [],
    "cell_id": "00004-6f8a1c9b-44a7-4a22-a57d-dc4cb7dd2f6c",
    "deepnote_to_be_reexecuted": true,
    "source_hash": "6fdd7080",
    "deepnote_cell_type": "code"
   },
   "source": "",
   "execution_count": null,
   "outputs": []
  },
  {
   "cell_type": "code",
   "metadata": {
    "tags": [],
    "cell_id": "00006-863093aa-5fe5-444c-9395-73963f8d3e98",
    "deepnote_cell_type": "code"
   },
   "source": "",
   "execution_count": null,
   "outputs": []
  },
  {
   "cell_type": "markdown",
   "source": "<a style='text-decoration:none;line-height:16px;display:flex;color:#5B5B62;padding:10px;justify-content:end;' href='https://deepnote.com?utm_source=created-in-deepnote-cell&projectId=32e1581d-cef2-4771-a5bf-9bbfe7a3603c' target=\"_blank\">\n<img alt='Created in deepnote.com' style='display:inline;max-height:16px;margin:0px;margin-right:7.5px;' src='data:image/svg+xml;base64,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' > </img>\nCreated in <span style='font-weight:600;margin-left:4px;'>Deepnote</span></a>",
   "metadata": {
    "tags": [],
    "created_in_deepnote_cell": true,
    "deepnote_cell_type": "markdown"
   }
  }
 ],
 "nbformat": 4,
 "nbformat_minor": 2,
 "metadata": {
  "orig_nbformat": 2,
  "deepnote": {
   "is_reactive": false
  },
  "deepnote_notebook_id": "79b6f91c-59bd-4ea2-a175-d773dd3c7e19",
  "deepnote_execution_queue": []
 }
}
